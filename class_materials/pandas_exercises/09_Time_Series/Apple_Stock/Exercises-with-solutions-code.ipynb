{
 "cells": [
  {
   "cell_type": "markdown",
   "metadata": {},
   "source": [
    "# Apple Stock"
   ]
  },
  {
   "cell_type": "markdown",
   "metadata": {},
   "source": [
    "### Introduction:\n",
    "\n",
    "We are going to use Apple's stock price.\n",
    "\n",
    "\n",
    "### Step 1. Import the necessary libraries"
   ]
  },
  {
   "cell_type": "code",
   "execution_count": 1,
   "metadata": {
    "collapsed": false
   },
   "outputs": [],
   "source": [
    "import pandas as pd\n",
    "import numpy as np\n",
    "\n",
    "# visualization\n",
    "import matplotlib.pyplot as plt\n",
    "\n",
    "%matplotlib inline"
   ]
  },
  {
   "cell_type": "markdown",
   "metadata": {},
   "source": [
    "### Step 2. Import the dataset from this [address](https://raw.githubusercontent.com/guipsamora/pandas_exercises/master/Time_Series/Apple_Stock/appl_1980_2014.csv)"
   ]
  },
  {
   "cell_type": "markdown",
   "metadata": {},
   "source": [
    "### Step 3. Assign it to a variable apple"
   ]
  },
  {
   "cell_type": "code",
   "execution_count": 3,
   "metadata": {
    "collapsed": false
   },
   "outputs": [
    {
     "data": {
      "text/html": [
       "<div>\n",
       "<table border=\"1\" class=\"dataframe\">\n",
       "  <thead>\n",
       "    <tr style=\"text-align: right;\">\n",
       "      <th></th>\n",
       "      <th>Date</th>\n",
       "      <th>Open</th>\n",
       "      <th>High</th>\n",
       "      <th>Low</th>\n",
       "      <th>Close</th>\n",
       "      <th>Volume</th>\n",
       "      <th>Adj Close</th>\n",
       "    </tr>\n",
       "  </thead>\n",
       "  <tbody>\n",
       "    <tr>\n",
       "      <th>0</th>\n",
       "      <td>2014-07-08</td>\n",
       "      <td>96.27</td>\n",
       "      <td>96.80</td>\n",
       "      <td>93.92</td>\n",
       "      <td>95.35</td>\n",
       "      <td>65130000</td>\n",
       "      <td>95.35</td>\n",
       "    </tr>\n",
       "    <tr>\n",
       "      <th>1</th>\n",
       "      <td>2014-07-07</td>\n",
       "      <td>94.14</td>\n",
       "      <td>95.99</td>\n",
       "      <td>94.10</td>\n",
       "      <td>95.97</td>\n",
       "      <td>56305400</td>\n",
       "      <td>95.97</td>\n",
       "    </tr>\n",
       "    <tr>\n",
       "      <th>2</th>\n",
       "      <td>2014-07-03</td>\n",
       "      <td>93.67</td>\n",
       "      <td>94.10</td>\n",
       "      <td>93.20</td>\n",
       "      <td>94.03</td>\n",
       "      <td>22891800</td>\n",
       "      <td>94.03</td>\n",
       "    </tr>\n",
       "    <tr>\n",
       "      <th>3</th>\n",
       "      <td>2014-07-02</td>\n",
       "      <td>93.87</td>\n",
       "      <td>94.06</td>\n",
       "      <td>93.09</td>\n",
       "      <td>93.48</td>\n",
       "      <td>28420900</td>\n",
       "      <td>93.48</td>\n",
       "    </tr>\n",
       "    <tr>\n",
       "      <th>4</th>\n",
       "      <td>2014-07-01</td>\n",
       "      <td>93.52</td>\n",
       "      <td>94.07</td>\n",
       "      <td>93.13</td>\n",
       "      <td>93.52</td>\n",
       "      <td>38170200</td>\n",
       "      <td>93.52</td>\n",
       "    </tr>\n",
       "  </tbody>\n",
       "</table>\n",
       "</div>"
      ],
      "text/plain": [
       "         Date   Open   High    Low  Close    Volume  Adj Close\n",
       "0  2014-07-08  96.27  96.80  93.92  95.35  65130000      95.35\n",
       "1  2014-07-07  94.14  95.99  94.10  95.97  56305400      95.97\n",
       "2  2014-07-03  93.67  94.10  93.20  94.03  22891800      94.03\n",
       "3  2014-07-02  93.87  94.06  93.09  93.48  28420900      93.48\n",
       "4  2014-07-01  93.52  94.07  93.13  93.52  38170200      93.52"
      ]
     },
     "execution_count": 3,
     "metadata": {},
     "output_type": "execute_result"
    }
   ],
   "source": [
    "# url = 'https://raw.githubusercontent.com/guipsamora/pandas_exercises/master/Time_Series/Apple_Stock/appl_1980_2014.csv'\n",
    "url = '/Users/markyashar/sf16_ids1/class_materials/pandas_exercises/09_Time_Series/Apple_Stock/appl_1980_2014.csv'\n",
    "apple = pd.read_csv(url)\n",
    "\n",
    "apple.head()"
   ]
  },
  {
   "cell_type": "markdown",
   "metadata": {},
   "source": [
    "### Step 4.  Check out the type of the columns"
   ]
  },
  {
   "cell_type": "code",
   "execution_count": 4,
   "metadata": {
    "collapsed": false
   },
   "outputs": [
    {
     "data": {
      "text/plain": [
       "Date          object\n",
       "Open         float64\n",
       "High         float64\n",
       "Low          float64\n",
       "Close        float64\n",
       "Volume         int64\n",
       "Adj Close    float64\n",
       "dtype: object"
      ]
     },
     "execution_count": 4,
     "metadata": {},
     "output_type": "execute_result"
    }
   ],
   "source": [
    "apple.dtypes"
   ]
  },
  {
   "cell_type": "markdown",
   "metadata": {},
   "source": [
    "### Step 5. Transform the Date column as a datetime type"
   ]
  },
  {
   "cell_type": "code",
   "execution_count": 5,
   "metadata": {
    "collapsed": false
   },
   "outputs": [
    {
     "data": {
      "text/plain": [
       "0   2014-07-08\n",
       "1   2014-07-07\n",
       "2   2014-07-03\n",
       "3   2014-07-02\n",
       "4   2014-07-01\n",
       "Name: Date, dtype: datetime64[ns]"
      ]
     },
     "execution_count": 5,
     "metadata": {},
     "output_type": "execute_result"
    }
   ],
   "source": [
    "apple.Date = pd.to_datetime(apple.Date)\n",
    "\n",
    "# Signature: pd.to_datetime(*args, **kwargs)\n",
    "# Docstring:\n",
    "# Convert argument to datetime.\n",
    "\n",
    "# Parameters\n",
    "# ----------\n",
    "# arg : string, datetime, list, tuple, 1-d array, or Series\n",
    "# errors : {'ignore', 'raise', 'coerce'}, default 'raise'\n",
    "\n",
    "#     - If 'raise', then invalid parsing will raise an exception\n",
    "#     - If 'coerce', then invalid parsing will be set as NaT\n",
    "#     - If 'ignore', then invalid parsing will return the input\n",
    "# dayfirst : boolean, default False\n",
    "#     Specify a date parse order if `arg` is str or its list-likes.\n",
    "#     If True, parses dates with the day first, eg 10/11/12 is parsed as\n",
    "#     2012-11-10.\n",
    "#     Warning: dayfirst=True is not strict, but will prefer to parse\n",
    "#     with day first (this is a known bug, based on dateutil behavior).\n",
    "# yearfirst : boolean, default False\n",
    "#     Specify a date parse order if `arg` is str or its list-likes.\n",
    "\n",
    "#     - If True parses dates with the year first, eg 10/11/12 is parsed as\n",
    "#       2010-11-12.\n",
    "#     - If both dayfirst and yearfirst are True, yearfirst is preceded (same\n",
    "#       as dateutil).\n",
    "\n",
    "#     Warning: yearfirst=True is not strict, but will prefer to parse\n",
    "#     with year first (this is a known bug, based on dateutil beahavior).\n",
    "\n",
    "#     .. versionadded: 0.16.1\n",
    "\n",
    "# utc : boolean, default None\n",
    "#     Return UTC DatetimeIndex if True (converting any tz-aware\n",
    "#     datetime.datetime objects as well).\n",
    "# box : boolean, default True\n",
    "\n",
    "#     - If True returns a DatetimeIndex\n",
    "#     - If False returns ndarray of values.\n",
    "# format : string, default None\n",
    "#     strftime to parse time, eg \"%d/%m/%Y\", note that \"%f\" will parse\n",
    "#     all the way up to nanoseconds.\n",
    "# exact : boolean, True by default\n",
    "\n",
    "#     - If True, require an exact format match.\n",
    "#     - If False, allow the format to match anywhere in the target string.\n",
    "\n",
    "# unit : unit of the arg (D,s,ms,us,ns) denote the unit in epoch\n",
    "#     (e.g. a unix timestamp), which is an integer/float number.\n",
    "# infer_datetime_format : boolean, default False\n",
    "#     If no `format` is given, try to infer the format based on the first\n",
    "#     datetime string. Provides a large speed-up in many cases.\n",
    "\n",
    "# Returns\n",
    "# -------\n",
    "# ret : datetime if parsing succeeded.\n",
    "#     Return type depends on input:\n",
    "\n",
    "#     - list-like: DatetimeIndex\n",
    "#     - Series: Series of datetime64 dtype\n",
    "#     - scalar: Timestamp\n",
    "\n",
    "#     In case when it is not possible to return designated types (e.g. when\n",
    "#     any element of input is before Timestamp.min or after Timestamp.max)\n",
    "#     return will have datetime.datetime type (or correspoding array/Series).\n",
    "\n",
    "\n",
    "apple['Date'].head()"
   ]
  },
  {
   "cell_type": "markdown",
   "metadata": {},
   "source": [
    "### Step 6.  Set the date as the index"
   ]
  },
  {
   "cell_type": "code",
   "execution_count": 6,
   "metadata": {
    "collapsed": false
   },
   "outputs": [
    {
     "data": {
      "text/html": [
       "<div>\n",
       "<table border=\"1\" class=\"dataframe\">\n",
       "  <thead>\n",
       "    <tr style=\"text-align: right;\">\n",
       "      <th></th>\n",
       "      <th>Open</th>\n",
       "      <th>High</th>\n",
       "      <th>Low</th>\n",
       "      <th>Close</th>\n",
       "      <th>Volume</th>\n",
       "      <th>Adj Close</th>\n",
       "    </tr>\n",
       "    <tr>\n",
       "      <th>Date</th>\n",
       "      <th></th>\n",
       "      <th></th>\n",
       "      <th></th>\n",
       "      <th></th>\n",
       "      <th></th>\n",
       "      <th></th>\n",
       "    </tr>\n",
       "  </thead>\n",
       "  <tbody>\n",
       "    <tr>\n",
       "      <th>2014-07-08</th>\n",
       "      <td>96.27</td>\n",
       "      <td>96.80</td>\n",
       "      <td>93.92</td>\n",
       "      <td>95.35</td>\n",
       "      <td>65130000</td>\n",
       "      <td>95.35</td>\n",
       "    </tr>\n",
       "    <tr>\n",
       "      <th>2014-07-07</th>\n",
       "      <td>94.14</td>\n",
       "      <td>95.99</td>\n",
       "      <td>94.10</td>\n",
       "      <td>95.97</td>\n",
       "      <td>56305400</td>\n",
       "      <td>95.97</td>\n",
       "    </tr>\n",
       "    <tr>\n",
       "      <th>2014-07-03</th>\n",
       "      <td>93.67</td>\n",
       "      <td>94.10</td>\n",
       "      <td>93.20</td>\n",
       "      <td>94.03</td>\n",
       "      <td>22891800</td>\n",
       "      <td>94.03</td>\n",
       "    </tr>\n",
       "    <tr>\n",
       "      <th>2014-07-02</th>\n",
       "      <td>93.87</td>\n",
       "      <td>94.06</td>\n",
       "      <td>93.09</td>\n",
       "      <td>93.48</td>\n",
       "      <td>28420900</td>\n",
       "      <td>93.48</td>\n",
       "    </tr>\n",
       "    <tr>\n",
       "      <th>2014-07-01</th>\n",
       "      <td>93.52</td>\n",
       "      <td>94.07</td>\n",
       "      <td>93.13</td>\n",
       "      <td>93.52</td>\n",
       "      <td>38170200</td>\n",
       "      <td>93.52</td>\n",
       "    </tr>\n",
       "  </tbody>\n",
       "</table>\n",
       "</div>"
      ],
      "text/plain": [
       "             Open   High    Low  Close    Volume  Adj Close\n",
       "Date                                                       \n",
       "2014-07-08  96.27  96.80  93.92  95.35  65130000      95.35\n",
       "2014-07-07  94.14  95.99  94.10  95.97  56305400      95.97\n",
       "2014-07-03  93.67  94.10  93.20  94.03  22891800      94.03\n",
       "2014-07-02  93.87  94.06  93.09  93.48  28420900      93.48\n",
       "2014-07-01  93.52  94.07  93.13  93.52  38170200      93.52"
      ]
     },
     "execution_count": 6,
     "metadata": {},
     "output_type": "execute_result"
    }
   ],
   "source": [
    "apple = apple.set_index('Date')\n",
    "\n",
    "apple.head()"
   ]
  },
  {
   "cell_type": "markdown",
   "metadata": {},
   "source": [
    "### Step 7.  Is there any duplicate dates?"
   ]
  },
  {
   "cell_type": "code",
   "execution_count": 36,
   "metadata": {
    "collapsed": false
   },
   "outputs": [
    {
     "data": {
      "text/plain": [
       "True"
      ]
     },
     "execution_count": 36,
     "metadata": {},
     "output_type": "execute_result"
    }
   ],
   "source": [
    "# NO! All are unique\n",
    "apple.index.is_unique\n",
    "\n",
    "# Type:        bool\n",
    "# String form: True\n",
    "# Docstring:\n",
    "# bool(x) -> bool\n",
    "\n",
    "# Returns True when the argument x is true, False otherwise.\n",
    "# The builtins True and False are the only two instances of the class bool.\n",
    "# The class bool is a subclass of the class int, and cannot be subclassed."
   ]
  },
  {
   "cell_type": "markdown",
   "metadata": {},
   "source": [
    "### Step 8.  Oops...it seems the index is from the most recent date. Make the first entry the oldest date."
   ]
  },
  {
   "cell_type": "code",
   "execution_count": 8,
   "metadata": {
    "collapsed": false
   },
   "outputs": [
    {
     "data": {
      "text/html": [
       "<div>\n",
       "<table border=\"1\" class=\"dataframe\">\n",
       "  <thead>\n",
       "    <tr style=\"text-align: right;\">\n",
       "      <th></th>\n",
       "      <th>Open</th>\n",
       "      <th>High</th>\n",
       "      <th>Low</th>\n",
       "      <th>Close</th>\n",
       "      <th>Volume</th>\n",
       "      <th>Adj Close</th>\n",
       "    </tr>\n",
       "    <tr>\n",
       "      <th>Date</th>\n",
       "      <th></th>\n",
       "      <th></th>\n",
       "      <th></th>\n",
       "      <th></th>\n",
       "      <th></th>\n",
       "      <th></th>\n",
       "    </tr>\n",
       "  </thead>\n",
       "  <tbody>\n",
       "    <tr>\n",
       "      <th>1980-12-12</th>\n",
       "      <td>28.75</td>\n",
       "      <td>28.87</td>\n",
       "      <td>28.75</td>\n",
       "      <td>28.75</td>\n",
       "      <td>117258400</td>\n",
       "      <td>0.45</td>\n",
       "    </tr>\n",
       "    <tr>\n",
       "      <th>1980-12-15</th>\n",
       "      <td>27.38</td>\n",
       "      <td>27.38</td>\n",
       "      <td>27.25</td>\n",
       "      <td>27.25</td>\n",
       "      <td>43971200</td>\n",
       "      <td>0.42</td>\n",
       "    </tr>\n",
       "    <tr>\n",
       "      <th>1980-12-16</th>\n",
       "      <td>25.37</td>\n",
       "      <td>25.37</td>\n",
       "      <td>25.25</td>\n",
       "      <td>25.25</td>\n",
       "      <td>26432000</td>\n",
       "      <td>0.39</td>\n",
       "    </tr>\n",
       "    <tr>\n",
       "      <th>1980-12-17</th>\n",
       "      <td>25.87</td>\n",
       "      <td>26.00</td>\n",
       "      <td>25.87</td>\n",
       "      <td>25.87</td>\n",
       "      <td>21610400</td>\n",
       "      <td>0.40</td>\n",
       "    </tr>\n",
       "    <tr>\n",
       "      <th>1980-12-18</th>\n",
       "      <td>26.63</td>\n",
       "      <td>26.75</td>\n",
       "      <td>26.63</td>\n",
       "      <td>26.63</td>\n",
       "      <td>18362400</td>\n",
       "      <td>0.41</td>\n",
       "    </tr>\n",
       "  </tbody>\n",
       "</table>\n",
       "</div>"
      ],
      "text/plain": [
       "             Open   High    Low  Close     Volume  Adj Close\n",
       "Date                                                        \n",
       "1980-12-12  28.75  28.87  28.75  28.75  117258400       0.45\n",
       "1980-12-15  27.38  27.38  27.25  27.25   43971200       0.42\n",
       "1980-12-16  25.37  25.37  25.25  25.25   26432000       0.39\n",
       "1980-12-17  25.87  26.00  25.87  25.87   21610400       0.40\n",
       "1980-12-18  26.63  26.75  26.63  26.63   18362400       0.41"
      ]
     },
     "execution_count": 8,
     "metadata": {},
     "output_type": "execute_result"
    }
   ],
   "source": [
    "apple.sort_index(ascending = True).head()\n",
    "\n",
    "# Signature: apple.sort_index(axis=0, level=None, ascending=True, inplace=False, kind='quicksort', na_position='last',\n",
    "#                             sort_remaining=True, by=None)\n",
    "# Docstring:\n",
    "# Sort object by labels (along an axis)\n",
    "\n",
    "# Parameters\n",
    "# ----------\n",
    "# axis : index, columns to direct sorting\n",
    "# level : int or level name or list of ints or list of level names\n",
    "#     if not None, sort on values in specified index level(s)\n",
    "# ascending : boolean, default True\n",
    "#     Sort ascending vs. descending\n",
    "# inplace : bool\n",
    "#     if True, perform operation in-place\n",
    "# kind : {`quicksort`, `mergesort`, `heapsort`}\n",
    "#      Choice of sorting algorithm. See also ndarray.np.sort for more\n",
    "#      information.  `mergesort` is the only stable algorithm. For\n",
    "#      DataFrames, this option is only applied when sorting on a single\n",
    "#      column or label.\n",
    "# na_position : {'first', 'last'}\n",
    "#      `first` puts NaNs at the beginning, `last` puts NaNs at the end\n",
    "# sort_remaining : bool\n",
    "#     if true and sorting by level and index is multilevel, sort by other\n",
    "#     levels too (in order) after sorting by specified level\n",
    "\n",
    "# Returns\n",
    "# -------\n",
    "# sorted_obj : DataFrame"
   ]
  },
  {
   "cell_type": "markdown",
   "metadata": {},
   "source": [
    "### Step 9. Get the last business day of each month"
   ]
  },
  {
   "cell_type": "code",
   "execution_count": 9,
   "metadata": {
    "collapsed": false
   },
   "outputs": [
    {
     "data": {
      "text/html": [
       "<div>\n",
       "<table border=\"1\" class=\"dataframe\">\n",
       "  <thead>\n",
       "    <tr style=\"text-align: right;\">\n",
       "      <th></th>\n",
       "      <th>Open</th>\n",
       "      <th>High</th>\n",
       "      <th>Low</th>\n",
       "      <th>Close</th>\n",
       "      <th>Volume</th>\n",
       "      <th>Adj Close</th>\n",
       "    </tr>\n",
       "    <tr>\n",
       "      <th>Date</th>\n",
       "      <th></th>\n",
       "      <th></th>\n",
       "      <th></th>\n",
       "      <th></th>\n",
       "      <th></th>\n",
       "      <th></th>\n",
       "    </tr>\n",
       "  </thead>\n",
       "  <tbody>\n",
       "    <tr>\n",
       "      <th>1980-12-31</th>\n",
       "      <td>30.481538</td>\n",
       "      <td>30.567692</td>\n",
       "      <td>30.443077</td>\n",
       "      <td>30.443077</td>\n",
       "      <td>25862523</td>\n",
       "      <td>0.473077</td>\n",
       "    </tr>\n",
       "    <tr>\n",
       "      <th>1981-01-30</th>\n",
       "      <td>31.754762</td>\n",
       "      <td>31.826667</td>\n",
       "      <td>31.654762</td>\n",
       "      <td>31.654762</td>\n",
       "      <td>7249866</td>\n",
       "      <td>0.493810</td>\n",
       "    </tr>\n",
       "    <tr>\n",
       "      <th>1981-02-27</th>\n",
       "      <td>26.480000</td>\n",
       "      <td>26.572105</td>\n",
       "      <td>26.407895</td>\n",
       "      <td>26.407895</td>\n",
       "      <td>4231831</td>\n",
       "      <td>0.411053</td>\n",
       "    </tr>\n",
       "    <tr>\n",
       "      <th>1981-03-31</th>\n",
       "      <td>24.937727</td>\n",
       "      <td>25.016818</td>\n",
       "      <td>24.836364</td>\n",
       "      <td>24.836364</td>\n",
       "      <td>7962690</td>\n",
       "      <td>0.387727</td>\n",
       "    </tr>\n",
       "    <tr>\n",
       "      <th>1981-04-30</th>\n",
       "      <td>27.286667</td>\n",
       "      <td>27.368095</td>\n",
       "      <td>27.227143</td>\n",
       "      <td>27.227143</td>\n",
       "      <td>6392000</td>\n",
       "      <td>0.423333</td>\n",
       "    </tr>\n",
       "  </tbody>\n",
       "</table>\n",
       "</div>"
      ],
      "text/plain": [
       "                 Open       High        Low      Close    Volume  Adj Close\n",
       "Date                                                                       \n",
       "1980-12-31  30.481538  30.567692  30.443077  30.443077  25862523   0.473077\n",
       "1981-01-30  31.754762  31.826667  31.654762  31.654762   7249866   0.493810\n",
       "1981-02-27  26.480000  26.572105  26.407895  26.407895   4231831   0.411053\n",
       "1981-03-31  24.937727  25.016818  24.836364  24.836364   7962690   0.387727\n",
       "1981-04-30  27.286667  27.368095  27.227143  27.227143   6392000   0.423333"
      ]
     },
     "execution_count": 9,
     "metadata": {},
     "output_type": "execute_result"
    }
   ],
   "source": [
    "apple_month = apple.resample('BM').mean()\n",
    "\n",
    "# Signature: apple.resample(rule, how=None, axis=0, fill_method=None, closed=None, label=None, convention='start',\n",
    "#                           kind=None, loffset=None, limit=None, base=0)\n",
    "# Docstring:\n",
    "# Convenience method for frequency conversion and resampling of regular\n",
    "# time-series data.\n",
    "\n",
    "# Parameters\n",
    "# ----------\n",
    "# rule : string\n",
    "#     the offset string or object representing target conversion\n",
    "# axis : int, optional, default 0\n",
    "# closed : {'right', 'left'}\n",
    "#     Which side of bin interval is closed\n",
    "# label : {'right', 'left'}\n",
    "#     Which bin edge label to label bucket with\n",
    "# convention : {'start', 'end', 's', 'e'}\n",
    "# loffset : timedelta\n",
    "#     Adjust the resampled time labels\n",
    "# base : int, default 0\n",
    "#     For frequencies that evenly subdivide 1 day, the \"origin\" of the\n",
    "#     aggregated intervals. For example, for '5min' frequency, base could\n",
    "#     range from 0 through 4. Defaults to 0\n",
    "\n",
    "\n",
    "apple_month.head()"
   ]
  },
  {
   "cell_type": "markdown",
   "metadata": {},
   "source": [
    "### Step 10.  What is the difference in days between the first day and the last day"
   ]
  },
  {
   "cell_type": "code",
   "execution_count": 10,
   "metadata": {
    "collapsed": false
   },
   "outputs": [
    {
     "data": {
      "text/plain": [
       "12261"
      ]
     },
     "execution_count": 10,
     "metadata": {},
     "output_type": "execute_result"
    }
   ],
   "source": [
    "(apple.index.max() - apple.index.min()).days"
   ]
  },
  {
   "cell_type": "markdown",
   "metadata": {},
   "source": [
    "### Step 11.  How many months do we have in the data?"
   ]
  },
  {
   "cell_type": "code",
   "execution_count": 11,
   "metadata": {
    "collapsed": false
   },
   "outputs": [
    {
     "data": {
      "text/plain": [
       "404"
      ]
     },
     "execution_count": 11,
     "metadata": {},
     "output_type": "execute_result"
    }
   ],
   "source": [
    "apple_months = apple.resample('BM').mean()\n",
    "\n",
    "len(apple_months.index)"
   ]
  },
  {
   "cell_type": "markdown",
   "metadata": {},
   "source": [
    "### Step 12. Plot the 'Adj Close' value. Set the size of the figure to 13.5 x 9 inches"
   ]
  },
  {
   "cell_type": "code",
   "execution_count": 12,
   "metadata": {
    "collapsed": false
   },
   "outputs": [
    {
     "data": {
      "image/png": "[encoded data removed]",
      "text/plain": [
       "<matplotlib.figure.Figure at 0x11599f3d0>"
      ]
     },
     "metadata": {},
     "output_type": "display_data"
    }
   ],
   "source": [
    "# makes the plot and assign it to a variable\n",
    "appl_open = apple['Adj Close'].plot(title = \"Apple Stock\")\n",
    "\n",
    "# Type:           FramePlotMethods\n",
    "# String form:    <pandas.tools.plotting.FramePlotMethods object at 0x1158e4890>\n",
    "# File:           ~/anaconda/lib/python2.7/site-packages/pandas/tools/plotting.py\n",
    "# Signature:      apple.plot(self, x=None, y=None, kind='line', ax=None, subplots=False, sharex=None, sharey=False, \n",
    "#                            layout=None, figsize=None, use_index=True, title=None, grid=None, legend=True, style=None,\n",
    "#                            logx=False, logy=False, loglog=False, xticks=None, yticks=None, xlim=None, ylim=None, \n",
    "#                            rot=None, fontsize=None, colormap=None, table=False, yerr=None, xerr=None, \n",
    "#                            secondary_y=False, sort_columns=False, **kwds)\n",
    "# Docstring:\n",
    "# DataFrame plotting accessor and method\n",
    "\n",
    "# Examples\n",
    "# --------\n",
    "# >>> df.plot.line()\n",
    "# >>> df.plot.scatter('x', 'y')\n",
    "# >>> df.plot.hexbin()\n",
    "\n",
    "# These plotting methods can also be accessed by calling the accessor as a\n",
    "# method with the ``kind`` argument:\n",
    "# ``df.plot(kind='line')`` is equivalent to ``df.plot.line()``\n",
    "# Call signature: apple.plot(x=None, y=None, kind='line', ax=None, subplots=False, sharex=None, sharey=False, layout=None, figsize=None, \n",
    "# use_index=True, title=None, grid=None, legend=True, style=None, logx=False, logy=False, loglog=False, xticks=None, yticks=None, xlim=None, \n",
    "# ylim=None, rot=None, fontsize=None, colormap=None, table=False, yerr=None, xerr=None, secondary_y=False, sort_columns=False, **kwds)\n",
    "# Call docstring:\n",
    "# Make plots of DataFrame using matplotlib / pylab.\n",
    "\n",
    "# *New in version 0.17.0:* Each plot kind has a corresponding method on the\n",
    "# ``DataFrame.plot`` accessor:\n",
    "# ``df.plot(kind='line')`` is equivalent to\n",
    "# ``df.plot.line()``.\n",
    "\n",
    "# Parameters\n",
    "# ----------\n",
    "# data : DataFrame\n",
    "# x : label or position, default None\n",
    "# y : label or position, default None\n",
    "#     Allows plotting of one column versus another\n",
    "# kind : str\n",
    "#     - 'line' : line plot (default)\n",
    "#     - 'bar' : vertical bar plot\n",
    "#     - 'barh' : horizontal bar plot\n",
    "#     - 'hist' : histogram\n",
    "#     - 'box' : boxplot\n",
    "#     - 'kde' : Kernel Density Estimation plot\n",
    "#     - 'density' : same as 'kde'\n",
    "#     - 'area' : area plot\n",
    "#     - 'pie' : pie plot\n",
    "#     - 'scatter' : scatter plot\n",
    "#     - 'hexbin' : hexbin plot\n",
    "# ax : matplotlib axes object, default None\n",
    "# subplots : boolean, default False\n",
    "#     Make separate subplots for each column\n",
    "# sharex : boolean, default True if ax is None else False\n",
    "#     In case subplots=True, share x axis and set some x axis labels to\n",
    "#     invisible; defaults to True if ax is None otherwise False if an ax\n",
    "#     is passed in; Be aware, that passing in both an ax and sharex=True\n",
    "#     will alter all x axis labels for all axis in a figure!\n",
    "# sharey : boolean, default False\n",
    "#     In case subplots=True, share y axis and set some y axis labels to\n",
    "#     invisible\n",
    "# layout : tuple (optional)\n",
    "#     (rows, columns) for the layout of subplots\n",
    "# figsize : a tuple (width, height) in inches\n",
    "# use_index : boolean, default True\n",
    "#     Use index as ticks for x axis\n",
    "# title : string\n",
    "#     Title to use for the plot\n",
    "# grid : boolean, default None (matlab style default)\n",
    "#     Axis grid lines\n",
    "# legend : False/True/'reverse'\n",
    "#     Place legend on axis subplots\n",
    "# style : list or dict\n",
    "#     matplotlib line style per column\n",
    "# logx : boolean, default False\n",
    "#     Use log scaling on x axis\n",
    "# logy : boolean, default False\n",
    "#     Use log scaling on y axis\n",
    "# loglog : boolean, default False\n",
    "#     Use log scaling on both x and y axes\n",
    "# xticks : sequence\n",
    "#     Values to use for the xticks\n",
    "# yticks : sequence\n",
    "#     Values to use for the yticks\n",
    "# xlim : 2-tuple/list\n",
    "# ylim : 2-tuple/list\n",
    "# rot : int, default None\n",
    "#     Rotation for ticks (xticks for vertical, yticks for horizontal plots)\n",
    "# fontsize : int, default None\n",
    "#     Font size for xticks and yticks\n",
    "# colormap : str or matplotlib colormap object, default None\n",
    "#     Colormap to select colors from. If string, load colormap with that name\n",
    "#     from matplotlib.\n",
    "# colorbar : boolean, optional\n",
    "#     If True, plot colorbar (only relevant for 'scatter' and 'hexbin' plots)\n",
    "# position : float\n",
    "#     Specify relative alignments for bar plot layout.\n",
    "#     From 0 (left/bottom-end) to 1 (right/top-end). Default is 0.5 (center)\n",
    "# layout : tuple (optional)\n",
    "#     (rows, columns) for the layout of the plot\n",
    "# table : boolean, Series or DataFrame, default False\n",
    "#     If True, draw a table using the data in the DataFrame and the data will\n",
    "#     be transposed to meet matplotlib's default layout.\n",
    "#     If a Series or DataFrame is passed, use passed data to draw a table.\n",
    "# yerr : DataFrame, Series, array-like, dict and str\n",
    "#     See :ref:`Plotting with Error Bars <visualization.errorbars>` for\n",
    "#     detail.\n",
    "# xerr : same types as yerr.\n",
    "# stacked : boolean, default False in line and\n",
    "#     bar plots, and True in area plot. If True, create stacked plot.\n",
    "# sort_columns : boolean, default False\n",
    "#     Sort column names to determine plot ordering\n",
    "# secondary_y : boolean or sequence, default False\n",
    "#     Whether to plot on the secondary y-axis\n",
    "#     If a list/tuple, which columns to plot on secondary y-axis\n",
    "# mark_right : boolean, default True\n",
    "#     When using a secondary_y axis, automatically mark the column\n",
    "#     labels with \"(right)\" in the legend\n",
    "# kwds : keywords\n",
    "#     Options to pass to matplotlib plotting method\n",
    "\n",
    "# Returns\n",
    "# -------\n",
    "# axes : matplotlib.AxesSubplot or np.array of them\n",
    "\n",
    "\n",
    "# changes the size of the graph\n",
    "fig = appl_open.get_figure()\n",
    "fig.set_size_inches(13.5, 9)"
   ]
  },
  {
   "cell_type": "markdown",
   "metadata": {},
   "source": [
    "### BONUS: Create your own question and answer it."
   ]
  },
  {
   "cell_type": "code",
   "execution_count": 13,
   "metadata": {
    "collapsed": false
   },
   "outputs": [
    {
     "data": {
      "image/png": "[encoded data removed]",
      "text/plain": [
       "<matplotlib.figure.Figure at 0x117753410>"
      ]
     },
     "metadata": {},
     "output_type": "display_data"
    }
   ],
   "source": [
    "appl_open = apple['Volume'].plot(title = \"Volume as a function of time\")\n",
    "fig = appl_open.get_figure()\n",
    "fig.set_size_inches(13.5, 9)"
   ]
  },
  {
   "cell_type": "code",
   "execution_count": null,
   "metadata": {
    "collapsed": true
   },
   "outputs": [],
   "source": []
  }
 ],
 "metadata": {
  "kernelspec": {
   "display_name": "Python [Root]",
   "language": "python",
   "name": "Python [Root]"
  },
  "language_info": {
   "codemirror_mode": {
    "name": "ipython",
    "version": 2
   },
   "file_extension": ".py",
   "mimetype": "text/x-python",
   "name": "python",
   "nbconvert_exporter": "python",
   "pygments_lexer": "ipython2",
   "version": "2.7.12"
  }
 },
 "nbformat": 4,
 "nbformat_minor": 0
}
