{
 "cells": [
  {
   "cell_type": "markdown",
   "metadata": {},
   "source": [
    "# Getting Financial Data - Google Finance"
   ]
  },
  {
   "cell_type": "markdown",
   "metadata": {},
   "source": [
    "### Introduction:\n",
    "\n",
    "This time you will get data from a website.\n",
    "\n",
    "\n",
    "### Step 1. Import the necessary libraries"
   ]
  },
  {
   "cell_type": "code",
   "execution_count": 31,
   "metadata": {
    "collapsed": false
   },
   "outputs": [],
   "source": [
    "import pandas as pd\n",
    "\n",
    "# package to extract data from various Internet sources into a DataFrame\n",
    "# make sure you have it installed\n",
    "from pandas_datareader import data, wb\n",
    "import pandas_datareader.data as web  # needed to do some debugging here\n",
    "# package for dates\n",
    "import datetime as dt"
   ]
  },
  {
   "cell_type": "markdown",
   "metadata": {},
   "source": [
    "### Step 2. Create your time range (start and end variables). The start date should be 01/01/2015 and the end should today (whatever your today is)"
   ]
  },
  {
   "cell_type": "code",
   "execution_count": 4,
   "metadata": {
    "collapsed": false
   },
   "outputs": [
    {
     "name": "stdout",
     "output_type": "stream",
     "text": [
      "2015-01-01 00:00:00\n",
      "2016-11-28 15:34:46.085651\n"
     ]
    }
   ],
   "source": [
    "start = dt.datetime(2015, 1, 1)\n",
    "\n",
    "end = dt.datetime.today()\n",
    "\n",
    "# Docstring:\n",
    "# datetime(year, month, day[, hour[, minute[, second[, microsecond[,tzinfo]]]]])\n",
    "\n",
    "# The year, month and day arguments are required. tzinfo may be None, or an\n",
    "# instance of a tzinfo subclass. The remaining arguments may be ints or longs.\n",
    "\n",
    "print(start)\n",
    "print(end)"
   ]
  },
  {
   "cell_type": "markdown",
   "metadata": {},
   "source": [
    "### Step 3. Select the Apple, Tesla, Twitter, IBM, LinkedIn stocks symbols and assign them to a variable called stocks"
   ]
  },
  {
   "cell_type": "code",
   "execution_count": 5,
   "metadata": {
    "collapsed": false
   },
   "outputs": [],
   "source": [
    "stocks = ['AAPL', 'TSLA', 'IBM', 'LNKD']"
   ]
  },
  {
   "cell_type": "markdown",
   "metadata": {},
   "source": [
    "### Step 4. Read the data from google, assign to df and print it"
   ]
  },
  {
   "cell_type": "code",
   "execution_count": 34,
   "metadata": {
    "collapsed": false,
    "scrolled": true
   },
   "outputs": [
    {
     "data": {
      "text/plain": [
       "<class 'pandas.core.panel.Panel'>\n",
       "Dimensions: 5 (items) x 481 (major_axis) x 4 (minor_axis)\n",
       "Items axis: Open to Volume\n",
       "Major_axis axis: 2015-01-02 00:00:00 to 2016-11-28 00:00:00\n",
       "Minor_axis axis: AAPL to TSLA"
      ]
     },
     "execution_count": 34,
     "metadata": {},
     "output_type": "execute_result"
    }
   ],
   "source": [
    "df = web.DataReader(stocks, 'google', start, end)  # Needed to do some debugging here\n",
    "\n",
    "# Signature: web.DataReader(name, data_source=None, start=None, end=None, retry_count=3, pause=0.001, session=None)\n",
    "# Docstring:\n",
    "# Imports data from a number of online sources.\n",
    "\n",
    "# Currently supports Yahoo! Finance, Google Finance, St. Louis FED (FRED)\n",
    "# and Kenneth French's data library.\n",
    "\n",
    "# Parameters\n",
    "# ----------\n",
    "# name : str or list of strs\n",
    "#     the name of the dataset. Some data sources (yahoo, google, fred) will\n",
    "#     accept a list of names.\n",
    "# data_source: {str, None}\n",
    "#     the data source (\"yahoo\", \"yahoo-actions\", \"google\", \"fred\", or \"ff\")\n",
    "# start : {datetime, None}\n",
    "#     left boundary for range (defaults to 1/1/2010)\n",
    "# end : {datetime, None}\n",
    "#     right boundary for range (defaults to today)\n",
    "# retry_count : {int, 3}\n",
    "#     Number of times to retry query request.\n",
    "# pause : {numeric, 0.001}\n",
    "#     Time, in seconds, to pause between consecutive queries of chunks. If\n",
    "#     single value given for symbol, represents the pause between retries.\n",
    "# session : Session, default None\n",
    "#         requests.sessions.Session instance to be used\n",
    "\n",
    "# Examples\n",
    "# ----------\n",
    "\n",
    "# # Data from Yahoo! Finance\n",
    "# gs = DataReader(\"GS\", \"yahoo\")\n",
    "\n",
    "# # Corporate Actions (Dividend and Split Data) with ex-dates from Yahoo! Finance\n",
    "# gs = DataReader(\"GS\", \"yahoo-actions\")\n",
    "\n",
    "# # Data from Google Finance\n",
    "# aapl = DataReader(\"AAPL\", \"google\")\n",
    "\n",
    "# # Data from FRED\n",
    "# vix = DataReader(\"VIXCLS\", \"fred\")\n",
    "\n",
    "# # Data from Fama/French\n",
    "# ff = DataReader(\"F-F_Research_Data_Factors\", \"famafrench\")\n",
    "# ff = DataReader(\"F-F_Research_Data_Factors_weekly\", \"famafrench\")\n",
    "# ff = DataReader(\"6_Portfolios_2x3\", \"famafrench\")\n",
    "# ff = DataReader(\"F-F_ST_Reversal_Factor\", \"famafrench\")\n",
    "\n",
    "df"
   ]
  },
  {
   "cell_type": "markdown",
   "metadata": {},
   "source": [
    "### Step 5.  What is the type of structure of df ?"
   ]
  },
  {
   "cell_type": "code",
   "execution_count": 40,
   "metadata": {
    "collapsed": false
   },
   "outputs": [
    {
     "data": {
      "text/plain": [
       "pandas.core.panel.Panel"
      ]
     },
     "execution_count": 40,
     "metadata": {},
     "output_type": "execute_result"
    }
   ],
   "source": [
    "# 'pandas.core.panel.Panel'\n",
    "pd.core.panel.Panel"
   ]
  },
  {
   "cell_type": "markdown",
   "metadata": {},
   "source": [
    "### Step 6. Print all the Items axis values\n",
    "#### To learn more about the Panel structure go to [documentation](http://pandas.pydata.org/pandas-docs/stable/dsintro.html#panel) "
   ]
  },
  {
   "cell_type": "code",
   "execution_count": 50,
   "metadata": {
    "collapsed": false
   },
   "outputs": [
    {
     "data": {
      "text/plain": [
       "Index([u'Open', u'High', u'Low', u'Close', u'Volume'], dtype='object')"
      ]
     },
     "execution_count": 50,
     "metadata": {},
     "output_type": "execute_result"
    }
   ],
   "source": [
    "# For additional details and reference, see http://pandas.pydata.org/pandas-docs/stable/dsintro.html#panel\n",
    "\n",
    "# Panel is a somewhat less-used, but still important container for 3-dimensional data. The term panel data is derived\n",
    "# from econometrics and is partially responsible for the name pandas: pan(el)-da(ta)-s. The names for the 3 axes are\n",
    "#     intended to give some semantic meaning to describing operations involving panel data and, in particular,\n",
    "#     econometric analysis of panel data. However, for the strict purposes of slicing and dicing a collection of \n",
    "#     DataFrame objects, you may find the axis names slightly arbitrary:\n",
    "\n",
    "# items: axis 0, each item corresponds to a DataFrame contained inside\n",
    "# major_axis: axis 1, it is the index (rows) of each of the DataFrames\n",
    "# minor_axis: axis 2, it is the columns of each of the DataFrames\n",
    "\n",
    "df.items"
   ]
  },
  {
   "cell_type": "markdown",
   "metadata": {},
   "source": [
    "### Step 7. Good, now we know  the data avaiable. Create a dataFrame called vol, with the Volume values."
   ]
  },
  {
   "cell_type": "code",
   "execution_count": 43,
   "metadata": {
    "collapsed": false
   },
   "outputs": [
    {
     "data": {
      "text/html": [
       "<div>\n",
       "<table border=\"1\" class=\"dataframe\">\n",
       "  <thead>\n",
       "    <tr style=\"text-align: right;\">\n",
       "      <th></th>\n",
       "      <th>AAPL</th>\n",
       "      <th>IBM</th>\n",
       "      <th>LNKD</th>\n",
       "      <th>TSLA</th>\n",
       "    </tr>\n",
       "    <tr>\n",
       "      <th>Date</th>\n",
       "      <th></th>\n",
       "      <th></th>\n",
       "      <th></th>\n",
       "      <th></th>\n",
       "    </tr>\n",
       "  </thead>\n",
       "  <tbody>\n",
       "    <tr>\n",
       "      <th>2015-01-02</th>\n",
       "      <td>53204626.0</td>\n",
       "      <td>5525466.0</td>\n",
       "      <td>1203743.0</td>\n",
       "      <td>4764443.0</td>\n",
       "    </tr>\n",
       "    <tr>\n",
       "      <th>2015-01-05</th>\n",
       "      <td>64285491.0</td>\n",
       "      <td>4880389.0</td>\n",
       "      <td>1400562.0</td>\n",
       "      <td>5368477.0</td>\n",
       "    </tr>\n",
       "    <tr>\n",
       "      <th>2015-01-06</th>\n",
       "      <td>65797116.0</td>\n",
       "      <td>6146712.0</td>\n",
       "      <td>2006546.0</td>\n",
       "      <td>6261936.0</td>\n",
       "    </tr>\n",
       "    <tr>\n",
       "      <th>2015-01-07</th>\n",
       "      <td>40105934.0</td>\n",
       "      <td>4701839.0</td>\n",
       "      <td>985016.0</td>\n",
       "      <td>2968390.0</td>\n",
       "    </tr>\n",
       "    <tr>\n",
       "      <th>2015-01-08</th>\n",
       "      <td>59364547.0</td>\n",
       "      <td>4241113.0</td>\n",
       "      <td>1293955.0</td>\n",
       "      <td>3442509.0</td>\n",
       "    </tr>\n",
       "  </tbody>\n",
       "</table>\n",
       "</div>"
      ],
      "text/plain": [
       "                  AAPL        IBM       LNKD       TSLA\n",
       "Date                                                   \n",
       "2015-01-02  53204626.0  5525466.0  1203743.0  4764443.0\n",
       "2015-01-05  64285491.0  4880389.0  1400562.0  5368477.0\n",
       "2015-01-06  65797116.0  6146712.0  2006546.0  6261936.0\n",
       "2015-01-07  40105934.0  4701839.0   985016.0  2968390.0\n",
       "2015-01-08  59364547.0  4241113.0  1293955.0  3442509.0"
      ]
     },
     "execution_count": 43,
     "metadata": {},
     "output_type": "execute_result"
    }
   ],
   "source": [
    "vol = df['Volume']\n",
    "vol.head()"
   ]
  },
  {
   "cell_type": "markdown",
   "metadata": {},
   "source": [
    "### Step 8. Aggregate the data of Volume to weekly\n",
    "#### Hint: Be careful to not sum data from the same week of 2015 and other years."
   ]
  },
  {
   "cell_type": "code",
   "execution_count": 47,
   "metadata": {
    "collapsed": false,
    "scrolled": true
   },
   "outputs": [
    {
     "data": {
      "text/html": [
       "<div>\n",
       "<table border=\"1\" class=\"dataframe\">\n",
       "  <thead>\n",
       "    <tr style=\"text-align: right;\">\n",
       "      <th></th>\n",
       "      <th></th>\n",
       "      <th>AAPL</th>\n",
       "      <th>IBM</th>\n",
       "      <th>LNKD</th>\n",
       "      <th>TSLA</th>\n",
       "    </tr>\n",
       "    <tr>\n",
       "      <th>week</th>\n",
       "      <th>year</th>\n",
       "      <th></th>\n",
       "      <th></th>\n",
       "      <th></th>\n",
       "      <th></th>\n",
       "    </tr>\n",
       "  </thead>\n",
       "  <tbody>\n",
       "    <tr>\n",
       "      <th rowspan=\"2\" valign=\"top\">1</th>\n",
       "      <th>2015</th>\n",
       "      <td>53204626.0</td>\n",
       "      <td>5525466.0</td>\n",
       "      <td>1203743.0</td>\n",
       "      <td>4764443.0</td>\n",
       "    </tr>\n",
       "    <tr>\n",
       "      <th>2016</th>\n",
       "      <td>343422014.0</td>\n",
       "      <td>25233098.0</td>\n",
       "      <td>6630485.0</td>\n",
       "      <td>20967926.0</td>\n",
       "    </tr>\n",
       "    <tr>\n",
       "      <th rowspan=\"2\" valign=\"top\">2</th>\n",
       "      <th>2015</th>\n",
       "      <td>283252615.0</td>\n",
       "      <td>24458400.0</td>\n",
       "      <td>7203125.0</td>\n",
       "      <td>22709607.0</td>\n",
       "    </tr>\n",
       "    <tr>\n",
       "      <th>2016</th>\n",
       "      <td>302072797.0</td>\n",
       "      <td>29379214.0</td>\n",
       "      <td>9160521.0</td>\n",
       "      <td>22997290.0</td>\n",
       "    </tr>\n",
       "    <tr>\n",
       "      <th rowspan=\"2\" valign=\"top\">3</th>\n",
       "      <th>2015</th>\n",
       "      <td>304226647.0</td>\n",
       "      <td>23263206.0</td>\n",
       "      <td>7084168.0</td>\n",
       "      <td>30799137.0</td>\n",
       "    </tr>\n",
       "    <tr>\n",
       "      <th>2016</th>\n",
       "      <td>242466904.0</td>\n",
       "      <td>43919935.0</td>\n",
       "      <td>8139238.0</td>\n",
       "      <td>16106478.0</td>\n",
       "    </tr>\n",
       "    <tr>\n",
       "      <th rowspan=\"2\" valign=\"top\">4</th>\n",
       "      <th>2015</th>\n",
       "      <td>198737041.0</td>\n",
       "      <td>31244856.0</td>\n",
       "      <td>5549477.0</td>\n",
       "      <td>16215501.0</td>\n",
       "    </tr>\n",
       "    <tr>\n",
       "      <th>2016</th>\n",
       "      <td>366526430.0</td>\n",
       "      <td>27192107.0</td>\n",
       "      <td>7309853.0</td>\n",
       "      <td>18629438.0</td>\n",
       "    </tr>\n",
       "    <tr>\n",
       "      <th rowspan=\"2\" valign=\"top\">5</th>\n",
       "      <th>2015</th>\n",
       "      <td>465842684.0</td>\n",
       "      <td>32928061.0</td>\n",
       "      <td>5810679.0</td>\n",
       "      <td>15720217.0</td>\n",
       "    </tr>\n",
       "    <tr>\n",
       "      <th>2016</th>\n",
       "      <td>215137299.0</td>\n",
       "      <td>25468829.0</td>\n",
       "      <td>58241234.0</td>\n",
       "      <td>32726932.0</td>\n",
       "    </tr>\n",
       "  </tbody>\n",
       "</table>\n",
       "</div>"
      ],
      "text/plain": [
       "                  AAPL         IBM        LNKD        TSLA\n",
       "week year                                                 \n",
       "1    2015   53204626.0   5525466.0   1203743.0   4764443.0\n",
       "     2016  343422014.0  25233098.0   6630485.0  20967926.0\n",
       "2    2015  283252615.0  24458400.0   7203125.0  22709607.0\n",
       "     2016  302072797.0  29379214.0   9160521.0  22997290.0\n",
       "3    2015  304226647.0  23263206.0   7084168.0  30799137.0\n",
       "     2016  242466904.0  43919935.0   8139238.0  16106478.0\n",
       "4    2015  198737041.0  31244856.0   5549477.0  16215501.0\n",
       "     2016  366526430.0  27192107.0   7309853.0  18629438.0\n",
       "5    2015  465842684.0  32928061.0   5810679.0  15720217.0\n",
       "     2016  215137299.0  25468829.0  58241234.0  32726932.0"
      ]
     },
     "execution_count": 47,
     "metadata": {},
     "output_type": "execute_result"
    }
   ],
   "source": [
    "vol['week'] = vol.index.week\n",
    "vol['year'] = vol.index.year\n",
    "\n",
    "# Docstring:\n",
    "# Immutable ndarray of datetime64 data, represented internally as int64, and\n",
    "# which can be boxed to Timestamp objects that are subclasses of datetime and\n",
    "# carry metadata such as frequency information.\n",
    "\n",
    "# Parameters\n",
    "# ----------\n",
    "# data  : array-like (1-dimensional), optional\n",
    "#     Optional datetime-like data to construct index with\n",
    "# copy  : bool\n",
    "#     Make a copy of input ndarray\n",
    "# freq : string or pandas offset object, optional\n",
    "#     One of pandas date offset strings or corresponding objects\n",
    "# start : starting value, datetime-like, optional\n",
    "#     If data is None, start is used as the start point in generating regular\n",
    "#     timestamp data.\n",
    "# periods  : int, optional, > 0\n",
    "#     Number of periods to generate, if generating index. Takes precedence\n",
    "#     over end argument\n",
    "# end   : end time, datetime-like, optional\n",
    "#     If periods is none, generated index will extend to first conforming\n",
    "#     time on or just past end argument\n",
    "# closed : string or None, default None\n",
    "#     Make the interval closed with respect to the given frequency to\n",
    "#     the 'left', 'right', or both sides (None)\n",
    "# tz : pytz.timezone or dateutil.tz.tzfile\n",
    "# ambiguous : 'infer', bool-ndarray, 'NaT', default 'raise'\n",
    "#     - 'infer' will attempt to infer fall dst-transition hours based on\n",
    "#       order\n",
    "#     - bool-ndarray where True signifies a DST time, False signifies a\n",
    "#       non-DST time (note that this flag is only applicable for ambiguous\n",
    "#       times)\n",
    "#     - 'NaT' will return NaT where there are ambiguous times\n",
    "#     - 'raise' will raise an AmbiguousTimeError if there are ambiguous times\n",
    "# infer_dst : boolean, default False (DEPRECATED)\n",
    "#     Attempt to infer fall dst-transition hours based on order\n",
    "# name : object\n",
    "#     Name to be stored in the index\n",
    "\n",
    "week = vol.groupby(['week','year']).sum()\n",
    "week.head(10)"
   ]
  },
  {
   "cell_type": "markdown",
   "metadata": {},
   "source": [
    "### Step 9. Find all the volume traded in the year of 2015"
   ]
  },
  {
   "cell_type": "code",
   "execution_count": 46,
   "metadata": {
    "collapsed": false
   },
   "outputs": [
    {
     "data": {
      "text/html": [
       "<div>\n",
       "<table border=\"1\" class=\"dataframe\">\n",
       "  <thead>\n",
       "    <tr style=\"text-align: right;\">\n",
       "      <th></th>\n",
       "      <th>AAPL</th>\n",
       "      <th>IBM</th>\n",
       "      <th>LNKD</th>\n",
       "      <th>TSLA</th>\n",
       "    </tr>\n",
       "    <tr>\n",
       "      <th>year</th>\n",
       "      <th></th>\n",
       "      <th></th>\n",
       "      <th></th>\n",
       "      <th></th>\n",
       "    </tr>\n",
       "  </thead>\n",
       "  <tbody>\n",
       "    <tr>\n",
       "      <th>2015</th>\n",
       "      <td>1.301994e+10</td>\n",
       "      <td>1.100959e+09</td>\n",
       "      <td>440376163.0</td>\n",
       "      <td>1.085839e+09</td>\n",
       "    </tr>\n",
       "    <tr>\n",
       "      <th>2016</th>\n",
       "      <td>8.952190e+09</td>\n",
       "      <td>9.393887e+08</td>\n",
       "      <td>551638797.0</td>\n",
       "      <td>1.062073e+09</td>\n",
       "    </tr>\n",
       "  </tbody>\n",
       "</table>\n",
       "</div>"
      ],
      "text/plain": [
       "              AAPL           IBM         LNKD          TSLA\n",
       "year                                                       \n",
       "2015  1.301994e+10  1.100959e+09  440376163.0  1.085839e+09\n",
       "2016  8.952190e+09  9.393887e+08  551638797.0  1.062073e+09"
      ]
     },
     "execution_count": 46,
     "metadata": {},
     "output_type": "execute_result"
    }
   ],
   "source": [
    "del vol['week']\n",
    "vol['year'] = vol.index.year\n",
    "\n",
    "year = vol.groupby(['year']).sum()\n",
    "year"
   ]
  },
  {
   "cell_type": "markdown",
   "metadata": {},
   "source": [
    "### BONUS: Create your own question and answer it."
   ]
  },
  {
   "cell_type": "code",
   "execution_count": null,
   "metadata": {
    "collapsed": true
   },
   "outputs": [],
   "source": []
  }
 ],
 "metadata": {
  "kernelspec": {
   "display_name": "Python [Root]",
   "language": "python",
   "name": "Python [Root]"
  },
  "language_info": {
   "codemirror_mode": {
    "name": "ipython",
    "version": 2
   },
   "file_extension": ".py",
   "mimetype": "text/x-python",
   "name": "python",
   "nbconvert_exporter": "python",
   "pygments_lexer": "ipython2",
   "version": "2.7.12"
  }
 },
 "nbformat": 4,
 "nbformat_minor": 0
}
