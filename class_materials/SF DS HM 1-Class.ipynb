{
 "cells": [
  {
   "cell_type": "markdown",
   "metadata": {},
   "source": [
    "## You will be using NYC taxi ride data. There are two files located in the `data/nycTaxiData/` folder: `trip_fare_500k.csv` and `trip_data_500k.csv`.\n",
    "\n",
    "The answers will be posted 9/27 after class.\n",
    "\n",
    "`trip_fare_500k.csv` file found in the `data/nycTaxiData/` folder. \n",
    "This dataset contains a fairly large number of distinct trips taken in cabs in the NYC area in 2013 (500 thousand of them, to be exact!).\n",
    "\n",
    "The dataset contains the following information at the top of the file (this is called the header):\n",
    "\n",
    "* `medallion`: The ID of the cab being operated\n",
    "* `hack_license`: The ID of the person operating the cab\n",
    "* `vendor_id`: The type of vendor operating the cab, can either be `CMT` or `VTS`, no clue what these two types mean\n",
    "* `pickup_datetime`: The time when the ride started\n",
    "* `payment_type`: How the trip was paid, `UNK` stands for unknown, I have no idea what `NOC` stands for, but lets assume its some known way to pay\n",
    "* `fare_amount`: Base fare cost of the trip\n",
    "* `surcharge`: Additional charges that are not tolls\n",
    "* `mta_tax`: The mta has to get its cut, right? :)\n",
    "* `tip_amount`: How generous the rider(s) decided to be\n",
    "* `tolls_amount`: How much money you had to pay in tolls\n",
    "* `total_amount`: How much the trip cost.\n",
    "\n",
    "Here are the columns of the trip dataset, found in `trip_data_500k.csv`:\n",
    "\n",
    "* `medallion`: The ID of the cab being operated\n",
    "* `hack_license`: The ID of the person operating the cab\n",
    "* `vendor_id`: The type of vendor operating the cab, can either be `CMT` or `VTS`, no clue what these two types mean\n",
    "* `rate_code`: Designates the kind of ride this is, must be `1` through `6`, any other number is incorrect\n",
    "* `store_and_fwd_flag`: Can be either `Y`,`N`, or Nan\n",
    "* `pickup_datetime`: The time when the ride started\n",
    "* `dropoff_datetime`: The time when the ride ended\n",
    "* `passenger_count`: The number of passengers during the ride\n",
    "* `trip_time_in_secs`: How long the trip took\n",
    "* `trip_distance`: Distance of the trip, to the nearest 1/10 mile\n",
    "* `pickup_longitude`: Longitude of pickup location\n",
    "* `pickup_latitude`: Latitude of pickup location\n",
    "* `dropoff_longitude`: Longitude of dropoff location\n",
    "* `dropoff_latitude`: Latitude of dropoff location"
   ]
  },
  {
   "cell_type": "markdown",
   "metadata": {},
   "source": [
    "First step - make your own copy of the notebook.\n",
    "\n",
    "Use the rest of this notebook to work through all these questions. \n",
    "\n",
    "If you can tackle all of these questions, then you've learned a lot already! \n",
    "\n",
    "For tips and commands, see the pandas class notebooks or https://github.com/guipsamora/pandas_exercises.\n",
    "\n",
    "If not, don't worry, this stuff is hard and T.J. and Ramesh will gladly help/guide you through all of this. Contact us through Slack with any questions.\n",
    "\n",
    "But take charge of your learning! This means:\n",
    "\n",
    "* Ask a classmate\n",
    "to help if you don't understand something. \n",
    "* If your neighbor can't help you, try using:\n",
    "  * [pandas documentation](http://pandas.pydata.org/pandas-docs/stable/index.html)\n",
    "  * [google](http://www.google.com)\n",
    "  * [stackoverflow](http://stackoverflow.com) to see if someone in the internet ether has had a similar problem before\n",
    "  * if none of this works, then I will gladly help you\n",
    "* This will accomplish at least two things:\n",
    "  * It will get you to use online resources and take charge of your learning\n",
    "  * Get you to learn alternative approaches"
   ]
  },
  {
   "cell_type": "markdown",
   "metadata": {},
   "source": [
    "I've started the bare-bones script for you by:\n",
    "\n",
    "* importing what you will need.\n",
    "* loading the two datasets into `DataFrame` objects (you might need to change the path to where the file is located on your system).\n",
    "* formatting the timestamp for you so that you don't have to figure out how to do it, because spending 30+ minutes  (or more) trying to figure it out is not the point of the assignment. This way, all of the functions in `fareData.pickup_datetime.dt` can immediately be used on the `pickup_datetime` column your dataset.\n",
    "\n",
    "The rest I leave to you. Happy hacking!"
   ]
  },
  {
   "cell_type": "code",
   "execution_count": 1,
   "metadata": {
    "collapsed": true
   },
   "outputs": [],
   "source": [
    "from __future__ import print_function, unicode_literals, division\n",
    "import pandas as pd\n",
    "import numpy as np"
   ]
  },
  {
   "cell_type": "markdown",
   "metadata": {},
   "source": [
    "## Let's start with the fare data:"
   ]
  },
  {
   "cell_type": "code",
   "execution_count": 2,
   "metadata": {
    "collapsed": false
   },
   "outputs": [
    {
     "data": {
      "text/plain": [
       "medallion                  object\n",
       "hack_license               object\n",
       "vendor_id                  object\n",
       "pickup_datetime    datetime64[ns]\n",
       "payment_type               object\n",
       "fare_amount               float64\n",
       "surcharge                 float64\n",
       "mta_tax                   float64\n",
       "tip_amount                float64\n",
       "tolls_amount              float64\n",
       "total_amount              float64\n",
       "dtype: object"
      ]
     },
     "execution_count": 2,
     "metadata": {},
     "output_type": "execute_result"
    }
   ],
   "source": [
    "fareData = pd.read_csv(\"../data/nycTaxiData/trip_fare_500k.csv\")\n",
    "fareData.pickup_datetime = pd.to_datetime(fareData.pickup_datetime,format=\"%Y-%m-%d %H:%M:%S\")\n",
    "fareData.dtypes #this is to confirm that the pickup_datetime column, as well as all of the other\n",
    "# columns, are in the appropriate formats (pickup_datetime should be in datetime64 format)\n",
    "# if it isn't something is wrong, and we need to figure what that is"
   ]
  },
  {
   "cell_type": "markdown",
   "metadata": {},
   "source": [
    "<b>Are there any missing data (null-values)?"
   ]
  },
  {
   "cell_type": "code",
   "execution_count": 3,
   "metadata": {
    "collapsed": false
   },
   "outputs": [
    {
     "name": "stdout",
     "output_type": "stream",
     "text": [
      "(500000, 11)\n",
      "medallion          0\n",
      "hack_license       0\n",
      "vendor_id          0\n",
      "pickup_datetime    0\n",
      "payment_type       0\n",
      "fare_amount        0\n",
      "surcharge          0\n",
      "mta_tax            0\n",
      "tip_amount         0\n",
      "tolls_amount       0\n",
      "total_amount       0\n",
      "dtype: int64\n",
      "medallion          False\n",
      "hack_license       False\n",
      "vendor_id          False\n",
      "pickup_datetime    False\n",
      "payment_type       False\n",
      "fare_amount        False\n",
      "surcharge          False\n",
      "mta_tax            False\n",
      "tip_amount         False\n",
      "tolls_amount       False\n",
      "total_amount       False\n",
      "dtype: bool\n",
      "medallion          500000\n",
      "hack_license       500000\n",
      "vendor_id          500000\n",
      "pickup_datetime    500000\n",
      "payment_type       500000\n",
      "fare_amount        500000\n",
      "surcharge          500000\n",
      "mta_tax            500000\n",
      "tip_amount         500000\n",
      "tolls_amount       500000\n",
      "total_amount       500000\n",
      "dtype: int64\n",
      "5500000\n",
      "<class 'pandas.core.frame.DataFrame'>\n",
      "RangeIndex: 500000 entries, 0 to 499999\n",
      "Data columns (total 11 columns):\n",
      "medallion          500000 non-null object\n",
      "hack_license       500000 non-null object\n",
      "vendor_id          500000 non-null object\n",
      "pickup_datetime    500000 non-null datetime64[ns]\n",
      "payment_type       500000 non-null object\n",
      "fare_amount        500000 non-null float64\n",
      "surcharge          500000 non-null float64\n",
      "mta_tax            500000 non-null float64\n",
      "tip_amount         500000 non-null float64\n",
      "tolls_amount       500000 non-null float64\n",
      "total_amount       500000 non-null float64\n",
      "dtypes: datetime64[ns](1), float64(6), object(4)\n",
      "memory usage: 42.0+ MB\n",
      "None\n",
      "         fare_amount      surcharge        mta_tax     tip_amount  \\\n",
      "count  500000.000000  500000.000000  500000.000000  500000.000000   \n",
      "mean       11.887836       0.219198       0.498734       1.302622   \n",
      "std        10.190316       0.343148       0.025128       2.143457   \n",
      "min         2.500000       0.000000       0.000000       0.000000   \n",
      "25%         6.500000       0.000000       0.500000       0.000000   \n",
      "50%         8.500000       0.000000       0.500000       0.900000   \n",
      "75%        13.000000       0.500000       0.500000       1.900000   \n",
      "max       460.000000       1.000000       0.500000     177.000000   \n",
      "\n",
      "        tolls_amount   total_amount  \n",
      "count  500000.000000  500000.000000  \n",
      "mean        0.261905      14.170294  \n",
      "std         1.159606      12.238453  \n",
      "min         0.000000       2.500000  \n",
      "25%         0.000000       7.500000  \n",
      "50%         0.000000      10.500000  \n",
      "75%         0.000000      15.200000  \n",
      "max        20.000000     460.500000  \n"
     ]
    }
   ],
   "source": [
    "print(fareData.shape)\n",
    "print(fareData.isnull().sum())\n",
    "print(fareData.isnull().any())\n",
    "print(fareData.count())\n",
    "print(fareData.size)\n",
    "print(fareData.info())\n",
    "print(fareData.describe())\n",
    "# All of the below data appears to indicate that there is no missing (null-valued) data"
   ]
  },
  {
   "cell_type": "markdown",
   "metadata": {},
   "source": [
    "<b>What was the most expensive/least expensive trip taken?</b>"
   ]
  },
  {
   "cell_type": "code",
   "execution_count": 4,
   "metadata": {
    "collapsed": false
   },
   "outputs": [
    {
     "name": "stdout",
     "output_type": "stream",
     "text": [
      "The total amount of the most expensive trip taken was 460.5 dollars\n",
      "The total amount of the least expensive trip taken was 2.5 dollars\n"
     ]
    }
   ],
   "source": [
    "print('The total amount of the most expensive trip taken was', fareData.total_amount.max(), 'dollars')\n",
    "print('The total amount of the least expensive trip taken was', fareData.total_amount.min(), 'dollars')\n",
    "# This correct according to course instructors"
   ]
  },
  {
   "cell_type": "markdown",
   "metadata": {},
   "source": [
    "<b>How does the overall `total_amount` paid per ride correlate with `tip_amount` per ride?</b>"
   ]
  },
  {
   "cell_type": "code",
   "execution_count": 5,
   "metadata": {
    "collapsed": false
   },
   "outputs": [
    {
     "name": "stdout",
     "output_type": "stream",
     "text": [
      "0.67087530714\n"
     ]
    },
    {
     "data": {
      "text/html": [
       "<div>\n",
       "<table border=\"1\" class=\"dataframe\">\n",
       "  <thead>\n",
       "    <tr style=\"text-align: right;\">\n",
       "      <th></th>\n",
       "      <th>fare_amount</th>\n",
       "      <th>surcharge</th>\n",
       "      <th>mta_tax</th>\n",
       "      <th>tip_amount</th>\n",
       "      <th>tolls_amount</th>\n",
       "      <th>total_amount</th>\n",
       "    </tr>\n",
       "  </thead>\n",
       "  <tbody>\n",
       "    <tr>\n",
       "      <th>fare_amount</th>\n",
       "      <td>1.000000</td>\n",
       "      <td>-0.064229</td>\n",
       "      <td>-0.256318</td>\n",
       "      <td>0.549345</td>\n",
       "      <td>0.614237</td>\n",
       "      <td>0.984733</td>\n",
       "    </tr>\n",
       "    <tr>\n",
       "      <th>surcharge</th>\n",
       "      <td>-0.064229</td>\n",
       "      <td>1.000000</td>\n",
       "      <td>0.023950</td>\n",
       "      <td>-0.021421</td>\n",
       "      <td>-0.063364</td>\n",
       "      <td>-0.035148</td>\n",
       "    </tr>\n",
       "    <tr>\n",
       "      <th>mta_tax</th>\n",
       "      <td>-0.256318</td>\n",
       "      <td>0.023950</td>\n",
       "      <td>1.000000</td>\n",
       "      <td>-0.134473</td>\n",
       "      <td>-0.260192</td>\n",
       "      <td>-0.258903</td>\n",
       "    </tr>\n",
       "    <tr>\n",
       "      <th>tip_amount</th>\n",
       "      <td>0.549345</td>\n",
       "      <td>-0.021421</td>\n",
       "      <td>-0.134473</td>\n",
       "      <td>1.000000</td>\n",
       "      <td>0.413718</td>\n",
       "      <td>0.670875</td>\n",
       "    </tr>\n",
       "    <tr>\n",
       "      <th>tolls_amount</th>\n",
       "      <td>0.614237</td>\n",
       "      <td>-0.063364</td>\n",
       "      <td>-0.260192</td>\n",
       "      <td>0.413718</td>\n",
       "      <td>1.000000</td>\n",
       "      <td>0.676342</td>\n",
       "    </tr>\n",
       "    <tr>\n",
       "      <th>total_amount</th>\n",
       "      <td>0.984733</td>\n",
       "      <td>-0.035148</td>\n",
       "      <td>-0.258903</td>\n",
       "      <td>0.670875</td>\n",
       "      <td>0.676342</td>\n",
       "      <td>1.000000</td>\n",
       "    </tr>\n",
       "  </tbody>\n",
       "</table>\n",
       "</div>"
      ],
      "text/plain": [
       "              fare_amount  surcharge   mta_tax  tip_amount  tolls_amount  \\\n",
       "fare_amount      1.000000  -0.064229 -0.256318    0.549345      0.614237   \n",
       "surcharge       -0.064229   1.000000  0.023950   -0.021421     -0.063364   \n",
       "mta_tax         -0.256318   0.023950  1.000000   -0.134473     -0.260192   \n",
       "tip_amount       0.549345  -0.021421 -0.134473    1.000000      0.413718   \n",
       "tolls_amount     0.614237  -0.063364 -0.260192    0.413718      1.000000   \n",
       "total_amount     0.984733  -0.035148 -0.258903    0.670875      0.676342   \n",
       "\n",
       "              total_amount  \n",
       "fare_amount       0.984733  \n",
       "surcharge        -0.035148  \n",
       "mta_tax          -0.258903  \n",
       "tip_amount        0.670875  \n",
       "tolls_amount      0.676342  \n",
       "total_amount      1.000000  "
      ]
     },
     "execution_count": 5,
     "metadata": {},
     "output_type": "execute_result"
    }
   ],
   "source": [
    "# To correlate two columns in pandas we do the following, where we correlate total amount paid per ride with\n",
    "# tip_amount per ride:\n",
    "print(fareData.total_amount.corr(fareData.tip_amount))\n",
    "# For the the full correlation matrix among all variables that are of a numeric type, we just call corr on \n",
    "# the whole DataFrame. pandas will know to only make the correlations among numeric columns only and will exclude all \n",
    "# non-numeric columns from the resulting correlation matrix:\n",
    "fareData.corr()\n",
    "# All of this is correct according to course instructors."
   ]
  },
  {
   "cell_type": "markdown",
   "metadata": {},
   "source": [
    "<b>How do they correlate for only rides with cash `payment_type`?<b>"
   ]
  },
  {
   "cell_type": "code",
   "execution_count": 6,
   "metadata": {
    "collapsed": false
   },
   "outputs": [
    {
     "data": {
      "text/plain": [
       "0.0030334289521610526"
      ]
     },
     "execution_count": 6,
     "metadata": {},
     "output_type": "execute_result"
    }
   ],
   "source": [
    "fareData_CSH_MASK = fareData.payment_type == 'CSH'\n",
    "fareData_CSH=fareData[fareData_CSH_MASK]\n",
    "fareData_CSH.total_amount.corr(fareData_CSH.tip_amount)\n",
    "# We see that there is almost no correlation between total amount and tip amount per ride when cash is paid.\n",
    "# This appears to be correct according to course instructors"
   ]
  },
  {
   "cell_type": "code",
   "execution_count": 7,
   "metadata": {
    "collapsed": false
   },
   "outputs": [
    {
     "data": {
      "text/plain": [
       "0.0030334289521610526"
      ]
     },
     "execution_count": 7,
     "metadata": {},
     "output_type": "execute_result"
    }
   ],
   "source": [
    "# This is how the instructors did it:\n",
    "fareData.payment_type.unique()\n",
    "filteredDF = fareData[fareData.payment_type == 'CSH']\n",
    "filteredDF.total_amount.corr(fareData.tip_amount)"
   ]
  },
  {
   "cell_type": "markdown",
   "metadata": {},
   "source": [
    "<b>Calculate the average cost of a trip in this dataset given the following conditions:</b>\n",
    "  1. Across the whole dataset\n",
    "  2. Across the whole dataset when the `payment_type` is known (not `UNK`)\n",
    "  3. For each `payment_type`. You can totally do this 1 by 1, but try to do this in a for loop.\n",
    "  4. Which `payment_type` had the highest average cost?\n",
    "  5. Which `payment_type` had the largest spread in how much people paid (largest standard deviation)?\n",
    "  6. Which `payment_type` had the most generous people (had the highest average tip), including unknown payment types?\n",
    "  7. What hour in the day were people most generous, on average, when they got into a cab?\n",
    "  8. What hour of the day did people fluctuate the most in terms of tips? That is, do some hours lead to unpredictable tip amounts? "
   ]
  },
  {
   "cell_type": "code",
   "execution_count": 8,
   "metadata": {
    "collapsed": false
   },
   "outputs": [
    {
     "name": "stdout",
     "output_type": "stream",
     "text": [
      "The average cost of a trip across the whole dataset is: 14.17029444\n"
     ]
    }
   ],
   "source": [
    "#1 \n",
    "print(\"The average cost of a trip across the whole dataset is:\",fareData.total_amount.mean())\n",
    "# This is correct according to instructors"
   ]
  },
  {
   "cell_type": "code",
   "execution_count": 9,
   "metadata": {
    "collapsed": false
   },
   "outputs": [
    {
     "name": "stdout",
     "output_type": "stream",
     "text": [
      "Average cost of trip across whole data set when payment type is known: 14.1630248047\n",
      "14.1630248047\n"
     ]
    }
   ],
   "source": [
    "#2\n",
    "fareData_Known_MASK = fareData.payment_type !='UNK'\n",
    "fareData_Known=fareData[fareData_Known_MASK]\n",
    "# print(fareData_Known.total_amount)\n",
    "print(\"Average cost of trip across whole data set when payment type is known:\", fareData_Known.total_amount.mean())\n",
    "# This is correct according to instructors. The instructors did this the following way:\n",
    "print(fareData[fareData.payment_type != 'UNK'].total_amount.mean())"
   ]
  },
  {
   "cell_type": "code",
   "execution_count": 10,
   "metadata": {
    "collapsed": false
   },
   "outputs": [
    {
     "name": "stdout",
     "output_type": "stream",
     "text": [
      "['CSH' 'DIS' 'NOC' 'CRD' 'UNK']\n",
      "Average cost of trip across whole data set when payment type is CSH: 11.6167465066\n",
      "Average cost of trip across whole data set when payment type is DIS: 5.75\n",
      "Average cost of trip across whole data set when payment type is NOC: 3.0\n",
      "Average cost of trip across whole data set when payment type is CRD: 16.371266867\n",
      "Average cost of trip across whole data set when payment type is UNK: 22.1166739606\n",
      "Average total fare when paid by CSH\n",
      "11.6167465066\n",
      "Average total fare when paid by DIS\n",
      "5.75\n",
      "Average total fare when paid by NOC\n",
      "3.0\n",
      "Average total fare when paid by CRD\n",
      "16.371266867\n",
      "Average total fare when paid by UNK\n",
      "22.1166739606\n"
     ]
    }
   ],
   "source": [
    "#3\n",
    "print(fareData.payment_type.unique())\n",
    "\n",
    "fareData_CSH_MASK = fareData.payment_type == 'CSH'\n",
    "fareData_DIS_MASK = fareData.payment_type == 'DIS'\n",
    "fareData_NOC_MASK = fareData.payment_type == 'NOC'\n",
    "fareData_CRD_MASK = fareData.payment_type == 'CRD'\n",
    "fareData_UNK_MASK = fareData.payment_type == 'UNK'\n",
    "\n",
    "fareData_CSH=fareData[fareData_CSH_MASK]\n",
    "# fardData_CSH = fareData[fareData.payment_type == 'CSH']  -- using this approach gives same results (sanity check)\n",
    "fareData_DIS=fareData[fareData_DIS_MASK]\n",
    "fareData_NOC=fareData[fareData_NOC_MASK]\n",
    "fareData_CRD=fareData[fareData_CRD_MASK]\n",
    "fareData_UNK=fareData[fareData_UNK_MASK]\n",
    "\n",
    "print(\"Average cost of trip across whole data set when payment type is CSH:\", fareData_CSH.total_amount.mean())\n",
    "print(\"Average cost of trip across whole data set when payment type is DIS:\", fareData_DIS.total_amount.mean())\n",
    "print(\"Average cost of trip across whole data set when payment type is NOC:\", fareData_NOC.total_amount.mean())\n",
    "print(\"Average cost of trip across whole data set when payment type is CRD:\", fareData_CRD.total_amount.mean())\n",
    "print(\"Average cost of trip across whole data set when payment type is UNK:\", fareData_UNK.total_amount.mean())\n",
    "# payment_types = ['CSH', 'DIS', 'NOC', 'CRD', 'UNK']\n",
    "# for types in payment_types:\n",
    "    # print(\"Average cost of trip across whole data set when payment type is %s :\" % types)\n",
    "    # fareData[fareData.payment_type == types].mean()\n",
    "# This is correct, but it would be best to use a for loop as the instructors did:\n",
    "paytypes = fareData.payment_type.unique()\n",
    "for paytype in paytypes:\n",
    "    print(\"Average total fare when paid by \" + paytype)\n",
    "    print(fareData[fareData.payment_type == paytype].total_amount.mean())"
   ]
  },
  {
   "cell_type": "code",
   "execution_count": 11,
   "metadata": {
    "collapsed": true
   },
   "outputs": [],
   "source": [
    "#4\n",
    "# According to the results of #3, the payment type with the highest average cost was 'UNK'."
   ]
  },
  {
   "cell_type": "code",
   "execution_count": 12,
   "metadata": {
    "collapsed": false
   },
   "outputs": [
    {
     "name": "stdout",
     "output_type": "stream",
     "text": [
      "Standard deviation of total payment amount when payment type is CSH: 9.5683194441\n",
      "Standard deviation of total payment amount when payment type is DIS: 2.47487373415\n",
      "Standard deviation of total payment amount when payment type is NOC: nan\n",
      "Standard deviation of total payment amount when payment type is CRD: 13.7538825481\n",
      "Standard deviation of total payment amount when payment type is UNK: 21.0492771964\n",
      "STD of fare when paid by CSH\n",
      "9.5683194441\n",
      "STD of fare when paid by DIS\n",
      "2.47487373415\n",
      "STD of fare when paid by NOC\n",
      "nan\n",
      "STD of fare when paid by CRD\n",
      "13.7538825481\n",
      "STD of fare when paid by UNK\n",
      "21.0492771964\n"
     ]
    }
   ],
   "source": [
    "#5\n",
    "print(\"Standard deviation of total payment amount when payment type is CSH:\", fareData_CSH.total_amount.std())\n",
    "print(\"Standard deviation of total payment amount when payment type is DIS:\", fareData_DIS.total_amount.std())\n",
    "print(\"Standard deviation of total payment amount when payment type is NOC:\", fareData_NOC.total_amount.std())\n",
    "print(\"Standard deviation of total payment amount when payment type is CRD:\", fareData_CRD.total_amount.std())\n",
    "print(\"Standard deviation of total payment amount when payment type is UNK:\", fareData_UNK.total_amount.std())\n",
    "# We see that the largest spread in how much people paid was for the unknown ('UNK') payment method.\n",
    "# This is correct, but would probably be best to use a for loop as the instructors did:\n",
    "paytypes = fareData.payment_type.unique()\n",
    "for paytype in paytypes:\n",
    "    print(\"STD of fare when paid by \" + paytype)\n",
    "    print(fareData[fareData.payment_type == paytype].total_amount.std())"
   ]
  },
  {
   "cell_type": "code",
   "execution_count": 13,
   "metadata": {
    "collapsed": false
   },
   "outputs": [
    {
     "name": "stdout",
     "output_type": "stream",
     "text": [
      "The average tip for the CSH payment type:  7.43515253916e-05\n",
      "The average tip for the DIS payment type:  0.0\n",
      "The average tip for the NOC payment type:  0.0\n",
      "The average tip for the CRD payment type:  2.42857431205\n",
      "The average tip for the UNK payment type:  3.43008752735\n",
      "So the payment_type with the most generous people is the unknown ('UNK') payment type.\n",
      "Average tip amount when paid by CSH\n",
      "7.43515253916e-05\n",
      "Average tip amount when paid by DIS\n",
      "0.0\n",
      "Average tip amount when paid by NOC\n",
      "0.0\n",
      "Average tip amount when paid by CRD\n",
      "2.42857431205\n",
      "Average tip amount when paid by UNK\n",
      "3.43008752735\n"
     ]
    }
   ],
   "source": [
    "#6: Which payment_type had the most generous people (had the highest average tip), including unknown payment types?\n",
    "print(\"The average tip for the CSH payment type: \", fareData_CSH.tip_amount.mean())\n",
    "print(\"The average tip for the DIS payment type: \", fareData_DIS.tip_amount.mean())\n",
    "print(\"The average tip for the NOC payment type: \", fareData_NOC.tip_amount.mean())\n",
    "print(\"The average tip for the CRD payment type: \", fareData_CRD.tip_amount.mean())\n",
    "print(\"The average tip for the UNK payment type: \", fareData_UNK.tip_amount.mean())\n",
    "# So the payment_type with the most generous people is the unknown ('UNK') payment type.\n",
    "print(\"So the payment_type with the most generous people is the unknown ('UNK') payment type.\")\n",
    "# This is correct, but it would again probably be best to use a for loop as instructors did:\n",
    "for paytype in paytypes:\n",
    "    print(\"Average tip amount when paid by \" + paytype)\n",
    "    print(fareData[fareData.payment_type == paytype].tip_amount.mean())"
   ]
  },
  {
   "cell_type": "code",
   "execution_count": 14,
   "metadata": {
    "collapsed": false
   },
   "outputs": [
    {
     "name": "stdout",
     "output_type": "stream",
     "text": [
      "hour\n",
      "0     1.535690\n",
      "1     1.379282\n",
      "2     1.199969\n",
      "3     1.254676\n",
      "4     1.401401\n",
      "5     1.942813\n",
      "6     1.328011\n",
      "7     1.271893\n",
      "8     1.329713\n",
      "9     1.339304\n",
      "10    1.243790\n",
      "11    1.194171\n",
      "12    1.184760\n",
      "13    1.202658\n",
      "14    1.298043\n",
      "15    1.283852\n",
      "16    1.284983\n",
      "17    1.296261\n",
      "18    1.254164\n",
      "19    1.266640\n",
      "20    1.369344\n",
      "21    1.454277\n",
      "22    1.406743\n",
      "23    1.495352\n",
      "Name: tip_amount, dtype: float64\n"
     ]
    },
    {
     "data": {
      "text/plain": [
       "hour\n",
       "5    1.942813\n",
       "Name: tip_amount, dtype: float64"
      ]
     },
     "execution_count": 14,
     "metadata": {},
     "output_type": "execute_result"
    }
   ],
   "source": [
    "#7: What hour in the day were people most generous, on average, when they got into a cab?\n",
    "fareData.pickup_datetime.dt.hour\n",
    "fareData[\"hour\"]=fareData.pickup_datetime.dt.hour\n",
    "fareData.head(10)\n",
    "hour = fareData.hour\n",
    "fareData[hour==1].tip_amount.mean()\n",
    "hourGroups = fareData.groupby(\"hour\")\n",
    "hourGroups\n",
    "# print(hourGroups.describe())\n",
    "# print(hourGroups.tip_amount.describe())\n",
    "print(hourGroups.tip_amount.mean())\n",
    "\n",
    "hourGroup_mean_tips = hourGroups.tip_amount.mean()\n",
    "hourGroup_mean_tips[hourGroup_mean_tips==hourGroup_mean_tips.max()]\n",
    "# Tells us that hour 5 (5:00 AM) is the hour of the day where people "
   ]
  },
  {
   "cell_type": "code",
   "execution_count": 15,
   "metadata": {
    "collapsed": false
   },
   "outputs": [
    {
     "name": "stdout",
     "output_type": "stream",
     "text": [
      "   hour  tip_amount\n",
      "5     5    1.942813\n"
     ]
    },
    {
     "data": {
      "text/html": [
       "<div>\n",
       "<table border=\"1\" class=\"dataframe\">\n",
       "  <thead>\n",
       "    <tr style=\"text-align: right;\">\n",
       "      <th></th>\n",
       "      <th>medallion</th>\n",
       "      <th>hack_license</th>\n",
       "      <th>vendor_id</th>\n",
       "      <th>pickup_datetime</th>\n",
       "      <th>payment_type</th>\n",
       "      <th>fare_amount</th>\n",
       "      <th>surcharge</th>\n",
       "      <th>mta_tax</th>\n",
       "      <th>tip_amount</th>\n",
       "      <th>tolls_amount</th>\n",
       "      <th>total_amount</th>\n",
       "      <th>hour</th>\n",
       "    </tr>\n",
       "  </thead>\n",
       "  <tbody>\n",
       "    <tr>\n",
       "      <th>0</th>\n",
       "      <td>89D227B655E5C82AECF13C3F540D4CF4</td>\n",
       "      <td>BA96DE419E711691B9445D6A6307C170</td>\n",
       "      <td>CMT</td>\n",
       "      <td>2013-01-01 15:11:48</td>\n",
       "      <td>CSH</td>\n",
       "      <td>6.5</td>\n",
       "      <td>0.0</td>\n",
       "      <td>0.5</td>\n",
       "      <td>0.0</td>\n",
       "      <td>0.0</td>\n",
       "      <td>7.0</td>\n",
       "      <td>15</td>\n",
       "    </tr>\n",
       "    <tr>\n",
       "      <th>1</th>\n",
       "      <td>0BD7C8F5BA12B88E0B67BED28BEA73D8</td>\n",
       "      <td>9FD8F69F0804BDB5549F40E9DA1BE472</td>\n",
       "      <td>CMT</td>\n",
       "      <td>2013-01-06 00:18:35</td>\n",
       "      <td>CSH</td>\n",
       "      <td>6.0</td>\n",
       "      <td>0.5</td>\n",
       "      <td>0.5</td>\n",
       "      <td>0.0</td>\n",
       "      <td>0.0</td>\n",
       "      <td>7.0</td>\n",
       "      <td>0</td>\n",
       "    </tr>\n",
       "    <tr>\n",
       "      <th>2</th>\n",
       "      <td>0BD7C8F5BA12B88E0B67BED28BEA73D8</td>\n",
       "      <td>9FD8F69F0804BDB5549F40E9DA1BE472</td>\n",
       "      <td>CMT</td>\n",
       "      <td>2013-01-05 18:49:41</td>\n",
       "      <td>CSH</td>\n",
       "      <td>5.5</td>\n",
       "      <td>1.0</td>\n",
       "      <td>0.5</td>\n",
       "      <td>0.0</td>\n",
       "      <td>0.0</td>\n",
       "      <td>7.0</td>\n",
       "      <td>18</td>\n",
       "    </tr>\n",
       "    <tr>\n",
       "      <th>3</th>\n",
       "      <td>DFD2202EE08F7A8DC9A57B02ACB81FE2</td>\n",
       "      <td>51EE87E3205C985EF8431D850C786310</td>\n",
       "      <td>CMT</td>\n",
       "      <td>2013-01-07 23:54:15</td>\n",
       "      <td>CSH</td>\n",
       "      <td>5.0</td>\n",
       "      <td>0.5</td>\n",
       "      <td>0.5</td>\n",
       "      <td>0.0</td>\n",
       "      <td>0.0</td>\n",
       "      <td>6.0</td>\n",
       "      <td>23</td>\n",
       "    </tr>\n",
       "    <tr>\n",
       "      <th>4</th>\n",
       "      <td>DFD2202EE08F7A8DC9A57B02ACB81FE2</td>\n",
       "      <td>51EE87E3205C985EF8431D850C786310</td>\n",
       "      <td>CMT</td>\n",
       "      <td>2013-01-07 23:25:03</td>\n",
       "      <td>CSH</td>\n",
       "      <td>9.5</td>\n",
       "      <td>0.5</td>\n",
       "      <td>0.5</td>\n",
       "      <td>0.0</td>\n",
       "      <td>0.0</td>\n",
       "      <td>10.5</td>\n",
       "      <td>23</td>\n",
       "    </tr>\n",
       "  </tbody>\n",
       "</table>\n",
       "</div>"
      ],
      "text/plain": [
       "                          medallion                      hack_license  \\\n",
       "0  89D227B655E5C82AECF13C3F540D4CF4  BA96DE419E711691B9445D6A6307C170   \n",
       "1  0BD7C8F5BA12B88E0B67BED28BEA73D8  9FD8F69F0804BDB5549F40E9DA1BE472   \n",
       "2  0BD7C8F5BA12B88E0B67BED28BEA73D8  9FD8F69F0804BDB5549F40E9DA1BE472   \n",
       "3  DFD2202EE08F7A8DC9A57B02ACB81FE2  51EE87E3205C985EF8431D850C786310   \n",
       "4  DFD2202EE08F7A8DC9A57B02ACB81FE2  51EE87E3205C985EF8431D850C786310   \n",
       "\n",
       "  vendor_id     pickup_datetime payment_type  fare_amount  surcharge  mta_tax  \\\n",
       "0       CMT 2013-01-01 15:11:48          CSH          6.5        0.0      0.5   \n",
       "1       CMT 2013-01-06 00:18:35          CSH          6.0        0.5      0.5   \n",
       "2       CMT 2013-01-05 18:49:41          CSH          5.5        1.0      0.5   \n",
       "3       CMT 2013-01-07 23:54:15          CSH          5.0        0.5      0.5   \n",
       "4       CMT 2013-01-07 23:25:03          CSH          9.5        0.5      0.5   \n",
       "\n",
       "   tip_amount  tolls_amount  total_amount  hour  \n",
       "0         0.0           0.0           7.0    15  \n",
       "1         0.0           0.0           7.0     0  \n",
       "2         0.0           0.0           7.0    18  \n",
       "3         0.0           0.0           6.0    23  \n",
       "4         0.0           0.0          10.5    23  "
      ]
     },
     "execution_count": 15,
     "metadata": {},
     "output_type": "execute_result"
    }
   ],
   "source": [
    "#7 was correct, but the instructors used a different approach as follows:\n",
    "fareData['hour'] = fareData.pickup_datetime.dt.hour\n",
    "meanByHourDF = fareData[['hour', 'tip_amount']].groupby('hour').mean().reset_index()\n",
    "print(meanByHourDF[meanByHourDF.tip_amount == meanByHourDF.tip_amount.max()])\n",
    "fareData.head()"
   ]
  },
  {
   "cell_type": "code",
   "execution_count": 16,
   "metadata": {
    "collapsed": false
   },
   "outputs": [
    {
     "name": "stdout",
     "output_type": "stream",
     "text": [
      "hour\n",
      "0     2.507986\n",
      "1     2.319315\n",
      "2     1.869682\n",
      "3     2.085183\n",
      "4     2.659419\n",
      "5     3.275576\n",
      "6     2.395520\n",
      "7     2.066681\n",
      "8     1.908732\n",
      "9     1.988527\n",
      "10    1.913502\n",
      "11    1.894122\n",
      "12    1.954182\n",
      "13    2.082766\n",
      "14    2.370127\n",
      "15    2.363344\n",
      "16    2.446023\n",
      "17    2.370470\n",
      "18    1.886830\n",
      "19    2.122856\n",
      "20    1.950661\n",
      "21    2.220345\n",
      "22    2.037812\n",
      "23    2.286110\n",
      "Name: tip_amount, dtype: float64\n"
     ]
    },
    {
     "data": {
      "text/plain": [
       "hour\n",
       "5    3.275576\n",
       "Name: tip_amount, dtype: float64"
      ]
     },
     "execution_count": 16,
     "metadata": {},
     "output_type": "execute_result"
    }
   ],
   "source": [
    "#8: What hour of day did people fluctuate most in terms of tips? That is, do some hours lead to unpredictable tip \n",
    "# amounts?\n",
    "print(hourGroups.tip_amount.std())\n",
    "hourGroup_std_tips = hourGroups.tip_amount.std()\n",
    "hourGroup_std_tips[hourGroup_std_tips==hourGroup_std_tips.max()]\n",
    "# Tells us that hour 5 (5:00 AM) is the hour of the day where people fluctuate the most in terms of tips (highest \n",
    "# standard deviation of tip amounts)."
   ]
  },
  {
   "cell_type": "code",
   "execution_count": 17,
   "metadata": {
    "collapsed": false
   },
   "outputs": [
    {
     "name": "stdout",
     "output_type": "stream",
     "text": [
      "   hour  tip_amount\n",
      "5     5    3.275576\n"
     ]
    }
   ],
   "source": [
    "#8 is correct, but instructors used a different approach as follows:\n",
    "stdByHourDF = fareData[['hour', 'tip_amount']].groupby('hour').std().reset_index()\n",
    "print(stdByHourDF[stdByHourDF.tip_amount == stdByHourDF.tip_amount.max()])"
   ]
  },
  {
   "cell_type": "markdown",
   "metadata": {},
   "source": [
    "<b>Which person (`hack_license`) made the most money:</b>\n",
    "  1. In total\n",
    "  2. On a per-trip basis, given that they took at least 20 trips"
   ]
  },
  {
   "cell_type": "code",
   "execution_count": 18,
   "metadata": {
    "collapsed": false
   },
   "outputs": [
    {
     "name": "stdout",
     "output_type": "stream",
     "text": [
      "hack_license\n",
      "0008B3E338CE8C3377E071A4D80D3694     39.05\n",
      "000B8D660A329BBDBF888500E4BD8B98      2.00\n",
      "00184958F5D5FD0A9EC0B115C5B55796     23.90\n",
      "001C8AAB90AEE49F36FCAA7B4136C81A     59.32\n",
      "0025133AD810DBE80D35FCA8BF0BCA1F     25.51\n",
      "002C093A2CB9FD40C8C54AB5D158FC47     52.37\n",
      "002FE84F0EA642650A650C2BE875DDD3     35.00\n",
      "0031E634F79DA0E6B01239A8017F5928     22.60\n",
      "00374328FBA75FBFCA7522671250F573      3.50\n",
      "003A4E7151035D313A6778DE13A2F326      2.80\n",
      "003C68DFE1EBE120556D011948C78829      1.00\n",
      "00447A6197DBB329FBF764139ACA6EC4     63.03\n",
      "0046F1E91AA13DEDE4F6EE775C6293AB     84.33\n",
      "00567B1CBFD51DDFAC73359B09238922     44.17\n",
      "0057CCB5BA8D29E343B3D6D275AB22D3     18.95\n",
      "006114F940CB87B3ABDCE9BF6DF6FCC4    110.35\n",
      "006313464EC98A24BB4EBC1E2419E439     45.60\n",
      "006B6BD90C7B5C98599FBF541D056513     42.96\n",
      "006FAD57CE21BB431C86C2845150765E      0.00\n",
      "00711D0CC3FB5BC905BB62D9B62296D6     75.45\n",
      "007357E7FFE212879B9B85C7F4681AE5     73.47\n",
      "0074114ECFC6F04AA153AE4DE748888D     29.30\n",
      "007439EEDB510EF8277C567BD200B08F     34.27\n",
      "00759C8ECBA7565D691CCE0D2AA9B652     37.73\n",
      "0078BA33E03313B58559834168E7495F     52.10\n",
      "007A9790EC126510976E5504A1B55E0E     20.30\n",
      "007C449884893B68BCA167A10B4F32B3      6.40\n",
      "007E686365B4421FB22F8F2FAF21FBC1     27.60\n",
      "0086B9E2B25EA077F9C2C82494BFA1AC      3.90\n",
      "008BE4F3FF93935048998BB183D27263     19.05\n",
      "                                     ...  \n",
      "FF6A0302795E1B99B3D9D0BC2C63AE1D      9.10\n",
      "FF7CB0335DEA8DDEA105FECE28CBEEB2     50.93\n",
      "FF88330F933FEB2C9910795057E2A44B     71.72\n",
      "FF8AD0A594CD337D80C3627C2B18E16F      1.60\n",
      "FF8C7EFBC62A05658546DD375F67CACB     31.25\n",
      "FF900F735BB7284F7D73957E6980A2A0     33.87\n",
      "FF951CAAB9463E107721EBCAA9F94E2A     77.43\n",
      "FF965116CF16F832F2C7F940F16746E5     12.30\n",
      "FF9DF82B55E901C7F9D1F80A26C7FD71      2.60\n",
      "FFA7A61CC1A1470CB65FCEF128958088      1.00\n",
      "FFAF3B8CEE6F68FADFF10175F1F11783     17.60\n",
      "FFB065DCD14E4829E4F6FABC27219D44     44.58\n",
      "FFC0287B12671207C066E46DA7F06734    101.40\n",
      "FFC8FB290C1F1B0DDAA23902E0E9DC24     58.46\n",
      "FFC9C52691EC1F3251DE8FCD88763C39    112.28\n",
      "FFCA9A4561F852F8A2F9CD242B083FEA     63.49\n",
      "FFCEE15D2397C0E5A79280A059282DD5     59.25\n",
      "FFD054EB3072407DA60E637EC1CDF688     28.20\n",
      "FFD1B96DC484141AB97AF58F6E9B97B7     71.54\n",
      "FFD5D84056DBFA5859956C9FCC9BA258     62.20\n",
      "FFD696B9FF4DA04D724855A050901657     46.73\n",
      "FFDC72D8EE2737AEA6E0E9D7DDF4942E      3.00\n",
      "FFEB80F39533ACF27F3124A39BB05E1E     47.71\n",
      "FFEE627F76A3A498DA53E200821FDEE9    122.81\n",
      "FFF0D1CE8F65C1A8B213128325EB5F33      2.70\n",
      "FFF20BA1518E14B3B23F79DDDE1CA7E6     44.95\n",
      "FFF5AD65C673251C1F275CF5B43EC414      1.40\n",
      "FFF657CFEC6A06384C97ACB500916913     40.10\n",
      "FFF909B1353148850AD3E40BB878618B     22.61\n",
      "FFFBCEA3D4E21E05902EE67AD556F67C     80.23\n",
      "Name: tip_amount, dtype: float64\n"
     ]
    },
    {
     "data": {
      "text/plain": [
       "hack_license\n",
       "BD0913D639AA03DA954EA97E2A3A1101    225.34\n",
       "Name: tip_amount, dtype: float64"
      ]
     },
     "execution_count": 18,
     "metadata": {},
     "output_type": "execute_result"
    }
   ],
   "source": [
    "# Which person(hack_license) made the most tip amount money in total?\n",
    "license = fareData.hack_license\n",
    "licenseGroup = fareData.groupby(\"hack_license\")\n",
    "licenseGroup\n",
    "print(licenseGroup.tip_amount.sum())\n",
    "licenseGroup_sum_tips = licenseGroup.tip_amount.sum()\n",
    "licenseGroup_sum_tips[licenseGroup_sum_tips==licenseGroup_sum_tips.max()]\n",
    "# Tells us that the person (hack_license) that made the most money in tip_amounts was BD0913D639AA03DA954EA97E2A3A1101\n",
    "# ($225.34)"
   ]
  },
  {
   "cell_type": "code",
   "execution_count": 19,
   "metadata": {
    "collapsed": false
   },
   "outputs": [
    {
     "name": "stdout",
     "output_type": "stream",
     "text": [
      "hack_license\n",
      "0008B3E338CE8C3377E071A4D80D3694     439.85\n",
      "000B8D660A329BBDBF888500E4BD8B98      22.00\n",
      "00184958F5D5FD0A9EC0B115C5B55796     238.90\n",
      "001C8AAB90AEE49F36FCAA7B4136C81A     596.72\n",
      "0025133AD810DBE80D35FCA8BF0BCA1F     302.51\n",
      "002C093A2CB9FD40C8C54AB5D158FC47     632.27\n",
      "002FE84F0EA642650A650C2BE875DDD3     420.00\n",
      "0031E634F79DA0E6B01239A8017F5928     203.10\n",
      "00374328FBA75FBFCA7522671250F573     103.00\n",
      "003A4E7151035D313A6778DE13A2F326      16.80\n",
      "003C68DFE1EBE120556D011948C78829       7.00\n",
      "00447A6197DBB329FBF764139ACA6EC4     540.53\n",
      "0046F1E91AA13DEDE4F6EE775C6293AB     753.13\n",
      "00567B1CBFD51DDFAC73359B09238922     559.77\n",
      "0057CCB5BA8D29E343B3D6D275AB22D3     206.25\n",
      "006114F940CB87B3ABDCE9BF6DF6FCC4    1131.65\n",
      "006313464EC98A24BB4EBC1E2419E439     492.60\n",
      "006B6BD90C7B5C98599FBF541D056513     585.46\n",
      "006FAD57CE21BB431C86C2845150765E      14.00\n",
      "00711D0CC3FB5BC905BB62D9B62296D6     615.25\n",
      "007357E7FFE212879B9B85C7F4681AE5    1017.92\n",
      "0074114ECFC6F04AA153AE4DE748888D     289.80\n",
      "007439EEDB510EF8277C567BD200B08F     276.77\n",
      "00759C8ECBA7565D691CCE0D2AA9B652     471.23\n",
      "0078BA33E03313B58559834168E7495F     451.70\n",
      "007A9790EC126510976E5504A1B55E0E     121.60\n",
      "007C449884893B68BCA167A10B4F32B3     139.90\n",
      "007E686365B4421FB22F8F2FAF21FBC1     417.70\n",
      "0086B9E2B25EA077F9C2C82494BFA1AC      23.40\n",
      "008BE4F3FF93935048998BB183D27263     299.55\n",
      "                                     ...   \n",
      "FF6A0302795E1B99B3D9D0BC2C63AE1D     211.40\n",
      "FF7CB0335DEA8DDEA105FECE28CBEEB2     648.23\n",
      "FF88330F933FEB2C9910795057E2A44B     692.82\n",
      "FF8AD0A594CD337D80C3627C2B18E16F       9.60\n",
      "FF8C7EFBC62A05658546DD375F67CACB     334.05\n",
      "FF900F735BB7284F7D73957E6980A2A0     497.87\n",
      "FF951CAAB9463E107721EBCAA9F94E2A     844.43\n",
      "FF965116CF16F832F2C7F940F16746E5      89.40\n",
      "FF9DF82B55E901C7F9D1F80A26C7FD71      15.60\n",
      "FFA7A61CC1A1470CB65FCEF128958088       5.50\n",
      "FFAF3B8CEE6F68FADFF10175F1F11783     332.70\n",
      "FFB065DCD14E4829E4F6FABC27219D44     574.88\n",
      "FFC0287B12671207C066E46DA7F06734    1086.30\n",
      "FFC8FB290C1F1B0DDAA23902E0E9DC24     620.36\n",
      "FFC9C52691EC1F3251DE8FCD88763C39    1070.63\n",
      "FFCA9A4561F852F8A2F9CD242B083FEA     458.39\n",
      "FFCEE15D2397C0E5A79280A059282DD5     590.35\n",
      "FFD054EB3072407DA60E637EC1CDF688     369.20\n",
      "FFD1B96DC484141AB97AF58F6E9B97B7     744.94\n",
      "FFD5D84056DBFA5859956C9FCC9BA258     806.95\n",
      "FFD696B9FF4DA04D724855A050901657     541.53\n",
      "FFDC72D8EE2737AEA6E0E9D7DDF4942E      39.50\n",
      "FFEB80F39533ACF27F3124A39BB05E1E     674.71\n",
      "FFEE627F76A3A498DA53E200821FDEE9    1126.51\n",
      "FFF0D1CE8F65C1A8B213128325EB5F33      11.70\n",
      "FFF20BA1518E14B3B23F79DDDE1CA7E6     540.25\n",
      "FFF5AD65C673251C1F275CF5B43EC414       8.40\n",
      "FFF657CFEC6A06384C97ACB500916913     570.90\n",
      "FFF909B1353148850AD3E40BB878618B     270.11\n",
      "FFFBCEA3D4E21E05902EE67AD556F67C    1025.23\n",
      "Name: total_amount, dtype: float64\n"
     ]
    },
    {
     "data": {
      "text/plain": [
       "hack_license\n",
       "CFCD208495D565EF66E7DFF9F98764DA    2517.28\n",
       "Name: total_amount, dtype: float64"
      ]
     },
     "execution_count": 19,
     "metadata": {},
     "output_type": "execute_result"
    }
   ],
   "source": [
    "# Which person(hack_license) made the most amount of money overall in total?\n",
    "print(licenseGroup.total_amount.sum())\n",
    "licenseGroup_sum_total = licenseGroup.total_amount.sum()\n",
    "licenseGroup_sum_total[licenseGroup_sum_total==licenseGroup_sum_total.max()]\n",
    "# Tells us that the person (hack_license) that made the most money in total_amount was CFCD208495D565EF66E7DFF9F98764DA    \n",
    "# ($2517.28)"
   ]
  },
  {
   "cell_type": "code",
   "execution_count": 20,
   "metadata": {
    "collapsed": false
   },
   "outputs": [
    {
     "name": "stdout",
     "output_type": "stream",
     "text": [
      "                                  total_amount\n",
      "hack_license                                  \n",
      "CFCD208495D565EF66E7DFF9F98764DA       2517.28\n",
      "                                  total_amount\n",
      "hack_license                                  \n",
      "0008B3E338CE8C3377E071A4D80D3694        439.85\n",
      "000B8D660A329BBDBF888500E4BD8B98         22.00\n",
      "00184958F5D5FD0A9EC0B115C5B55796        238.90\n",
      "001C8AAB90AEE49F36FCAA7B4136C81A        596.72\n",
      "0025133AD810DBE80D35FCA8BF0BCA1F        302.51\n",
      "002C093A2CB9FD40C8C54AB5D158FC47        632.27\n",
      "002FE84F0EA642650A650C2BE875DDD3        420.00\n",
      "0031E634F79DA0E6B01239A8017F5928        203.10\n",
      "00374328FBA75FBFCA7522671250F573        103.00\n",
      "003A4E7151035D313A6778DE13A2F326         16.80\n",
      "003C68DFE1EBE120556D011948C78829          7.00\n",
      "00447A6197DBB329FBF764139ACA6EC4        540.53\n",
      "0046F1E91AA13DEDE4F6EE775C6293AB        753.13\n",
      "00567B1CBFD51DDFAC73359B09238922        559.77\n",
      "0057CCB5BA8D29E343B3D6D275AB22D3        206.25\n",
      "006114F940CB87B3ABDCE9BF6DF6FCC4       1131.65\n",
      "006313464EC98A24BB4EBC1E2419E439        492.60\n",
      "006B6BD90C7B5C98599FBF541D056513        585.46\n",
      "006FAD57CE21BB431C86C2845150765E         14.00\n",
      "00711D0CC3FB5BC905BB62D9B62296D6        615.25\n",
      "007357E7FFE212879B9B85C7F4681AE5       1017.92\n",
      "0074114ECFC6F04AA153AE4DE748888D        289.80\n",
      "007439EEDB510EF8277C567BD200B08F        276.77\n",
      "00759C8ECBA7565D691CCE0D2AA9B652        471.23\n",
      "0078BA33E03313B58559834168E7495F        451.70\n",
      "007A9790EC126510976E5504A1B55E0E        121.60\n",
      "007C449884893B68BCA167A10B4F32B3        139.90\n",
      "007E686365B4421FB22F8F2FAF21FBC1        417.70\n",
      "0086B9E2B25EA077F9C2C82494BFA1AC         23.40\n",
      "008BE4F3FF93935048998BB183D27263        299.55\n",
      "...                                        ...\n",
      "FF6A0302795E1B99B3D9D0BC2C63AE1D        211.40\n",
      "FF7CB0335DEA8DDEA105FECE28CBEEB2        648.23\n",
      "FF88330F933FEB2C9910795057E2A44B        692.82\n",
      "FF8AD0A594CD337D80C3627C2B18E16F          9.60\n",
      "FF8C7EFBC62A05658546DD375F67CACB        334.05\n",
      "FF900F735BB7284F7D73957E6980A2A0        497.87\n",
      "FF951CAAB9463E107721EBCAA9F94E2A        844.43\n",
      "FF965116CF16F832F2C7F940F16746E5         89.40\n",
      "FF9DF82B55E901C7F9D1F80A26C7FD71         15.60\n",
      "FFA7A61CC1A1470CB65FCEF128958088          5.50\n",
      "FFAF3B8CEE6F68FADFF10175F1F11783        332.70\n",
      "FFB065DCD14E4829E4F6FABC27219D44        574.88\n",
      "FFC0287B12671207C066E46DA7F06734       1086.30\n",
      "FFC8FB290C1F1B0DDAA23902E0E9DC24        620.36\n",
      "FFC9C52691EC1F3251DE8FCD88763C39       1070.63\n",
      "FFCA9A4561F852F8A2F9CD242B083FEA        458.39\n",
      "FFCEE15D2397C0E5A79280A059282DD5        590.35\n",
      "FFD054EB3072407DA60E637EC1CDF688        369.20\n",
      "FFD1B96DC484141AB97AF58F6E9B97B7        744.94\n",
      "FFD5D84056DBFA5859956C9FCC9BA258        806.95\n",
      "FFD696B9FF4DA04D724855A050901657        541.53\n",
      "FFDC72D8EE2737AEA6E0E9D7DDF4942E         39.50\n",
      "FFEB80F39533ACF27F3124A39BB05E1E        674.71\n",
      "FFEE627F76A3A498DA53E200821FDEE9       1126.51\n",
      "FFF0D1CE8F65C1A8B213128325EB5F33         11.70\n",
      "FFF20BA1518E14B3B23F79DDDE1CA7E6        540.25\n",
      "FFF5AD65C673251C1F275CF5B43EC414          8.40\n",
      "FFF657CFEC6A06384C97ACB500916913        570.90\n",
      "FFF909B1353148850AD3E40BB878618B        270.11\n",
      "FFFBCEA3D4E21E05902EE67AD556F67C       1025.23\n",
      "\n",
      "[14969 rows x 1 columns]\n"
     ]
    }
   ],
   "source": [
    "# The above is correct, but the instructors' solution seems better:\n",
    "totalPerDriver = fareData[['hack_license', 'total_amount']].groupby('hack_license').sum()\n",
    "print(totalPerDriver[totalPerDriver.total_amount == totalPerDriver.total_amount.max()])\n",
    "print(totalPerDriver)"
   ]
  },
  {
   "cell_type": "code",
   "execution_count": 21,
   "metadata": {
    "collapsed": false
   },
   "outputs": [
    {
     "name": "stdout",
     "output_type": "stream",
     "text": [
      "                           hack_license total_amount      \n",
      "                                                 sum count\n",
      "0      0008B3E338CE8C3377E071A4D80D3694       439.85    32\n",
      "1      000B8D660A329BBDBF888500E4BD8B98        22.00     1\n",
      "2      00184958F5D5FD0A9EC0B115C5B55796       238.90    20\n",
      "3      001C8AAB90AEE49F36FCAA7B4136C81A       596.72    34\n",
      "4      0025133AD810DBE80D35FCA8BF0BCA1F       302.51    23\n",
      "5      002C093A2CB9FD40C8C54AB5D158FC47       632.27    42\n",
      "6      002FE84F0EA642650A650C2BE875DDD3       420.00    37\n",
      "7      0031E634F79DA0E6B01239A8017F5928       203.10    16\n",
      "8      00374328FBA75FBFCA7522671250F573       103.00     7\n",
      "9      003A4E7151035D313A6778DE13A2F326        16.80     1\n",
      "10     003C68DFE1EBE120556D011948C78829         7.00     1\n",
      "11     00447A6197DBB329FBF764139ACA6EC4       540.53    19\n",
      "12     0046F1E91AA13DEDE4F6EE775C6293AB       753.13    47\n",
      "13     00567B1CBFD51DDFAC73359B09238922       559.77    48\n",
      "14     0057CCB5BA8D29E343B3D6D275AB22D3       206.25    15\n",
      "15     006114F940CB87B3ABDCE9BF6DF6FCC4      1131.65    89\n",
      "16     006313464EC98A24BB4EBC1E2419E439       492.60    47\n",
      "17     006B6BD90C7B5C98599FBF541D056513       585.46    53\n",
      "18     006FAD57CE21BB431C86C2845150765E        14.00     1\n",
      "19     00711D0CC3FB5BC905BB62D9B62296D6       615.25    35\n",
      "20     007357E7FFE212879B9B85C7F4681AE5      1017.92    71\n",
      "21     0074114ECFC6F04AA153AE4DE748888D       289.80    20\n",
      "22     007439EEDB510EF8277C567BD200B08F       276.77    21\n",
      "23     00759C8ECBA7565D691CCE0D2AA9B652       471.23    34\n",
      "24     0078BA33E03313B58559834168E7495F       451.70    30\n",
      "25     007A9790EC126510976E5504A1B55E0E       121.60     4\n",
      "26     007C449884893B68BCA167A10B4F32B3       139.90    11\n",
      "27     007E686365B4421FB22F8F2FAF21FBC1       417.70    26\n",
      "28     0086B9E2B25EA077F9C2C82494BFA1AC        23.40     1\n",
      "29     008BE4F3FF93935048998BB183D27263       299.55    21\n",
      "...                                 ...          ...   ...\n",
      "14939  FF6A0302795E1B99B3D9D0BC2C63AE1D       211.40    19\n",
      "14940  FF7CB0335DEA8DDEA105FECE28CBEEB2       648.23    56\n",
      "14941  FF88330F933FEB2C9910795057E2A44B       692.82    56\n",
      "14942  FF8AD0A594CD337D80C3627C2B18E16F         9.60     1\n",
      "14943  FF8C7EFBC62A05658546DD375F67CACB       334.05    24\n",
      "14944  FF900F735BB7284F7D73957E6980A2A0       497.87    53\n",
      "14945  FF951CAAB9463E107721EBCAA9F94E2A       844.43    74\n",
      "14946  FF965116CF16F832F2C7F940F16746E5        89.40     4\n",
      "14947  FF9DF82B55E901C7F9D1F80A26C7FD71        15.60     1\n",
      "14948  FFA7A61CC1A1470CB65FCEF128958088         5.50     1\n",
      "14949  FFAF3B8CEE6F68FADFF10175F1F11783       332.70    19\n",
      "14950  FFB065DCD14E4829E4F6FABC27219D44       574.88    44\n",
      "14951  FFC0287B12671207C066E46DA7F06734      1086.30    85\n",
      "14952  FFC8FB290C1F1B0DDAA23902E0E9DC24       620.36    45\n",
      "14953  FFC9C52691EC1F3251DE8FCD88763C39      1070.63    76\n",
      "14954  FFCA9A4561F852F8A2F9CD242B083FEA       458.39    26\n",
      "14955  FFCEE15D2397C0E5A79280A059282DD5       590.35    38\n",
      "14956  FFD054EB3072407DA60E637EC1CDF688       369.20    32\n",
      "14957  FFD1B96DC484141AB97AF58F6E9B97B7       744.94    60\n",
      "14958  FFD5D84056DBFA5859956C9FCC9BA258       806.95    59\n",
      "14959  FFD696B9FF4DA04D724855A050901657       541.53    34\n",
      "14960  FFDC72D8EE2737AEA6E0E9D7DDF4942E        39.50     1\n",
      "14961  FFEB80F39533ACF27F3124A39BB05E1E       674.71    52\n",
      "14962  FFEE627F76A3A498DA53E200821FDEE9      1126.51    61\n",
      "14963  FFF0D1CE8F65C1A8B213128325EB5F33        11.70     1\n",
      "14964  FFF20BA1518E14B3B23F79DDDE1CA7E6       540.25    37\n",
      "14965  FFF5AD65C673251C1F275CF5B43EC414         8.40     1\n",
      "14966  FFF657CFEC6A06384C97ACB500916913       570.90    31\n",
      "14967  FFF909B1353148850AD3E40BB878618B       270.11    19\n",
      "14968  FFFBCEA3D4E21E05902EE67AD556F67C      1025.23    88\n",
      "\n",
      "[14969 rows x 3 columns]\n",
      "                          hack_license total_amount       dollarPerTrip\n",
      "                                                sum count              \n",
      "3638  3E8BC9829EE46234B580C2DA5ED69C0C        87.99     1         87.99\n"
     ]
    }
   ],
   "source": [
    "# Which person (hack_license) made the most money on a per-trip basis, given that they took at least 20 trips?\n",
    "# This one is more challenging. Here are the instructor's solutions:\n",
    "\n",
    "totalPerDriver2 = fareData[['hack_license', 'total_amount']] \\\n",
    "    .groupby('hack_license') \\\n",
    "    .agg(['sum', 'count']) \\\n",
    "    .reset_index() \n",
    "print(totalPerDriver2)    \n",
    "totalPerDriver2['dollarPerTrip'] = totalPerDriver2.total_amount['sum']/totalPerDriver2.total_amount['count']\n",
    "print(totalPerDriver2[totalPerDriver2.dollarPerTrip == totalPerDriver2.dollarPerTrip.max()])\n",
    "\n",
    "\n",
    "\n",
    "\n"
   ]
  },
  {
   "cell_type": "markdown",
   "metadata": {},
   "source": [
    "<b>Does the number of trips a given cabbie takes (her/his experience) correlate with how well she/he is tipped? If so, in what direction</b>"
   ]
  },
  {
   "cell_type": "code",
   "execution_count": 22,
   "metadata": {
    "collapsed": false
   },
   "outputs": [
    {
     "data": {
      "text/html": [
       "<div>\n",
       "<table border=\"1\" class=\"dataframe\">\n",
       "  <thead>\n",
       "    <tr style=\"text-align: right;\">\n",
       "      <th></th>\n",
       "      <th>size</th>\n",
       "      <th>mean</th>\n",
       "    </tr>\n",
       "  </thead>\n",
       "  <tbody>\n",
       "    <tr>\n",
       "      <th>size</th>\n",
       "      <td>1.000000</td>\n",
       "      <td>-0.291082</td>\n",
       "    </tr>\n",
       "    <tr>\n",
       "      <th>mean</th>\n",
       "      <td>-0.291082</td>\n",
       "      <td>1.000000</td>\n",
       "    </tr>\n",
       "  </tbody>\n",
       "</table>\n",
       "</div>"
      ],
      "text/plain": [
       "          size      mean\n",
       "size  1.000000 -0.291082\n",
       "mean -0.291082  1.000000"
      ]
     },
     "execution_count": 22,
     "metadata": {},
     "output_type": "execute_result"
    }
   ],
   "source": [
    "# Does the number of trips a given cabbie takes (her/his experience) correlate with how well she/he is tipped?\n",
    "# If so, in what direction?\n",
    "fareData.groupby(\"hack_license\")[\"tip_amount\"].agg([np.size, np.mean]).corr()\n",
    "# Recall that np.size returns the number of elements in the frame or series.\n",
    "# The output indicates that the experience of the cabbie has a somewhat small negative correlation with how well\n",
    "# he/she is tipped."
   ]
  },
  {
   "cell_type": "code",
   "execution_count": 23,
   "metadata": {
    "collapsed": false
   },
   "outputs": [
    {
     "name": "stdout",
     "output_type": "stream",
     "text": [
      "14969\n",
      "500000\n",
      "14969\n",
      "(500000,)\n",
      "(14969,)\n",
      "<bound method DataFrameGroupBy.size of <pandas.core.groupby.DataFrameGroupBy object at 0x119931e50>>\n",
      "533ED7E1E4C118A91AE9F55CE74AAE66    127\n",
      "00B7691D86D96AEBD21DD9E138F90840    126\n",
      "9112D33A328C37CF6E8A6B364F0C6109    124\n",
      "508B0C200B7911E94E3D58151FADD644    121\n",
      "12DF08C467CE0D44897DFB82171CBC63    116\n",
      "C9674190984BA193FFD8DDCC019804CF    114\n",
      "052C966F82A2B106DC6414C453AD7CE6    109\n",
      "CB9AEE4760DB0551500EAA538E8FC108    109\n",
      "97F7B431B057B98EAED0F323C4347B62    106\n",
      "AB6F028ECDB62E44BE3ACEDE4E935ED6    105\n",
      "7B3DAEAD0556C7DC4BB925B0A8BED5D7    104\n",
      "86A0B5CA6B8A48DF19FD6518C81AAE23    104\n",
      "84096122CEADF9ECB7D894CFBF1C28A6    103\n",
      "F49FD0D84449AE7F72F3BC492CD6C754    102\n",
      "50B70C0D50EC8A4D887B3FAB5C6D99A6    102\n",
      "895F9C541258B1B18B8EDD4756A845F0    102\n",
      "14A72874665882E85B4FA12024820B60    101\n",
      "91927349DF07550D9D15BDF632DD297A    101\n",
      "99CA4DC32BAE022D8129833D033A4618    101\n",
      "47D7E01679A8EFCF3CF025F675B79590    101\n",
      "69996930170E51265187F2D360A2366D    100\n",
      "B8E7F13D7811C680D1FDCAB80AC3A007    100\n",
      "CAC19554659C889B5DB4DDA571B5708E     99\n",
      "3BF38FF50D6DB3774E9ECD4F45465199     99\n",
      "C6C02951E32A42060EDBA9E70AC4D8B6     99\n",
      "DB1B4490DA4A46A7A9A009DF6A503675     98\n",
      "BE4699E8FC8B9018935936643050E98E     98\n",
      "80029AAD3540C25106CCF1F42F77E691     98\n",
      "447C3273ABFDE1473B8023196539FF91     97\n",
      "C8D349DC61BCD170E1122B6503F8EE78     97\n",
      "                                   ... \n",
      "22AD2EC77ED0A65B6ADFABBCA6773AAF      1\n",
      "F0CFAE80008C44E2CC246BBDB5AE2E56      1\n",
      "EBFB66B08075DF53BC56714AA53D324E      1\n",
      "34E49E3F95198F2D64C263504272251C      1\n",
      "DEF8DB15692DBA880E4967EF943A9121      1\n",
      "B584106BAA8A43FFD8F80BAD15D2DC2C      1\n",
      "8C1C940FB38A08CBE3A1EC8D98F62F9B      1\n",
      "C4D91DEFEFB2712919C440601B0CC807      1\n",
      "2C6758D56C47BC44469893AB602F2184      1\n",
      "ED35AA207E8186C2329512E656F8BFFF      1\n",
      "FA8807176EE333C13EA5FA232893A9C3      1\n",
      "13C91816AF95F6514447B72559BEA179      1\n",
      "463F5CDE11E23D52C9597B159EFC39B5      1\n",
      "55C4860E8226A5985BFCD525997BEA1C      1\n",
      "8B49660787CA04D2175F96B560B03FD7      1\n",
      "CD24833414D55EED1DD1EEB900356A42      1\n",
      "A70EBA0193B57CACF0013E29CBA473E9      1\n",
      "6D489210CC5B1DBFB7F7107D57B1948E      1\n",
      "8D0DD0F3C73C3759EE724372AE57396F      1\n",
      "E81476A0C19E9CC440C4AFBF31923A17      1\n",
      "840E49F11B948BDC7AA8F70731232C05      1\n",
      "F679FA0648D6989BBDA397CF60C5A787      1\n",
      "E76DB5653F9077334152F3E91C430061      1\n",
      "F7A4EFADCAC320656CCC435CA6EF9CD4      1\n",
      "B684E31DE4A408C41E46A966A50DEEBF      1\n",
      "B2C07DF33005FD788E165304021A4730      1\n",
      "00B938EAB7C933C9B6F30F95D72DAFEB      1\n",
      "DFAAB8123DBA2696AFE3E289530BFDD1      1\n",
      "497F047A23955CB53EBC8DCA15B7E45E      1\n",
      "5689CEB1387BF6F155C0DE6BA6D96387      1\n",
      "Name: hack_license, dtype: int64\n"
     ]
    },
    {
     "data": {
      "text/html": [
       "<div>\n",
       "<table border=\"1\" class=\"dataframe\">\n",
       "  <thead>\n",
       "    <tr style=\"text-align: right;\">\n",
       "      <th></th>\n",
       "      <th>medallion</th>\n",
       "      <th>hack_license</th>\n",
       "      <th>vendor_id</th>\n",
       "      <th>pickup_datetime</th>\n",
       "      <th>payment_type</th>\n",
       "      <th>fare_amount</th>\n",
       "      <th>surcharge</th>\n",
       "      <th>mta_tax</th>\n",
       "      <th>tip_amount</th>\n",
       "      <th>tolls_amount</th>\n",
       "      <th>total_amount</th>\n",
       "      <th>hour</th>\n",
       "    </tr>\n",
       "  </thead>\n",
       "  <tbody>\n",
       "    <tr>\n",
       "      <th>480172</th>\n",
       "      <td>6094BBC8B7678D1870F1851735773972</td>\n",
       "      <td>3E8BC9829EE46234B580C2DA5ED69C0C</td>\n",
       "      <td>CMT</td>\n",
       "      <td>2013-01-20 07:17:57</td>\n",
       "      <td>CRD</td>\n",
       "      <td>52.0</td>\n",
       "      <td>0.0</td>\n",
       "      <td>0.5</td>\n",
       "      <td>30.69</td>\n",
       "      <td>4.8</td>\n",
       "      <td>87.99</td>\n",
       "      <td>7</td>\n",
       "    </tr>\n",
       "  </tbody>\n",
       "</table>\n",
       "</div>"
      ],
      "text/plain": [
       "                               medallion                      hack_license  \\\n",
       "480172  6094BBC8B7678D1870F1851735773972  3E8BC9829EE46234B580C2DA5ED69C0C   \n",
       "\n",
       "       vendor_id     pickup_datetime payment_type  fare_amount  surcharge  \\\n",
       "480172       CMT 2013-01-20 07:17:57          CRD         52.0        0.0   \n",
       "\n",
       "        mta_tax  tip_amount  tolls_amount  total_amount  hour  \n",
       "480172      0.5       30.69           4.8         87.99     7  "
      ]
     },
     "execution_count": 23,
     "metadata": {},
     "output_type": "execute_result"
    }
   ],
   "source": [
    "# Just checking some things out here and experimenting a bit....\n",
    "print(fareData.hack_license.unique().size)\n",
    "print(fareData.hack_license.size)\n",
    "print(fareData.hack_license.nunique())\n",
    "print(fareData.hack_license.shape)\n",
    "print(fareData.hack_license.unique().shape)\n",
    "print(licenseGroup.size)\n",
    "fareData_license=fareData.hack_license.value_counts()\n",
    "print(fareData_license)\n",
    "fareData[fareData.hack_license=='3E8BC9829EE46234B580C2DA5ED69C0C']\n",
    "# print(\"Filtered number of users:\",filteredRatings.UserID.unique().size)"
   ]
  },
  {
   "cell_type": "markdown",
   "metadata": {},
   "source": [
    "<b>Does the number of times a given cab is used correlate with how well the person driving the cab is tipped? That is, are there \"lucky\" cabs?</b>"
   ]
  },
  {
   "cell_type": "code",
   "execution_count": 24,
   "metadata": {
    "collapsed": false
   },
   "outputs": [
    {
     "name": "stdout",
     "output_type": "stream",
     "text": [
      "                                   size      mean\n",
      "medallion                                        \n",
      "000318C2E3E6381580E5C99910A60668  129.0  0.986047\n",
      "002B4CFC5B8920A87065FC131F9732D1   73.0  1.194110\n",
      "002E3B405B6ABEA23B6305D3766140F1   88.0  1.447386\n",
      "0030AD2648D81EE87796445DB61FCF20   40.0  1.943750\n",
      "0035520A854E4F2769B37DAF5357426F   69.0  0.975217\n"
     ]
    },
    {
     "data": {
      "text/html": [
       "<div>\n",
       "<table border=\"1\" class=\"dataframe\">\n",
       "  <thead>\n",
       "    <tr style=\"text-align: right;\">\n",
       "      <th></th>\n",
       "      <th>size</th>\n",
       "      <th>mean</th>\n",
       "    </tr>\n",
       "  </thead>\n",
       "  <tbody>\n",
       "    <tr>\n",
       "      <th>size</th>\n",
       "      <td>1.00000</td>\n",
       "      <td>-0.34822</td>\n",
       "    </tr>\n",
       "    <tr>\n",
       "      <th>mean</th>\n",
       "      <td>-0.34822</td>\n",
       "      <td>1.00000</td>\n",
       "    </tr>\n",
       "  </tbody>\n",
       "</table>\n",
       "</div>"
      ],
      "text/plain": [
       "         size     mean\n",
       "size  1.00000 -0.34822\n",
       "mean -0.34822  1.00000"
      ]
     },
     "execution_count": 24,
     "metadata": {},
     "output_type": "execute_result"
    }
   ],
   "source": [
    "# Does the number of times a given cab is used correlate with how well the person driving the cab is tipped? That is, \n",
    "# are there \"lucky\" cabs?\n",
    "# Recall that 'medallion' is ID of the cab being operated\n",
    "print(fareData.groupby(\"medallion\")[\"tip_amount\"].agg([np.size, np.mean]).head())\n",
    "fareData.groupby(\"medallion\")[\"tip_amount\"].agg([np.size, np.mean]).corr()\n",
    "\n",
    "# There is a somewhat small/weak correlation here.\n",
    "\n",
    "\n",
    "# DataFrameGroupBy.agg(arg, *args, **kwargs)\n",
    "# Aggregate using input function or dict of {column -> function}\n",
    "\n",
    "# Parameters:\t\n",
    "# arg : function or dict\n",
    "# Function to use for aggregating groups. If a function, must either work when passed a DataFrame or when passed to \n",
    "# DataFrame.apply. If passed a dict, the keys must be DataFrame column names.\n",
    "# Accepted Combinations are: \n",
    "# * string cythonized function name \n",
    "# * function\n",
    "# * list of functions\n",
    "# * dict of columns -> functions\n",
    "# * nested dict of names -> dicts of functions\n",
    "# Returns:\t\n",
    "# aggregated : DataFrame\n",
    "\n",
    "# Notes: Numpy functions mean/median/prod/sum/std/var are special cased so the default behavior is applying the \n",
    "# function along axis=0 (e.g., np.mean(arr_2d, axis=0)) as opposed to mimicking the default Numpy behavior (e.g., \n",
    "# np.mean(arr_2d))."
   ]
  },
  {
   "cell_type": "markdown",
   "metadata": {},
   "source": [
    "<b>Which `vendor_id` had the higher average `surcharge` on a per-hour basis?</b>\n"
   ]
  },
  {
   "cell_type": "code",
   "execution_count": 27,
   "metadata": {
    "collapsed": false
   },
   "outputs": [
    {
     "name": "stdout",
     "output_type": "stream",
     "text": [
      "vendor_id\n",
      "CMT    0.283565\n",
      "VTS    0.293235\n",
      "dtype: float64\n",
      "------------\n",
      "vendor_id\n",
      "VTS    0.293235\n",
      "dtype: float64\n"
     ]
    }
   ],
   "source": [
    "# Which vendor_id had the higher average surcharge on a per-hour basis?\n",
    "# Recall that 'vendor_id' is the type of vendor operating the cab, can either be CMT or VTS\n",
    "perVendorMeans = fareData.groupby([\"vendor_id\",\"hour\"])[\"surcharge\"].mean().unstack(level=1)\n",
    "perVendorMeans = perVendorMeans.mean(axis=1)\n",
    "print(perVendorMeans.head())\n",
    "print(\"------------\")\n",
    "print(perVendorMeans[perVendorMeans==perVendorMeans.max()])\n",
    "\n",
    "# DataFrame.unstack(level=-1, fill_value=None)\n",
    "# Pivot a level of the (necessarily hierarchical) index labels, returning a DataFrame having a new level of column \n",
    "# labels whose inner-most level consists of the pivoted index labels. If the index is not a MultiIndex, the output \n",
    "# will be a Series (the analogue of stack when the columns are not a MultiIndex). The level involved will \n",
    "# automatically get sorted.\n",
    "\n",
    "# Parameters:\t\n",
    "# level : int, string, or list of these, default -1 (last level)\n",
    "# Level(s) of index to unstack, can pass level name\n",
    "# fill_value : replace NaN with this value if the unstack produces missing values\n",
    "# Returns:\t\n",
    "# unstacked : DataFrame or Series"
   ]
  },
  {
   "cell_type": "markdown",
   "metadata": {},
   "source": [
    "<b>Which hour in the day: </b>\n",
    "  1. Did people most frequently take rides?\n",
    "  2. Did people least frequently take rides?\n",
    "  3. Had the largest number of unique cabs on the street?\n",
    "  4. Had the least number of cabs in the street?\n",
    "  5. What is the average number of cabs on the streets in NYC in each quarter of the day (at least in this dataset?)?"
   ]
  },
  {
   "cell_type": "code",
   "execution_count": 35,
   "metadata": {
    "collapsed": false
   },
   "outputs": [
    {
     "name": "stdout",
     "output_type": "stream",
     "text": [
      "----------- 1: ------------\n",
      "The hour with the most rides is:\n",
      "hour\n",
      "12    33564\n",
      "dtype: int64\n",
      "----------- 2: ------------\n",
      "The hour with the least rides is:\n",
      "hour\n",
      "4    3962\n",
      "dtype: int64\n",
      "----------- 3: ------------\n",
      "The hour with the most unique cabs on the street:\n",
      "hour\n",
      "14    6201\n",
      "dtype: int64\n",
      "----------- 4: ------------\n",
      "The hour with the least number of (unique) cabs on the street:\n",
      "hour\n",
      "5    1935\n",
      "dtype: int64\n",
      "----------- 5: ------------\n",
      "The number of unique cabs per quarter of the day in this dataset is:\n",
      "quarterDay\n",
      "(-1, 5]      73.460526\n",
      "(5, 11]      86.302632\n",
      "(11, 17]     92.434211\n",
      "(17, inf]    91.552632\n",
      "dtype: float64\n"
     ]
    }
   ],
   "source": [
    "#1. Which hour of the day did people most frequenctly take rides?\n",
    "print(\"----------- 1: ------------\")\n",
    "hourGroupsSizes = fareData.groupby(\"hour\").size()\n",
    "print(\"The hour with the most rides is:\")\n",
    "print(hourGroupsSizes[hourGroupsSizes==hourGroupsSizes.max()])\n",
    "# 2. Which hour of the day did people least frequenctly take rides?\n",
    "print(\"----------- 2: ------------\")\n",
    "hourGroupsSizes = fareData.groupby(\"hour\").size()\n",
    "print(\"The hour with the least rides is:\")\n",
    "print(hourGroupsSizes[hourGroupsSizes==hourGroupsSizes.min()])\n",
    "#3. Which hour in the day had the largest number of unique cabs on the street?\n",
    "print(\"----------- 3: ------------\")\n",
    "uniqueCabsHour = fareData.drop_duplicates([\"medallion\",\"hour\"])\n",
    "uniqueCabsPerHour = uniqueCabsHour.groupby(\"hour\").size()\n",
    "print(\"The hour with the most unique cabs on the street:\")\n",
    "print(uniqueCabsPerHour[uniqueCabsPerHour==uniqueCabsPerHour.max()])\n",
    "\n",
    "# Signature: fareData.drop_duplicates(**kwargs)\n",
    "# Docstring:\n",
    "# Return DataFrame with duplicate rows removed, optionally only\n",
    "# considering certain columns\n",
    "# Parameters\n",
    "# ----------\n",
    "# subset : column label or sequence of labels, optional\n",
    "#    Only consider certain columns for identifying duplicates, by\n",
    "#    default use all of the columns\n",
    "#\n",
    "# Returns\n",
    "# -------\n",
    "# deduplicated : DataFrame\n",
    "\n",
    "# 4. Which hour of the day had the least number of cabs in the street?  \n",
    "print(\"----------- 4: ------------\")\n",
    "print(\"The hour with the least number of (unique) cabs on the street:\")\n",
    "print(uniqueCabsPerHour[uniqueCabsPerHour==uniqueCabsPerHour.min()])\n",
    "\n",
    "#5. What is the average number of cabs on the streets in NYC in each quarter of the day (at least in this dataset)? \n",
    "print(\"----------- 5: ------------\")\n",
    "fareData[\"quarterDay\"] = pd.cut(fareData.hour,[-1,5,11,17,np.inf])\n",
    "earliestDay = fareData.pickup_datetime.dt.dayofyear.min()\n",
    "lastDay = fareData.pickup_datetime.dt.dayofyear.max()\n",
    "totalQuarters = (lastDay-earliestDay)*4\n",
    "uniqueCabsQuarterDay = fareData.drop_duplicates([\"medallion\",\"quarterDay\"])\n",
    "print(\"The number of unique cabs per quarter of the day in this dataset is:\")\n",
    "print(uniqueCabsQuarterDay.groupby(\"quarterDay\").size()/totalQuarters)\n",
    "#\n",
    "# Signature: pd.cut(x, bins, right=True, labels=None, retbins=False, precision=3, include_lowest=False)\n",
    "# Docstring:\n",
    "# Return indices of half-open bins to which each value of `x` belongs.\n",
    "#\n",
    "# Parameters\n",
    "# ----------\n",
    "# x : array-like\n",
    "#    Input array to be binned. It has to be 1-dimensional."
   ]
  },
  {
   "cell_type": "markdown",
   "metadata": {},
   "source": [
    "<b>Read in the trip data file - `trip_data_500k.csv`. Join the trip data and fare data datasets together. You will need to join the datasets on more than one column, but you will have to figure out what those columns are!</b>"
   ]
  },
  {
   "cell_type": "code",
   "execution_count": 36,
   "metadata": {
    "collapsed": false
   },
   "outputs": [
    {
     "data": {
      "text/plain": [
       "medallion                     object\n",
       "hack_license                  object\n",
       "vendor_id                     object\n",
       "rate_code                      int64\n",
       "store_and_fwd_flag            object\n",
       "pickup_datetime       datetime64[ns]\n",
       "dropoff_datetime              object\n",
       "passenger_count                int64\n",
       "trip_time_in_secs              int64\n",
       "trip_distance                float64\n",
       "pickup_longitude             float64\n",
       "pickup_latitude              float64\n",
       "dropoff_longitude            float64\n",
       "dropoff_latitude             float64\n",
       "dtype: object"
      ]
     },
     "execution_count": 36,
     "metadata": {},
     "output_type": "execute_result"
    }
   ],
   "source": [
    "tripData = pd.read_csv(\"../data/nycTaxiData/trip_data_500k.csv\")\n",
    "tripData.pickup_datetime = pd.to_datetime(tripData.pickup_datetime,format=\"%Y-%m-%d %H:%M:%S\")\n",
    "tripData.dtypes "
   ]
  },
  {
   "cell_type": "code",
   "execution_count": 38,
   "metadata": {
    "collapsed": false
   },
   "outputs": [
    {
     "data": {
      "text/html": [
       "<div>\n",
       "<table border=\"1\" class=\"dataframe\">\n",
       "  <thead>\n",
       "    <tr style=\"text-align: right;\">\n",
       "      <th></th>\n",
       "      <th>medallion</th>\n",
       "      <th>hack_license</th>\n",
       "      <th>vendor_id</th>\n",
       "      <th>rate_code</th>\n",
       "      <th>store_and_fwd_flag</th>\n",
       "      <th>pickup_datetime</th>\n",
       "      <th>dropoff_datetime</th>\n",
       "      <th>passenger_count</th>\n",
       "      <th>trip_time_in_secs</th>\n",
       "      <th>trip_distance</th>\n",
       "      <th>...</th>\n",
       "      <th>dropoff_latitude</th>\n",
       "      <th>payment_type</th>\n",
       "      <th>fare_amount</th>\n",
       "      <th>surcharge</th>\n",
       "      <th>mta_tax</th>\n",
       "      <th>tip_amount</th>\n",
       "      <th>tolls_amount</th>\n",
       "      <th>total_amount</th>\n",
       "      <th>hour</th>\n",
       "      <th>quarterDay</th>\n",
       "    </tr>\n",
       "  </thead>\n",
       "  <tbody>\n",
       "    <tr>\n",
       "      <th>0</th>\n",
       "      <td>89D227B655E5C82AECF13C3F540D4CF4</td>\n",
       "      <td>BA96DE419E711691B9445D6A6307C170</td>\n",
       "      <td>CMT</td>\n",
       "      <td>1</td>\n",
       "      <td>N</td>\n",
       "      <td>2013-01-01 15:11:48</td>\n",
       "      <td>2013-01-01 15:18:10</td>\n",
       "      <td>4</td>\n",
       "      <td>382</td>\n",
       "      <td>1.0</td>\n",
       "      <td>...</td>\n",
       "      <td>40.751171</td>\n",
       "      <td>CSH</td>\n",
       "      <td>6.5</td>\n",
       "      <td>0.0</td>\n",
       "      <td>0.5</td>\n",
       "      <td>0.0</td>\n",
       "      <td>0.0</td>\n",
       "      <td>7.0</td>\n",
       "      <td>15</td>\n",
       "      <td>(11, 17]</td>\n",
       "    </tr>\n",
       "    <tr>\n",
       "      <th>1</th>\n",
       "      <td>0BD7C8F5BA12B88E0B67BED28BEA73D8</td>\n",
       "      <td>9FD8F69F0804BDB5549F40E9DA1BE472</td>\n",
       "      <td>CMT</td>\n",
       "      <td>1</td>\n",
       "      <td>N</td>\n",
       "      <td>2013-01-06 00:18:35</td>\n",
       "      <td>2013-01-06 00:22:54</td>\n",
       "      <td>1</td>\n",
       "      <td>259</td>\n",
       "      <td>1.5</td>\n",
       "      <td>...</td>\n",
       "      <td>40.750660</td>\n",
       "      <td>CSH</td>\n",
       "      <td>6.0</td>\n",
       "      <td>0.5</td>\n",
       "      <td>0.5</td>\n",
       "      <td>0.0</td>\n",
       "      <td>0.0</td>\n",
       "      <td>7.0</td>\n",
       "      <td>0</td>\n",
       "      <td>(-1, 5]</td>\n",
       "    </tr>\n",
       "    <tr>\n",
       "      <th>2</th>\n",
       "      <td>0BD7C8F5BA12B88E0B67BED28BEA73D8</td>\n",
       "      <td>9FD8F69F0804BDB5549F40E9DA1BE472</td>\n",
       "      <td>CMT</td>\n",
       "      <td>1</td>\n",
       "      <td>N</td>\n",
       "      <td>2013-01-05 18:49:41</td>\n",
       "      <td>2013-01-05 18:54:23</td>\n",
       "      <td>1</td>\n",
       "      <td>282</td>\n",
       "      <td>1.1</td>\n",
       "      <td>...</td>\n",
       "      <td>40.726002</td>\n",
       "      <td>CSH</td>\n",
       "      <td>5.5</td>\n",
       "      <td>1.0</td>\n",
       "      <td>0.5</td>\n",
       "      <td>0.0</td>\n",
       "      <td>0.0</td>\n",
       "      <td>7.0</td>\n",
       "      <td>18</td>\n",
       "      <td>(17, inf]</td>\n",
       "    </tr>\n",
       "    <tr>\n",
       "      <th>3</th>\n",
       "      <td>DFD2202EE08F7A8DC9A57B02ACB81FE2</td>\n",
       "      <td>51EE87E3205C985EF8431D850C786310</td>\n",
       "      <td>CMT</td>\n",
       "      <td>1</td>\n",
       "      <td>N</td>\n",
       "      <td>2013-01-07 23:54:15</td>\n",
       "      <td>2013-01-07 23:58:20</td>\n",
       "      <td>2</td>\n",
       "      <td>244</td>\n",
       "      <td>0.7</td>\n",
       "      <td>...</td>\n",
       "      <td>40.759388</td>\n",
       "      <td>CSH</td>\n",
       "      <td>5.0</td>\n",
       "      <td>0.5</td>\n",
       "      <td>0.5</td>\n",
       "      <td>0.0</td>\n",
       "      <td>0.0</td>\n",
       "      <td>6.0</td>\n",
       "      <td>23</td>\n",
       "      <td>(17, inf]</td>\n",
       "    </tr>\n",
       "    <tr>\n",
       "      <th>4</th>\n",
       "      <td>DFD2202EE08F7A8DC9A57B02ACB81FE2</td>\n",
       "      <td>51EE87E3205C985EF8431D850C786310</td>\n",
       "      <td>CMT</td>\n",
       "      <td>1</td>\n",
       "      <td>N</td>\n",
       "      <td>2013-01-07 23:25:03</td>\n",
       "      <td>2013-01-07 23:34:24</td>\n",
       "      <td>1</td>\n",
       "      <td>560</td>\n",
       "      <td>2.1</td>\n",
       "      <td>...</td>\n",
       "      <td>40.747868</td>\n",
       "      <td>CSH</td>\n",
       "      <td>9.5</td>\n",
       "      <td>0.5</td>\n",
       "      <td>0.5</td>\n",
       "      <td>0.0</td>\n",
       "      <td>0.0</td>\n",
       "      <td>10.5</td>\n",
       "      <td>23</td>\n",
       "      <td>(17, inf]</td>\n",
       "    </tr>\n",
       "  </tbody>\n",
       "</table>\n",
       "<p>5 rows × 23 columns</p>\n",
       "</div>"
      ],
      "text/plain": [
       "                          medallion                      hack_license  \\\n",
       "0  89D227B655E5C82AECF13C3F540D4CF4  BA96DE419E711691B9445D6A6307C170   \n",
       "1  0BD7C8F5BA12B88E0B67BED28BEA73D8  9FD8F69F0804BDB5549F40E9DA1BE472   \n",
       "2  0BD7C8F5BA12B88E0B67BED28BEA73D8  9FD8F69F0804BDB5549F40E9DA1BE472   \n",
       "3  DFD2202EE08F7A8DC9A57B02ACB81FE2  51EE87E3205C985EF8431D850C786310   \n",
       "4  DFD2202EE08F7A8DC9A57B02ACB81FE2  51EE87E3205C985EF8431D850C786310   \n",
       "\n",
       "  vendor_id  rate_code store_and_fwd_flag     pickup_datetime  \\\n",
       "0       CMT          1                  N 2013-01-01 15:11:48   \n",
       "1       CMT          1                  N 2013-01-06 00:18:35   \n",
       "2       CMT          1                  N 2013-01-05 18:49:41   \n",
       "3       CMT          1                  N 2013-01-07 23:54:15   \n",
       "4       CMT          1                  N 2013-01-07 23:25:03   \n",
       "\n",
       "      dropoff_datetime  passenger_count  trip_time_in_secs  trip_distance  \\\n",
       "0  2013-01-01 15:18:10                4                382            1.0   \n",
       "1  2013-01-06 00:22:54                1                259            1.5   \n",
       "2  2013-01-05 18:54:23                1                282            1.1   \n",
       "3  2013-01-07 23:58:20                2                244            0.7   \n",
       "4  2013-01-07 23:34:24                1                560            2.1   \n",
       "\n",
       "      ...      dropoff_latitude  payment_type  fare_amount  surcharge mta_tax  \\\n",
       "0     ...             40.751171           CSH          6.5        0.0     0.5   \n",
       "1     ...             40.750660           CSH          6.0        0.5     0.5   \n",
       "2     ...             40.726002           CSH          5.5        1.0     0.5   \n",
       "3     ...             40.759388           CSH          5.0        0.5     0.5   \n",
       "4     ...             40.747868           CSH          9.5        0.5     0.5   \n",
       "\n",
       "   tip_amount  tolls_amount  total_amount  hour  quarterDay  \n",
       "0         0.0           0.0           7.0    15    (11, 17]  \n",
       "1         0.0           0.0           7.0     0     (-1, 5]  \n",
       "2         0.0           0.0           7.0    18   (17, inf]  \n",
       "3         0.0           0.0           6.0    23   (17, inf]  \n",
       "4         0.0           0.0          10.5    23   (17, inf]  \n",
       "\n",
       "[5 rows x 23 columns]"
      ]
     },
     "execution_count": 38,
     "metadata": {},
     "output_type": "execute_result"
    }
   ],
   "source": [
    "full_data = tripData.merge(fareData,on=[\"medallion\",\"hack_license\",\"vendor_id\",\"pickup_datetime\"])\n",
    "full_data.head()\n",
    "# Signature: tripData.merge(right, how='inner', on=None, left_on=None, right_on=None, left_index=False, \n",
    "# right_index=False, sort=False, suffixes=('_x', '_y'), copy=True, indicator=False)\n",
    "# Docstring:\n",
    "# Merge DataFrame objects by performing a database-style join operation by\n",
    "# columns or indexes.\n",
    "\n",
    "# If joining columns on columns, the DataFrame indexes *will be\n",
    "# ignored*. Otherwise if joining indexes on indexes or indexes on a column or\n",
    "# columns, the index will be passed on.\n",
    "\n",
    "# Parameters\n",
    "# ----------\n",
    "# right : DataFrame\n",
    "# how : {'left', 'right', 'outer', 'inner'}, default 'inner'\n",
    "#     * left: use only keys from left frame (SQL: left outer join)\n",
    "#     * right: use only keys from right frame (SQL: right outer join)\n",
    "#     * outer: use union of keys from both frames (SQL: full outer join)\n",
    "#     * inner: use intersection of keys from both frames (SQL: inner join)\n",
    "# on : label or list\n",
    "#     Field names to join on. Must be found in both DataFrames. If on is\n",
    "#     None and not merging on indexes, then it merges on the intersection of\n",
    "#     the columns by default.\n",
    "# left_on : label or list, or array-like\n",
    "#     Field names to join on in left DataFrame. Can be a vector or list of\n",
    "#     vectors of the length of the DataFrame to use a particular vector as\n",
    "#     the join key instead of columns\n",
    "# right_on : label or list, or array-like\n",
    "#     Field names to join on in right DataFrame or vector/list of vectors per\n",
    "#     left_on docs\n",
    "# left_index : boolean, default False\n",
    "#     Use the index from the left DataFrame as the join key(s). If it is a\n",
    "#     MultiIndex, the number of keys in the other DataFrame (either the index\n",
    "#     or a number of columns) must match the number of levels\n",
    "# right_index : boolean, default False\n",
    "#     Use the index from the right DataFrame as the join key. Same caveats as\n",
    "#     left_index\n",
    "# sort : boolean, default False\n",
    "#     Sort the join keys lexicographically in the result DataFrame\n",
    "# suffixes : 2-length sequence (tuple, list, ...)\n",
    "#     Suffix to apply to overlapping column names in the left and right\n",
    "#     side, respectively\n",
    "# copy : boolean, default True\n",
    "#     If False, do not copy data unnecessarily\n",
    "# indicator : boolean or string, default False\n",
    "#     If True, adds a column to output DataFrame called \"_merge\" with\n",
    "#     information on the source of each row.\n",
    "#     If string, column with information on source of each row will be added to\n",
    "#     output DataFrame, and column will be named value of string.\n",
    "#     Information column is Categorical-type and takes on a value of \"left_only\"\n",
    "#     for observations whose merge key only appears in 'left' DataFrame,\n",
    "#     \"right_only\" for observations whose merge key only appears in 'right'\n",
    "#     DataFrame, and \"both\" if the observation's merge key is found in both.\n",
    "    \n",
    "#     Returns\n",
    "# -------\n",
    "# merged : DataFrame\n",
    "#     The output type will the be same as 'left', if it is a subclass\n",
    "#     of DataFrame.\n"
   ]
  },
  {
   "cell_type": "markdown",
   "metadata": {},
   "source": [
    "<b>Which driver (`hack_license`) carried the most passengers, on average?</b>"
   ]
  },
  {
   "cell_type": "code",
   "execution_count": 39,
   "metadata": {
    "collapsed": false
   },
   "outputs": [
    {
     "data": {
      "text/plain": [
       "hack_license\n",
       "DF1338A98DAA39B20B528EEC54081A3D    6.0\n",
       "Name: passenger_count, dtype: float64"
      ]
     },
     "execution_count": 39,
     "metadata": {},
     "output_type": "execute_result"
    }
   ],
   "source": [
    "full_data.groupby(\"hack_license\")[\"passenger_count\"].mean().sort_values(ascending=False).head(1)"
   ]
  },
  {
   "cell_type": "markdown",
   "metadata": {},
   "source": [
    "<b>How does the number of passengers correlate with the tip amount?</b>"
   ]
  },
  {
   "cell_type": "code",
   "execution_count": 40,
   "metadata": {
    "collapsed": false
   },
   "outputs": [
    {
     "data": {
      "text/plain": [
       "-0.0083289315821814744"
      ]
     },
     "execution_count": 40,
     "metadata": {},
     "output_type": "execute_result"
    }
   ],
   "source": [
    "full_data['passenger_count'].corr(full_data['tip_amount'])    # there doesn't seem to be much of a correlation here."
   ]
  },
  {
   "cell_type": "code",
   "execution_count": null,
   "metadata": {
    "collapsed": true
   },
   "outputs": [],
   "source": []
  }
 ],
 "metadata": {
  "anaconda-cloud": {},
  "kernelspec": {
   "display_name": "Python [Root]",
   "language": "python",
   "name": "Python [Root]"
  },
  "language_info": {
   "codemirror_mode": {
    "name": "ipython",
    "version": 2
   },
   "file_extension": ".py",
   "mimetype": "text/x-python",
   "name": "python",
   "nbconvert_exporter": "python",
   "pygments_lexer": "ipython2",
   "version": "2.7.12"
  }
 },
 "nbformat": 4,
 "nbformat_minor": 0
}
