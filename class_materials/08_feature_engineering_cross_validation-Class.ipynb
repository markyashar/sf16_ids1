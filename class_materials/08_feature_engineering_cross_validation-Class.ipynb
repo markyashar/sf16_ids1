{
 "cells": [
  {
   "cell_type": "markdown",
   "metadata": {},
   "source": [
    "## Class 8 Agenda:\n",
    "  * **Feature Engineering: Standard Scaling/MinMaxScaling**\n",
    "  * **Feature Engineering: Handling Categorical Features**\n",
    "  * **Feature Engineering: Handling Missing Values**\n",
    "  * **Feature Engineering: Creating Derived Features - Polynomial Features**\n",
    "  * **Cross Validation vs. Train/Test Split**\n",
    "  * **Cross Validation for Parameter Tuning**\n",
    "  * **Searching over Parameters using GridSearchCV**"
   ]
  },
  {
   "cell_type": "markdown",
   "metadata": {},
   "source": [
    "We are going to make a big step today in the sophistication and kinds of models we will be capable of building. We will talk about several common feature transformations that you can/should perform when preparing most data for machine learning models.\n",
    "\n",
    "We're also going to learn how to improve the evaluation of the performance of any supervised machine learning models we build using a much better (more accurate) method than train-test split, one that gives more reliable estimates of error on unseen data.\n",
    "\n",
    "#### Outcomes\n",
    "By the end of this lesson you will be able to:\n",
    "- articulate why feature scaling is important, and be able to do it using sklearn\n",
    "- use a variety of transformation methods to reduce non-normality in features\n",
    "- handle categorical features when building a machine learning model\n",
    "- handle null/missing values when building a machine learning model\n",
    "- use cross validation to accurately estimate model performance\n",
    "- articulate the strengths and weaknesses of basic cross validation\n",
    "- use cross validation to choose optimal model parameters by searching across many models simultaneously"
   ]
  },
  {
   "cell_type": "markdown",
   "metadata": {},
   "source": [
    "### Feature Engineering\n",
    "\n",
    "When we talk about feature engineering, we are really talking about two things:\n",
    "* transforming the values at our disposal into a representation that a given machine learning algorithm can use and understand\n",
    "* creating new, derived features from the available features (using domain expertise) and use them when training a model\n",
    "* dealing with missing values, as most ML algorithms can't handle unknown values. They must be filled in.\n",
    "\n",
    "We will begin with the first case, transformation, and talk about the three most common transformations necessary to get data into a state where it can be used to train most ML models:\n",
    "* **feature scaling**: making it so that all columns (features) range over the same values is very helpful for many (but not all) machine learning models. In some cases, scaling along samples is useful, as well.\n",
    "* **turning categorical values into numerical values**: machine learning algorithms only understand numbers, not categories.\n",
    "* **handling missing values**: Models break when you give them `NaN`s, what are some strategies to replace `NaN`s with \"good\" (i.e. useful) numbers?"
   ]
  },
  {
   "cell_type": "markdown",
   "metadata": {},
   "source": [
    "Let's import the basics (those things we've seen in the past) like always, and generate some fake data:"
   ]
  },
  {
   "cell_type": "code",
   "execution_count": 1,
   "metadata": {
    "collapsed": true
   },
   "outputs": [],
   "source": [
    "from __future__ import print_function, division  # Python 2/3"
   ]
  },
  {
   "cell_type": "code",
   "execution_count": 2,
   "metadata": {
    "collapsed": false
   },
   "outputs": [],
   "source": [
    "#data handling, model creation/evaluation\n",
    "import pandas as pd\n",
    "import numpy as np\n",
    "from sklearn import metrics\n",
    "from sklearn import preprocessing\n",
    "from sklearn.linear_model import LogisticRegression\n",
    "from sklearn.ensemble import RandomForestClassifier\n",
    "# from sklearn.model_selection import train_test_split  -- note that this pops up elsewhere\n",
    "from sklearn.cross_validation import train_test_split\n",
    "from scipy import stats\n",
    "\n",
    "#make it so that we only show first 4 decimals for floats\n",
    "np.set_printoptions(precision=4,suppress=True)\n",
    "\n",
    "# visualization\n",
    "%matplotlib inline\n",
    "import seaborn as sns\n",
    "import matplotlib.pyplot as plt"
   ]
  },
  {
   "cell_type": "code",
   "execution_count": 3,
   "metadata": {
    "collapsed": false
   },
   "outputs": [
    {
     "name": "stdout",
     "output_type": "stream",
     "text": [
      "   length  mass  rings\n",
      "0    0.59  0.79   54.9\n"
     ]
    },
    {
     "data": {
      "text/html": [
       "<div>\n",
       "<table border=\"1\" class=\"dataframe\">\n",
       "  <thead>\n",
       "    <tr style=\"text-align: right;\">\n",
       "      <th></th>\n",
       "      <th>length</th>\n",
       "      <th>mass</th>\n",
       "      <th>rings</th>\n",
       "      <th>target</th>\n",
       "    </tr>\n",
       "  </thead>\n",
       "  <tbody>\n",
       "    <tr>\n",
       "      <th>0</th>\n",
       "      <td>0.9</td>\n",
       "      <td>0.1</td>\n",
       "      <td>40</td>\n",
       "      <td>0</td>\n",
       "    </tr>\n",
       "    <tr>\n",
       "      <th>1</th>\n",
       "      <td>0.3</td>\n",
       "      <td>0.2</td>\n",
       "      <td>50</td>\n",
       "      <td>1</td>\n",
       "    </tr>\n",
       "    <tr>\n",
       "      <th>2</th>\n",
       "      <td>0.6</td>\n",
       "      <td>0.8</td>\n",
       "      <td>60</td>\n",
       "      <td>2</td>\n",
       "    </tr>\n",
       "  </tbody>\n",
       "</table>\n",
       "</div>"
      ],
      "text/plain": [
       "   length  mass  rings  target\n",
       "0     0.9   0.1     40       0\n",
       "1     0.3   0.2     50       1\n",
       "2     0.6   0.8     60       2"
      ]
     },
     "execution_count": 3,
     "metadata": {},
     "output_type": "execute_result"
    }
   ],
   "source": [
    "# fake data -- we're creating fake data here\n",
    "train = pd.DataFrame({'target':[0,1,2], 'length':[0.9,0.3,0.6], 'mass':[0.1,0.2,0.8], 'rings':[40,50,60]})\n",
    "test = pd.DataFrame({'length':[0.59], 'mass':[0.79], 'rings':[54.9]})\n",
    "print(test)\n",
    "train"
   ]
  },
  {
   "cell_type": "markdown",
   "metadata": {},
   "source": [
    "## Feature Scaling\n",
    "\n",
    "## Standardization:\n",
    "Standardization of datasets is a common requirement for many machine learning estimators implemented in scikit-learn; they might behave badly if the individual features do not more or less look like standard normally distributed data: Gaussian with zero mean and unit variance.\n",
    "\n",
    "In practice we often ignore the shape of the distribution and just transform the data to center it by removing the mean value of each feature, then scale it by dividing non-constant features by their standard deviation.\n",
    "\n",
    "For instance, many elements used in the objective function of a learning algorithm (such as the RBF kernel of Support Vector Machines or the l1 and l2 regularizers of linear models) assume that all features are centered around zero and have variance in the same order. If a feature has a variance that is orders of magnitude larger than others, it might dominate the objective function and make the estimator unable to learn from other features correctly as expected.\n",
    "\n",
    "\n",
    "### Scaling to a range: MinMax Scaler\n",
    "simplest method is to rescale the feature range to [0,1] or [-1, 1]  \n",
    "\\begin{equation}\n",
    "X^\\prime = \\frac{X - min(X)}{max(X) - min(X)}\n",
    "\\end{equation}\n",
    "\n",
    "### Scaling to zero mean, unit variance: Standard Scaler \n",
    "calculating the z-score rescale to zero mean and unit variance\n",
    "\\begin{equation}\n",
    "X^\\prime = \\frac{X - \\bar{X}}{\\sigma}\n",
    "\\end{equation}\n",
    "\n",
    "### Scaling to unit length: Normalization\n",
    "rescale to unit length: useful in vector space models\n",
    "\\begin{equation}\n",
    "X^\\prime = \\frac{X}{\\left|\\left| X \\right| \\right|}\n",
    "\\end{equation}\n",
    "\n",
    "\n",
    "Note: save the scaler object that was applied on the training set, to be later re-applied on the testing set\n",
    "\n"
   ]
  },
  {
   "cell_type": "markdown",
   "metadata": {},
   "source": [
    "Let's try to predict the `id` of each sample using the `length`, `mass`, and `rings` columns without doing any feature scaling:"
   ]
  },
  {
   "cell_type": "code",
   "execution_count": 4,
   "metadata": {
    "collapsed": false
   },
   "outputs": [
    {
     "name": "stdout",
     "output_type": "stream",
     "text": [
      "   length  mass  rings\n",
      "0     0.9   0.1     40\n",
      "1     0.3   0.2     50\n",
      "2     0.6   0.8     60\n",
      "----------\n",
      "0    0\n",
      "1    1\n",
      "2    2\n",
      "Name: target, dtype: int64\n"
     ]
    }
   ],
   "source": [
    "# define X and y\n",
    "feature_cols = ['length', 'mass', 'rings']\n",
    "X = train[feature_cols]\n",
    "y = train.target\n",
    "print(X)\n",
    "print('----------')\n",
    "print(y)"
   ]
  },
  {
   "cell_type": "markdown",
   "metadata": {},
   "source": [
    "To demonstrate this, we are going to be using a different classifier from the one's we've learned about so far. \n",
    "\n",
    "This algorithm is called [K-nearest-neighbors](https://en.wikipedia.org/wiki/K-nearest_neighbors_algorithm) and simply selects either the category (classification) or average of the K closest samples to it (computed using Euclidean distance).\n",
    "\n",
    "We are going to use K-nearest-neighbors where k=1 (the single nearest neighbor, so it will simply assume the output of that sample):"
   ]
  },
  {
   "cell_type": "code",
   "execution_count": 5,
   "metadata": {
    "collapsed": false
   },
   "outputs": [
    {
     "name": "stdout",
     "output_type": "stream",
     "text": [
      "Training data:\n",
      "    length  mass  rings  target\n",
      "0     0.9   0.1     40       0\n",
      "1     0.3   0.2     50       1\n",
      "2     0.6   0.8     60       2 \n",
      "\n",
      "Single test sample:\n",
      "    length  mass  rings\n",
      "0    0.59  0.79   54.9\n"
     ]
    }
   ],
   "source": [
    "# KNN with k=1\n",
    "from sklearn.neighbors import KNeighborsClassifier\n",
    "knn = KNeighborsClassifier(n_neighbors=1)\n",
    "knn.fit(X, y)\n",
    "\n",
    "print(\"Training data:\\n\",train,\"\\n\")\n",
    "print(\"Single test sample:\\n\",test)"
   ]
  },
  {
   "cell_type": "markdown",
   "metadata": {},
   "source": [
    "**what id \"should\" the classifier predict?**\n",
    "\n",
    "Hopefully, you said id 2."
   ]
  },
  {
   "cell_type": "code",
   "execution_count": 6,
   "metadata": {
    "collapsed": false
   },
   "outputs": [
    {
     "name": "stdout",
     "output_type": "stream",
     "text": [
      "Prediction:  [1]\n"
     ]
    }
   ],
   "source": [
    "print(\"Prediction: \",knn.predict(test))   # we're trying to get a prediction value; uses the distance using the 'rings'\n",
    "                                          # feature\n",
    "# i.e., it seems to be predicting\n",
    "#    length  mass  rings  target\n",
    "# 1     0.3   0.2     50       1\n",
    "\n",
    "# instead of (which we would expect)\n",
    "#    length  mass  rings  target\n",
    "# 2     0.6   0.8     60       2 \n",
    "\n",
    "# The classifier predicts id 1 instead of id 2 because the portion of the distance in the rings column dominates all \n",
    "# of the other distances (it varies over ~10 units, whereas both of the other features vary over ~1 unit)."
   ]
  },
  {
   "cell_type": "markdown",
   "metadata": {},
   "source": [
    "The classifier predicts id `1` instead of id `2` because the portion of the distance in the `rings` column **dominates** all of the other distances (it varies over ~10 units, whereas both of the other features vary over ~1 unit).\n",
    "\n",
    "How to get around this?\n",
    "\n",
    "**You scale all of the features so that they all range over the same values.**\n",
    "\n",
    "There are lots of ways to do this, we will talk about/use **Standard Scaling**. \n",
    "\n",
    "We simply compute the mean and standard deviation of each column, and for every value, subtract the mean of that column from the value, and divide by the standard deviation:\n",
    "$$zscore(x_i)=\\frac {x_i-\\mu}{\\sigma}$$\n",
    "\n",
    "Let's do that using `sklearn`'s `StandardScaler`:"
   ]
  },
  {
   "cell_type": "code",
   "execution_count": 7,
   "metadata": {
    "collapsed": false
   },
   "outputs": [
    {
     "name": "stdout",
     "output_type": "stream",
     "text": [
      "original values:\n",
      " [[  0.9   0.1  40. ]\n",
      " [  0.3   0.2  50. ]\n",
      " [  0.6   0.8  60. ]] \n",
      "\n",
      "scaled values:\n",
      " [[ 1.2247 -0.8627 -1.2247]\n",
      " [-1.2247 -0.5392  0.    ]\n",
      " [ 0.      1.4018  1.2247]] \n",
      "\n",
      "Mean of each column:\n",
      " [  0.6      0.3667  50.    ] \n",
      "\n",
      "standard deviation of each column:\n",
      " [ 0.2449  0.3091  8.165 ] \n",
      "\n",
      "Z-scoring the values by hand to make sure we arent crazy:\n",
      " [[ 1.2247 -0.8627 -1.2247]\n",
      " [-1.2247 -0.5392  0.    ]\n",
      " [ 0.      1.4018  1.2247]]\n",
      "Final Means of scaled data, per column:\n",
      " [ 0. -0.  0.]\n",
      "Final SD's of scaled data, per column:\n",
      " [ 1.  1.  1.]\n"
     ]
    }
   ],
   "source": [
    "from sklearn.preprocessing import StandardScaler    # can also use minmax scalar\n",
    "\n",
    "scaler = StandardScaler() # create a scaler object\n",
    "scaler.fit(X) # fit the scaler    -- we fit our data : learn the standard deviation, etc., i.e., we learn the data...\n",
    "X_scaled = scaler.transform(X) #transform the data with it\n",
    "\n",
    "# compare original to standardized\n",
    "print(\"original values:\\n\",X.values,\"\\n\")\n",
    "print(\"scaled values:\\n\",X_scaled,\"\\n\")\n",
    "\n",
    "# figure out how the standardization worked\n",
    "print(\"Mean of each column:\\n\",scaler.mean_,\"\\n\")\n",
    "print(\"standard deviation of each column:\\n\",scaler.scale_,\"\\n\")\n",
    "print(\"Z-scoring the values by hand to make sure we arent crazy:\\n\",(X.values - scaler.mean_) / scaler.scale_)\n",
    "print(\"Final Means of scaled data, per column:\\n\",X_scaled.mean(axis=0))\n",
    "print(\"Final SD's of scaled data, per column:\\n\",X_scaled.std(axis=0))\n",
    "# We see that the ring no longer dominates the data space\n",
    "# Note: we've scaled the data to have 0 mean and unit variance (i.e., standard deviation = 1)"
   ]
  },
  {
   "cell_type": "markdown",
   "metadata": {},
   "source": [
    "You can also scale the data to an arbitrary range of values (instead of scaling them to have 0 mean and unit variance), we specify the minimum and maximum values that the column can take on, using `MinMaxScaler`. By default, `MinMaxScaler` scales the data to the range (0,1):"
   ]
  },
  {
   "cell_type": "code",
   "execution_count": 8,
   "metadata": {
    "collapsed": false
   },
   "outputs": [
    {
     "name": "stdout",
     "output_type": "stream",
     "text": [
      "original values:\n",
      " [[  0.9   0.1  40. ]\n",
      " [  0.3   0.2  50. ]\n",
      " [  0.6   0.8  60. ]] \n",
      "\n",
      "scaled values:\n",
      " [[ 1.      0.      0.    ]\n",
      " [ 0.      0.1429  0.5   ]\n",
      " [ 0.5     1.      1.    ]] \n",
      "\n",
      "min and max of scaled values:\n",
      " 0.0 \n",
      " 1.0\n",
      "Mean of min/max scaled columns:\n",
      " [ 0.5    0.381  0.5  ]\n",
      "Std of min/max scaled columns:\n",
      " [ 0.4082  0.4416  0.4082]\n"
     ]
    }
   ],
   "source": [
    "from sklearn.preprocessing import MinMaxScaler   # same approach\n",
    "minmax= MinMaxScaler()    # instantiate the scalar\n",
    "\n",
    "minmax.fit(X) #fit the scaler\n",
    "X_scaled_minmax = minmax.transform(X) #transform the data with it\n",
    "# Make sure you scale your test data using the same scalar function\n",
    "# compare original to standardized\n",
    "print(\"original values:\\n\",X.values,\"\\n\")\n",
    "print(\"scaled values:\\n\",X_scaled_minmax,\"\\n\")\n",
    "\n",
    "print(\"min and max of scaled values:\\n\",X_scaled_minmax.min(),\"\\n\",X_scaled_minmax.max())\n",
    "print(\"Mean of min/max scaled columns:\\n\", X_scaled_minmax.mean(axis=0))\n",
    "print(\"Std of min/max scaled columns:\\n\", X_scaled_minmax.std(axis=0))\n",
    "# Everything in between gets value between 0 and 1\n",
    "# For a tree-based model you may not use scaling. You might (need to) use it for linear regression, however"
   ]
  },
  {
   "cell_type": "markdown",
   "metadata": {},
   "source": [
    "Other scaling approaches may be more appropriate in different circumstances, you can read about them here: [preprocessing and scaling data in scikit-learn](http://scikit-learn.org/stable/modules/preprocessing.html)"
   ]
  },
  {
   "cell_type": "markdown",
   "metadata": {},
   "source": [
    "One thing that is very important to keep in mind when scaling: \n",
    "\n",
    "**When you're creating a scaling object, you should first \"fit\" it to the training data, then transform both the training and testing data using the \"fit\" scaler. If you try to fit the training and testing data separately, you will get inaccurate results.**\n",
    "\n",
    "(Why?)"
   ]
  },
  {
   "cell_type": "markdown",
   "metadata": {},
   "source": [
    "### UCI Wine Dataset"
   ]
  },
  {
   "cell_type": "code",
   "execution_count": 9,
   "metadata": {
    "collapsed": false
   },
   "outputs": [
    {
     "data": {
      "text/html": [
       "<div>\n",
       "<table border=\"1\" class=\"dataframe\">\n",
       "  <thead>\n",
       "    <tr style=\"text-align: right;\">\n",
       "      <th></th>\n",
       "      <th>Class label</th>\n",
       "      <th>Alcohol</th>\n",
       "      <th>Malic acid</th>\n",
       "    </tr>\n",
       "  </thead>\n",
       "  <tbody>\n",
       "    <tr>\n",
       "      <th>0</th>\n",
       "      <td>1</td>\n",
       "      <td>14.23</td>\n",
       "      <td>1.71</td>\n",
       "    </tr>\n",
       "    <tr>\n",
       "      <th>1</th>\n",
       "      <td>1</td>\n",
       "      <td>13.20</td>\n",
       "      <td>1.78</td>\n",
       "    </tr>\n",
       "    <tr>\n",
       "      <th>2</th>\n",
       "      <td>1</td>\n",
       "      <td>13.16</td>\n",
       "      <td>2.36</td>\n",
       "    </tr>\n",
       "    <tr>\n",
       "      <th>3</th>\n",
       "      <td>1</td>\n",
       "      <td>14.37</td>\n",
       "      <td>1.95</td>\n",
       "    </tr>\n",
       "    <tr>\n",
       "      <th>4</th>\n",
       "      <td>1</td>\n",
       "      <td>13.24</td>\n",
       "      <td>2.59</td>\n",
       "    </tr>\n",
       "  </tbody>\n",
       "</table>\n",
       "</div>"
      ],
      "text/plain": [
       "   Class label  Alcohol  Malic acid\n",
       "0            1    14.23        1.71\n",
       "1            1    13.20        1.78\n",
       "2            1    13.16        2.36\n",
       "3            1    14.37        1.95\n",
       "4            1    13.24        2.59"
      ]
     },
     "execution_count": 9,
     "metadata": {},
     "output_type": "execute_result"
    }
   ],
   "source": [
    "df = pd.io.parsers.read_csv(\n",
    "    'http://archive.ics.uci.edu/ml/machine-learning-databases/wine/wine.data',\n",
    "     header=None,\n",
    "     usecols=[0,1,2]\n",
    "    )\n",
    "\n",
    "df.columns=['Class label', 'Alcohol', 'Malic acid']\n",
    "\n",
    "df.head()   # these are the different wine classes\n",
    "\n",
    "# -- These data are the results of a chemical analysis of\n",
    "#      wines grown in the same region in Italy but derived from three\n",
    "#      different cultivars ( -- is this where the 3 classes come from?)\n",
    "#      The analysis determined the quantities of 13 constituents\n",
    "#      found in each of the three types of wines. \n",
    "\n",
    "# The attributes are:\n",
    "# 1) Alcohol\n",
    "# 2) Malic acid\n",
    "# 3) Ash\n",
    "# 4) Alcalinity of ash  \n",
    "# 5) Magnesium\n",
    "# 6) Total phenols\n",
    "# 7) Flavanoids\n",
    "# 8) Nonflavanoid phenols\n",
    "# 9) Proanthocyanins\n",
    "# 10)Color intensity\n",
    "# 11)Hue\n",
    "# 12)OD280/OD315 of diluted wines\n",
    "# 13)Proline            \n",
    "\n",
    "# Number of Instances:\n",
    "# class 1: 59\n",
    "# class 2: 71\n",
    "# class 3: 48\n",
    "# The 3 classes are tied to the 3 types of wines\n",
    "\n",
    "# Number of Attributes: 13"
   ]
  },
  {
   "cell_type": "markdown",
   "metadata": {},
   "source": [
    "As we can see in the table above, the features **Alcohol (percent/volumne)** and **Malic acid (g/l)** are measured on different scales, so that **Feature Scaling** is necessary and an important prior to any comparison or combination of these data."
   ]
  },
  {
   "cell_type": "code",
   "execution_count": 10,
   "metadata": {
    "collapsed": false
   },
   "outputs": [],
   "source": [
    "std_scale = preprocessing.StandardScaler().fit(df[['Alcohol', 'Malic acid']])  # we build 2 different scalars\n",
    "df_std = std_scale.transform(df[['Alcohol', 'Malic acid']])\n",
    "\n",
    "minmax_scale = preprocessing.MinMaxScaler().fit(df[['Alcohol', 'Malic acid']])\n",
    "df_minmax = minmax_scale.transform(df[['Alcohol', 'Malic acid']])"
   ]
  },
  {
   "cell_type": "code",
   "execution_count": 11,
   "metadata": {
    "collapsed": false
   },
   "outputs": [
    {
     "name": "stdout",
     "output_type": "stream",
     "text": [
      "Mean after standardization:\n",
      "Alcohol=-0.00, Malic acid=-0.00\n",
      "\n",
      "Standard deviation after standardization:\n",
      "Alcohol=1.00, Malic acid=1.00\n"
     ]
    }
   ],
   "source": [
    "print('Mean after standardization:\\nAlcohol={:.2f}, Malic acid={:.2f}'\n",
    "      .format(df_std[:,0].mean(), df_std[:,1].mean()))\n",
    "print('\\nStandard deviation after standardization:\\nAlcohol={:.2f}, Malic acid={:.2f}'\n",
    "      .format(df_std[:,0].std(), df_std[:,1].std()))"
   ]
  },
  {
   "cell_type": "code",
   "execution_count": 12,
   "metadata": {
    "collapsed": false
   },
   "outputs": [
    {
     "data": {
      "image/png": "[encoded data removed]",
      "text/plain": [
       "<matplotlib.figure.Figure at 0x118586250>"
      ]
     },
     "metadata": {},
     "output_type": "display_data"
    }
   ],
   "source": [
    "# visualization\n",
    "%matplotlib inline\n",
    "import seaborn as sns\n",
    "import matplotlib.pyplot as plt\n",
    "\n",
    "def plot():\n",
    "    plt.figure(figsize=(8,6))\n",
    "\n",
    "    plt.scatter(df['Alcohol'], df['Malic acid'],\n",
    "            color='green', label='input scale', alpha=0.5)\n",
    "\n",
    "    plt.scatter(df_std[:,0], df_std[:,1], color='red',\n",
    "            label='Standardized [$ N  (\\mu=0, \\; \\sigma=1) $]', alpha=0.3)\n",
    "    \n",
    "    plt.scatter(df_minmax[:,0], df_minmax[:,1],\n",
    "        color='blue', label='min-max scaled [min=0, max=1]', alpha=0.3)\n",
    "\n",
    "    plt.title('Alcohol and Malic Acid content of the wine dataset')\n",
    "    plt.xlabel('Alcohol')\n",
    "    plt.ylabel('Malic Acid')\n",
    "    plt.legend(loc='upper left')\n",
    "    plt.grid()\n",
    "\n",
    "    plt.tight_layout()\n",
    "\n",
    "plot()\n",
    "plt.show()"
   ]
  },
  {
   "cell_type": "markdown",
   "metadata": {},
   "source": [
    "#### Exercise Time!!!\n",
    "\n",
    "* load in the wine data located [here](http://archive.ics.uci.edu/ml/machine-learning-databases/wine/wine.data). The columns for the data are as follows:\n",
    "    1. Label\n",
    "    2. Alcohol\n",
    "    3. Malic acid\n",
    "    4. Ash\n",
    "    5. Alcalinity of ash  \n",
    "    6. Magnesium\n",
    "\t7. Total phenols\n",
    "    8. Flavonoids\n",
    "    9. Nonflavanoid phenols\n",
    "    10. Proanthocyanins\n",
    "    11. Color intensity\n",
    "    12. Hue\n",
    "    13. OD280/OD315 of diluted wines\n",
    "    14. Proline\n",
    "    \n",
    "* build a knn model with 3 nearest neighbors to predict the wine's `label` from the remaining columns. Don't scale the data, and check the test error when using 80/20 train/test split. (use `KNeighborsClassifier(n_neighbors=3)`)\n",
    "* now, build the same model, with the same train/test split, but scale the data using `StandardScaler` and `MinMaxScaler`. What is the test error for each of these scaled datasets (for `train_test_split use random_state=1234` for reproducibility)? "
   ]
  },
  {
   "cell_type": "code",
   "execution_count": 13,
   "metadata": {
    "collapsed": false
   },
   "outputs": [
    {
     "name": "stdout",
     "output_type": "stream",
     "text": [
      "['alcohol', 'malic', 'ash', 'ash_alcalinity', 'magnesium', 'total_phenols', 'flavonoids', 'nonflavonoids', 'proanth', 'color', 'hue', 'dilute', 'proline']\n",
      "label\n"
     ]
    },
    {
     "data": {
      "text/html": [
       "<div>\n",
       "<table border=\"1\" class=\"dataframe\">\n",
       "  <thead>\n",
       "    <tr style=\"text-align: right;\">\n",
       "      <th></th>\n",
       "      <th>label</th>\n",
       "      <th>alcohol</th>\n",
       "      <th>malic</th>\n",
       "      <th>ash</th>\n",
       "      <th>ash_alcalinity</th>\n",
       "      <th>magnesium</th>\n",
       "      <th>total_phenols</th>\n",
       "      <th>flavonoids</th>\n",
       "      <th>nonflavonoids</th>\n",
       "      <th>proanth</th>\n",
       "      <th>color</th>\n",
       "      <th>hue</th>\n",
       "      <th>dilute</th>\n",
       "      <th>proline</th>\n",
       "    </tr>\n",
       "  </thead>\n",
       "  <tbody>\n",
       "    <tr>\n",
       "      <th>0</th>\n",
       "      <td>1</td>\n",
       "      <td>14.23</td>\n",
       "      <td>1.71</td>\n",
       "      <td>2.43</td>\n",
       "      <td>15.6</td>\n",
       "      <td>127</td>\n",
       "      <td>2.80</td>\n",
       "      <td>3.06</td>\n",
       "      <td>0.28</td>\n",
       "      <td>2.29</td>\n",
       "      <td>5.64</td>\n",
       "      <td>1.04</td>\n",
       "      <td>3.92</td>\n",
       "      <td>1065</td>\n",
       "    </tr>\n",
       "    <tr>\n",
       "      <th>1</th>\n",
       "      <td>1</td>\n",
       "      <td>13.20</td>\n",
       "      <td>1.78</td>\n",
       "      <td>2.14</td>\n",
       "      <td>11.2</td>\n",
       "      <td>100</td>\n",
       "      <td>2.65</td>\n",
       "      <td>2.76</td>\n",
       "      <td>0.26</td>\n",
       "      <td>1.28</td>\n",
       "      <td>4.38</td>\n",
       "      <td>1.05</td>\n",
       "      <td>3.40</td>\n",
       "      <td>1050</td>\n",
       "    </tr>\n",
       "    <tr>\n",
       "      <th>2</th>\n",
       "      <td>1</td>\n",
       "      <td>13.16</td>\n",
       "      <td>2.36</td>\n",
       "      <td>2.67</td>\n",
       "      <td>18.6</td>\n",
       "      <td>101</td>\n",
       "      <td>2.80</td>\n",
       "      <td>3.24</td>\n",
       "      <td>0.30</td>\n",
       "      <td>2.81</td>\n",
       "      <td>5.68</td>\n",
       "      <td>1.03</td>\n",
       "      <td>3.17</td>\n",
       "      <td>1185</td>\n",
       "    </tr>\n",
       "    <tr>\n",
       "      <th>3</th>\n",
       "      <td>1</td>\n",
       "      <td>14.37</td>\n",
       "      <td>1.95</td>\n",
       "      <td>2.50</td>\n",
       "      <td>16.8</td>\n",
       "      <td>113</td>\n",
       "      <td>3.85</td>\n",
       "      <td>3.49</td>\n",
       "      <td>0.24</td>\n",
       "      <td>2.18</td>\n",
       "      <td>7.80</td>\n",
       "      <td>0.86</td>\n",
       "      <td>3.45</td>\n",
       "      <td>1480</td>\n",
       "    </tr>\n",
       "    <tr>\n",
       "      <th>4</th>\n",
       "      <td>1</td>\n",
       "      <td>13.24</td>\n",
       "      <td>2.59</td>\n",
       "      <td>2.87</td>\n",
       "      <td>21.0</td>\n",
       "      <td>118</td>\n",
       "      <td>2.80</td>\n",
       "      <td>2.69</td>\n",
       "      <td>0.39</td>\n",
       "      <td>1.82</td>\n",
       "      <td>4.32</td>\n",
       "      <td>1.04</td>\n",
       "      <td>2.93</td>\n",
       "      <td>735</td>\n",
       "    </tr>\n",
       "  </tbody>\n",
       "</table>\n",
       "</div>"
      ],
      "text/plain": [
       "   label  alcohol  malic   ash  ash_alcalinity  magnesium  total_phenols  \\\n",
       "0      1    14.23   1.71  2.43            15.6        127           2.80   \n",
       "1      1    13.20   1.78  2.14            11.2        100           2.65   \n",
       "2      1    13.16   2.36  2.67            18.6        101           2.80   \n",
       "3      1    14.37   1.95  2.50            16.8        113           3.85   \n",
       "4      1    13.24   2.59  2.87            21.0        118           2.80   \n",
       "\n",
       "   flavonoids  nonflavonoids  proanth  color   hue  dilute  proline  \n",
       "0        3.06           0.28     2.29   5.64  1.04    3.92     1065  \n",
       "1        2.76           0.26     1.28   4.38  1.05    3.40     1050  \n",
       "2        3.24           0.30     2.81   5.68  1.03    3.17     1185  \n",
       "3        3.49           0.24     2.18   7.80  0.86    3.45     1480  \n",
       "4        2.69           0.39     1.82   4.32  1.04    2.93      735  "
      ]
     },
     "execution_count": 13,
     "metadata": {},
     "output_type": "execute_result"
    }
   ],
   "source": [
    "url = 'http://archive.ics.uci.edu/ml/machine-learning-databases/wine/wine.data'\n",
    "column_names = [\"label\",\"alcohol\",\"malic\",\"ash\",\"ash_alcalinity\",\"magnesium\",\"total_phenols\",\n",
    "                \"flavonoids\",\"nonflavonoids\",\"proanth\",\"color\",\"hue\",\"dilute\",\"proline\"]\n",
    "wine_features = column_names[1:]\n",
    "wine_target = column_names[0]\n",
    "wine_data = pd.read_csv(url,names=column_names)\n",
    "print(wine_features)\n",
    "print(wine_target)\n",
    "wine_data.head()"
   ]
  },
  {
   "cell_type": "code",
   "execution_count": 14,
   "metadata": {
    "collapsed": false
   },
   "outputs": [
    {
     "name": "stdout",
     "output_type": "stream",
     "text": [
      "   alcohol  malic   ash  ash_alcalinity  magnesium  total_phenols  flavonoids  \\\n",
      "0    14.23   1.71  2.43            15.6        127           2.80        3.06   \n",
      "1    13.20   1.78  2.14            11.2        100           2.65        2.76   \n",
      "2    13.16   2.36  2.67            18.6        101           2.80        3.24   \n",
      "3    14.37   1.95  2.50            16.8        113           3.85        3.49   \n",
      "4    13.24   2.59  2.87            21.0        118           2.80        2.69   \n",
      "\n",
      "   nonflavonoids  proanth  color   hue  dilute  proline  \n",
      "0           0.28     2.29   5.64  1.04    3.92     1065  \n",
      "1           0.26     1.28   4.38  1.05    3.40     1050  \n",
      "2           0.30     2.81   5.68  1.03    3.17     1185  \n",
      "3           0.24     2.18   7.80  0.86    3.45     1480  \n",
      "4           0.39     1.82   4.32  1.04    2.93      735  \n",
      "0    1\n",
      "1    1\n",
      "2    1\n",
      "3    1\n",
      "4    1\n",
      "Name: label, dtype: int64\n",
      "(178, 13) (178,)\n"
     ]
    }
   ],
   "source": [
    "#your code below here\n",
    "X = wine_data[wine_features]  # We create a matrix X here that holds our features\n",
    "y = wine_data.label    # We create a vector y that holds our response variables across all the observatons in our dataset.\n",
    "# X_train, X\n",
    "print(X.head())\n",
    "print(y.head())\n",
    "print(X.shape,y.shape)"
   ]
  },
  {
   "cell_type": "code",
   "execution_count": 15,
   "metadata": {
    "collapsed": false
   },
   "outputs": [
    {
     "name": "stdout",
     "output_type": "stream",
     "text": [
      "     alcohol  malic   ash  ash_alcalinity  magnesium  total_phenols  \\\n",
      "54     13.74   1.67  2.25            16.4        118           2.60   \n",
      "144    12.25   3.88  2.20            18.5        112           1.38   \n",
      "27     13.30   1.72  2.14            17.0         94           2.40   \n",
      "40     13.56   1.71  2.31            16.2        117           3.15   \n",
      "173    13.71   5.65  2.45            20.5         95           1.68   \n",
      "\n",
      "     flavonoids  nonflavonoids  proanth  color   hue  dilute  proline  \n",
      "54         2.90           0.21     1.62   5.85  0.92    3.20     1060  \n",
      "144        0.78           0.29     1.14   8.21  0.65    2.00      855  \n",
      "27         2.19           0.27     1.35   3.95  1.02    2.77     1285  \n",
      "40         3.29           0.34     2.34   6.13  0.95    3.38      795  \n",
      "173        0.61           0.52     1.06   7.70  0.64    1.74      740  \n",
      "----------\n",
      "     alcohol  malic   ash  ash_alcalinity  magnesium  total_phenols  \\\n",
      "111    12.52   2.43  2.17            21.0         88           2.55   \n",
      "123    13.05   5.80  2.13            21.5         86           2.62   \n",
      "63     12.37   1.13  2.16            19.0         87           3.50   \n",
      "88     11.64   2.06  2.46            21.6         84           1.95   \n",
      "141    13.36   2.56  2.35            20.0         89           1.40   \n",
      "\n",
      "     flavonoids  nonflavonoids  proanth  color   hue  dilute  proline  \n",
      "111        2.27           0.26     1.22   2.00  0.90    2.78      325  \n",
      "123        2.65           0.30     2.01   2.60  0.73    3.10      380  \n",
      "63         3.10           0.19     1.87   4.45  1.22    2.87      420  \n",
      "88         1.69           0.48     1.35   2.80  1.00    2.75      680  \n",
      "141        0.50           0.37     0.64   5.60  0.70    2.47      780  \n",
      "----------\n",
      "54     1\n",
      "144    3\n",
      "27     1\n",
      "40     1\n",
      "173    3\n",
      "Name: label, dtype: int64\n",
      "----------\n",
      "111    2\n",
      "123    2\n",
      "63     2\n",
      "88     2\n",
      "141    3\n",
      "Name: label, dtype: int64\n"
     ]
    }
   ],
   "source": [
    "X_train, X_test, y_train, y_test = train_test_split(X, y, test_size = 0.2, random_state=1234)\n",
    "print(X_train.head())\n",
    "print(\"----------\")\n",
    "print(X_test.head())\n",
    "print(\"----------\")\n",
    "print(y_train.head())\n",
    "print(\"----------\")\n",
    "print(y_test.head())"
   ]
  },
  {
   "cell_type": "code",
   "execution_count": 16,
   "metadata": {
    "collapsed": false
   },
   "outputs": [
    {
     "name": "stdout",
     "output_type": "stream",
     "text": [
      "[1 1 1 1 1 1 1 1 1 1 1 1 1 1 1 1 1 1 1 3 1 3 1 1 3 3 1 1 1 1 1 1 1 1 1 1 1\n",
      " 1 1 1 1 1 1 1 1 1 1 1 1 1 1 1 1 1 1 1 1 1 1 2 2 2 2 2 2 2 2 2 3 2 1 2 2 1\n",
      " 1 2 2 3 1 2 2 2 2 3 3 2 2 2 2 2 2 2 2 2 2 2 3 2 3 2 2 2 2 2 2 2 2 2 2 2 3\n",
      " 2 3 2 2 2 2 2 2 2 2 2 2 2 2 2 2 2 2 2 3 3 3 3 3 3 3 3 2 3 3 1 3 3 3 3 2 3\n",
      " 3 3 3 2 2 3 3 3 3 2 3 3 3 3 3 3 3 3 3 2 3 3 3 3 3 3 3 3 3 3]\n",
      "0.870786516854\n"
     ]
    }
   ],
   "source": [
    "knn_model = KNeighborsClassifier(n_neighbors=3)\n",
    "knn_model.fit(X, y)\n",
    "y_pred = knn_model.predict(X)\n",
    "print(y_pred)\n",
    "print(metrics.accuracy_score(y, y_pred))\n",
    "# print(metrics.accuracy_score(y_test, y_pred))"
   ]
  },
  {
   "cell_type": "code",
   "execution_count": 17,
   "metadata": {
    "collapsed": false
   },
   "outputs": [],
   "source": [
    "from sklearn.metrics import confusion_matrix\n",
    "from sklearn.preprocessing import MinMaxScaler   # same approach"
   ]
  },
  {
   "cell_type": "code",
   "execution_count": 18,
   "metadata": {
    "collapsed": false
   },
   "outputs": [
    {
     "name": "stdout",
     "output_type": "stream",
     "text": [
      "(142, 13)\n",
      "(36, 13)\n",
      "(36,)\n",
      "(178,)\n",
      "(142,)\n",
      "(178,)\n",
      "(36, 13)\n",
      "(36,)\n",
      "0.944444444444\n"
     ]
    }
   ],
   "source": [
    "min_max_scaler_wine = MinMaxScaler()\n",
    "min_max_scaler_wine.fit(X_train)\n",
    "# %debug\n",
    "# %pdb\n",
    "# X_train_scaled = min_max_scaler_wine.fit_transform(X_train)\n",
    "X_train_scaled = min_max_scaler_wine.transform(X_train)\n",
    "knn_model_wine = KNeighborsClassifier(n_neighbors=3)\n",
    "knn_model_wine.fit(X_train_scaled, y_train)\n",
    "X_test_scaled = min_max_scaler_wine.transform(X_test)\n",
    "# y_scaled = min_max_scaler.transform(y)\n",
    "y_pred_scaled = knn_model_wine.predict(X_test_scaled)\n",
    "\n",
    "# work on this more ....\n",
    "print(X_train.shape)\n",
    "print(X_test_scaled.shape)\n",
    "print(y_pred_scaled.shape)\n",
    "print(y.shape)\n",
    "print(y_train.shape)\n",
    "print(y_pred.shape)\n",
    "print(X_test.shape)\n",
    "print(y_test.shape)\n",
    "# %debug\n",
    "# print(metrics.accuracy_score(y, y_pred_scaled))\n",
    "print(metrics.accuracy_score(y_test, y_pred_scaled))     # Is this is the test error?  Is this correct?\n",
    "# print(metrics.accuracy_score(y_scaled, y_pred_scaled))"
   ]
  },
  {
   "cell_type": "markdown",
   "metadata": {},
   "source": [
    "### Handling Categorical Features\n",
    "\n",
    "scikit-learn expects all features to be numeric. So how do we include categorical columns (features) in our model? Before we decide how to encode categorical features, we need to understand the kind of categorical features we have:\n",
    "\n",
    "- **Ordered categories:** transform them to sensible numeric values (example: small=1, medium=2, large=3)\n",
    "- **Unordered categories:** use dummy encoding\n",
    "\n",
    "We will look at one case of unordered categorical columns here:\n",
    "- **unordered categories with more than 2 levels**\n",
    "\n",
    "Let's work with another dataset from the UCI ML repository, the [abalone dataset](http://archive.ics.uci.edu/ml/datasets/Abalone), which contains 9 columns:\n",
    "1. **Sex:** M, F, and I (infant)\n",
    "2. **Length:** Longest shell measurement\n",
    "3. **Diameter:** Perpendicular to length\n",
    "4. **Height:** Height with with meat in shell\n",
    "5. **Whole weight:** Whole abalone weight\n",
    "6. **Shucked weight:** Weight of meat only\n",
    "7. **Viscera weight:** Gut weight (after bleeding)\n",
    "8. **Shell weight:** Weight after being dried\n",
    "9. **Rings:** This value +1.5 gives the abalone's age in years"
   ]
  },
  {
   "cell_type": "code",
   "execution_count": 19,
   "metadata": {
    "collapsed": false
   },
   "outputs": [
    {
     "data": {
      "text/html": [
       "<div>\n",
       "<table border=\"1\" class=\"dataframe\">\n",
       "  <thead>\n",
       "    <tr style=\"text-align: right;\">\n",
       "      <th></th>\n",
       "      <th>sex</th>\n",
       "      <th>length</th>\n",
       "      <th>diam</th>\n",
       "      <th>height</th>\n",
       "      <th>whole</th>\n",
       "      <th>shucked</th>\n",
       "      <th>viscera</th>\n",
       "      <th>shell</th>\n",
       "      <th>age</th>\n",
       "    </tr>\n",
       "  </thead>\n",
       "  <tbody>\n",
       "    <tr>\n",
       "      <th>0</th>\n",
       "      <td>M</td>\n",
       "      <td>0.455</td>\n",
       "      <td>0.365</td>\n",
       "      <td>0.095</td>\n",
       "      <td>0.5140</td>\n",
       "      <td>0.2245</td>\n",
       "      <td>0.1010</td>\n",
       "      <td>0.150</td>\n",
       "      <td>15</td>\n",
       "    </tr>\n",
       "    <tr>\n",
       "      <th>1</th>\n",
       "      <td>M</td>\n",
       "      <td>0.350</td>\n",
       "      <td>0.265</td>\n",
       "      <td>0.090</td>\n",
       "      <td>0.2255</td>\n",
       "      <td>0.0995</td>\n",
       "      <td>0.0485</td>\n",
       "      <td>0.070</td>\n",
       "      <td>7</td>\n",
       "    </tr>\n",
       "    <tr>\n",
       "      <th>2</th>\n",
       "      <td>F</td>\n",
       "      <td>0.530</td>\n",
       "      <td>0.420</td>\n",
       "      <td>0.135</td>\n",
       "      <td>0.6770</td>\n",
       "      <td>0.2565</td>\n",
       "      <td>0.1415</td>\n",
       "      <td>0.210</td>\n",
       "      <td>9</td>\n",
       "    </tr>\n",
       "    <tr>\n",
       "      <th>3</th>\n",
       "      <td>M</td>\n",
       "      <td>0.440</td>\n",
       "      <td>0.365</td>\n",
       "      <td>0.125</td>\n",
       "      <td>0.5160</td>\n",
       "      <td>0.2155</td>\n",
       "      <td>0.1140</td>\n",
       "      <td>0.155</td>\n",
       "      <td>10</td>\n",
       "    </tr>\n",
       "    <tr>\n",
       "      <th>4</th>\n",
       "      <td>I</td>\n",
       "      <td>0.330</td>\n",
       "      <td>0.255</td>\n",
       "      <td>0.080</td>\n",
       "      <td>0.2050</td>\n",
       "      <td>0.0895</td>\n",
       "      <td>0.0395</td>\n",
       "      <td>0.055</td>\n",
       "      <td>7</td>\n",
       "    </tr>\n",
       "  </tbody>\n",
       "</table>\n",
       "</div>"
      ],
      "text/plain": [
       "  sex  length   diam  height   whole  shucked  viscera  shell  age\n",
       "0   M   0.455  0.365   0.095  0.5140   0.2245   0.1010  0.150   15\n",
       "1   M   0.350  0.265   0.090  0.2255   0.0995   0.0485  0.070    7\n",
       "2   F   0.530  0.420   0.135  0.6770   0.2565   0.1415  0.210    9\n",
       "3   M   0.440  0.365   0.125  0.5160   0.2155   0.1140  0.155   10\n",
       "4   I   0.330  0.255   0.080  0.2050   0.0895   0.0395  0.055    7"
      ]
     },
     "execution_count": 19,
     "metadata": {},
     "output_type": "execute_result"
    }
   ],
   "source": [
    "columns = [\"sex\",\"length\",\"diam\",\"height\",\"whole\",\"shucked\",\"viscera\",\"shell\",\"age\"]\n",
    "abalone_data = pd.read_csv(\"http://archive.ics.uci.edu/ml/machine-learning-databases/abalone/abalone.data\",names=columns)\n",
    "abalone_data.head()"
   ]
  },
  {
   "cell_type": "markdown",
   "metadata": {},
   "source": [
    "How do we include an unordered categorical feature with more than two levels, like **sex**? We can't simply encode it as F=1, I=2, M=3, because that would imply an **ordered relationship** in which I is somehow \"double\" F and M is somehow \"triple\" F.\n",
    "\n",
    "Instead, we create **additional dummy variables** and append them to the original dataset:"
   ]
  },
  {
   "cell_type": "code",
   "execution_count": 20,
   "metadata": {
    "collapsed": false
   },
   "outputs": [
    {
     "data": {
      "text/html": [
       "<div>\n",
       "<table border=\"1\" class=\"dataframe\">\n",
       "  <thead>\n",
       "    <tr style=\"text-align: right;\">\n",
       "      <th></th>\n",
       "      <th>F</th>\n",
       "      <th>I</th>\n",
       "      <th>M</th>\n",
       "    </tr>\n",
       "  </thead>\n",
       "  <tbody>\n",
       "    <tr>\n",
       "      <th>0</th>\n",
       "      <td>0</td>\n",
       "      <td>0</td>\n",
       "      <td>1</td>\n",
       "    </tr>\n",
       "    <tr>\n",
       "      <th>1</th>\n",
       "      <td>0</td>\n",
       "      <td>0</td>\n",
       "      <td>1</td>\n",
       "    </tr>\n",
       "    <tr>\n",
       "      <th>2</th>\n",
       "      <td>1</td>\n",
       "      <td>0</td>\n",
       "      <td>0</td>\n",
       "    </tr>\n",
       "    <tr>\n",
       "      <th>3</th>\n",
       "      <td>0</td>\n",
       "      <td>0</td>\n",
       "      <td>1</td>\n",
       "    </tr>\n",
       "    <tr>\n",
       "      <th>4</th>\n",
       "      <td>0</td>\n",
       "      <td>1</td>\n",
       "      <td>0</td>\n",
       "    </tr>\n",
       "  </tbody>\n",
       "</table>\n",
       "</div>"
      ],
      "text/plain": [
       "   F  I  M\n",
       "0  0  0  1\n",
       "1  0  0  1\n",
       "2  1  0  0\n",
       "3  0  0  1\n",
       "4  0  1  0"
      ]
     },
     "execution_count": 20,
     "metadata": {},
     "output_type": "execute_result"
    }
   ],
   "source": [
    "sex_dummies = pd.get_dummies(abalone_data.sex).astype(int)\n",
    "\"\"\"Signature: pd.get_dummies(data, prefix=None, prefix_sep='_', dummy_na=False, columns=None, sparse=False, drop_first=False)\n",
    "Docstring:\n",
    "Convert categorical variable into dummy/indicator variables\n",
    "\n",
    "Parameters\n",
    "----------\n",
    "data : array-like, Series, or DataFrame\n",
    "prefix : string, list of strings, or dict of strings, default None\n",
    "    String to append DataFrame column names\n",
    "    Pass a list with length equal to the number of columns\n",
    "    when calling get_dummies on a DataFrame. Alternativly, `prefix`\n",
    "    can be a dictionary mapping column names to prefixes.\n",
    "prefix_sep : string, default '_'\n",
    "    If appending prefix, separator/delimiter to use. Or pass a\n",
    "    list or dictionary as with `prefix.`\n",
    "dummy_na : bool, default False\n",
    "    Add a column to indicate NaNs, if False NaNs are ignored.\n",
    "columns : list-like, default None\n",
    "    Column names in the DataFrame to be encoded.\n",
    "    If `columns` is None then all the columns with\n",
    "    `object` or `category` dtype will be converted.\n",
    "sparse : bool, default False\n",
    "    Whether the dummy columns should be sparse or not.  Returns\n",
    "    SparseDataFrame if `data` is a Series or if all columns are included.\n",
    "    Otherwise returns a DataFrame with some SparseBlocks.\n",
    "\n",
    "    .. versionadded:: 0.16.1\n",
    "drop_first : bool, default False\n",
    "    Whether to get k-1 dummies out of n categorical levels by removing the\n",
    "    first level.\n",
    "\n",
    "    .. versionadded:: 0.18.0\n",
    "Returns\n",
    "-------\n",
    "dummies : DataFrame or SparseDataFrame\"\"\"\n",
    "sex_dummies.head()"
   ]
  },
  {
   "cell_type": "markdown",
   "metadata": {},
   "source": [
    "However, we actually only need **two dummy variables, not three**. Why? Because two dummies capture all of the \"information\" about the **sex** feature, and implicitly defines M as the **baseline level** (0 for both F and I implies M):"
   ]
  },
  {
   "cell_type": "code",
   "execution_count": 21,
   "metadata": {
    "collapsed": false
   },
   "outputs": [
    {
     "data": {
      "text/html": [
       "<div>\n",
       "<table border=\"1\" class=\"dataframe\">\n",
       "  <thead>\n",
       "    <tr style=\"text-align: right;\">\n",
       "      <th></th>\n",
       "      <th>F</th>\n",
       "      <th>I</th>\n",
       "    </tr>\n",
       "  </thead>\n",
       "  <tbody>\n",
       "    <tr>\n",
       "      <th>0</th>\n",
       "      <td>0</td>\n",
       "      <td>0</td>\n",
       "    </tr>\n",
       "    <tr>\n",
       "      <th>1</th>\n",
       "      <td>0</td>\n",
       "      <td>0</td>\n",
       "    </tr>\n",
       "    <tr>\n",
       "      <th>2</th>\n",
       "      <td>1</td>\n",
       "      <td>0</td>\n",
       "    </tr>\n",
       "    <tr>\n",
       "      <th>3</th>\n",
       "      <td>0</td>\n",
       "      <td>0</td>\n",
       "    </tr>\n",
       "    <tr>\n",
       "      <th>4</th>\n",
       "      <td>0</td>\n",
       "      <td>1</td>\n",
       "    </tr>\n",
       "  </tbody>\n",
       "</table>\n",
       "</div>"
      ],
      "text/plain": [
       "   F  I\n",
       "0  0  0\n",
       "1  0  0\n",
       "2  1  0\n",
       "3  0  0\n",
       "4  0  1"
      ]
     },
     "execution_count": 21,
     "metadata": {},
     "output_type": "execute_result"
    }
   ],
   "source": [
    "sex_dummies = sex_dummies[[\"F\",\"I\"]]\n",
    "sex_dummies.head()"
   ]
  },
  {
   "cell_type": "markdown",
   "metadata": {},
   "source": [
    "Here is how we interpret the encoding:\n",
    "\n",
    "- F is encoded as F=1 and I=0\n",
    "- I is encoded as F=0 and I=1\n",
    "- M is encoded as F=0 and I=0\n",
    "\n",
    "If this is confusing, think about why we only needed one dummy variable for a hypothetical binary categorical variable, not two dummy variables. In general, if you have a categorical feature with **k levels** (k distinct values that it takes on), you create **k-1 dummy variables**.\n",
    "\n",
    "Let's reappend these features to the original abalone dataset and drop the original `sex` column:"
   ]
  },
  {
   "cell_type": "code",
   "execution_count": 22,
   "metadata": {
    "collapsed": false
   },
   "outputs": [
    {
     "data": {
      "text/html": [
       "<div>\n",
       "<table border=\"1\" class=\"dataframe\">\n",
       "  <thead>\n",
       "    <tr style=\"text-align: right;\">\n",
       "      <th></th>\n",
       "      <th>length</th>\n",
       "      <th>diam</th>\n",
       "      <th>height</th>\n",
       "      <th>whole</th>\n",
       "      <th>shucked</th>\n",
       "      <th>viscera</th>\n",
       "      <th>shell</th>\n",
       "      <th>age</th>\n",
       "      <th>F</th>\n",
       "      <th>I</th>\n",
       "    </tr>\n",
       "  </thead>\n",
       "  <tbody>\n",
       "    <tr>\n",
       "      <th>0</th>\n",
       "      <td>0.455</td>\n",
       "      <td>0.365</td>\n",
       "      <td>0.095</td>\n",
       "      <td>0.5140</td>\n",
       "      <td>0.2245</td>\n",
       "      <td>0.1010</td>\n",
       "      <td>0.150</td>\n",
       "      <td>15</td>\n",
       "      <td>0</td>\n",
       "      <td>0</td>\n",
       "    </tr>\n",
       "    <tr>\n",
       "      <th>1</th>\n",
       "      <td>0.350</td>\n",
       "      <td>0.265</td>\n",
       "      <td>0.090</td>\n",
       "      <td>0.2255</td>\n",
       "      <td>0.0995</td>\n",
       "      <td>0.0485</td>\n",
       "      <td>0.070</td>\n",
       "      <td>7</td>\n",
       "      <td>0</td>\n",
       "      <td>0</td>\n",
       "    </tr>\n",
       "    <tr>\n",
       "      <th>2</th>\n",
       "      <td>0.530</td>\n",
       "      <td>0.420</td>\n",
       "      <td>0.135</td>\n",
       "      <td>0.6770</td>\n",
       "      <td>0.2565</td>\n",
       "      <td>0.1415</td>\n",
       "      <td>0.210</td>\n",
       "      <td>9</td>\n",
       "      <td>1</td>\n",
       "      <td>0</td>\n",
       "    </tr>\n",
       "    <tr>\n",
       "      <th>3</th>\n",
       "      <td>0.440</td>\n",
       "      <td>0.365</td>\n",
       "      <td>0.125</td>\n",
       "      <td>0.5160</td>\n",
       "      <td>0.2155</td>\n",
       "      <td>0.1140</td>\n",
       "      <td>0.155</td>\n",
       "      <td>10</td>\n",
       "      <td>0</td>\n",
       "      <td>0</td>\n",
       "    </tr>\n",
       "    <tr>\n",
       "      <th>4</th>\n",
       "      <td>0.330</td>\n",
       "      <td>0.255</td>\n",
       "      <td>0.080</td>\n",
       "      <td>0.2050</td>\n",
       "      <td>0.0895</td>\n",
       "      <td>0.0395</td>\n",
       "      <td>0.055</td>\n",
       "      <td>7</td>\n",
       "      <td>0</td>\n",
       "      <td>1</td>\n",
       "    </tr>\n",
       "  </tbody>\n",
       "</table>\n",
       "</div>"
      ],
      "text/plain": [
       "   length   diam  height   whole  shucked  viscera  shell  age  F  I\n",
       "0   0.455  0.365   0.095  0.5140   0.2245   0.1010  0.150   15  0  0\n",
       "1   0.350  0.265   0.090  0.2255   0.0995   0.0485  0.070    7  0  0\n",
       "2   0.530  0.420   0.135  0.6770   0.2565   0.1415  0.210    9  1  0\n",
       "3   0.440  0.365   0.125  0.5160   0.2155   0.1140  0.155   10  0  0\n",
       "4   0.330  0.255   0.080  0.2050   0.0895   0.0395  0.055    7  0  1"
      ]
     },
     "execution_count": 22,
     "metadata": {},
     "output_type": "execute_result"
    }
   ],
   "source": [
    "abalone_data = pd.concat([abalone_data,sex_dummies],axis=1) #remember that concatenating columns means axis=1!\n",
    "abalone_data.drop(\"sex\",inplace=True,axis=1)\n",
    "abalone_data.head()"
   ]
  },
  {
   "cell_type": "markdown",
   "metadata": {},
   "source": [
    "### Handling missing values\n",
    "\n",
    "scikit-learn models expect that all values are **numeric types** and **hold some meaning**. Thus, missing values are not allowed by scikit-learn (or by most machine learning algorithms).\n",
    "\n",
    "Let's use an example dataset that contains missing values to explore some strategies for how they can be handled. This dataset is called the [Chronic Kidney Disease Dataset](https://archive.ics.uci.edu/ml/datasets/Chronic_Kidney_Disease) and can be used to create a model that predicts whether someone has CKD (chronic kidney disease) or not.\n",
    "\n",
    "The columns in the dataset are as follows:\n",
    "\n",
    "* **age**: subject age, numeric\n",
    "* **bp**: blood pressure,  numeric\n",
    "* **sg**: specific gravity, numeric but discrete\n",
    "* **al**: albumin, numeric but discrete\n",
    "* **su**: sugar, numeric but discrete\n",
    "* **rbc**: red blood cells, categorical\n",
    "* **pc**: pus cell, categorical \n",
    "* **pcc**: pus cell clumps, categorical\n",
    "* **ba**: bacteria, categorical\n",
    "* **bgr**: blood glucose random, numeric\n",
    "* **bu**: blood urea, numeric\n",
    "* **sc**: serum creatinine, numeric \n",
    "* **sod**: sodium, numeric \n",
    "* **pot**: potassium, numeric \n",
    "* **hemo**: hemoglobin, numeric\n",
    "* **pcv**: packed cell volume, numeric\n",
    "* **wc**: white blood cell count, numeric\n",
    "* **rc**: red blood cell count, numeric\n",
    "* **htn**: hypertension, categorical\n",
    "* **dm**: diabetes mellitus, categorical \n",
    "* **cad**: coronary artery disease, categorical\n",
    "* **appet**: appetite, categorical\n",
    "* **pe**: pedal edema, categorical \n",
    "* **ane**: anemia, categorical\n",
    "* **class**: class, categorical\n",
    "\n",
    "Let's load the data in:"
   ]
  },
  {
   "cell_type": "code",
   "execution_count": 23,
   "metadata": {
    "collapsed": false
   },
   "outputs": [
    {
     "data": {
      "text/html": [
       "<div>\n",
       "<table border=\"1\" class=\"dataframe\">\n",
       "  <thead>\n",
       "    <tr style=\"text-align: right;\">\n",
       "      <th></th>\n",
       "      <th>age</th>\n",
       "      <th>bp</th>\n",
       "      <th>sg</th>\n",
       "      <th>al</th>\n",
       "      <th>su</th>\n",
       "      <th>rbc</th>\n",
       "      <th>pc</th>\n",
       "      <th>pcc</th>\n",
       "      <th>ba</th>\n",
       "      <th>bgr</th>\n",
       "      <th>...</th>\n",
       "      <th>pcv</th>\n",
       "      <th>wc</th>\n",
       "      <th>rc</th>\n",
       "      <th>htn</th>\n",
       "      <th>dm</th>\n",
       "      <th>cad</th>\n",
       "      <th>appet</th>\n",
       "      <th>pe</th>\n",
       "      <th>ane</th>\n",
       "      <th>class</th>\n",
       "    </tr>\n",
       "  </thead>\n",
       "  <tbody>\n",
       "    <tr>\n",
       "      <th>0</th>\n",
       "      <td>48</td>\n",
       "      <td>80</td>\n",
       "      <td>1.020</td>\n",
       "      <td>1</td>\n",
       "      <td>0</td>\n",
       "      <td>?</td>\n",
       "      <td>normal</td>\n",
       "      <td>notpresent</td>\n",
       "      <td>notpresent</td>\n",
       "      <td>121</td>\n",
       "      <td>...</td>\n",
       "      <td>44</td>\n",
       "      <td>7800</td>\n",
       "      <td>5.2</td>\n",
       "      <td>yes</td>\n",
       "      <td>yes</td>\n",
       "      <td>no</td>\n",
       "      <td>good</td>\n",
       "      <td>no</td>\n",
       "      <td>no</td>\n",
       "      <td>ckd</td>\n",
       "    </tr>\n",
       "    <tr>\n",
       "      <th>1</th>\n",
       "      <td>7</td>\n",
       "      <td>50</td>\n",
       "      <td>1.020</td>\n",
       "      <td>4</td>\n",
       "      <td>0</td>\n",
       "      <td>?</td>\n",
       "      <td>normal</td>\n",
       "      <td>notpresent</td>\n",
       "      <td>notpresent</td>\n",
       "      <td>?</td>\n",
       "      <td>...</td>\n",
       "      <td>38</td>\n",
       "      <td>6000</td>\n",
       "      <td>?</td>\n",
       "      <td>no</td>\n",
       "      <td>no</td>\n",
       "      <td>no</td>\n",
       "      <td>good</td>\n",
       "      <td>no</td>\n",
       "      <td>no</td>\n",
       "      <td>ckd</td>\n",
       "    </tr>\n",
       "    <tr>\n",
       "      <th>2</th>\n",
       "      <td>62</td>\n",
       "      <td>80</td>\n",
       "      <td>1.010</td>\n",
       "      <td>2</td>\n",
       "      <td>3</td>\n",
       "      <td>normal</td>\n",
       "      <td>normal</td>\n",
       "      <td>notpresent</td>\n",
       "      <td>notpresent</td>\n",
       "      <td>423</td>\n",
       "      <td>...</td>\n",
       "      <td>31</td>\n",
       "      <td>7500</td>\n",
       "      <td>?</td>\n",
       "      <td>no</td>\n",
       "      <td>yes</td>\n",
       "      <td>no</td>\n",
       "      <td>poor</td>\n",
       "      <td>no</td>\n",
       "      <td>yes</td>\n",
       "      <td>ckd</td>\n",
       "    </tr>\n",
       "    <tr>\n",
       "      <th>3</th>\n",
       "      <td>48</td>\n",
       "      <td>70</td>\n",
       "      <td>1.005</td>\n",
       "      <td>4</td>\n",
       "      <td>0</td>\n",
       "      <td>normal</td>\n",
       "      <td>abnormal</td>\n",
       "      <td>present</td>\n",
       "      <td>notpresent</td>\n",
       "      <td>117</td>\n",
       "      <td>...</td>\n",
       "      <td>32</td>\n",
       "      <td>6700</td>\n",
       "      <td>3.9</td>\n",
       "      <td>yes</td>\n",
       "      <td>no</td>\n",
       "      <td>no</td>\n",
       "      <td>poor</td>\n",
       "      <td>yes</td>\n",
       "      <td>yes</td>\n",
       "      <td>ckd</td>\n",
       "    </tr>\n",
       "    <tr>\n",
       "      <th>4</th>\n",
       "      <td>51</td>\n",
       "      <td>80</td>\n",
       "      <td>1.010</td>\n",
       "      <td>2</td>\n",
       "      <td>0</td>\n",
       "      <td>normal</td>\n",
       "      <td>normal</td>\n",
       "      <td>notpresent</td>\n",
       "      <td>notpresent</td>\n",
       "      <td>106</td>\n",
       "      <td>...</td>\n",
       "      <td>35</td>\n",
       "      <td>7300</td>\n",
       "      <td>4.6</td>\n",
       "      <td>no</td>\n",
       "      <td>no</td>\n",
       "      <td>no</td>\n",
       "      <td>good</td>\n",
       "      <td>no</td>\n",
       "      <td>no</td>\n",
       "      <td>ckd</td>\n",
       "    </tr>\n",
       "  </tbody>\n",
       "</table>\n",
       "<p>5 rows × 25 columns</p>\n",
       "</div>"
      ],
      "text/plain": [
       "  age  bp     sg al su     rbc        pc         pcc          ba  bgr  ...   \\\n",
       "0  48  80  1.020  1  0       ?    normal  notpresent  notpresent  121  ...    \n",
       "1   7  50  1.020  4  0       ?    normal  notpresent  notpresent    ?  ...    \n",
       "2  62  80  1.010  2  3  normal    normal  notpresent  notpresent  423  ...    \n",
       "3  48  70  1.005  4  0  normal  abnormal     present  notpresent  117  ...    \n",
       "4  51  80  1.010  2  0  normal    normal  notpresent  notpresent  106  ...    \n",
       "\n",
       "  pcv    wc   rc  htn   dm cad appet   pe  ane class  \n",
       "0  44  7800  5.2  yes  yes  no  good   no   no   ckd  \n",
       "1  38  6000    ?   no   no  no  good   no   no   ckd  \n",
       "2  31  7500    ?   no  yes  no  poor   no  yes   ckd  \n",
       "3  32  6700  3.9  yes   no  no  poor  yes  yes   ckd  \n",
       "4  35  7300  4.6   no   no  no  good   no   no   ckd  \n",
       "\n",
       "[5 rows x 25 columns]"
      ]
     },
     "execution_count": 23,
     "metadata": {},
     "output_type": "execute_result"
    }
   ],
   "source": [
    "kidney_columns = [\"age\",\"bp\",\"sg\",\"al\",\"su\",\"rbc\",\"pc\",\"pcc\",\"ba\",\"bgr\",\"bu\",\"sc\",\"sod\",\"pot\",\"hemo\",\"pcv\",\"wc\",\"rc\",\"htn\",\"dm\",\"cad\",\"appet\",\"pe\",\"ane\",\"class\"]\n",
    "kidney_data = pd.read_csv(\"../data/chronic_kidney_disease.csv\", header=None,names=kidney_columns)\n",
    "kidney_data.head()"
   ]
  },
  {
   "cell_type": "markdown",
   "metadata": {},
   "source": [
    "So it looks like any cell with a missing value is marked with a `?`.\n",
    "\n",
    "Let's make **pandas** recognize that by specifying the `NaN` value type by passing in `?` into the `na_values` parameter of `read_csv`:"
   ]
  },
  {
   "cell_type": "code",
   "execution_count": 24,
   "metadata": {
    "collapsed": false
   },
   "outputs": [
    {
     "data": {
      "text/html": [
       "<div>\n",
       "<table border=\"1\" class=\"dataframe\">\n",
       "  <thead>\n",
       "    <tr style=\"text-align: right;\">\n",
       "      <th></th>\n",
       "      <th>age</th>\n",
       "      <th>bp</th>\n",
       "      <th>sg</th>\n",
       "      <th>al</th>\n",
       "      <th>su</th>\n",
       "      <th>rbc</th>\n",
       "      <th>pc</th>\n",
       "      <th>pcc</th>\n",
       "      <th>ba</th>\n",
       "      <th>bgr</th>\n",
       "      <th>...</th>\n",
       "      <th>pcv</th>\n",
       "      <th>wc</th>\n",
       "      <th>rc</th>\n",
       "      <th>htn</th>\n",
       "      <th>dm</th>\n",
       "      <th>cad</th>\n",
       "      <th>appet</th>\n",
       "      <th>pe</th>\n",
       "      <th>ane</th>\n",
       "      <th>class</th>\n",
       "    </tr>\n",
       "  </thead>\n",
       "  <tbody>\n",
       "    <tr>\n",
       "      <th>0</th>\n",
       "      <td>48.0</td>\n",
       "      <td>80.0</td>\n",
       "      <td>1.020</td>\n",
       "      <td>1.0</td>\n",
       "      <td>0.0</td>\n",
       "      <td>NaN</td>\n",
       "      <td>normal</td>\n",
       "      <td>notpresent</td>\n",
       "      <td>notpresent</td>\n",
       "      <td>121.0</td>\n",
       "      <td>...</td>\n",
       "      <td>44.0</td>\n",
       "      <td>7800.0</td>\n",
       "      <td>5.2</td>\n",
       "      <td>yes</td>\n",
       "      <td>yes</td>\n",
       "      <td>no</td>\n",
       "      <td>good</td>\n",
       "      <td>no</td>\n",
       "      <td>no</td>\n",
       "      <td>ckd</td>\n",
       "    </tr>\n",
       "    <tr>\n",
       "      <th>1</th>\n",
       "      <td>7.0</td>\n",
       "      <td>50.0</td>\n",
       "      <td>1.020</td>\n",
       "      <td>4.0</td>\n",
       "      <td>0.0</td>\n",
       "      <td>NaN</td>\n",
       "      <td>normal</td>\n",
       "      <td>notpresent</td>\n",
       "      <td>notpresent</td>\n",
       "      <td>NaN</td>\n",
       "      <td>...</td>\n",
       "      <td>38.0</td>\n",
       "      <td>6000.0</td>\n",
       "      <td>NaN</td>\n",
       "      <td>no</td>\n",
       "      <td>no</td>\n",
       "      <td>no</td>\n",
       "      <td>good</td>\n",
       "      <td>no</td>\n",
       "      <td>no</td>\n",
       "      <td>ckd</td>\n",
       "    </tr>\n",
       "    <tr>\n",
       "      <th>2</th>\n",
       "      <td>62.0</td>\n",
       "      <td>80.0</td>\n",
       "      <td>1.010</td>\n",
       "      <td>2.0</td>\n",
       "      <td>3.0</td>\n",
       "      <td>normal</td>\n",
       "      <td>normal</td>\n",
       "      <td>notpresent</td>\n",
       "      <td>notpresent</td>\n",
       "      <td>423.0</td>\n",
       "      <td>...</td>\n",
       "      <td>31.0</td>\n",
       "      <td>7500.0</td>\n",
       "      <td>NaN</td>\n",
       "      <td>no</td>\n",
       "      <td>yes</td>\n",
       "      <td>no</td>\n",
       "      <td>poor</td>\n",
       "      <td>no</td>\n",
       "      <td>yes</td>\n",
       "      <td>ckd</td>\n",
       "    </tr>\n",
       "    <tr>\n",
       "      <th>3</th>\n",
       "      <td>48.0</td>\n",
       "      <td>70.0</td>\n",
       "      <td>1.005</td>\n",
       "      <td>4.0</td>\n",
       "      <td>0.0</td>\n",
       "      <td>normal</td>\n",
       "      <td>abnormal</td>\n",
       "      <td>present</td>\n",
       "      <td>notpresent</td>\n",
       "      <td>117.0</td>\n",
       "      <td>...</td>\n",
       "      <td>32.0</td>\n",
       "      <td>6700.0</td>\n",
       "      <td>3.9</td>\n",
       "      <td>yes</td>\n",
       "      <td>no</td>\n",
       "      <td>no</td>\n",
       "      <td>poor</td>\n",
       "      <td>yes</td>\n",
       "      <td>yes</td>\n",
       "      <td>ckd</td>\n",
       "    </tr>\n",
       "    <tr>\n",
       "      <th>4</th>\n",
       "      <td>51.0</td>\n",
       "      <td>80.0</td>\n",
       "      <td>1.010</td>\n",
       "      <td>2.0</td>\n",
       "      <td>0.0</td>\n",
       "      <td>normal</td>\n",
       "      <td>normal</td>\n",
       "      <td>notpresent</td>\n",
       "      <td>notpresent</td>\n",
       "      <td>106.0</td>\n",
       "      <td>...</td>\n",
       "      <td>35.0</td>\n",
       "      <td>7300.0</td>\n",
       "      <td>4.6</td>\n",
       "      <td>no</td>\n",
       "      <td>no</td>\n",
       "      <td>no</td>\n",
       "      <td>good</td>\n",
       "      <td>no</td>\n",
       "      <td>no</td>\n",
       "      <td>ckd</td>\n",
       "    </tr>\n",
       "  </tbody>\n",
       "</table>\n",
       "<p>5 rows × 25 columns</p>\n",
       "</div>"
      ],
      "text/plain": [
       "    age    bp     sg   al   su     rbc        pc         pcc          ba  \\\n",
       "0  48.0  80.0  1.020  1.0  0.0     NaN    normal  notpresent  notpresent   \n",
       "1   7.0  50.0  1.020  4.0  0.0     NaN    normal  notpresent  notpresent   \n",
       "2  62.0  80.0  1.010  2.0  3.0  normal    normal  notpresent  notpresent   \n",
       "3  48.0  70.0  1.005  4.0  0.0  normal  abnormal     present  notpresent   \n",
       "4  51.0  80.0  1.010  2.0  0.0  normal    normal  notpresent  notpresent   \n",
       "\n",
       "     bgr  ...    pcv      wc   rc  htn   dm  cad  appet   pe  ane class  \n",
       "0  121.0  ...   44.0  7800.0  5.2  yes  yes   no   good   no   no   ckd  \n",
       "1    NaN  ...   38.0  6000.0  NaN   no   no   no   good   no   no   ckd  \n",
       "2  423.0  ...   31.0  7500.0  NaN   no  yes   no   poor   no  yes   ckd  \n",
       "3  117.0  ...   32.0  6700.0  3.9  yes   no   no   poor  yes  yes   ckd  \n",
       "4  106.0  ...   35.0  7300.0  4.6   no   no   no   good   no   no   ckd  \n",
       "\n",
       "[5 rows x 25 columns]"
      ]
     },
     "execution_count": 24,
     "metadata": {},
     "output_type": "execute_result"
    }
   ],
   "source": [
    "kidney_data = pd.read_csv(\"../data/chronic_kidney_disease.csv\",header=None,na_values=\"?\",names=kidney_columns)\n",
    "kidney_data.head() #na_values are marked as ?"
   ]
  },
  {
   "cell_type": "code",
   "execution_count": 25,
   "metadata": {
    "collapsed": false
   },
   "outputs": [
    {
     "name": "stdout",
     "output_type": "stream",
     "text": [
      "<class 'pandas.core.frame.DataFrame'>\n",
      "RangeIndex: 400 entries, 0 to 399\n",
      "Data columns (total 25 columns):\n",
      "age      391 non-null float64\n",
      "bp       388 non-null float64\n",
      "sg       353 non-null float64\n",
      "al       354 non-null float64\n",
      "su       351 non-null float64\n",
      "rbc      248 non-null object\n",
      "pc       335 non-null object\n",
      "pcc      396 non-null object\n",
      "ba       396 non-null object\n",
      "bgr      356 non-null float64\n",
      "bu       381 non-null float64\n",
      "sc       383 non-null float64\n",
      "sod      313 non-null float64\n",
      "pot      312 non-null float64\n",
      "hemo     348 non-null float64\n",
      "pcv      329 non-null float64\n",
      "wc       294 non-null float64\n",
      "rc       269 non-null float64\n",
      "htn      398 non-null object\n",
      "dm       398 non-null object\n",
      "cad      398 non-null object\n",
      "appet    399 non-null object\n",
      "pe       399 non-null object\n",
      "ane      399 non-null object\n",
      "class    400 non-null object\n",
      "dtypes: float64(14), object(11)\n",
      "memory usage: 78.2+ KB\n"
     ]
    }
   ],
   "source": [
    "kidney_data.info()"
   ]
  },
  {
   "cell_type": "markdown",
   "metadata": {},
   "source": [
    "Now let's look at which cells have `NaN`'s in them by calling `isnull()` on the `kidney_data` `DataFrame`:"
   ]
  },
  {
   "cell_type": "code",
   "execution_count": 26,
   "metadata": {
    "collapsed": false
   },
   "outputs": [
    {
     "data": {
      "text/html": [
       "<div>\n",
       "<table border=\"1\" class=\"dataframe\">\n",
       "  <thead>\n",
       "    <tr style=\"text-align: right;\">\n",
       "      <th></th>\n",
       "      <th>age</th>\n",
       "      <th>bp</th>\n",
       "      <th>sg</th>\n",
       "      <th>al</th>\n",
       "      <th>su</th>\n",
       "      <th>rbc</th>\n",
       "      <th>pc</th>\n",
       "      <th>pcc</th>\n",
       "      <th>ba</th>\n",
       "      <th>bgr</th>\n",
       "      <th>...</th>\n",
       "      <th>pcv</th>\n",
       "      <th>wc</th>\n",
       "      <th>rc</th>\n",
       "      <th>htn</th>\n",
       "      <th>dm</th>\n",
       "      <th>cad</th>\n",
       "      <th>appet</th>\n",
       "      <th>pe</th>\n",
       "      <th>ane</th>\n",
       "      <th>class</th>\n",
       "    </tr>\n",
       "  </thead>\n",
       "  <tbody>\n",
       "    <tr>\n",
       "      <th>0</th>\n",
       "      <td>False</td>\n",
       "      <td>False</td>\n",
       "      <td>False</td>\n",
       "      <td>False</td>\n",
       "      <td>False</td>\n",
       "      <td>True</td>\n",
       "      <td>False</td>\n",
       "      <td>False</td>\n",
       "      <td>False</td>\n",
       "      <td>False</td>\n",
       "      <td>...</td>\n",
       "      <td>False</td>\n",
       "      <td>False</td>\n",
       "      <td>False</td>\n",
       "      <td>False</td>\n",
       "      <td>False</td>\n",
       "      <td>False</td>\n",
       "      <td>False</td>\n",
       "      <td>False</td>\n",
       "      <td>False</td>\n",
       "      <td>False</td>\n",
       "    </tr>\n",
       "    <tr>\n",
       "      <th>1</th>\n",
       "      <td>False</td>\n",
       "      <td>False</td>\n",
       "      <td>False</td>\n",
       "      <td>False</td>\n",
       "      <td>False</td>\n",
       "      <td>True</td>\n",
       "      <td>False</td>\n",
       "      <td>False</td>\n",
       "      <td>False</td>\n",
       "      <td>True</td>\n",
       "      <td>...</td>\n",
       "      <td>False</td>\n",
       "      <td>False</td>\n",
       "      <td>True</td>\n",
       "      <td>False</td>\n",
       "      <td>False</td>\n",
       "      <td>False</td>\n",
       "      <td>False</td>\n",
       "      <td>False</td>\n",
       "      <td>False</td>\n",
       "      <td>False</td>\n",
       "    </tr>\n",
       "    <tr>\n",
       "      <th>2</th>\n",
       "      <td>False</td>\n",
       "      <td>False</td>\n",
       "      <td>False</td>\n",
       "      <td>False</td>\n",
       "      <td>False</td>\n",
       "      <td>False</td>\n",
       "      <td>False</td>\n",
       "      <td>False</td>\n",
       "      <td>False</td>\n",
       "      <td>False</td>\n",
       "      <td>...</td>\n",
       "      <td>False</td>\n",
       "      <td>False</td>\n",
       "      <td>True</td>\n",
       "      <td>False</td>\n",
       "      <td>False</td>\n",
       "      <td>False</td>\n",
       "      <td>False</td>\n",
       "      <td>False</td>\n",
       "      <td>False</td>\n",
       "      <td>False</td>\n",
       "    </tr>\n",
       "    <tr>\n",
       "      <th>3</th>\n",
       "      <td>False</td>\n",
       "      <td>False</td>\n",
       "      <td>False</td>\n",
       "      <td>False</td>\n",
       "      <td>False</td>\n",
       "      <td>False</td>\n",
       "      <td>False</td>\n",
       "      <td>False</td>\n",
       "      <td>False</td>\n",
       "      <td>False</td>\n",
       "      <td>...</td>\n",
       "      <td>False</td>\n",
       "      <td>False</td>\n",
       "      <td>False</td>\n",
       "      <td>False</td>\n",
       "      <td>False</td>\n",
       "      <td>False</td>\n",
       "      <td>False</td>\n",
       "      <td>False</td>\n",
       "      <td>False</td>\n",
       "      <td>False</td>\n",
       "    </tr>\n",
       "    <tr>\n",
       "      <th>4</th>\n",
       "      <td>False</td>\n",
       "      <td>False</td>\n",
       "      <td>False</td>\n",
       "      <td>False</td>\n",
       "      <td>False</td>\n",
       "      <td>False</td>\n",
       "      <td>False</td>\n",
       "      <td>False</td>\n",
       "      <td>False</td>\n",
       "      <td>False</td>\n",
       "      <td>...</td>\n",
       "      <td>False</td>\n",
       "      <td>False</td>\n",
       "      <td>False</td>\n",
       "      <td>False</td>\n",
       "      <td>False</td>\n",
       "      <td>False</td>\n",
       "      <td>False</td>\n",
       "      <td>False</td>\n",
       "      <td>False</td>\n",
       "      <td>False</td>\n",
       "    </tr>\n",
       "  </tbody>\n",
       "</table>\n",
       "<p>5 rows × 25 columns</p>\n",
       "</div>"
      ],
      "text/plain": [
       "     age     bp     sg     al     su    rbc     pc    pcc     ba    bgr  \\\n",
       "0  False  False  False  False  False   True  False  False  False  False   \n",
       "1  False  False  False  False  False   True  False  False  False   True   \n",
       "2  False  False  False  False  False  False  False  False  False  False   \n",
       "3  False  False  False  False  False  False  False  False  False  False   \n",
       "4  False  False  False  False  False  False  False  False  False  False   \n",
       "\n",
       "   ...      pcv     wc     rc    htn     dm    cad  appet     pe    ane  class  \n",
       "0  ...    False  False  False  False  False  False  False  False  False  False  \n",
       "1  ...    False  False   True  False  False  False  False  False  False  False  \n",
       "2  ...    False  False   True  False  False  False  False  False  False  False  \n",
       "3  ...    False  False  False  False  False  False  False  False  False  False  \n",
       "4  ...    False  False  False  False  False  False  False  False  False  False  \n",
       "\n",
       "[5 rows x 25 columns]"
      ]
     },
     "execution_count": 26,
     "metadata": {},
     "output_type": "execute_result"
    }
   ],
   "source": [
    "kidney_data.isnull().head()"
   ]
  },
  {
   "cell_type": "markdown",
   "metadata": {},
   "source": [
    "Let's check the total number of rows missing values per column:"
   ]
  },
  {
   "cell_type": "code",
   "execution_count": 27,
   "metadata": {
    "collapsed": false
   },
   "outputs": [
    {
     "data": {
      "text/plain": [
       "age        9\n",
       "bp        12\n",
       "sg        47\n",
       "al        46\n",
       "su        49\n",
       "rbc      152\n",
       "pc        65\n",
       "pcc        4\n",
       "ba         4\n",
       "bgr       44\n",
       "bu        19\n",
       "sc        17\n",
       "sod       87\n",
       "pot       88\n",
       "hemo      52\n",
       "pcv       71\n",
       "wc       106\n",
       "rc       131\n",
       "htn        2\n",
       "dm         2\n",
       "cad        2\n",
       "appet      1\n",
       "pe         1\n",
       "ane        1\n",
       "class      0\n",
       "dtype: int64"
      ]
     },
     "execution_count": 27,
     "metadata": {},
     "output_type": "execute_result"
    }
   ],
   "source": [
    "# check for number of missing values per column\n",
    "kidney_data.isnull().sum()\n",
    "# age has only 9 missing values"
   ]
  },
  {
   "cell_type": "markdown",
   "metadata": {},
   "source": [
    "We are going to have to handle the categorical and the numeric columns differently:"
   ]
  },
  {
   "cell_type": "code",
   "execution_count": 28,
   "metadata": {
    "collapsed": false
   },
   "outputs": [
    {
     "data": {
      "text/plain": [
       "age      float64\n",
       "bp       float64\n",
       "sg       float64\n",
       "al       float64\n",
       "su       float64\n",
       "rbc       object\n",
       "pc        object\n",
       "pcc       object\n",
       "ba        object\n",
       "bgr      float64\n",
       "bu       float64\n",
       "sc       float64\n",
       "sod      float64\n",
       "pot      float64\n",
       "hemo     float64\n",
       "pcv      float64\n",
       "wc       float64\n",
       "rc       float64\n",
       "htn       object\n",
       "dm        object\n",
       "cad       object\n",
       "appet     object\n",
       "pe        object\n",
       "ane       object\n",
       "class     object\n",
       "dtype: object"
      ]
     },
     "execution_count": 28,
     "metadata": {},
     "output_type": "execute_result"
    }
   ],
   "source": [
    "kidney_data.dtypes"
   ]
  },
  {
   "cell_type": "markdown",
   "metadata": {},
   "source": [
    "Let's rearrange the numeric and categorical columns for easier access later, and lets remove the response column (`class`) into a separate `Series`:"
   ]
  },
  {
   "cell_type": "code",
   "execution_count": 29,
   "metadata": {
    "collapsed": false
   },
   "outputs": [
    {
     "name": "stdout",
     "output_type": "stream",
     "text": [
      "column names before rearranging:\n",
      " ['age', 'bp', 'sg', 'al', 'su', 'rbc', 'pc', 'pcc', 'ba', 'bgr', 'bu', 'sc', 'sod', 'pot', 'hemo', 'pcv', 'wc', 'rc', 'htn', 'dm', 'cad', 'appet', 'pe', 'ane', 'class']\n",
      "column names after rearranging:\n",
      " ['age', 'bp', 'sg', 'al', 'su', 'bgr', 'bu', 'sc', 'sod', 'pot', 'hemo', 'pcv', 'wc', 'rc', 'rbc', 'pc', 'pcc', 'ba', 'htn', 'dm', 'cad', 'appet', 'pe', 'ane', 'class']\n"
     ]
    }
   ],
   "source": [
    "print(\"column names before rearranging:\\n\",kidney_columns)\n",
    "kidney_columns = kidney_columns[:5]+kidney_columns[9:18]+kidney_columns[5:9]+kidney_columns[18:]\n",
    "print(\"column names after rearranging:\\n\",kidney_columns)"
   ]
  },
  {
   "cell_type": "code",
   "execution_count": 30,
   "metadata": {
    "collapsed": false
   },
   "outputs": [
    {
     "name": "stdout",
     "output_type": "stream",
     "text": [
      "age      float64\n",
      "bp       float64\n",
      "sg       float64\n",
      "al       float64\n",
      "su       float64\n",
      "bgr      float64\n",
      "bu       float64\n",
      "sc       float64\n",
      "sod      float64\n",
      "pot      float64\n",
      "hemo     float64\n",
      "pcv      float64\n",
      "wc       float64\n",
      "rc       float64\n",
      "rbc       object\n",
      "pc        object\n",
      "pcc       object\n",
      "ba        object\n",
      "htn       object\n",
      "dm        object\n",
      "cad       object\n",
      "appet     object\n",
      "pe        object\n",
      "ane       object\n",
      "class     object\n",
      "dtype: object\n"
     ]
    },
    {
     "data": {
      "text/html": [
       "<div>\n",
       "<table border=\"1\" class=\"dataframe\">\n",
       "  <thead>\n",
       "    <tr style=\"text-align: right;\">\n",
       "      <th></th>\n",
       "      <th>age</th>\n",
       "      <th>bp</th>\n",
       "      <th>sg</th>\n",
       "      <th>al</th>\n",
       "      <th>su</th>\n",
       "      <th>bgr</th>\n",
       "      <th>bu</th>\n",
       "      <th>sc</th>\n",
       "      <th>sod</th>\n",
       "      <th>pot</th>\n",
       "      <th>...</th>\n",
       "      <th>pc</th>\n",
       "      <th>pcc</th>\n",
       "      <th>ba</th>\n",
       "      <th>htn</th>\n",
       "      <th>dm</th>\n",
       "      <th>cad</th>\n",
       "      <th>appet</th>\n",
       "      <th>pe</th>\n",
       "      <th>ane</th>\n",
       "      <th>class</th>\n",
       "    </tr>\n",
       "  </thead>\n",
       "  <tbody>\n",
       "    <tr>\n",
       "      <th>0</th>\n",
       "      <td>48.0</td>\n",
       "      <td>80.0</td>\n",
       "      <td>1.020</td>\n",
       "      <td>1.0</td>\n",
       "      <td>0.0</td>\n",
       "      <td>121.0</td>\n",
       "      <td>36.0</td>\n",
       "      <td>1.2</td>\n",
       "      <td>NaN</td>\n",
       "      <td>NaN</td>\n",
       "      <td>...</td>\n",
       "      <td>normal</td>\n",
       "      <td>notpresent</td>\n",
       "      <td>notpresent</td>\n",
       "      <td>yes</td>\n",
       "      <td>yes</td>\n",
       "      <td>no</td>\n",
       "      <td>good</td>\n",
       "      <td>no</td>\n",
       "      <td>no</td>\n",
       "      <td>ckd</td>\n",
       "    </tr>\n",
       "    <tr>\n",
       "      <th>1</th>\n",
       "      <td>7.0</td>\n",
       "      <td>50.0</td>\n",
       "      <td>1.020</td>\n",
       "      <td>4.0</td>\n",
       "      <td>0.0</td>\n",
       "      <td>NaN</td>\n",
       "      <td>18.0</td>\n",
       "      <td>0.8</td>\n",
       "      <td>NaN</td>\n",
       "      <td>NaN</td>\n",
       "      <td>...</td>\n",
       "      <td>normal</td>\n",
       "      <td>notpresent</td>\n",
       "      <td>notpresent</td>\n",
       "      <td>no</td>\n",
       "      <td>no</td>\n",
       "      <td>no</td>\n",
       "      <td>good</td>\n",
       "      <td>no</td>\n",
       "      <td>no</td>\n",
       "      <td>ckd</td>\n",
       "    </tr>\n",
       "    <tr>\n",
       "      <th>2</th>\n",
       "      <td>62.0</td>\n",
       "      <td>80.0</td>\n",
       "      <td>1.010</td>\n",
       "      <td>2.0</td>\n",
       "      <td>3.0</td>\n",
       "      <td>423.0</td>\n",
       "      <td>53.0</td>\n",
       "      <td>1.8</td>\n",
       "      <td>NaN</td>\n",
       "      <td>NaN</td>\n",
       "      <td>...</td>\n",
       "      <td>normal</td>\n",
       "      <td>notpresent</td>\n",
       "      <td>notpresent</td>\n",
       "      <td>no</td>\n",
       "      <td>yes</td>\n",
       "      <td>no</td>\n",
       "      <td>poor</td>\n",
       "      <td>no</td>\n",
       "      <td>yes</td>\n",
       "      <td>ckd</td>\n",
       "    </tr>\n",
       "    <tr>\n",
       "      <th>3</th>\n",
       "      <td>48.0</td>\n",
       "      <td>70.0</td>\n",
       "      <td>1.005</td>\n",
       "      <td>4.0</td>\n",
       "      <td>0.0</td>\n",
       "      <td>117.0</td>\n",
       "      <td>56.0</td>\n",
       "      <td>3.8</td>\n",
       "      <td>111.0</td>\n",
       "      <td>2.5</td>\n",
       "      <td>...</td>\n",
       "      <td>abnormal</td>\n",
       "      <td>present</td>\n",
       "      <td>notpresent</td>\n",
       "      <td>yes</td>\n",
       "      <td>no</td>\n",
       "      <td>no</td>\n",
       "      <td>poor</td>\n",
       "      <td>yes</td>\n",
       "      <td>yes</td>\n",
       "      <td>ckd</td>\n",
       "    </tr>\n",
       "    <tr>\n",
       "      <th>4</th>\n",
       "      <td>51.0</td>\n",
       "      <td>80.0</td>\n",
       "      <td>1.010</td>\n",
       "      <td>2.0</td>\n",
       "      <td>0.0</td>\n",
       "      <td>106.0</td>\n",
       "      <td>26.0</td>\n",
       "      <td>1.4</td>\n",
       "      <td>NaN</td>\n",
       "      <td>NaN</td>\n",
       "      <td>...</td>\n",
       "      <td>normal</td>\n",
       "      <td>notpresent</td>\n",
       "      <td>notpresent</td>\n",
       "      <td>no</td>\n",
       "      <td>no</td>\n",
       "      <td>no</td>\n",
       "      <td>good</td>\n",
       "      <td>no</td>\n",
       "      <td>no</td>\n",
       "      <td>ckd</td>\n",
       "    </tr>\n",
       "  </tbody>\n",
       "</table>\n",
       "<p>5 rows × 25 columns</p>\n",
       "</div>"
      ],
      "text/plain": [
       "    age    bp     sg   al   su    bgr    bu   sc    sod  pot  ...         pc  \\\n",
       "0  48.0  80.0  1.020  1.0  0.0  121.0  36.0  1.2    NaN  NaN  ...     normal   \n",
       "1   7.0  50.0  1.020  4.0  0.0    NaN  18.0  0.8    NaN  NaN  ...     normal   \n",
       "2  62.0  80.0  1.010  2.0  3.0  423.0  53.0  1.8    NaN  NaN  ...     normal   \n",
       "3  48.0  70.0  1.005  4.0  0.0  117.0  56.0  3.8  111.0  2.5  ...   abnormal   \n",
       "4  51.0  80.0  1.010  2.0  0.0  106.0  26.0  1.4    NaN  NaN  ...     normal   \n",
       "\n",
       "          pcc          ba  htn   dm cad appet   pe  ane class  \n",
       "0  notpresent  notpresent  yes  yes  no  good   no   no   ckd  \n",
       "1  notpresent  notpresent   no   no  no  good   no   no   ckd  \n",
       "2  notpresent  notpresent   no  yes  no  poor   no  yes   ckd  \n",
       "3     present  notpresent  yes   no  no  poor  yes  yes   ckd  \n",
       "4  notpresent  notpresent   no   no  no  good   no   no   ckd  \n",
       "\n",
       "[5 rows x 25 columns]"
      ]
     },
     "execution_count": 30,
     "metadata": {},
     "output_type": "execute_result"
    }
   ],
   "source": [
    "kidney_data = kidney_data[kidney_columns]\n",
    "target = kidney_data[\"class\"]\n",
    "print(kidney_data.dtypes)\n",
    "kidney_data.head()"
   ]
  },
  {
   "cell_type": "markdown",
   "metadata": {},
   "source": [
    "Ok, now that our data is arranged in a way that's amenable with dealing with the numeric and the categorical columns separately, let's work through the ways in which we can handle null values.\n",
    "\n",
    "The first thing we can do, is simply throw out any samples that have nulls in any column:"
   ]
  },
  {
   "cell_type": "code",
   "execution_count": 31,
   "metadata": {
    "collapsed": false
   },
   "outputs": [
    {
     "name": "stdout",
     "output_type": "stream",
     "text": [
      "Fraction of data kept:\n",
      " 0.395\n"
     ]
    }
   ],
   "source": [
    "kidney_data_nonnull = kidney_data.dropna()\n",
    "print(\"Fraction of data kept:\\n\",float(kidney_data_nonnull.shape[0])/kidney_data.shape[0])"
   ]
  },
  {
   "cell_type": "markdown",
   "metadata": {},
   "source": [
    "So throwing out ~60% of the data is no bueno. What else can we do?\n",
    "\n",
    "We can **impute** (fill in) the data on a per-column basis. The imputation strategy for categorical columns is usually one of the following:\n",
    "  1. fill in with the most common categorical value\n",
    "  2. fill in with a special \"missing\" category\n",
    "\n",
    "Let's do each in turn.\n",
    "\n",
    "Here's how we would do **1.**\n",
    "\n",
    "We are going to get the most common category per column, and store it in a `Series` first, then we will apply it per-column to those columns:"
   ]
  },
  {
   "cell_type": "code",
   "execution_count": 32,
   "metadata": {
    "collapsed": false
   },
   "outputs": [
    {
     "name": "stdout",
     "output_type": "stream",
     "text": [
      "Most frequent value in each column:\n",
      " rbc          normal\n",
      "pc           normal\n",
      "pcc      notpresent\n",
      "ba       notpresent\n",
      "htn              no\n",
      "dm               no\n",
      "cad              no\n",
      "appet          good\n",
      "pe               no\n",
      "ane              no\n",
      "dtype: object\n"
     ]
    }
   ],
   "source": [
    "# 1. Fill in with the most common categorical value\n",
    "#function to return the most frequent value in a pandas Series\n",
    "def get_most_frequent_value(my_column):\n",
    "    return my_column.value_counts().index[0]\n",
    "\n",
    "most_frequent_values_per_column = kidney_data[kidney_columns[14:-1]].apply(get_most_frequent_value,axis=0)\n",
    "print(\"Most frequent value in each column:\\n\",most_frequent_values_per_column)"
   ]
  },
  {
   "cell_type": "code",
   "execution_count": 33,
   "metadata": {
    "collapsed": false
   },
   "outputs": [
    {
     "data": {
      "text/html": [
       "<div>\n",
       "<table border=\"1\" class=\"dataframe\">\n",
       "  <thead>\n",
       "    <tr style=\"text-align: right;\">\n",
       "      <th></th>\n",
       "      <th>rbc</th>\n",
       "      <th>pc</th>\n",
       "      <th>pcc</th>\n",
       "      <th>ba</th>\n",
       "      <th>htn</th>\n",
       "      <th>dm</th>\n",
       "      <th>cad</th>\n",
       "      <th>appet</th>\n",
       "      <th>pe</th>\n",
       "      <th>ane</th>\n",
       "    </tr>\n",
       "  </thead>\n",
       "  <tbody>\n",
       "    <tr>\n",
       "      <th>0</th>\n",
       "      <td>normal</td>\n",
       "      <td>normal</td>\n",
       "      <td>notpresent</td>\n",
       "      <td>notpresent</td>\n",
       "      <td>yes</td>\n",
       "      <td>yes</td>\n",
       "      <td>no</td>\n",
       "      <td>good</td>\n",
       "      <td>no</td>\n",
       "      <td>no</td>\n",
       "    </tr>\n",
       "    <tr>\n",
       "      <th>1</th>\n",
       "      <td>normal</td>\n",
       "      <td>normal</td>\n",
       "      <td>notpresent</td>\n",
       "      <td>notpresent</td>\n",
       "      <td>no</td>\n",
       "      <td>no</td>\n",
       "      <td>no</td>\n",
       "      <td>good</td>\n",
       "      <td>no</td>\n",
       "      <td>no</td>\n",
       "    </tr>\n",
       "    <tr>\n",
       "      <th>2</th>\n",
       "      <td>normal</td>\n",
       "      <td>normal</td>\n",
       "      <td>notpresent</td>\n",
       "      <td>notpresent</td>\n",
       "      <td>no</td>\n",
       "      <td>yes</td>\n",
       "      <td>no</td>\n",
       "      <td>poor</td>\n",
       "      <td>no</td>\n",
       "      <td>yes</td>\n",
       "    </tr>\n",
       "    <tr>\n",
       "      <th>3</th>\n",
       "      <td>normal</td>\n",
       "      <td>abnormal</td>\n",
       "      <td>present</td>\n",
       "      <td>notpresent</td>\n",
       "      <td>yes</td>\n",
       "      <td>no</td>\n",
       "      <td>no</td>\n",
       "      <td>poor</td>\n",
       "      <td>yes</td>\n",
       "      <td>yes</td>\n",
       "    </tr>\n",
       "    <tr>\n",
       "      <th>4</th>\n",
       "      <td>normal</td>\n",
       "      <td>normal</td>\n",
       "      <td>notpresent</td>\n",
       "      <td>notpresent</td>\n",
       "      <td>no</td>\n",
       "      <td>no</td>\n",
       "      <td>no</td>\n",
       "      <td>good</td>\n",
       "      <td>no</td>\n",
       "      <td>no</td>\n",
       "    </tr>\n",
       "  </tbody>\n",
       "</table>\n",
       "</div>"
      ],
      "text/plain": [
       "      rbc        pc         pcc          ba  htn   dm cad appet   pe  ane\n",
       "0  normal    normal  notpresent  notpresent  yes  yes  no  good   no   no\n",
       "1  normal    normal  notpresent  notpresent   no   no  no  good   no   no\n",
       "2  normal    normal  notpresent  notpresent   no  yes  no  poor   no  yes\n",
       "3  normal  abnormal     present  notpresent  yes   no  no  poor  yes  yes\n",
       "4  normal    normal  notpresent  notpresent   no   no  no  good   no   no"
      ]
     },
     "execution_count": 33,
     "metadata": {},
     "output_type": "execute_result"
    }
   ],
   "source": [
    "categorical_most_frequent = kidney_data[kidney_columns[14:-1]].fillna(most_frequent_values_per_column,axis=0)\n",
    "categorical_most_frequent.head()  # for categorical data-- taking the most common value and filling the null values\n",
    "                                  # with those"
   ]
  },
  {
   "cell_type": "markdown",
   "metadata": {},
   "source": [
    "Now let's do **2.** (Which is much easier):"
   ]
  },
  {
   "cell_type": "code",
   "execution_count": 34,
   "metadata": {
    "collapsed": false
   },
   "outputs": [
    {
     "data": {
      "text/html": [
       "<div>\n",
       "<table border=\"1\" class=\"dataframe\">\n",
       "  <thead>\n",
       "    <tr style=\"text-align: right;\">\n",
       "      <th></th>\n",
       "      <th>rbc</th>\n",
       "      <th>pc</th>\n",
       "      <th>pcc</th>\n",
       "      <th>ba</th>\n",
       "      <th>htn</th>\n",
       "      <th>dm</th>\n",
       "      <th>cad</th>\n",
       "      <th>appet</th>\n",
       "      <th>pe</th>\n",
       "      <th>ane</th>\n",
       "    </tr>\n",
       "  </thead>\n",
       "  <tbody>\n",
       "    <tr>\n",
       "      <th>0</th>\n",
       "      <td>missing</td>\n",
       "      <td>normal</td>\n",
       "      <td>notpresent</td>\n",
       "      <td>notpresent</td>\n",
       "      <td>yes</td>\n",
       "      <td>yes</td>\n",
       "      <td>no</td>\n",
       "      <td>good</td>\n",
       "      <td>no</td>\n",
       "      <td>no</td>\n",
       "    </tr>\n",
       "    <tr>\n",
       "      <th>1</th>\n",
       "      <td>missing</td>\n",
       "      <td>normal</td>\n",
       "      <td>notpresent</td>\n",
       "      <td>notpresent</td>\n",
       "      <td>no</td>\n",
       "      <td>no</td>\n",
       "      <td>no</td>\n",
       "      <td>good</td>\n",
       "      <td>no</td>\n",
       "      <td>no</td>\n",
       "    </tr>\n",
       "    <tr>\n",
       "      <th>2</th>\n",
       "      <td>normal</td>\n",
       "      <td>normal</td>\n",
       "      <td>notpresent</td>\n",
       "      <td>notpresent</td>\n",
       "      <td>no</td>\n",
       "      <td>yes</td>\n",
       "      <td>no</td>\n",
       "      <td>poor</td>\n",
       "      <td>no</td>\n",
       "      <td>yes</td>\n",
       "    </tr>\n",
       "    <tr>\n",
       "      <th>3</th>\n",
       "      <td>normal</td>\n",
       "      <td>abnormal</td>\n",
       "      <td>present</td>\n",
       "      <td>notpresent</td>\n",
       "      <td>yes</td>\n",
       "      <td>no</td>\n",
       "      <td>no</td>\n",
       "      <td>poor</td>\n",
       "      <td>yes</td>\n",
       "      <td>yes</td>\n",
       "    </tr>\n",
       "    <tr>\n",
       "      <th>4</th>\n",
       "      <td>normal</td>\n",
       "      <td>normal</td>\n",
       "      <td>notpresent</td>\n",
       "      <td>notpresent</td>\n",
       "      <td>no</td>\n",
       "      <td>no</td>\n",
       "      <td>no</td>\n",
       "      <td>good</td>\n",
       "      <td>no</td>\n",
       "      <td>no</td>\n",
       "    </tr>\n",
       "  </tbody>\n",
       "</table>\n",
       "</div>"
      ],
      "text/plain": [
       "       rbc        pc         pcc          ba  htn   dm cad appet   pe  ane\n",
       "0  missing    normal  notpresent  notpresent  yes  yes  no  good   no   no\n",
       "1  missing    normal  notpresent  notpresent   no   no  no  good   no   no\n",
       "2   normal    normal  notpresent  notpresent   no  yes  no  poor   no  yes\n",
       "3   normal  abnormal     present  notpresent  yes   no  no  poor  yes  yes\n",
       "4   normal    normal  notpresent  notpresent   no   no  no  good   no   no"
      ]
     },
     "execution_count": 34,
     "metadata": {},
     "output_type": "execute_result"
    }
   ],
   "source": [
    "# 2. Fill in with a special \"missing\" category\n",
    "special_missing_category = kidney_data[kidney_columns[14:-1]].fillna(\"missing\")\n",
    "special_missing_category.head()"
   ]
  },
  {
   "cell_type": "markdown",
   "metadata": {},
   "source": [
    "For numerical columns, there are 3 common strategies for filling in missing values:\n",
    "\n",
    "1. Fill in using the mean\n",
    "2. Fill in using the median (when many outliers are present)\n",
    "3. Fill in with some default value (e.g. 0).\n",
    "\n",
    "Let's do each in turn:"
   ]
  },
  {
   "cell_type": "code",
   "execution_count": 35,
   "metadata": {
    "collapsed": false
   },
   "outputs": [
    {
     "name": "stdout",
     "output_type": "stream",
     "text": [
      "Lots of missing data here:\n",
      "     age    bp     sg   al   su    bgr    bu   sc    sod  pot  hemo   pcv  \\\n",
      "0  48.0  80.0  1.020  1.0  0.0  121.0  36.0  1.2    NaN  NaN  15.4  44.0   \n",
      "1   7.0  50.0  1.020  4.0  0.0    NaN  18.0  0.8    NaN  NaN  11.3  38.0   \n",
      "2  62.0  80.0  1.010  2.0  3.0  423.0  53.0  1.8    NaN  NaN   9.6  31.0   \n",
      "3  48.0  70.0  1.005  4.0  0.0  117.0  56.0  3.8  111.0  2.5  11.2  32.0   \n",
      "4  51.0  80.0  1.010  2.0  0.0  106.0  26.0  1.4    NaN  NaN  11.6  35.0   \n",
      "\n",
      "       wc   rc  \n",
      "0  7800.0  5.2  \n",
      "1  6000.0  NaN  \n",
      "2  7500.0  NaN  \n",
      "3  6700.0  3.9  \n",
      "4  7300.0  4.6  \n",
      "Mean value per column:\n",
      " age       51.483376\n",
      "bp        76.469072\n",
      "sg         1.017408\n",
      "al         1.016949\n",
      "su         0.450142\n",
      "bgr      148.036517\n",
      "bu        57.425722\n",
      "sc         3.072454\n",
      "sod      137.528754\n",
      "pot        4.627244\n",
      "hemo      12.526437\n",
      "pcv       38.884498\n",
      "wc      8406.122449\n",
      "rc         4.707435\n",
      "dtype: float64\n"
     ]
    }
   ],
   "source": [
    "#1. Fill in using the mean\n",
    "print(\"Lots of missing data here:\\n\",kidney_data[kidney_columns[:14]].head())\n",
    "mean_per_column = kidney_data[kidney_columns[:14]].apply(lambda x: x.mean(),axis=0)\n",
    "print(\"Mean value per column:\\n\",mean_per_column)"
   ]
  },
  {
   "cell_type": "code",
   "execution_count": 36,
   "metadata": {
    "collapsed": false
   },
   "outputs": [
    {
     "data": {
      "text/html": [
       "<div>\n",
       "<table border=\"1\" class=\"dataframe\">\n",
       "  <thead>\n",
       "    <tr style=\"text-align: right;\">\n",
       "      <th></th>\n",
       "      <th>age</th>\n",
       "      <th>bp</th>\n",
       "      <th>sg</th>\n",
       "      <th>al</th>\n",
       "      <th>su</th>\n",
       "      <th>bgr</th>\n",
       "      <th>bu</th>\n",
       "      <th>sc</th>\n",
       "      <th>sod</th>\n",
       "      <th>pot</th>\n",
       "      <th>hemo</th>\n",
       "      <th>pcv</th>\n",
       "      <th>wc</th>\n",
       "      <th>rc</th>\n",
       "    </tr>\n",
       "  </thead>\n",
       "  <tbody>\n",
       "    <tr>\n",
       "      <th>0</th>\n",
       "      <td>48.0</td>\n",
       "      <td>80.0</td>\n",
       "      <td>1.020</td>\n",
       "      <td>1.0</td>\n",
       "      <td>0.0</td>\n",
       "      <td>121.000000</td>\n",
       "      <td>36.0</td>\n",
       "      <td>1.2</td>\n",
       "      <td>137.528754</td>\n",
       "      <td>4.627244</td>\n",
       "      <td>15.4</td>\n",
       "      <td>44.0</td>\n",
       "      <td>7800.0</td>\n",
       "      <td>5.200000</td>\n",
       "    </tr>\n",
       "    <tr>\n",
       "      <th>1</th>\n",
       "      <td>7.0</td>\n",
       "      <td>50.0</td>\n",
       "      <td>1.020</td>\n",
       "      <td>4.0</td>\n",
       "      <td>0.0</td>\n",
       "      <td>148.036517</td>\n",
       "      <td>18.0</td>\n",
       "      <td>0.8</td>\n",
       "      <td>137.528754</td>\n",
       "      <td>4.627244</td>\n",
       "      <td>11.3</td>\n",
       "      <td>38.0</td>\n",
       "      <td>6000.0</td>\n",
       "      <td>4.707435</td>\n",
       "    </tr>\n",
       "    <tr>\n",
       "      <th>2</th>\n",
       "      <td>62.0</td>\n",
       "      <td>80.0</td>\n",
       "      <td>1.010</td>\n",
       "      <td>2.0</td>\n",
       "      <td>3.0</td>\n",
       "      <td>423.000000</td>\n",
       "      <td>53.0</td>\n",
       "      <td>1.8</td>\n",
       "      <td>137.528754</td>\n",
       "      <td>4.627244</td>\n",
       "      <td>9.6</td>\n",
       "      <td>31.0</td>\n",
       "      <td>7500.0</td>\n",
       "      <td>4.707435</td>\n",
       "    </tr>\n",
       "    <tr>\n",
       "      <th>3</th>\n",
       "      <td>48.0</td>\n",
       "      <td>70.0</td>\n",
       "      <td>1.005</td>\n",
       "      <td>4.0</td>\n",
       "      <td>0.0</td>\n",
       "      <td>117.000000</td>\n",
       "      <td>56.0</td>\n",
       "      <td>3.8</td>\n",
       "      <td>111.000000</td>\n",
       "      <td>2.500000</td>\n",
       "      <td>11.2</td>\n",
       "      <td>32.0</td>\n",
       "      <td>6700.0</td>\n",
       "      <td>3.900000</td>\n",
       "    </tr>\n",
       "    <tr>\n",
       "      <th>4</th>\n",
       "      <td>51.0</td>\n",
       "      <td>80.0</td>\n",
       "      <td>1.010</td>\n",
       "      <td>2.0</td>\n",
       "      <td>0.0</td>\n",
       "      <td>106.000000</td>\n",
       "      <td>26.0</td>\n",
       "      <td>1.4</td>\n",
       "      <td>137.528754</td>\n",
       "      <td>4.627244</td>\n",
       "      <td>11.6</td>\n",
       "      <td>35.0</td>\n",
       "      <td>7300.0</td>\n",
       "      <td>4.600000</td>\n",
       "    </tr>\n",
       "  </tbody>\n",
       "</table>\n",
       "</div>"
      ],
      "text/plain": [
       "    age    bp     sg   al   su         bgr    bu   sc         sod       pot  \\\n",
       "0  48.0  80.0  1.020  1.0  0.0  121.000000  36.0  1.2  137.528754  4.627244   \n",
       "1   7.0  50.0  1.020  4.0  0.0  148.036517  18.0  0.8  137.528754  4.627244   \n",
       "2  62.0  80.0  1.010  2.0  3.0  423.000000  53.0  1.8  137.528754  4.627244   \n",
       "3  48.0  70.0  1.005  4.0  0.0  117.000000  56.0  3.8  111.000000  2.500000   \n",
       "4  51.0  80.0  1.010  2.0  0.0  106.000000  26.0  1.4  137.528754  4.627244   \n",
       "\n",
       "   hemo   pcv      wc        rc  \n",
       "0  15.4  44.0  7800.0  5.200000  \n",
       "1  11.3  38.0  6000.0  4.707435  \n",
       "2   9.6  31.0  7500.0  4.707435  \n",
       "3  11.2  32.0  6700.0  3.900000  \n",
       "4  11.6  35.0  7300.0  4.600000  "
      ]
     },
     "execution_count": 36,
     "metadata": {},
     "output_type": "execute_result"
    }
   ],
   "source": [
    "#1. cont'd.\n",
    "numeric_mean_filled = kidney_data[kidney_columns[:14]].fillna(mean_per_column,axis=0)\n",
    "numeric_mean_filled.head()"
   ]
  },
  {
   "cell_type": "code",
   "execution_count": 37,
   "metadata": {
    "collapsed": false
   },
   "outputs": [
    {
     "name": "stdout",
     "output_type": "stream",
     "text": [
      "    age    bp     sg   al   su    bgr    bu   sc    sod  pot  hemo   pcv  \\\n",
      "0  48.0  80.0  1.020  1.0  0.0  121.0  36.0  1.2    NaN  NaN  15.4  44.0   \n",
      "1   7.0  50.0  1.020  4.0  0.0    NaN  18.0  0.8    NaN  NaN  11.3  38.0   \n",
      "2  62.0  80.0  1.010  2.0  3.0  423.0  53.0  1.8    NaN  NaN   9.6  31.0   \n",
      "3  48.0  70.0  1.005  4.0  0.0  117.0  56.0  3.8  111.0  2.5  11.2  32.0   \n",
      "4  51.0  80.0  1.010  2.0  0.0  106.0  26.0  1.4    NaN  NaN  11.6  35.0   \n",
      "\n",
      "       wc   rc  \n",
      "0  7800.0  5.2  \n",
      "1  6000.0  NaN  \n",
      "2  7500.0  NaN  \n",
      "3  6700.0  3.9  \n",
      "4  7300.0  4.6  \n",
      "Median per column:\n",
      " age       55.00\n",
      "bp        80.00\n",
      "sg         1.02\n",
      "al         0.00\n",
      "su         0.00\n",
      "bgr      121.00\n",
      "bu        42.00\n",
      "sc         1.30\n",
      "sod      138.00\n",
      "pot        4.40\n",
      "hemo      12.65\n",
      "pcv       40.00\n",
      "wc      8000.00\n",
      "rc         4.80\n",
      "dtype: float64\n"
     ]
    }
   ],
   "source": [
    "#2. Fill in using the median (when many outliers are present)\n",
    "print(kidney_data[kidney_columns[:14]].head())\n",
    "median_per_column = kidney_data[kidney_columns[:14]].apply(lambda x: x.median(),axis=0)\n",
    "print(\"Median per column:\\n\",median_per_column)"
   ]
  },
  {
   "cell_type": "code",
   "execution_count": 38,
   "metadata": {
    "collapsed": false
   },
   "outputs": [
    {
     "data": {
      "text/html": [
       "<div>\n",
       "<table border=\"1\" class=\"dataframe\">\n",
       "  <thead>\n",
       "    <tr style=\"text-align: right;\">\n",
       "      <th></th>\n",
       "      <th>age</th>\n",
       "      <th>bp</th>\n",
       "      <th>sg</th>\n",
       "      <th>al</th>\n",
       "      <th>su</th>\n",
       "      <th>bgr</th>\n",
       "      <th>bu</th>\n",
       "      <th>sc</th>\n",
       "      <th>sod</th>\n",
       "      <th>pot</th>\n",
       "      <th>hemo</th>\n",
       "      <th>pcv</th>\n",
       "      <th>wc</th>\n",
       "      <th>rc</th>\n",
       "    </tr>\n",
       "  </thead>\n",
       "  <tbody>\n",
       "    <tr>\n",
       "      <th>0</th>\n",
       "      <td>48.0</td>\n",
       "      <td>80.0</td>\n",
       "      <td>1.020</td>\n",
       "      <td>1.0</td>\n",
       "      <td>0.0</td>\n",
       "      <td>121.0</td>\n",
       "      <td>36.0</td>\n",
       "      <td>1.2</td>\n",
       "      <td>138.0</td>\n",
       "      <td>4.4</td>\n",
       "      <td>15.4</td>\n",
       "      <td>44.0</td>\n",
       "      <td>7800.0</td>\n",
       "      <td>5.2</td>\n",
       "    </tr>\n",
       "    <tr>\n",
       "      <th>1</th>\n",
       "      <td>7.0</td>\n",
       "      <td>50.0</td>\n",
       "      <td>1.020</td>\n",
       "      <td>4.0</td>\n",
       "      <td>0.0</td>\n",
       "      <td>121.0</td>\n",
       "      <td>18.0</td>\n",
       "      <td>0.8</td>\n",
       "      <td>138.0</td>\n",
       "      <td>4.4</td>\n",
       "      <td>11.3</td>\n",
       "      <td>38.0</td>\n",
       "      <td>6000.0</td>\n",
       "      <td>4.8</td>\n",
       "    </tr>\n",
       "    <tr>\n",
       "      <th>2</th>\n",
       "      <td>62.0</td>\n",
       "      <td>80.0</td>\n",
       "      <td>1.010</td>\n",
       "      <td>2.0</td>\n",
       "      <td>3.0</td>\n",
       "      <td>423.0</td>\n",
       "      <td>53.0</td>\n",
       "      <td>1.8</td>\n",
       "      <td>138.0</td>\n",
       "      <td>4.4</td>\n",
       "      <td>9.6</td>\n",
       "      <td>31.0</td>\n",
       "      <td>7500.0</td>\n",
       "      <td>4.8</td>\n",
       "    </tr>\n",
       "    <tr>\n",
       "      <th>3</th>\n",
       "      <td>48.0</td>\n",
       "      <td>70.0</td>\n",
       "      <td>1.005</td>\n",
       "      <td>4.0</td>\n",
       "      <td>0.0</td>\n",
       "      <td>117.0</td>\n",
       "      <td>56.0</td>\n",
       "      <td>3.8</td>\n",
       "      <td>111.0</td>\n",
       "      <td>2.5</td>\n",
       "      <td>11.2</td>\n",
       "      <td>32.0</td>\n",
       "      <td>6700.0</td>\n",
       "      <td>3.9</td>\n",
       "    </tr>\n",
       "    <tr>\n",
       "      <th>4</th>\n",
       "      <td>51.0</td>\n",
       "      <td>80.0</td>\n",
       "      <td>1.010</td>\n",
       "      <td>2.0</td>\n",
       "      <td>0.0</td>\n",
       "      <td>106.0</td>\n",
       "      <td>26.0</td>\n",
       "      <td>1.4</td>\n",
       "      <td>138.0</td>\n",
       "      <td>4.4</td>\n",
       "      <td>11.6</td>\n",
       "      <td>35.0</td>\n",
       "      <td>7300.0</td>\n",
       "      <td>4.6</td>\n",
       "    </tr>\n",
       "  </tbody>\n",
       "</table>\n",
       "</div>"
      ],
      "text/plain": [
       "    age    bp     sg   al   su    bgr    bu   sc    sod  pot  hemo   pcv  \\\n",
       "0  48.0  80.0  1.020  1.0  0.0  121.0  36.0  1.2  138.0  4.4  15.4  44.0   \n",
       "1   7.0  50.0  1.020  4.0  0.0  121.0  18.0  0.8  138.0  4.4  11.3  38.0   \n",
       "2  62.0  80.0  1.010  2.0  3.0  423.0  53.0  1.8  138.0  4.4   9.6  31.0   \n",
       "3  48.0  70.0  1.005  4.0  0.0  117.0  56.0  3.8  111.0  2.5  11.2  32.0   \n",
       "4  51.0  80.0  1.010  2.0  0.0  106.0  26.0  1.4  138.0  4.4  11.6  35.0   \n",
       "\n",
       "       wc   rc  \n",
       "0  7800.0  5.2  \n",
       "1  6000.0  4.8  \n",
       "2  7500.0  4.8  \n",
       "3  6700.0  3.9  \n",
       "4  7300.0  4.6  "
      ]
     },
     "execution_count": 38,
     "metadata": {},
     "output_type": "execute_result"
    }
   ],
   "source": [
    "#2. cont'd.\n",
    "numeric_median_filled = kidney_data[kidney_columns[:14]].fillna(median_per_column,axis=0)\n",
    "numeric_median_filled.head()"
   ]
  },
  {
   "cell_type": "code",
   "execution_count": 39,
   "metadata": {
    "collapsed": false
   },
   "outputs": [
    {
     "data": {
      "text/html": [
       "<div>\n",
       "<table border=\"1\" class=\"dataframe\">\n",
       "  <thead>\n",
       "    <tr style=\"text-align: right;\">\n",
       "      <th></th>\n",
       "      <th>age</th>\n",
       "      <th>bp</th>\n",
       "      <th>sg</th>\n",
       "      <th>al</th>\n",
       "      <th>su</th>\n",
       "      <th>bgr</th>\n",
       "      <th>bu</th>\n",
       "      <th>sc</th>\n",
       "      <th>sod</th>\n",
       "      <th>pot</th>\n",
       "      <th>hemo</th>\n",
       "      <th>pcv</th>\n",
       "      <th>wc</th>\n",
       "      <th>rc</th>\n",
       "    </tr>\n",
       "  </thead>\n",
       "  <tbody>\n",
       "    <tr>\n",
       "      <th>0</th>\n",
       "      <td>48.0</td>\n",
       "      <td>80.0</td>\n",
       "      <td>1.020</td>\n",
       "      <td>1.0</td>\n",
       "      <td>0.0</td>\n",
       "      <td>121.0</td>\n",
       "      <td>36.0</td>\n",
       "      <td>1.2</td>\n",
       "      <td>0.0</td>\n",
       "      <td>0.0</td>\n",
       "      <td>15.4</td>\n",
       "      <td>44.0</td>\n",
       "      <td>7800.0</td>\n",
       "      <td>5.2</td>\n",
       "    </tr>\n",
       "    <tr>\n",
       "      <th>1</th>\n",
       "      <td>7.0</td>\n",
       "      <td>50.0</td>\n",
       "      <td>1.020</td>\n",
       "      <td>4.0</td>\n",
       "      <td>0.0</td>\n",
       "      <td>0.0</td>\n",
       "      <td>18.0</td>\n",
       "      <td>0.8</td>\n",
       "      <td>0.0</td>\n",
       "      <td>0.0</td>\n",
       "      <td>11.3</td>\n",
       "      <td>38.0</td>\n",
       "      <td>6000.0</td>\n",
       "      <td>0.0</td>\n",
       "    </tr>\n",
       "    <tr>\n",
       "      <th>2</th>\n",
       "      <td>62.0</td>\n",
       "      <td>80.0</td>\n",
       "      <td>1.010</td>\n",
       "      <td>2.0</td>\n",
       "      <td>3.0</td>\n",
       "      <td>423.0</td>\n",
       "      <td>53.0</td>\n",
       "      <td>1.8</td>\n",
       "      <td>0.0</td>\n",
       "      <td>0.0</td>\n",
       "      <td>9.6</td>\n",
       "      <td>31.0</td>\n",
       "      <td>7500.0</td>\n",
       "      <td>0.0</td>\n",
       "    </tr>\n",
       "    <tr>\n",
       "      <th>3</th>\n",
       "      <td>48.0</td>\n",
       "      <td>70.0</td>\n",
       "      <td>1.005</td>\n",
       "      <td>4.0</td>\n",
       "      <td>0.0</td>\n",
       "      <td>117.0</td>\n",
       "      <td>56.0</td>\n",
       "      <td>3.8</td>\n",
       "      <td>111.0</td>\n",
       "      <td>2.5</td>\n",
       "      <td>11.2</td>\n",
       "      <td>32.0</td>\n",
       "      <td>6700.0</td>\n",
       "      <td>3.9</td>\n",
       "    </tr>\n",
       "    <tr>\n",
       "      <th>4</th>\n",
       "      <td>51.0</td>\n",
       "      <td>80.0</td>\n",
       "      <td>1.010</td>\n",
       "      <td>2.0</td>\n",
       "      <td>0.0</td>\n",
       "      <td>106.0</td>\n",
       "      <td>26.0</td>\n",
       "      <td>1.4</td>\n",
       "      <td>0.0</td>\n",
       "      <td>0.0</td>\n",
       "      <td>11.6</td>\n",
       "      <td>35.0</td>\n",
       "      <td>7300.0</td>\n",
       "      <td>4.6</td>\n",
       "    </tr>\n",
       "  </tbody>\n",
       "</table>\n",
       "</div>"
      ],
      "text/plain": [
       "    age    bp     sg   al   su    bgr    bu   sc    sod  pot  hemo   pcv  \\\n",
       "0  48.0  80.0  1.020  1.0  0.0  121.0  36.0  1.2    0.0  0.0  15.4  44.0   \n",
       "1   7.0  50.0  1.020  4.0  0.0    0.0  18.0  0.8    0.0  0.0  11.3  38.0   \n",
       "2  62.0  80.0  1.010  2.0  3.0  423.0  53.0  1.8    0.0  0.0   9.6  31.0   \n",
       "3  48.0  70.0  1.005  4.0  0.0  117.0  56.0  3.8  111.0  2.5  11.2  32.0   \n",
       "4  51.0  80.0  1.010  2.0  0.0  106.0  26.0  1.4    0.0  0.0  11.6  35.0   \n",
       "\n",
       "       wc   rc  \n",
       "0  7800.0  5.2  \n",
       "1  6000.0  0.0  \n",
       "2  7500.0  0.0  \n",
       "3  6700.0  3.9  \n",
       "4  7300.0  4.6  "
      ]
     },
     "execution_count": 39,
     "metadata": {},
     "output_type": "execute_result"
    }
   ],
   "source": [
    "#3\n",
    "default_value_per_column = kidney_data[kidney_columns[:14]].fillna(0.0)\n",
    "default_value_per_column.head()"
   ]
  },
  {
   "cell_type": "markdown",
   "metadata": {},
   "source": [
    "All of these imputation methods will have distinct effects on classification accuracy.\n",
    "\n",
    "Much fancier methods for imputing values, including [EM (expectation maximization)](https://en.wikipedia.org/wiki/Expectation–maximization_algorithm), [multiple imputation](https://en.wikipedia.org/wiki/Imputation_%28statistics%29), etc. exist. \n",
    "\n",
    "These fancy imputation methods attempt to preserve the statistical relationships among the variables, and \"fill in\" the most likely values, given the values of all of the other columns (these are \"distributional\" imputation methods, as they attempt to keep the distributions of the columns as similar as possible after imputation to what they were prior to imputation). \n",
    "\n",
    "**However, they give really unstable/unreliable results when you have lots of missing data (>10% missing values), so I don't recommend using them when you have a dataset that is missing lots of values.**\n",
    "\n",
    "Look into these to find out more."
   ]
  },
  {
   "cell_type": "markdown",
   "metadata": {},
   "source": [
    "#### Exercise Time!!!\n",
    "\n",
    "1. Create a complete, filled in dataset of non-missing values using mean imputation per numeric column, most frequent value imputation for the categorical values, convert all of the categorical columns into numerical columns using `get_dummies`\n",
    "2. Do the same thing using median imputation for each numeric column.\n",
    "3. Compare test set errors when building a Logistic Regression model (`LogisticRegression()`) on the data and using train/test split (`train_test_split(random_state=123)`), predicting the `class` column. Which imputation method seems to perform better on this dataset?"
   ]
  },
  {
   "cell_type": "code",
   "execution_count": 40,
   "metadata": {
    "collapsed": true
   },
   "outputs": [],
   "source": [
    "# pass"
   ]
  },
  {
   "cell_type": "markdown",
   "metadata": {},
   "source": [
    "### Generating higher-order features: Polynomial Transformation\n",
    "\n",
    "Although some machine learning methods, like **Random Forests** implicitly model non-linear interactions between the features in your data, it can be helpful to generate the full complement of non-linear interaction terms quickly. A simple and common method to use is polynomial features, which can generate features’ higher-order and interaction terms.\n",
    "\n",
    "Let's take a look at the kidney data, so we can see how this can be done in practice using the preprocessing function `PolynomialFeatures`. Let's first fill in all of the nulls, then go forward with the exploration:"
   ]
  },
  {
   "cell_type": "code",
   "execution_count": 57,
   "metadata": {
    "collapsed": false
   },
   "outputs": [
    {
     "name": "stdout",
     "output_type": "stream",
     "text": [
      "['age', 'bp', 'sg', 'al', 'su', 'bgr', 'bu', 'sc', 'sod', 'pot', 'hemo', 'pcv', 'wc', 'rc']\n",
      "['rbc', 'pc', 'pcc', 'ba', 'htn', 'dm', 'cad', 'appet', 'pe', 'ane']\n",
      "age      0\n",
      "bp       0\n",
      "sg       0\n",
      "al       0\n",
      "su       0\n",
      "bgr      0\n",
      "bu       0\n",
      "sc       0\n",
      "sod      0\n",
      "pot      0\n",
      "hemo     0\n",
      "pcv      0\n",
      "wc       0\n",
      "rc       0\n",
      "rbc      0\n",
      "pc       0\n",
      "pcc      0\n",
      "ba       0\n",
      "htn      0\n",
      "dm       0\n",
      "cad      0\n",
      "appet    0\n",
      "pe       0\n",
      "ane      0\n",
      "class    0\n",
      "dtype: int64\n",
      "    age    bp     sg   al   su    bgr    bu   sc    sod  pot  ...         pc  \\\n",
      "0  48.0  80.0  1.020  1.0  0.0  121.0  36.0  1.2  138.0  4.4  ...     normal   \n",
      "1   7.0  50.0  1.020  4.0  0.0  121.0  18.0  0.8  138.0  4.4  ...     normal   \n",
      "2  62.0  80.0  1.010  2.0  3.0  423.0  53.0  1.8  138.0  4.4  ...     normal   \n",
      "3  48.0  70.0  1.005  4.0  0.0  117.0  56.0  3.8  111.0  2.5  ...   abnormal   \n",
      "4  51.0  80.0  1.010  2.0  0.0  106.0  26.0  1.4  138.0  4.4  ...     normal   \n",
      "\n",
      "          pcc          ba  htn   dm cad appet   pe  ane class  \n",
      "0  notpresent  notpresent  yes  yes  no  good   no   no   ckd  \n",
      "1  notpresent  notpresent   no   no  no  good   no   no   ckd  \n",
      "2  notpresent  notpresent   no  yes  no  poor   no  yes   ckd  \n",
      "3     present  notpresent  yes   no  no  poor  yes  yes   ckd  \n",
      "4  notpresent  notpresent   no   no  no  good   no   no   ckd  \n",
      "\n",
      "[5 rows x 25 columns]\n"
     ]
    }
   ],
   "source": [
    "# Let's first fill in all of the nulls, then go forward with the exploration:\n",
    "kidney_data_numeric_columns = kidney_data.columns.tolist()[:14]\n",
    "kidney_data_categorical_columns = kidney_data.columns.tolist()[14:-1]\n",
    "kidney_data_filled = kidney_data.copy()\n",
    "kidney_data_filled[kidney_data_numeric_columns] = numeric_median_filled\n",
    "kidney_data_filled[kidney_data_categorical_columns] = categorical_most_frequent\n",
    "print(kidney_data_numeric_columns)\n",
    "print(kidney_data_categorical_columns)\n",
    "print(kidney_data_filled.isnull().sum())\n",
    "print(kidney_data_filled.head())\n"
   ]
  },
  {
   "cell_type": "code",
   "execution_count": 47,
   "metadata": {
    "collapsed": false
   },
   "outputs": [],
   "source": [
    "from sklearn.preprocessing import PolynomialFeatures\n",
    "poly_fit = PolynomialFeatures(degree=3)\n",
    "fitted_degree3_numeric_kidneys = poly_fit.fit_transform(kidney_data_filled[kidney_data_numeric_columns])"
   ]
  },
  {
   "cell_type": "markdown",
   "metadata": {},
   "source": [
    "Let's take a look at the first few rows in this data:"
   ]
  },
  {
   "cell_type": "code",
   "execution_count": 48,
   "metadata": {
    "collapsed": false
   },
   "outputs": [
    {
     "data": {
      "text/plain": [
       "array([[  1.0000e+00,   4.8000e+01,   8.0000e+01, ...,   3.1637e+08,\n",
       "          2.1091e+05,   1.4061e+02],\n",
       "       [  1.0000e+00,   7.0000e+00,   5.0000e+01, ...,   1.7280e+08,\n",
       "          1.3824e+05,   1.1059e+02],\n",
       "       [  1.0000e+00,   6.2000e+01,   8.0000e+01, ...,   2.7000e+08,\n",
       "          1.7280e+05,   1.1059e+02],\n",
       "       [  1.0000e+00,   4.8000e+01,   7.0000e+01, ...,   1.7507e+08,\n",
       "          1.0191e+05,   5.9319e+01],\n",
       "       [  1.0000e+00,   5.1000e+01,   8.0000e+01, ...,   2.4513e+08,\n",
       "          1.5447e+05,   9.7336e+01]])"
      ]
     },
     "execution_count": 48,
     "metadata": {},
     "output_type": "execute_result"
    }
   ],
   "source": [
    "fitted_degree3_numeric_kidneys[:5]"
   ]
  },
  {
   "cell_type": "markdown",
   "metadata": {},
   "source": [
    "This transformation generates every possible pairwise combination of all of the numeric columns in the kidney dataset upto a degree of 3.\n",
    "\n",
    "So, if we had 3 columns, $X,Y,Z$, this transformation would generate:\n",
    "$$(1,X,Y,Z,XY,XZ,YZ,X^2,Y^2,Z^2,X^2Y,X^2Z,...,XYZ,X^3,Y^3,Z^3) $$\n",
    "\n",
    "However, this is complete overkill. What we usually want to generate is just the interactions ($XY, YZ$,etc. terms) not all of the polynomial degrees. In that case, we simply pass an extra Boolean parameter to the `PolynomialFeatures` function:"
   ]
  },
  {
   "cell_type": "code",
   "execution_count": 53,
   "metadata": {
    "collapsed": false
   },
   "outputs": [
    {
     "name": "stdout",
     "output_type": "stream",
     "text": [
      "PolynomialFeatures(degree=3, include_bias=True, interaction_only=True)\n",
      "[[      48.          80.           1.02  ...,     3523.52    624624.\n",
      "   1784640.   ]\n",
      " [       7.          50.           1.02  ...,     2061.12    325440.\n",
      "   1094400.   ]\n",
      " [      62.          80.           1.01  ...,     1428.48    345600.\n",
      "   1116000.   ]\n",
      " ..., \n",
      " [      12.          80.           1.02  ...,     4180.68    563112.\n",
      "   1746360.   ]\n",
      " [      17.          60.           1.025 ...,     4272.78    603216.\n",
      "   2166480.   ]\n",
      " [      58.          80.           1.025 ...,     5108.14    655384.\n",
      "   2198440.   ]]\n"
     ]
    }
   ],
   "source": [
    "poly_fit_3_interact = PolynomialFeatures(degree=3,interaction_only=True)\n",
    "#don't want the initial constant term, so only keep columns 1 to the end\n",
    "interactions_only_kidney_columns = poly_fit_3_interact.fit_transform(kidney_data_filled[kidney_data_numeric_columns])[:,1:]\n",
    "print(poly_fit_3_interact)\n",
    "print(interactions_only_kidney_columns)"
   ]
  },
  {
   "cell_type": "markdown",
   "metadata": {},
   "source": [
    "#### Exercise Time!\n",
    "1. Generate the interactions-only degree-2 polynomial-fit features for the kidney_data null-filled dataset on the numeric columns only.\n",
    "2. Use train_test_split to predict the class with/without these polynomial features using `LogisticRegression()`. What happens to train/test accuracy?"
   ]
  },
  {
   "cell_type": "code",
   "execution_count": 55,
   "metadata": {
    "collapsed": false
   },
   "outputs": [
    {
     "name": "stdout",
     "output_type": "stream",
     "text": [
      "PolynomialFeatures(degree=2, include_bias=True, interaction_only=True)\n",
      "[[     48.         80.          1.02  ...,  343200.        228.8     40560.   ]\n",
      " [      7.         50.          1.02  ...,  228000.        182.4     28800.   ]\n",
      " [     62.         80.          1.01  ...,  232500.        148.8     36000.   ]\n",
      " ..., \n",
      " [     12.         80.          1.02  ...,  323400.        264.6     35640.   ]\n",
      " [     17.         60.          1.025 ...,  367200.        300.9     42480.   ]\n",
      " [     58.         80.          1.025 ...,  360400.        323.3     41480.   ]]\n"
     ]
    }
   ],
   "source": [
    "#1. Generate the interactions-only degree-2 polynomial-fit features for the kidney_data null-filled dataset on the \n",
    "# numeric columns only.\n",
    "poly_fit_2_interact = PolynomialFeatures(degree=2,interaction_only=True)\n",
    "#don't want the initial constant term, so only keep columns 1 to the end\n",
    "interactions_only_kidney_columns_degree2 = poly_fit_2_interact.fit_transform(kidney_data_filled[kidney_data_numeric_columns])[:,1:]\n",
    "print(poly_fit_2_interact)\n",
    "print(interactions_only_kidney_columns_degree2)"
   ]
  },
  {
   "cell_type": "code",
   "execution_count": 60,
   "metadata": {
    "collapsed": false
   },
   "outputs": [
    {
     "name": "stdout",
     "output_type": "stream",
     "text": [
      "training data size: (280, 14)\n",
      "testing data size: (120, 14)\n",
      "total data size: (400, 14)\n",
      "size of y_mult: (400,)\n",
      "size of y_mult_train:  (280,)\n",
      "size of y_mult_test:  (120,)\n"
     ]
    }
   ],
   "source": [
    "#2 Use train_test_split to predict the class with/without these polynomial features using LogisticRegression(). \n",
    "# What happens to train/test accuracy?\n",
    "logreg = LogisticRegression()\n",
    "X = kidney_data_filled[kidney_data_numeric_columns]\n",
    "y = kidney_data_filled['class']\n",
    "X_train, X_test, y_train, y_test = train_test_split(X, y, test_size=0.3, random_state=42)\n",
    "# Split arrays or matrices into random train and test subsets\n",
    "# -- use random state for debugging purposes\n",
    "print(\"training data size:\",X_train.shape)\n",
    "print(\"testing data size:\",X_test.shape)\n",
    "print (\"total data size:\", X.shape)\n",
    "print(\"size of y_mult:\", y.shape)\n",
    "print(\"size of y_mult_train: \", y_train.shape)\n",
    "print(\"size of y_mult_test: \", y_test.shape)\n",
    "# test_size : float, int, or None (default is None): If float, should be between 0.0 and 1.0 and represent the \n",
    "# proportion of the dataset to include in the test split. If int, represents the absolute number of test samples. If \n",
    "# None, the value is automatically set to the complement of the train size. If train size is also None, test size is \n",
    "# set to 0.25.\n",
    "logreg = LogisticRegression()\n",
    "\n",
    "\n",
    "logreg.fit(X_train, y_train)   # we fit logistic regression object on training data only\n",
    "# generate predictions on training set and evaluate\n",
    "outcome_pred_class_log_train = logreg.predict(X_train)\n",
    "# print(\"Training set RMSE:\",np.sqrt(metrics.mean_squared_error(y_train,outcome_pred_class_log_train)))\n",
    "# print(\"Training set MAE: \",metrics.mean_absolute_error(y_train, outcome_pred_class_log_train))\n",
    "# print(\"Training set MSE: \",metrics.mean_squared_error(y_train,outcome_pred_class_log_train))\n",
    "# # generate predictions on testing set and evaluate\n",
    "# outcome_pred_class_log_test = logreg.predict(X_test)\n",
    "# print(\"Test set RMSE:\",np.sqrt(metrics.mean_squared_error(y_test,outcome_pred_class_log_test)))\n",
    "# print(\"Training set MAE: \",metrics.mean_absolute_error(y_test, outcome_pred_class_log_test))\n",
    "# print(\"Training set MSE: \",metrics.mean_squared_error(y_test,outcome_pred_class_log_test))\n",
    "\n",
    "# Need to get back to this one later"
   ]
  },
  {
   "cell_type": "markdown",
   "metadata": {},
   "source": [
    "Now, we are going to talk about better ways to measure model performance than train/test split."
   ]
  },
  {
   "cell_type": "markdown",
   "metadata": {},
   "source": [
    "### Cross-validation as many train/test splits"
   ]
  },
  {
   "cell_type": "markdown",
   "metadata": {},
   "source": [
    "We are going to motivate this discussion of cross-validation by trying to see if there are any drawbacks from just using train/test split. Specifically:\n",
    "  - What is the drawback of using the **train/test split** procedure for model evaluation?\n",
    "  - How does **K-fold cross-validation** overcome this limitation?"
   ]
  },
  {
   "cell_type": "markdown",
   "metadata": {},
   "source": [
    "**Motivation:** We need a way to choose between several different machine learning models (or multiple versions of the same model). Our goal is **to estimate likely performance of a model on out-of-sample data**.\n",
    "\n",
    "**Initial approach:** Train/test split\n",
    "- Split the dataset into two pieces, so that the model can be trained and tested on **different data**.\n",
    "- **Testing accuracy** is a better estimate than training accuracy of out-of-sample performance (because testing on the same data that you used to train the model causes **overfitting** and worse out-of-sample performance).\n",
    "- However, just using one train/test split provides a **high variance** estimate since changing which observations happen to be in the testing set can significantly change testing accuracy.\n",
    "\n",
    "What would be a better approach?\n",
    "\n",
    "**Better approach:** Create a bunch of train/test splits, calculate the testing accuracy for each, and average the results together.\n",
    "\n",
    "**This is the essense of cross-validation.**"
   ]
  },
  {
   "cell_type": "markdown",
   "metadata": {},
   "source": [
    "### Cross-validation flow\n",
    "1. Split the dataset into K **equal** partitions (or \"folds\").\n",
    "2. Use fold 1 as the **testing set** and the union of the other folds as the **training set**.\n",
    "3. Calculate **testing accuracy**.\n",
    "4. Repeat steps 2 and 3 K times, using a **different fold** as the testing set each time.\n",
    "5. Use the **average testing accuracy** as the estimate of out-of-sample accuracy.\n",
    "\n",
    "**Here's an example diagram where K = 5 (5 fold cross-validation):**\n",
    "![5-fold cross-validation](../images/5-fold-cv.png)"
   ]
  },
  {
   "cell_type": "code",
   "execution_count": 62,
   "metadata": {
    "collapsed": false
   },
   "outputs": [
    {
     "data": {
      "image/png": "[encoded data removed]",
      "text/plain": [
       "<IPython.core.display.Image object>"
      ]
     },
     "execution_count": 62,
     "metadata": {},
     "output_type": "execute_result"
    }
   ],
   "source": [
    "from IPython.core.display import Image \n",
    "Image(filename='../images/5-fold-cv.png')"
   ]
  },
  {
   "cell_type": "code",
   "execution_count": 63,
   "metadata": {
    "collapsed": false
   },
   "outputs": [],
   "source": [
    "from sklearn.cross_validation import KFold, cross_val_score"
   ]
  },
  {
   "cell_type": "code",
   "execution_count": 64,
   "metadata": {
    "collapsed": false
   },
   "outputs": [
    {
     "name": "stdout",
     "output_type": "stream",
     "text": [
      "Iteration                         Training set observations                          Testing set observations\n",
      "1 [ 6  7  8  9 10 11 12 13 14 15 16 17 18 19 20 21 22 23 24 25 26 27 28 29] [0 1 2 3 4 5]\n",
      "2 [ 0  1  2  3  4  5 12 13 14 15 16 17 18 19 20 21 22 23 24 25 26 27 28 29] [ 6  7  8  9 10 11]\n",
      "3 [ 0  1  2  3  4  5  6  7  8  9 10 11 18 19 20 21 22 23 24 25 26 27 28 29] [12 13 14 15 16 17]\n",
      "4 [ 0  1  2  3  4  5  6  7  8  9 10 11 12 13 14 15 16 17 24 25 26 27 28 29] [18 19 20 21 22 23]\n",
      "5 [ 0  1  2  3  4  5  6  7  8  9 10 11 12 13 14 15 16 17 18 19 20 21 22 23] [24 25 26 27 28 29]\n"
     ]
    }
   ],
   "source": [
    "# simulate splitting a dataset of 30 observations into 5 folds\n",
    "kf = KFold(30, n_folds=5, shuffle=False)  # in some cases set shuffle to false, but in most cases you would\n",
    "# want to set shuffle to True (as is default case)\n",
    "\n",
    "# * Dataset contains 30 observations (numbered 0 through 29)\n",
    "# * 5-fold cross-validation, thus it runs for 5 iterations\n",
    "# * For each iteration, every observation is either in the training set or the testing set, but not both\n",
    "# * Every observation is in the testing set exactly once\n",
    "\n",
    "# -------------\n",
    "\n",
    "# Init signature: KFold(self, n, n_folds=3, shuffle=False, random_state=None)\n",
    "# Docstring:\n",
    "# K-Folds cross validation iterator.\n",
    "\n",
    "# Provides train/test indices to split data in train test sets. Split\n",
    "# dataset into k consecutive folds (without shuffling by default).\n",
    "\n",
    "# Each fold is then used a validation set once while the k - 1 remaining\n",
    "# fold form the training set.\n",
    "\n",
    "# Read more in the :ref:`User Guide <cross_validation>`.\n",
    "\n",
    "# Parameters\n",
    "# ----------\n",
    "# n : int\n",
    "#     Total number of elements.\n",
    "\n",
    "# n_folds : int, default=3\n",
    "#     Number of folds. Must be at least 2.\n",
    "\n",
    "# shuffle : boolean, optional\n",
    "#     Whether to shuffle the data before splitting into batches.\n",
    "\n",
    "# random_state : None, int or RandomState\n",
    "#     When shuffle=True, pseudo-random number generator state used for\n",
    "#     shuffling. If None, use default numpy RNG for shuffling.\n",
    "\n",
    "# Examples\n",
    "# --------\n",
    "# >>> from sklearn.cross_validation import KFold\n",
    "# >>> X = np.array([[1, 2], [3, 4], [1, 2], [3, 4]])\n",
    "# >>> y = np.array([1, 2, 3, 4])\n",
    "# >>> kf = KFold(4, n_folds=2)\n",
    "# >>> len(kf)\n",
    "# 2\n",
    "# >>> print(kf)  # doctest: +NORMALIZE_WHITESPACE\n",
    "# sklearn.cross_validation.KFold(n=4, n_folds=2, shuffle=False,\n",
    "#                                random_state=None)\n",
    "# >>> for train_index, test_index in kf:\n",
    "# ...    print(\"TRAIN:\", train_index, \"TEST:\", test_index)\n",
    "# ...    X_train, X_test = X[train_index], X[test_index]\n",
    "# ...    y_train, y_test = y[train_index], y[test_index]\n",
    "# TRAIN: [2 3] TEST: [0 1]\n",
    "# TRAIN: [0 1] TEST: [2 3]\n",
    "\n",
    "# Notes\n",
    "# -----\n",
    "# The first n % n_folds folds have size n // n_folds + 1, other folds have\n",
    "# size n // n_folds.\n",
    "\n",
    "\n",
    "# print the contents of each training and testing set\n",
    "print('{} {:^74} {}'.format('Iteration', 'Training set observations', 'Testing set observations'))\n",
    "for iteration, data in enumerate(kf, start=1):\n",
    "    print('{} {} {}'.format(iteration, data[0], data[1]))\n",
    "    \n",
    "# It's common when iterating over a sequence to want to keep track of the index of the current item . Python has a\n",
    "# built-in function 'enumerate' which returns a sequence of (i, value) tuples"
   ]
  },
  {
   "cell_type": "markdown",
   "metadata": {},
   "source": [
    "Let's go through this carefully:\n",
    "- Dataset contains **30 observations** (numbered 0 through 29)\n",
    "- 5-fold cross-validation, thus it runs for **5 iterations**\n",
    "- For each iteration, every observation is either in the training set or the testing set, **but not both**\n",
    "- Every observation is in the testing set **exactly once**\n",
    "\n",
    "Let's try this with real data and compare to just a single train/test split (we will use the vertebral column data we've used before):"
   ]
  },
  {
   "cell_type": "code",
   "execution_count": 74,
   "metadata": {
    "collapsed": false
   },
   "outputs": [
    {
     "name": "stdout",
     "output_type": "stream",
     "text": [
      "Accuracy for split  0 :  0.806451612903\n",
      "Accuracy for split  1 :  0.774193548387\n",
      "Accuracy for split  2 :  0.935483870968\n",
      "Accuracy for split  3 :  0.774193548387\n",
      "Accuracy for split  4 :  0.903225806452\n",
      "Accuracy for split  5 :  0.838709677419\n",
      "Accuracy for split  6 :  0.806451612903\n",
      "Accuracy for split  7 :  0.935483870968\n",
      "Accuracy for split  8 :  0.645161290323\n",
      "Accuracy for split  9 :  0.838709677419\n",
      "Mean KF-accuracy: 0.825806451613\n",
      "Std of KF-accuracy: 0.0831232175918\n",
      "10-fold accuracies:\n",
      " [ 0.5484  0.6452  0.6774  0.8065  0.9032  0.8065  0.9355  1.      0.8387\n",
      "  0.871 ]\n",
      "Mean cv-accuracy: 0.803225806452\n",
      "Std of cv-accuracy: 0.133355010378\n"
     ]
    }
   ],
   "source": [
    "# read in the vertebral column data\n",
    "vertebral_data = pd.read_csv(\"../data/vertebral_column_2_categories.dat\", sep=\" \",\n",
    "                             names=[\"pelvic_incidence\",\"pelvic_tilt\",\"lumbar_lordosis_angle\",\"sacral_slope\",\"pelvic_radius\",\"spondy_grade\",\"outcome\"])\n",
    "#generate features, targets\n",
    "X = vertebral_data.ix[:,:-1]  # features\n",
    "y = vertebral_data.outcome    # target\n",
    "rf = RandomForestClassifier(n_estimators=50) #random forest with 50 trees\n",
    "\n",
    "#train/test split with 10% of data in each split:\n",
    "# kf = KFold(len(X), n_folds=10, shuffle=False)\n",
    "kf = KFold(len(X), n_folds=10, shuffle=True)\n",
    "kf_scores = []\n",
    "for i, (train_idx, test_idx) in enumerate(kf):\n",
    "    X_train, X_test = X.iloc[train_idx], X.iloc[test_idx]\n",
    "    y_train, y_test = y.iloc[train_idx], y.iloc[test_idx]\n",
    "#     X_train,X_test,y_train,y_test = train_test_split(X,y,test_size=.1)\n",
    "    rf_fit = rf.fit(X_train,y_train)\n",
    "    score = metrics.accuracy_score(y_test,rf_fit.predict(X_test))\n",
    "    print(\"Accuracy for split \",i,\": \", score)\n",
    "    kf_scores.append(score)\n",
    "\n",
    "print(\"Mean KF-accuracy:\",np.mean(kf_scores))\n",
    "print(\"Std of KF-accuracy:\",np.std(kf_scores))\n",
    "    \n",
    "#compute cross-validation score accuracy across 10 folds\n",
    "cross_val_scores = cross_val_score(rf,X,y,cv=10)\n",
    "print(\"10-fold accuracies:\\n\",cross_val_scores)\n",
    "print(\"Mean cv-accuracy:\",np.mean(cross_val_scores))\n",
    "print(\"Std of cv-accuracy:\",np.std(cross_val_scores))"
   ]
  },
  {
   "cell_type": "markdown",
   "metadata": {},
   "source": [
    "#### Exercise Time!!!\n",
    "\n",
    "* Compute cross-validated mean/std of accuracies when doing 20, 40, 50-fold cross-validation using `cross_val_score()`. What happens to the mean and standard deviation of the accuracies as you increase the number of folds?"
   ]
  },
  {
   "cell_type": "code",
   "execution_count": 75,
   "metadata": {
    "collapsed": false
   },
   "outputs": [
    {
     "name": "stdout",
     "output_type": "stream",
     "text": [
      "Accuracy for split  0 :  0.875\n",
      "Accuracy for split  1 :  1.0\n",
      "Accuracy for split  2 :  0.9375\n",
      "Accuracy for split  3 :  1.0\n",
      "Accuracy for split  4 :  0.8125\n",
      "Accuracy for split  5 :  0.625\n",
      "Accuracy for split  6 :  0.8125\n",
      "Accuracy for split  7 :  0.8125\n",
      "Accuracy for split  8 :  0.8125\n",
      "Accuracy for split  9 :  0.8125\n",
      "Accuracy for split  10 :  0.666666666667\n",
      "Accuracy for split  11 :  0.866666666667\n",
      "Accuracy for split  12 :  0.6\n",
      "Accuracy for split  13 :  0.666666666667\n",
      "Accuracy for split  14 :  0.933333333333\n",
      "Accuracy for split  15 :  0.866666666667\n",
      "Accuracy for split  16 :  0.933333333333\n",
      "Accuracy for split  17 :  0.933333333333\n",
      "Accuracy for split  18 :  0.866666666667\n",
      "Accuracy for split  19 :  0.933333333333\n",
      "Mean KF-accuracy: 0.838333333333\n",
      "Std of KF-accuracy: 0.115444491231\n",
      "20-fold accuracies:\n",
      " [ 0.625   0.5     0.625   0.6875  0.6875  0.8125  0.75    0.8125  0.875\n",
      "  0.875   0.9333  0.9333  0.8667  1.      1.      1.      0.8     0.8     1.\n",
      "  0.8   ]\n",
      "Mean cv-accuracy: 0.819166666667\n",
      "Std of cv-accuracy: 0.138433698531\n"
     ]
    }
   ],
   "source": [
    "# pass\n",
    "\n",
    "# For 20-fold cross-validation:\n",
    "\n",
    "kf_20 = KFold(len(X), n_folds=20, shuffle=True)\n",
    "kf_scores_20 = []\n",
    "for i, (train_idx_20, test_idx_20) in enumerate(kf_20):\n",
    "    X_train_20, X_test_20 = X.iloc[train_idx_20], X.iloc[test_idx_20]\n",
    "    y_train_20, y_test_20 = y.iloc[train_idx_20], y.iloc[test_idx_20]\n",
    "#     X_train,X_test,y_train,y_test = train_test_split(X,y,test_size=.1)\n",
    "    rf_fit_20 = rf.fit(X_train_20,y_train_20)\n",
    "    score_20 = metrics.accuracy_score(y_test_20,rf_fit_20.predict(X_test_20))\n",
    "    print(\"Accuracy for split \",i,\": \", score_20)\n",
    "    kf_scores_20.append(score_20)\n",
    "\n",
    "print(\"Mean KF-accuracy:\",np.mean(kf_scores_20))\n",
    "print(\"Std of KF-accuracy:\",np.std(kf_scores_20))\n",
    "    \n",
    "#compute cross-validation score accuracy across 20 folds\n",
    "cross_val_scores_20 = cross_val_score(rf,X,y,cv=20)\n",
    "print(\"20-fold accuracies:\\n\",cross_val_scores_20)\n",
    "print(\"Mean cv-accuracy:\",np.mean(cross_val_scores_20))\n",
    "print(\"Std of cv-accuracy:\",np.std(cross_val_scores_20))"
   ]
  },
  {
   "cell_type": "code",
   "execution_count": 77,
   "metadata": {
    "collapsed": false
   },
   "outputs": [
    {
     "name": "stdout",
     "output_type": "stream",
     "text": [
      "Accuracy for split  0 :  0.875\n",
      "Accuracy for split  1 :  1.0\n",
      "Accuracy for split  2 :  0.75\n",
      "Accuracy for split  3 :  1.0\n",
      "Accuracy for split  4 :  0.625\n",
      "Accuracy for split  5 :  0.875\n",
      "Accuracy for split  6 :  1.0\n",
      "Accuracy for split  7 :  0.875\n",
      "Accuracy for split  8 :  0.625\n",
      "Accuracy for split  9 :  0.875\n",
      "Accuracy for split  10 :  0.875\n",
      "Accuracy for split  11 :  0.875\n",
      "Accuracy for split  12 :  1.0\n",
      "Accuracy for split  13 :  0.875\n",
      "Accuracy for split  14 :  1.0\n",
      "Accuracy for split  15 :  0.875\n",
      "Accuracy for split  16 :  1.0\n",
      "Accuracy for split  17 :  0.875\n",
      "Accuracy for split  18 :  0.875\n",
      "Accuracy for split  19 :  0.625\n",
      "Accuracy for split  20 :  0.75\n",
      "Accuracy for split  21 :  0.625\n",
      "Accuracy for split  22 :  0.875\n",
      "Accuracy for split  23 :  0.75\n",
      "Accuracy for split  24 :  0.75\n",
      "Accuracy for split  25 :  0.75\n",
      "Accuracy for split  26 :  0.875\n",
      "Accuracy for split  27 :  0.875\n",
      "Accuracy for split  28 :  1.0\n",
      "Accuracy for split  29 :  0.625\n",
      "Accuracy for split  30 :  0.857142857143\n",
      "Accuracy for split  31 :  1.0\n",
      "Accuracy for split  32 :  0.714285714286\n",
      "Accuracy for split  33 :  0.857142857143\n",
      "Accuracy for split  34 :  0.857142857143\n",
      "Accuracy for split  35 :  0.714285714286\n",
      "Accuracy for split  36 :  1.0\n",
      "Accuracy for split  37 :  1.0\n",
      "Accuracy for split  38 :  0.857142857143\n",
      "Accuracy for split  39 :  1.0\n",
      "Mean KF-accuracy: 0.852678571429\n",
      "Std of KF-accuracy: 0.122014735435\n",
      "40-fold accuracies:\n",
      " [ 0.5556  0.6667  0.6667  0.4444  0.7778  0.8889  0.5556  0.6667  0.6667\n",
      "  0.5556  1.      0.625   0.875   0.875   0.75    0.75    1.      0.875\n",
      "  0.875   0.75    0.8571  1.      1.      1.      1.      1.      1.      1.\n",
      "  0.8571  1.      0.7143  0.8571  1.      0.7143  0.8571  1.      0.8571\n",
      "  0.8571  0.8571  1.    ]\n",
      "Mean cv-accuracy: 0.831200396825\n",
      "Std of cv-accuracy: 0.155275772024\n"
     ]
    }
   ],
   "source": [
    "# For 40-fold cross-validation:\n",
    "\n",
    "kf_40 = KFold(len(X), n_folds=40, shuffle=True)\n",
    "kf_scores_40 = []\n",
    "for i, (train_idx_40, test_idx_40) in enumerate(kf_40):\n",
    "    X_train_40, X_test_40 = X.iloc[train_idx_40], X.iloc[test_idx_40]\n",
    "    y_train_40, y_test_40 = y.iloc[train_idx_40], y.iloc[test_idx_40]\n",
    "#     X_train,X_test,y_train,y_test = train_test_split(X,y,test_size=.1)\n",
    "    rf_fit_40 = rf.fit(X_train_40,y_train_40)\n",
    "    score_40 = metrics.accuracy_score(y_test_40,rf_fit_40.predict(X_test_40))\n",
    "    print(\"Accuracy for split \",i,\": \", score_40)\n",
    "    kf_scores_40.append(score_40)\n",
    "\n",
    "print(\"Mean KF-accuracy:\",np.mean(kf_scores_40))\n",
    "print(\"Std of KF-accuracy:\",np.std(kf_scores_40))\n",
    "    \n",
    "#compute cross-validation score accuracy across 40 folds\n",
    "cross_val_scores_40 = cross_val_score(rf,X,y,cv=40)\n",
    "print(\"40-fold accuracies:\\n\",cross_val_scores_40)\n",
    "print(\"Mean cv-accuracy:\",np.mean(cross_val_scores_40))\n",
    "print(\"Std of cv-accuracy:\",np.std(cross_val_scores_40))"
   ]
  },
  {
   "cell_type": "code",
   "execution_count": 78,
   "metadata": {
    "collapsed": false
   },
   "outputs": [
    {
     "name": "stdout",
     "output_type": "stream",
     "text": [
      "Accuracy for split  0 :  0.714285714286\n",
      "Accuracy for split  1 :  1.0\n",
      "Accuracy for split  2 :  0.857142857143\n",
      "Accuracy for split  3 :  0.857142857143\n",
      "Accuracy for split  4 :  0.857142857143\n",
      "Accuracy for split  5 :  1.0\n",
      "Accuracy for split  6 :  1.0\n",
      "Accuracy for split  7 :  0.857142857143\n",
      "Accuracy for split  8 :  0.857142857143\n",
      "Accuracy for split  9 :  1.0\n",
      "Accuracy for split  10 :  0.666666666667\n",
      "Accuracy for split  11 :  1.0\n",
      "Accuracy for split  12 :  1.0\n",
      "Accuracy for split  13 :  0.833333333333\n",
      "Accuracy for split  14 :  0.666666666667\n",
      "Accuracy for split  15 :  0.833333333333\n",
      "Accuracy for split  16 :  0.833333333333\n",
      "Accuracy for split  17 :  0.833333333333\n",
      "Accuracy for split  18 :  1.0\n",
      "Accuracy for split  19 :  1.0\n",
      "Accuracy for split  20 :  0.666666666667\n",
      "Accuracy for split  21 :  1.0\n",
      "Accuracy for split  22 :  0.666666666667\n",
      "Accuracy for split  23 :  0.833333333333\n",
      "Accuracy for split  24 :  0.833333333333\n",
      "Accuracy for split  25 :  1.0\n",
      "Accuracy for split  26 :  0.833333333333\n",
      "Accuracy for split  27 :  1.0\n",
      "Accuracy for split  28 :  0.833333333333\n",
      "Accuracy for split  29 :  0.833333333333\n",
      "Accuracy for split  30 :  0.666666666667\n",
      "Accuracy for split  31 :  0.833333333333\n",
      "Accuracy for split  32 :  0.833333333333\n",
      "Accuracy for split  33 :  0.666666666667\n",
      "Accuracy for split  34 :  0.666666666667\n",
      "Accuracy for split  35 :  1.0\n",
      "Accuracy for split  36 :  1.0\n",
      "Accuracy for split  37 :  0.666666666667\n",
      "Accuracy for split  38 :  1.0\n",
      "Accuracy for split  39 :  0.833333333333\n",
      "Accuracy for split  40 :  0.833333333333\n",
      "Accuracy for split  41 :  0.5\n",
      "Accuracy for split  42 :  0.833333333333\n",
      "Accuracy for split  43 :  0.666666666667\n",
      "Accuracy for split  44 :  0.833333333333\n",
      "Accuracy for split  45 :  0.833333333333\n",
      "Accuracy for split  46 :  0.833333333333\n",
      "Accuracy for split  47 :  0.833333333333\n",
      "Accuracy for split  48 :  1.0\n",
      "Accuracy for split  49 :  0.666666666667\n",
      "Mean KF-accuracy: 0.843333333333\n",
      "Std of KF-accuracy: 0.127871995236\n",
      "50-fold accuracies:\n",
      " [ 0.8571  0.5714  0.8571  0.4286  0.4286  0.7143  0.8571  0.5714  0.8571\n",
      "  1.      0.8333  0.8333  0.5     1.      0.6667  0.6667  1.      0.8333\n",
      "  0.8333  0.8333  1.      0.8333  0.6667  0.8333  1.      1.      0.8333\n",
      "  1.      1.      1.      0.8333  1.      1.      1.      1.      1.      1.\n",
      "  1.      1.      1.      0.6667  0.8333  1.      0.6667  1.      1.\n",
      "  0.8333  0.8333  0.6667  1.    ]\n",
      "Mean cv-accuracy: 0.852857142857\n",
      "Std of cv-accuracy: 0.164385063128\n"
     ]
    }
   ],
   "source": [
    "# For 50-fold cross-validation:\n",
    "\n",
    "kf_50 = KFold(len(X), n_folds=50, shuffle=True)\n",
    "kf_scores_50 = []\n",
    "for i, (train_idx_50, test_idx_50) in enumerate(kf_50):\n",
    "    X_train_50, X_test_50 = X.iloc[train_idx_50], X.iloc[test_idx_50]\n",
    "    y_train_50, y_test_50 = y.iloc[train_idx_50], y.iloc[test_idx_50]\n",
    "#     X_train,X_test,y_train,y_test = train_test_split(X,y,test_size=.1)\n",
    "    rf_fit_50 = rf.fit(X_train_50,y_train_50)\n",
    "    score_50 = metrics.accuracy_score(y_test_50,rf_fit_50.predict(X_test_50))\n",
    "    print(\"Accuracy for split \",i,\": \", score_50)\n",
    "    kf_scores_50.append(score_50)\n",
    "\n",
    "print(\"Mean KF-accuracy:\",np.mean(kf_scores_50))\n",
    "print(\"Std of KF-accuracy:\",np.std(kf_scores_50))\n",
    "    \n",
    "#compute cross-validation score accuracy across 50 folds\n",
    "cross_val_scores_50 = cross_val_score(rf,X,y,cv=50)\n",
    "print(\"50-fold accuracies:\\n\",cross_val_scores_50)\n",
    "print(\"Mean cv-accuracy:\",np.mean(cross_val_scores_50))\n",
    "print(\"Std of cv-accuracy:\",np.std(cross_val_scores_50))"
   ]
  },
  {
   "cell_type": "code",
   "execution_count": 80,
   "metadata": {
    "collapsed": false
   },
   "outputs": [
    {
     "name": "stdout",
     "output_type": "stream",
     "text": [
      "Mean cv-accuracy for 20 folds: 0.819166666667\n",
      "Std of cv-accuracy for 20 folds: 0.138433698531\n",
      "Mean cv-accuracy for 40 folds: 0.831200396825\n",
      "Std of cv-accuracy for 40 folds: 0.155275772024\n",
      "Mean cv-accuracy for 50 folds: 0.852857142857\n",
      "Std of cv-accuracy for 50 folds: 0.164385063128\n",
      "We see that the mean and standard deviation of the cross-validated accuracies increase as we increase the number of folds\n"
     ]
    }
   ],
   "source": [
    "# In Summary:\n",
    "print(\"Mean cv-accuracy for 20 folds:\",np.mean(cross_val_scores_20))\n",
    "print(\"Std of cv-accuracy for 20 folds:\",np.std(cross_val_scores_20))\n",
    "print(\"Mean cv-accuracy for 40 folds:\",np.mean(cross_val_scores_40))\n",
    "print(\"Std of cv-accuracy for 40 folds:\",np.std(cross_val_scores_40))\n",
    "print(\"Mean cv-accuracy for 50 folds:\",np.mean(cross_val_scores_50))\n",
    "print(\"Std of cv-accuracy for 50 folds:\",np.std(cross_val_scores_50))\n",
    "print(\"We see that the mean and standard deviation of the cross-validated accuracies increase as we increase the number of folds\")"
   ]
  },
  {
   "cell_type": "markdown",
   "metadata": {},
   "source": [
    "Here are the advantages of **cross-validation:**\n",
    "- More accurate estimate of out-of-sample accuracy\n",
    "- More \"efficient\" use of data (every observation is used for both training and testing)\n",
    "\n",
    "However, there are some advantages to using **train/test split:**\n",
    "- Runs K times faster than K-fold cross-validation\n",
    "- Simpler to examine the detailed results of the testing process"
   ]
  },
  {
   "cell_type": "markdown",
   "metadata": {},
   "source": [
    "We can improve this basic cross-validation approach a bit more as follows:\n",
    "\n",
    "**Repeated cross-validation**\n",
    "\n",
    "- Repeat cross-validation multiple times (with **different random splits** of the data) and average the results\n",
    "- More reliable estimate of out-of-sample performance by **reducing the variance** associated with a single trial of cross-validation\n",
    "\n",
    "**Creating a hold-out set**\n",
    "\n",
    "- \"Hold out\" a portion of the data **before** beginning the model building process\n",
    "- Locate the best model using cross-validation on the remaining data, and test it **using the hold-out set**\n",
    "- More reliable estimate of out-of-sample performance since hold-out set is **truly out-of-sample**\n",
    "\n",
    "**Feature engineering and selection within cross-validation iterations**\n",
    "\n",
    "- Normally, feature engineering and selection occurs **before** cross-validation\n",
    "- Instead, you can perform all feature engineering and selection **within each cross-validation iteration**\n",
    "- This gives us a more reliable estimate of out-of-sample performance since it **better mimics** the application of the model to out-of-sample data"
   ]
  },
  {
   "cell_type": "code",
   "execution_count": null,
   "metadata": {
    "collapsed": false
   },
   "outputs": [],
   "source": [
    "from sklearn.model_selection import GridSearchCV\n",
    "# from sklearn.cross_validation import GridSearchCV"
   ]
  },
  {
   "cell_type": "code",
   "execution_count": null,
   "metadata": {
    "collapsed": false
   },
   "outputs": [],
   "source": [
    "# use 10-fold cross-validation to find best max_depth per-tree out of depth 2 or 3\n",
    "\n",
    "# try max_depth=2\n",
    "rf_2 = RandomForestClassifier(max_depth=2, random_state=1)\n",
    "print(\"Cross-validated mean accuracy for depth 2:\",cross_val_score(rf_2, X, y, cv=10, scoring='accuracy').mean())\n",
    "\n",
    "# try max_depth=3\n",
    "rf_3 = RandomForestClassifier(max_depth=3, random_state=1)\n",
    "print(\"Cross-validated mean accuracy for depth 3:\",cross_val_score(rf_3, X, y, cv=10, scoring='accuracy').mean())"
   ]
  },
  {
   "cell_type": "code",
   "execution_count": null,
   "metadata": {
    "collapsed": false
   },
   "outputs": [],
   "source": [
    "# use GridSearchCV to automate the search across depths 1-10\n",
    "rf_grid = RandomForestClassifier(n_estimators=50,random_state=1,n_jobs=-1) #50 trees\n",
    "max_depth_range = range(1, 20, 2)\n",
    "param_grid = dict(max_depth=max_depth_range)\n",
    "print(param_grid)\n",
    "grid = GridSearchCV(rf_grid, param_grid, cv=3, scoring='accuracy')\n",
    "grid.fit(X, y)\n",
    "\n",
    "# store the results of the grid search\n",
    "grid.grid_scores_\n",
    "grid_mean_scores = [result.mean_validation_score for result in grid.grid_scores_]"
   ]
  },
  {
   "cell_type": "code",
   "execution_count": null,
   "metadata": {
    "collapsed": false
   },
   "outputs": [],
   "source": [
    "# plot the results\n",
    "sns.plt.plot(max_depth_range, grid_mean_scores)\n",
    "sns.plt.xlabel('Value of max_depth')\n",
    "sns.plt.ylabel('Cross-Validated Mean Accuracy')"
   ]
  },
  {
   "cell_type": "code",
   "execution_count": null,
   "metadata": {
    "collapsed": false
   },
   "outputs": [],
   "source": [
    "# what was best model?\n",
    "grid.best_score_\n",
    "grid.best_params_\n",
    "grid.best_estimator_"
   ]
  },
  {
   "cell_type": "code",
   "execution_count": null,
   "metadata": {
    "collapsed": false
   },
   "outputs": [],
   "source": [
    "# search multiple parameters simultaneously\n",
    "max_depth_range = range(1, 11)\n",
    "leaf_range = range(1, 11)\n",
    "param_grid2 = dict(max_depth=max_depth_range, min_samples_leaf=leaf_range)\n",
    "grid = GridSearchCV(rf_grid, param_grid, cv=10, scoring='accuracy')\n",
    "grid.fit(X, y)\n",
    "grid.grid_scores_\n",
    "grid.best_score_\n",
    "grid.best_params_"
   ]
  },
  {
   "cell_type": "markdown",
   "metadata": {
    "collapsed": true
   },
   "source": [
    "#### Exercise Time!!!\n",
    "\n",
    "I want you to use and test several different imputation methods, different feature transformations, and different model parameters using `GridSearchCV` for the kidney dataset.\n",
    "\n",
    "This will get you to use everything we've learned today on one dataset with several kinds of missing values, and using both categorical and numeric values.\n",
    "\n",
    "**Don't forget to transform the categories using `pd.get_dummies()` once you've filled in the missing data!**\n",
    "\n",
    "Remember there are other parameters you can tune for random forests than just the maximum depth. Look at the random forest lesson or the [random forest documentation](http://scikit-learn.org/stable/modules/generated/sklearn.ensemble.RandomForestClassifier.html).\n",
    "\n",
    "Try to be systematic in your exploration. Your goal is to make as robust a model as you can (lowest average cross-validated test error)."
   ]
  },
  {
   "cell_type": "code",
   "execution_count": null,
   "metadata": {
    "collapsed": true
   },
   "outputs": [],
   "source": [
    "pass"
   ]
  }
 ],
 "metadata": {
  "anaconda-cloud": {},
  "kernelspec": {
   "display_name": "Python [Root]",
   "language": "python",
   "name": "Python [Root]"
  },
  "language_info": {
   "codemirror_mode": {
    "name": "ipython",
    "version": 2
   },
   "file_extension": ".py",
   "mimetype": "text/x-python",
   "name": "python",
   "nbconvert_exporter": "python",
   "pygments_lexer": "ipython2",
   "version": "2.7.12"
  }
 },
 "nbformat": 4,
 "nbformat_minor": 0
}
