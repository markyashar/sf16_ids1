{
 "cells": [
  {
   "cell_type": "markdown",
   "metadata": {},
   "source": [
    "# Numpy Quickstart Guide (http://docs.scipy.org/doc/numpy-dev/user/quickstart.html)"
   ]
  },
  {
   "cell_type": "code",
   "execution_count": 1,
   "metadata": {
    "collapsed": false
   },
   "outputs": [
    {
     "data": {
      "text/plain": [
       "[[1.0, 0.0, 0.0], [0.0, 1.0, 2.0]]"
      ]
     },
     "execution_count": 1,
     "metadata": {},
     "output_type": "execute_result"
    }
   ],
   "source": [
    "'''\n",
    "NumPy’s main object is the homogeneous multidimensional array. It is a table of elements (usually numbers), all \n",
    "of the same type, indexed by a tuple of positive integers. In Numpy dimensions are called axes. The number of axes is \n",
    "'rank'. For example, the coordinates of a point in 3D space [1, 2, 1] is an array of rank 1, because it has one axis. \n",
    "That axis has a length of 3. In the example pictured below, the array has rank 2 (it is 2-dimensional). The first \n",
    "dimension (axis) has a length of 2, the second dimension has a length of 3.\n",
    "'''\n",
    "[[ 1., 0., 0.],\n",
    " [ 0., 1., 2.]]"
   ]
  },
  {
   "cell_type": "code",
   "execution_count": 19,
   "metadata": {
    "collapsed": false
   },
   "outputs": [
    {
     "data": {
      "text/plain": [
       "array([[ 0,  1,  2,  3,  4],\n",
       "       [ 5,  6,  7,  8,  9],\n",
       "       [10, 11, 12, 13, 14]])"
      ]
     },
     "execution_count": 19,
     "metadata": {},
     "output_type": "execute_result"
    }
   ],
   "source": [
    "from __future__ import print_function, unicode_literals, division\n",
    "import numpy as np\n",
    "%matplotlib inline \n",
    "a = np.arange(15).reshape(3, 5)\n",
    "a"
   ]
  },
  {
   "cell_type": "code",
   "execution_count": 20,
   "metadata": {
    "collapsed": false
   },
   "outputs": [
    {
     "data": {
      "text/plain": [
       "(3, 5)"
      ]
     },
     "execution_count": 20,
     "metadata": {},
     "output_type": "execute_result"
    }
   ],
   "source": [
    "'''\n",
    "The dimensions of the array: this is a tuple of integers indicating the size of the array in each dimension. For a \n",
    "matrix with n rows and m columns, shape will be (n,m). The length of the shape tuple is therefore the rank, or \n",
    "number of dimensions, ndim.\n",
    "'''\n",
    "a.shape"
   ]
  },
  {
   "cell_type": "code",
   "execution_count": 21,
   "metadata": {
    "collapsed": false
   },
   "outputs": [
    {
     "data": {
      "text/plain": [
       "2"
      ]
     },
     "execution_count": 21,
     "metadata": {},
     "output_type": "execute_result"
    }
   ],
   "source": [
    "# the number of axes (dimensions) of the array. In the Python world, the number of dimensions is referred to as rank.\n",
    "a.ndim"
   ]
  },
  {
   "cell_type": "code",
   "execution_count": 22,
   "metadata": {
    "collapsed": false
   },
   "outputs": [
    {
     "data": {
      "text/plain": [
       "'int64'"
      ]
     },
     "execution_count": 22,
     "metadata": {},
     "output_type": "execute_result"
    }
   ],
   "source": [
    "a.dtype.name"
   ]
  },
  {
   "cell_type": "code",
   "execution_count": 23,
   "metadata": {
    "collapsed": false
   },
   "outputs": [
    {
     "data": {
      "text/plain": [
       "8"
      ]
     },
     "execution_count": 23,
     "metadata": {},
     "output_type": "execute_result"
    }
   ],
   "source": [
    "'''\n",
    "The size in bytes of each element of the array. For example, an array of elements of type float64 has itemsize 8\n",
    "(=64/8), while one of type complex32 has itemsize 4 (=32/8). It is equivalent to ndarray.dtype.itemsize.\n",
    "'''\n",
    "a.itemsize"
   ]
  },
  {
   "cell_type": "code",
   "execution_count": 24,
   "metadata": {
    "collapsed": false
   },
   "outputs": [
    {
     "data": {
      "text/plain": [
       "15"
      ]
     },
     "execution_count": 24,
     "metadata": {},
     "output_type": "execute_result"
    }
   ],
   "source": [
    "# the total number of elements of the array. This is equal to the product of the elements of shape.\n",
    "a.size"
   ]
  },
  {
   "cell_type": "code",
   "execution_count": 25,
   "metadata": {
    "collapsed": false
   },
   "outputs": [
    {
     "data": {
      "text/plain": [
       "numpy.ndarray"
      ]
     },
     "execution_count": 25,
     "metadata": {},
     "output_type": "execute_result"
    }
   ],
   "source": [
    "type(a)"
   ]
  },
  {
   "cell_type": "code",
   "execution_count": 26,
   "metadata": {
    "collapsed": false
   },
   "outputs": [
    {
     "data": {
      "text/plain": [
       "array([6, 7, 8])"
      ]
     },
     "execution_count": 26,
     "metadata": {},
     "output_type": "execute_result"
    }
   ],
   "source": [
    "b = np.array([6, 7, 8])\n",
    "b"
   ]
  },
  {
   "cell_type": "code",
   "execution_count": 27,
   "metadata": {
    "collapsed": false
   },
   "outputs": [
    {
     "data": {
      "text/plain": [
       "numpy.ndarray"
      ]
     },
     "execution_count": 27,
     "metadata": {},
     "output_type": "execute_result"
    }
   ],
   "source": [
    "type(b)"
   ]
  },
  {
   "cell_type": "code",
   "execution_count": 29,
   "metadata": {
    "collapsed": false
   },
   "outputs": [
    {
     "name": "stdout",
     "output_type": "stream",
     "text": [
      "a: [2 3 4]\n",
      "a.dtype: int64\n",
      "b.dtype: float64\n"
     ]
    },
    {
     "data": {
      "text/plain": [
       "u'\\nA frequent error consists in calling array with multiple numeric arguments, rather than providing a single list of \\nnumbers as an argument.\\na = np.array(1,2,3,4)    # WRONG\\na = np.array([1,2,3,4])  # RIGHT\\n'"
      ]
     },
     "execution_count": 29,
     "metadata": {},
     "output_type": "execute_result"
    }
   ],
   "source": [
    "'''\n",
    "ARRAY CREATION: There are several ways to create arrays. For example, you can create an array from a regular Python \n",
    "list or tuple using the array function. The type of the resulting array is deduced from the type of the elements in \n",
    "the sequences.\n",
    "'''\n",
    "import numpy as np\n",
    "a = np.array([2,3,4])\n",
    "print('a:', a)\n",
    "print('a.dtype:', a.dtype)\n",
    "b = np.array([1.2, 3.5, 5.1])\n",
    "print('b.dtype:', b.dtype)\n",
    "'''\n",
    "A frequent error consists in calling array with multiple numeric arguments, rather than providing a single list of \n",
    "numbers as an argument.\n",
    "a = np.array(1,2,3,4)    # WRONG\n",
    "a = np.array([1,2,3,4])  # RIGHT\n",
    "'''"
   ]
  },
  {
   "cell_type": "code",
   "execution_count": 30,
   "metadata": {
    "collapsed": false
   },
   "outputs": [
    {
     "name": "stdout",
     "output_type": "stream",
     "text": [
      "b:  [[ 1.5  2.   3. ]\n",
      " [ 4.   5.   6. ]]\n",
      "c:  [[ 1.+0.j  2.+0.j]\n",
      " [ 3.+0.j  4.+0.j]]\n"
     ]
    }
   ],
   "source": [
    "'''\n",
    "'array' transforms sequences of sequences into two-dimensional arrays, sequences of sequences of sequences into \n",
    "three-dimensional arrays, and so on.\n",
    "'''\n",
    "b = np.array([(1.5,2,3), (4,5,6)])\n",
    "print('b: ', b)\n",
    "\n",
    "# The type of the array can also be explicitly specified at creation time:\n",
    "c = np.array( [ [1,2], [3,4] ], dtype=complex )\n",
    "print('c: ', c)\n"
   ]
  },
  {
   "cell_type": "code",
   "execution_count": 31,
   "metadata": {
    "collapsed": false
   },
   "outputs": [
    {
     "name": "stdout",
     "output_type": "stream",
     "text": [
      "[[ 0.  0.  0.  0.]\n",
      " [ 0.  0.  0.  0.]\n",
      " [ 0.  0.  0.  0.]]\n",
      "\n",
      "[[[1 1 1 1]\n",
      "  [1 1 1 1]\n",
      "  [1 1 1 1]]\n",
      "\n",
      " [[1 1 1 1]\n",
      "  [1 1 1 1]\n",
      "  [1 1 1 1]]]\n",
      "[[  1.39069238e-309   1.39069238e-309   1.39069238e-309]\n",
      " [  1.39069238e-309   1.39069238e-309   1.39069238e-309]]\n"
     ]
    }
   ],
   "source": [
    "'''\n",
    "Often, the elements of an array are originally unknown, but its size is known. Hence, NumPy offers several functions\n",
    "to create arrays with initial placeholder content. These minimize the necessity of growing arrays, an expensive \n",
    "operation.\n",
    "\n",
    "The function 'zeros' creates an array full of zeros, the function 'ones' creates an array full of ones, and the \n",
    "function 'empty' creates an array whose initial content is random and depends on the state of the memory. \n",
    "By default, the dtype of the created array is float64.\n",
    "'''\n",
    "print(np.zeros( (3,4) ))\n",
    "print()\n",
    "print(np.ones( (2,3,4), dtype=np.int16 ))                # dtype can also be specified\n",
    "print(np.empty( (2,3) ))                                 # uninitialized, output may vary"
   ]
  },
  {
   "cell_type": "code",
   "execution_count": 32,
   "metadata": {
    "collapsed": false
   },
   "outputs": [
    {
     "data": {
      "text/plain": [
       "array([10, 15, 20, 25])"
      ]
     },
     "execution_count": 32,
     "metadata": {},
     "output_type": "execute_result"
    }
   ],
   "source": [
    "# To create sequences of numbers, NumPy provides a function analogous to 'range' that returns arrays instead of lists\n",
    "np.arange( 10, 30, 5 )"
   ]
  },
  {
   "cell_type": "code",
   "execution_count": 33,
   "metadata": {
    "collapsed": false
   },
   "outputs": [
    {
     "data": {
      "text/plain": [
       "array([ 0. ,  0.3,  0.6,  0.9,  1.2,  1.5,  1.8])"
      ]
     },
     "execution_count": 33,
     "metadata": {},
     "output_type": "execute_result"
    }
   ],
   "source": [
    "np.arange( 0, 2, 0.3 )                 # it accepts float arguments"
   ]
  },
  {
   "cell_type": "code",
   "execution_count": 34,
   "metadata": {
    "collapsed": false
   },
   "outputs": [
    {
     "name": "stdout",
     "output_type": "stream",
     "text": [
      "[ 0.    0.25  0.5   0.75  1.    1.25  1.5   1.75  2.  ]\n",
      "x:  [ 0.          0.06346652  0.12693304  0.19039955  0.25386607  0.31733259\n",
      "  0.38079911  0.44426563  0.50773215  0.57119866  0.63466518  0.6981317\n",
      "  0.76159822  0.82506474  0.88853126  0.95199777  1.01546429  1.07893081\n",
      "  1.14239733  1.20586385  1.26933037  1.33279688  1.3962634   1.45972992\n",
      "  1.52319644  1.58666296  1.65012947  1.71359599  1.77706251  1.84052903\n",
      "  1.90399555  1.96746207  2.03092858  2.0943951   2.15786162  2.22132814\n",
      "  2.28479466  2.34826118  2.41172769  2.47519421  2.53866073  2.60212725\n",
      "  2.66559377  2.72906028  2.7925268   2.85599332  2.91945984  2.98292636\n",
      "  3.04639288  3.10985939  3.17332591  3.23679243  3.30025895  3.36372547\n",
      "  3.42719199  3.4906585   3.55412502  3.61759154  3.68105806  3.74452458\n",
      "  3.8079911   3.87145761  3.93492413  3.99839065  4.06185717  4.12532369\n",
      "  4.1887902   4.25225672  4.31572324  4.37918976  4.44265628  4.5061228\n",
      "  4.56958931  4.63305583  4.69652235  4.75998887  4.82345539  4.88692191\n",
      "  4.95038842  5.01385494  5.07732146  5.14078798  5.2042545   5.26772102\n",
      "  5.33118753  5.39465405  5.45812057  5.52158709  5.58505361  5.64852012\n",
      "  5.71198664  5.77545316  5.83891968  5.9023862   5.96585272  6.02931923\n",
      "  6.09278575  6.15625227  6.21971879  6.28318531]\n",
      "f:  [  0.00000000e+00   6.34239197e-02   1.26592454e-01   1.89251244e-01\n",
      "   2.51147987e-01   3.12033446e-01   3.71662456e-01   4.29794912e-01\n",
      "   4.86196736e-01   5.40640817e-01   5.92907929e-01   6.42787610e-01\n",
      "   6.90079011e-01   7.34591709e-01   7.76146464e-01   8.14575952e-01\n",
      "   8.49725430e-01   8.81453363e-01   9.09631995e-01   9.34147860e-01\n",
      "   9.54902241e-01   9.71811568e-01   9.84807753e-01   9.93838464e-01\n",
      "   9.98867339e-01   9.99874128e-01   9.96854776e-01   9.89821442e-01\n",
      "   9.78802446e-01   9.63842159e-01   9.45000819e-01   9.22354294e-01\n",
      "   8.95993774e-01   8.66025404e-01   8.32569855e-01   7.95761841e-01\n",
      "   7.55749574e-01   7.12694171e-01   6.66769001e-01   6.18158986e-01\n",
      "   5.67059864e-01   5.13677392e-01   4.58226522e-01   4.00930535e-01\n",
      "   3.42020143e-01   2.81732557e-01   2.20310533e-01   1.58001396e-01\n",
      "   9.50560433e-02   3.17279335e-02  -3.17279335e-02  -9.50560433e-02\n",
      "  -1.58001396e-01  -2.20310533e-01  -2.81732557e-01  -3.42020143e-01\n",
      "  -4.00930535e-01  -4.58226522e-01  -5.13677392e-01  -5.67059864e-01\n",
      "  -6.18158986e-01  -6.66769001e-01  -7.12694171e-01  -7.55749574e-01\n",
      "  -7.95761841e-01  -8.32569855e-01  -8.66025404e-01  -8.95993774e-01\n",
      "  -9.22354294e-01  -9.45000819e-01  -9.63842159e-01  -9.78802446e-01\n",
      "  -9.89821442e-01  -9.96854776e-01  -9.99874128e-01  -9.98867339e-01\n",
      "  -9.93838464e-01  -9.84807753e-01  -9.71811568e-01  -9.54902241e-01\n",
      "  -9.34147860e-01  -9.09631995e-01  -8.81453363e-01  -8.49725430e-01\n",
      "  -8.14575952e-01  -7.76146464e-01  -7.34591709e-01  -6.90079011e-01\n",
      "  -6.42787610e-01  -5.92907929e-01  -5.40640817e-01  -4.86196736e-01\n",
      "  -4.29794912e-01  -3.71662456e-01  -3.12033446e-01  -2.51147987e-01\n",
      "  -1.89251244e-01  -1.26592454e-01  -6.34239197e-02  -2.44929360e-16]\n"
     ]
    }
   ],
   "source": [
    "'''\n",
    "When arange is used with floating point arguments, it is generally not possible to predict the number of elements \n",
    "obtained, due to the finite floating point precision. For this reason, it is usually better to use the function \n",
    "linspace that receives as an argument the number of elements that we want, instead of the step:\n",
    "'''\n",
    "from numpy import pi\n",
    "print(np.linspace( 0, 2, 9 ))                 # 9 numbers from 0 to 2\n",
    "x = np.linspace( 0, 2*pi, 100 )        # useful to evaluate function at lots of points\n",
    "f = np.sin(x)\n",
    "print('x: ',x)\n",
    "print('f: ',f)"
   ]
  },
  {
   "cell_type": "code",
   "execution_count": 35,
   "metadata": {
    "collapsed": false
   },
   "outputs": [
    {
     "name": "stdout",
     "output_type": "stream",
     "text": [
      "[0 1 2 3 4 5]\n",
      "\n",
      "[[ 0  1  2]\n",
      " [ 3  4  5]\n",
      " [ 6  7  8]\n",
      " [ 9 10 11]]\n",
      "\n",
      "[[[ 0  1  2  3]\n",
      "  [ 4  5  6  7]\n",
      "  [ 8  9 10 11]]\n",
      "\n",
      " [[12 13 14 15]\n",
      "  [16 17 18 19]\n",
      "  [20 21 22 23]]]\n"
     ]
    }
   ],
   "source": [
    "'''\n",
    "Printing Arrays -- I've already done some of this above:\n",
    "\n",
    "When you print an array, NumPy displays it in a similar way to nested lists, but with the following layout:\n",
    "\n",
    ". the last axis is printed from left to right,\n",
    ". the second-to-last is printed from top to bottom,\n",
    ". the rest are also printed from top to bottom, with each slice separated from the next by an empty line.\n",
    ". One-dimensional arrays are then printed as rows, bidimensionals as matrices and tridimensionals as lists of matrices.\n",
    "'''\n",
    "a = np.arange(6)                         # 1d array\n",
    "print(a)\n",
    "print()\n",
    "b = np.arange(12).reshape(4,3)           # 2d array\n",
    "print(b)\n",
    "print()\n",
    "c = np.arange(24).reshape(2,3,4)         # 3d array\n",
    "print(c)\n"
   ]
  },
  {
   "cell_type": "code",
   "execution_count": 36,
   "metadata": {
    "collapsed": false
   },
   "outputs": [
    {
     "name": "stdout",
     "output_type": "stream",
     "text": [
      "[   0    1    2 ..., 9997 9998 9999]\n",
      "\n",
      "[[   0    1    2 ...,   97   98   99]\n",
      " [ 100  101  102 ...,  197  198  199]\n",
      " [ 200  201  202 ...,  297  298  299]\n",
      " ..., \n",
      " [9700 9701 9702 ..., 9797 9798 9799]\n",
      " [9800 9801 9802 ..., 9897 9898 9899]\n",
      " [9900 9901 9902 ..., 9997 9998 9999]]\n",
      "\n"
     ]
    }
   ],
   "source": [
    "'''\n",
    "If an array is too large to be printed, NumPy automatically skips the central part of the array and only prints the \n",
    "corners:\n",
    "'''\n",
    "print(np.arange(10000))\n",
    "print()\n",
    "print(np.arange(10000).reshape(100,100))\n",
    "print()\n",
    "'''\n",
    "To disable this behaviour and force NumPy to print the entire array, you can change the printing options using \n",
    "set_printoptions.\n",
    "'''\n",
    "np.set_printoptions(threshold='nan')"
   ]
  },
  {
   "cell_type": "code",
   "execution_count": 37,
   "metadata": {
    "collapsed": false
   },
   "outputs": [
    {
     "name": "stdout",
     "output_type": "stream",
     "text": [
      "a:  [20 30 40 50]\n",
      "b:  [0 1 2 3]\n",
      "c:  [20 29 38 47]\n",
      "b**2:  [0 1 4 9]\n",
      "10*np.sin(a):  [ 9.12945251 -9.88031624  7.4511316  -2.62374854]\n",
      "a<35:  [ True  True False False]\n"
     ]
    }
   ],
   "source": [
    "'''\n",
    "Basic Operations:\n",
    "Arithmetic operators on arrays apply elementwise. A new array is created and filled with the result.\n",
    "'''\n",
    "a = np.array( [20,30,40,50] )\n",
    "b = np.arange( 4 )\n",
    "print('a: ',a)\n",
    "print('b: ',b)\n",
    "c = a-b\n",
    "print('c: ',c)\n",
    "print('b**2: ', b**2)\n",
    "print('10*np.sin(a): ', 10*np.sin(a))\n",
    "print('a<35: ', a<35)\n"
   ]
  },
  {
   "cell_type": "code",
   "execution_count": 39,
   "metadata": {
    "collapsed": false
   },
   "outputs": [
    {
     "name": "stdout",
     "output_type": "stream",
     "text": [
      "A:  [[1 1]\n",
      " [0 1]]\n",
      "B:  [[2 0]\n",
      " [3 4]]\n",
      "A*B:  [[2 0]\n",
      " [0 4]]\n",
      "A.dot(B):  [[5 4]\n",
      " [3 4]]\n",
      "np.dot(A,B):  [[5 4]\n",
      " [3 4]]\n"
     ]
    }
   ],
   "source": [
    "'''\n",
    "Unlike in many matrix languages, the product operator '*' operates elementwise in NumPy arrays. The matrix product can \n",
    "be performed using the dot function or method:\n",
    "'''\n",
    "A = np.array( [[1,1], [0,1]] )\n",
    "B = np.array( [[2,0],[3,4]] )\n",
    "print('A: ',A)\n",
    "print('B: ',B)\n",
    "print('A*B: ',A*B)                         # elementwise product\n",
    "print('A.dot(B): ',A.dot(B))                    # matrix product\n",
    "print('np.dot(A,B): ',np.dot(A, B))                # another matrix product\n"
   ]
  },
  {
   "cell_type": "code",
   "execution_count": 40,
   "metadata": {
    "collapsed": false
   },
   "outputs": [
    {
     "name": "stdout",
     "output_type": "stream",
     "text": [
      "a:  [[3 3 3]\n",
      " [3 3 3]]\n",
      "b:  [[ 3.83517091  3.5857252   3.36490547]\n",
      " [ 3.47692644  3.47002398  3.61909118]]\n"
     ]
    },
    {
     "ename": "TypeError",
     "evalue": "Cannot cast ufunc add output from dtype('float64') to dtype('int64') with casting rule 'same_kind'",
     "output_type": "error",
     "traceback": [
      "\u001b[0;31m---------------------------------------------------------------------------\u001b[0m",
      "\u001b[0;31mTypeError\u001b[0m                                 Traceback (most recent call last)",
      "\u001b[0;32m<ipython-input-40-15a458647bd7>\u001b[0m in \u001b[0;36m<module>\u001b[0;34m()\u001b[0m\n\u001b[1;32m      6\u001b[0m \u001b[0mb\u001b[0m \u001b[0;34m+=\u001b[0m \u001b[0ma\u001b[0m\u001b[0;34m\u001b[0m\u001b[0m\n\u001b[1;32m      7\u001b[0m \u001b[0;32mprint\u001b[0m\u001b[0;34m(\u001b[0m\u001b[0;34m'b: '\u001b[0m\u001b[0;34m,\u001b[0m \u001b[0mb\u001b[0m\u001b[0;34m)\u001b[0m\u001b[0;34m\u001b[0m\u001b[0m\n\u001b[0;32m----> 8\u001b[0;31m \u001b[0ma\u001b[0m \u001b[0;34m+=\u001b[0m \u001b[0mb\u001b[0m                  \u001b[0;31m# b is not automatically converted to integer type\u001b[0m\u001b[0;34m\u001b[0m\u001b[0m\n\u001b[0m",
      "\u001b[0;31mTypeError\u001b[0m: Cannot cast ufunc add output from dtype('float64') to dtype('int64') with casting rule 'same_kind'"
     ]
    }
   ],
   "source": [
    "# Some operations, such as += and *=, act in place to modify an existing array rather than create a new one\n",
    "a = np.ones((2,3), dtype=int)\n",
    "b = np.random.random((2,3))\n",
    "a *= 3\n",
    "print('a: ', a)\n",
    "b += a\n",
    "print('b: ', b)\n",
    "a += b                  # b is not automatically converted to integer type"
   ]
  },
  {
   "cell_type": "code",
   "execution_count": 41,
   "metadata": {
    "collapsed": false
   },
   "outputs": [
    {
     "name": "stdout",
     "output_type": "stream",
     "text": [
      "b.dtype.name:  float64\n",
      "c:  [ 1.          2.57079633  4.14159265]\n",
      "c.dtype.name:  float64\n",
      "d:  [ 0.54030231+0.84147098j -0.84147098+0.54030231j -0.54030231-0.84147098j]\n",
      "d.dtype.name:  complex128\n"
     ]
    }
   ],
   "source": [
    "'''\n",
    "When operating with arrays of different types, the type of the resulting array corresponds to the more general or \n",
    "precise one (a behavior known as upcasting).\n",
    "'''\n",
    "a = np.ones(3, dtype=np.int32)\n",
    "b = np.linspace(0,pi,3)\n",
    "print('b.dtype.name: ', b.dtype.name)\n",
    "c = a+b\n",
    "print('c: ', c)\n",
    "print('c.dtype.name: ', c.dtype.name)\n",
    "d = np.exp(c*1j)\n",
    "print('d: ', d)\n",
    "print('d.dtype.name: ', d.dtype.name)"
   ]
  },
  {
   "cell_type": "code",
   "execution_count": 42,
   "metadata": {
    "collapsed": false
   },
   "outputs": [
    {
     "name": "stdout",
     "output_type": "stream",
     "text": [
      "a:  [[ 0.70079728  0.38044637  0.41714954]\n",
      " [ 0.3808567   0.08807236  0.06263758]]\n",
      "a.sum():  2.02995983346\n",
      "a.min():  0.0626375797158\n",
      "a.max():  0.700797276612\n"
     ]
    }
   ],
   "source": [
    "'''\n",
    "Many unary operations, such as computing the sum of all the elements in the array, are implemented as methods of the \n",
    "ndarray class.\n",
    "'''\n",
    "a = np.random.random((2,3))\n",
    "print('a: ', a)\n",
    "print('a.sum(): ', a.sum())\n",
    "print('a.min(): ', a.min())\n",
    "print('a.max(): ', a.max())"
   ]
  },
  {
   "cell_type": "code",
   "execution_count": 43,
   "metadata": {
    "collapsed": false
   },
   "outputs": [
    {
     "name": "stdout",
     "output_type": "stream",
     "text": [
      "b:  [[ 0  1  2  3]\n",
      " [ 4  5  6  7]\n",
      " [ 8  9 10 11]]\n",
      "b.sum(axis=0):  [12 15 18 21]\n",
      "b.min(axis=1):  [0 4 8]\n",
      "b.cumsum(axis=1):  [[ 0  1  3  6]\n",
      " [ 4  9 15 22]\n",
      " [ 8 17 27 38]]\n"
     ]
    }
   ],
   "source": [
    "'''\n",
    "By default, these operations apply to the array as though it were a list of numbers, regardless of its shape. \n",
    "However, by specifying the axis parameter you can apply an operation along the specified axis of an array:\n",
    "'''\n",
    "b = np.arange(12).reshape(3,4)\n",
    "print('b: ', b)\n",
    "print('b.sum(axis=0): ', b.sum(axis=0))  # sum of each column\n",
    "print('b.min(axis=1): ', b.min(axis=1))  # min of each row\n",
    "print('b.cumsum(axis=1): ', b.cumsum(axis=1))  # cumulative sum along each row"
   ]
  },
  {
   "cell_type": "code",
   "execution_count": 44,
   "metadata": {
    "collapsed": false
   },
   "outputs": [
    {
     "name": "stdout",
     "output_type": "stream",
     "text": [
      "B:  [0 1 2]\n",
      "np.exp(B):  [ 1.          2.71828183  7.3890561 ]\n",
      "C:  [ 2. -1.  4.]\n",
      "np.add(B, C):  [ 2.  0.  6.]\n"
     ]
    }
   ],
   "source": [
    "'''\n",
    "Universal Functions:\n",
    "\n",
    "NumPy provides familiar mathematical functions such as sin, cos, and exp. In NumPy, these are called “universal \n",
    "functions”(ufunc). Within NumPy, these functions operate elementwise on an array, producing an array as output.\n",
    "'''\n",
    "B = np.arange(3)\n",
    "print('B: ', B)\n",
    "print('np.exp(B): ', np.exp(B))\n",
    "C = np.array([2., -1., 4.])\n",
    "print('C: ', C)\n",
    "print('np.add(B, C): ', np.add(B, C))"
   ]
  },
  {
   "cell_type": "code",
   "execution_count": 45,
   "metadata": {
    "collapsed": false
   },
   "outputs": [
    {
     "name": "stdout",
     "output_type": "stream",
     "text": [
      "a:  [  0   1   8  27  64 125 216 343 512 729]\n",
      "a[2]:  8\n",
      "a[2:5]:  [ 8 27 64]\n",
      "a:  [-1000     1 -1000    27 -1000   125   216   343   512   729]\n",
      "a[ : :-1]:  [  729   512   343   216   125 -1000    27 -1000     1 -1000]\n",
      "nan\n",
      "1.0\n",
      "nan\n",
      "3.0\n",
      "nan\n",
      "5.0\n",
      "6.0\n",
      "7.0\n",
      "8.0\n",
      "9.0\n"
     ]
    },
    {
     "name": "stderr",
     "output_type": "stream",
     "text": [
      "/Users/markyashar/anaconda/lib/python2.7/site-packages/ipykernel/__main__.py:16: RuntimeWarning: invalid value encountered in power\n"
     ]
    }
   ],
   "source": [
    "'''\n",
    "Indexing, Slicing and Iterating:\n",
    "\n",
    "One-dimensional arrays can be indexed, sliced and iterated over, much like lists and other Python sequences.\n",
    "'''\n",
    "a = np.arange(10)**3\n",
    "print('a: ', a)\n",
    "print('a[2]: ', a[2])\n",
    "print('a[2:5]: ', a[2:5])\n",
    "a[:6:2] = -1000    # equivalent to a[0:6:2] = -1000; from start to position 6, exclusive, set every 2nd element to \n",
    "                   # -1000\n",
    "print('a: ', a)\n",
    "print('a[ : :-1]: ', a[ : :-1])                                 # reversed a\n",
    "\n",
    "for i in a:\n",
    "    print(i**(1/3.))"
   ]
  },
  {
   "cell_type": "code",
   "execution_count": 46,
   "metadata": {
    "collapsed": false
   },
   "outputs": [
    {
     "name": "stdout",
     "output_type": "stream",
     "text": [
      "b:  [[ 0  1  2  3]\n",
      " [10 11 12 13]\n",
      " [20 21 22 23]\n",
      " [30 31 32 33]\n",
      " [40 41 42 43]]\n",
      "b[2,3]:  23\n",
      "b[0:5, 1]:  [ 1 11 21 31 41]\n",
      "b[ : ,1]:  [ 1 11 21 31 41]\n",
      "b[1:3, : ]:  [[10 11 12 13]\n",
      " [20 21 22 23]]\n",
      "b[-1]:  [40 41 42 43]\n"
     ]
    }
   ],
   "source": [
    "# Multidimensional arrays can have one index per axis. These indices are given in a tuple separated by commas:\n",
    "\n",
    "def f(x,y):\n",
    "    return 10*x+y\n",
    "\n",
    "b = np.fromfunction(f,(5,4),dtype=int)\n",
    "print('b: ', b)\n",
    "print('b[2,3]: ', b[2,3])\n",
    "print('b[0:5, 1]: ', b[0:5, 1])                       # each row in the second column of b\n",
    "print('b[ : ,1]: ', b[ : ,1])                        # equivalent to the previous example\n",
    "print('b[1:3, : ]: ', b[1:3, :])                      # each column in the second and third row of b\n",
    "\n",
    "# When fewer indices are provided than the number of axes, the missing indices are considered complete slices:\n",
    "print('b[-1]: ', b[-1])                                  # the last row. Equivalent to b[-1,:]"
   ]
  },
  {
   "cell_type": "code",
   "execution_count": 48,
   "metadata": {
    "collapsed": false
   },
   "outputs": [
    {
     "name": "stdout",
     "output_type": "stream",
     "text": [
      "c.shape:  (2, 2, 3)\n",
      "c[1,...]:  [[100 101 102]\n",
      " [110 112 113]]\n",
      "c[...,2]:  [[  2  13]\n",
      " [102 113]]\n"
     ]
    }
   ],
   "source": [
    "'''\n",
    "The expression within brackets in b[i] is treated as an i followed by as many instances of : as needed to represent \n",
    "the remaining axes. NumPy also allows you to write this using dots as b[i,...].\n",
    "\n",
    "The dots (...) represent as many colons as needed to produce a complete indexing tuple. For example, if x is a rank 5 \n",
    "array (i.e., it has 5 axes), then\n",
    "\n",
    "x[1,2,...] is equivalent to x[1,2,:,:,:],\n",
    "\n",
    "x[...,3] to x[:,:,:,:,3] and\n",
    "\n",
    "x[4,...,5,:] to x[4,:,:,5,:].\n",
    "'''\n",
    "\n",
    "c = np.array( [[[  0,  1,  2], [10,12,13]],               # a 3D array (two stacked 2D arrays)\n",
    "               [[100,101,102],\n",
    "                 [110,112,113]]])\n",
    "print('c.shape: ', c.shape)\n",
    "print('c[1,...]: ', c[1,...])                                   # same as c[1,:,:] or c[1]\n",
    "print('c[...,2]: ', c[...,2])                                   # same as c[:,:,2]\n"
   ]
  },
  {
   "cell_type": "code",
   "execution_count": 49,
   "metadata": {
    "collapsed": false
   },
   "outputs": [
    {
     "name": "stdout",
     "output_type": "stream",
     "text": [
      "[0 1 2 3]\n",
      "[10 11 12 13]\n",
      "[20 21 22 23]\n",
      "[30 31 32 33]\n",
      "[40 41 42 43]\n"
     ]
    }
   ],
   "source": [
    "# Iterating over multidimensional arrays is done with respect to the first axis:\n",
    "for row in b:\n",
    "    print(row)"
   ]
  },
  {
   "cell_type": "code",
   "execution_count": 50,
   "metadata": {
    "collapsed": false
   },
   "outputs": [
    {
     "name": "stdout",
     "output_type": "stream",
     "text": [
      "0\n",
      "1\n",
      "2\n",
      "3\n",
      "10\n",
      "11\n",
      "12\n",
      "13\n",
      "20\n",
      "21\n",
      "22\n",
      "23\n",
      "30\n",
      "31\n",
      "32\n",
      "33\n",
      "40\n",
      "41\n",
      "42\n",
      "43\n"
     ]
    }
   ],
   "source": [
    "# However, if one wants to perform an operation on each element in the array, one can use the 'flat' attribute which \n",
    "# is an iterator over all the elements of the array:\n",
    "for element in b.flat:\n",
    "    print(element)"
   ]
  },
  {
   "cell_type": "code",
   "execution_count": 51,
   "metadata": {
    "collapsed": false
   },
   "outputs": [
    {
     "name": "stdout",
     "output_type": "stream",
     "text": [
      "a:  [[ 0.  3.  8.  6.]\n",
      " [ 7.  8.  3.  5.]\n",
      " [ 4.  9.  1.  9.]]\n",
      "a.shape:  (3, 4)\n",
      "a.ravel():  [ 0.  3.  8.  6.  7.  8.  3.  5.  4.  9.  1.  9.]\n",
      "a.T:  [[ 0.  8.  7.  3.  4.  1.]\n",
      " [ 3.  6.  8.  5.  9.  9.]]\n"
     ]
    }
   ],
   "source": [
    "'''\n",
    "Shape Manipulation\n",
    "Changing the shape of an array\n",
    "\n",
    "An array has a shape given by the number of elements along each axis:\n",
    "'''\n",
    "a = np.floor(10*np.random.random((3,4)))\n",
    "print('a: ', a)\n",
    "print('a.shape: ', a.shape)\n",
    "\n",
    "# The shape of an array can be changed with various commands:\n",
    "print('a.ravel(): ', a.ravel())   # flatten the array\n",
    "a.shape = (6, 2)\n",
    "print('a.T: ', a.T)\n"
   ]
  },
  {
   "cell_type": "code",
   "execution_count": 52,
   "metadata": {
    "collapsed": false
   },
   "outputs": [
    {
     "name": "stdout",
     "output_type": "stream",
     "text": [
      "a:  [[ 0.  3.]\n",
      " [ 8.  6.]\n",
      " [ 7.  8.]\n",
      " [ 3.  5.]\n",
      " [ 4.  9.]\n",
      " [ 1.  9.]]\n",
      "a:  [[ 0.  3.  8.  6.  7.  8.]\n",
      " [ 3.  5.  4.  9.  1.  9.]]\n",
      "a.reshape(3,-1) [[ 0.  3.  8.  6.]\n",
      " [ 7.  8.  3.  5.]\n",
      " [ 4.  9.  1.  9.]]\n"
     ]
    }
   ],
   "source": [
    "'''\n",
    "The order of the elements in the array resulting from ravel() is normally “C-style”, that is, the rightmost index \n",
    "“changes the fastest”, so the element after a[0,0] is a[0,1]. If the array is reshaped to some other shape, again the \n",
    "array is treated as “C-style”. Numpy normally creates arrays stored in this order, so ravel() will usually not need \n",
    "to copy its argument, but if the array was made by taking slices of another array or created with unusual options, it \n",
    "may need to be copied. The functions ravel() and reshape() can also be instructed, using an optional argument, to use \n",
    "FORTRAN-style arrays, in which the leftmost index changes the fastest.\n",
    "\n",
    "The reshape function returns its argument with a modified shape, whereas the ndarray.resize method modifies the array \n",
    "itself:\n",
    "'''\n",
    "print('a: ',a)\n",
    "a.resize((2,6))\n",
    "print('a: ', a)\n",
    "\n",
    "# If a dimension is given as -1 in a reshaping operation, the other dimensions are automatically calculated:\n",
    "print('a.reshape(3,-1)', a.reshape(3,-1))"
   ]
  },
  {
   "cell_type": "code",
   "execution_count": null,
   "metadata": {
    "collapsed": true
   },
   "outputs": [],
   "source": []
  }
 ],
 "metadata": {
  "anaconda-cloud": {},
  "kernelspec": {
   "display_name": "Python [Root]",
   "language": "python",
   "name": "Python [Root]"
  },
  "language_info": {
   "codemirror_mode": {
    "name": "ipython",
    "version": 2
   },
   "file_extension": ".py",
   "mimetype": "text/x-python",
   "name": "python",
   "nbconvert_exporter": "python",
   "pygments_lexer": "ipython2",
   "version": "2.7.12"
  }
 },
 "nbformat": 4,
 "nbformat_minor": 0
}
