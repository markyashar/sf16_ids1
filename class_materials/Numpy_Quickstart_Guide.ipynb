{
 "cells": [
  {
   "cell_type": "markdown",
   "metadata": {},
   "source": [
    "# Numpy Quickstart Guide (http://docs.scipy.org/doc/numpy-dev/user/quickstart.html)"
   ]
  },
  {
   "cell_type": "code",
   "execution_count": 2,
   "metadata": {
    "collapsed": false
   },
   "outputs": [
    {
     "data": {
      "text/plain": [
       "[[1.0, 0.0, 0.0], [0.0, 1.0, 2.0]]"
      ]
     },
     "execution_count": 2,
     "metadata": {},
     "output_type": "execute_result"
    }
   ],
   "source": [
    "'''\n",
    "NumPy’s main object is the homogeneous multidimensional array. It is a table of elements (usually numbers), all \n",
    "of the same type, indexed by a tuple of positive integers. In Numpy dimensions are called axes. The number of axes is \n",
    "'rank'. For example, the coordinates of a point in 3D space [1, 2, 1] is an array of rank 1, because it has one axis. \n",
    "That axis has a length of 3. In the example pictured below, the array has rank 2 (it is 2-dimensional). The first \n",
    "dimension (axis) has a length of 2, the second dimension has a length of 3.\n",
    "'''\n",
    "[[ 1., 0., 0.],\n",
    " [ 0., 1., 2.]]"
   ]
  },
  {
   "cell_type": "code",
   "execution_count": 3,
   "metadata": {
    "collapsed": false
   },
   "outputs": [
    {
     "data": {
      "text/plain": [
       "array([[ 0,  1,  2,  3,  4],\n",
       "       [ 5,  6,  7,  8,  9],\n",
       "       [10, 11, 12, 13, 14]])"
      ]
     },
     "execution_count": 3,
     "metadata": {},
     "output_type": "execute_result"
    }
   ],
   "source": [
    "from __future__ import print_function, unicode_literals, division\n",
    "import numpy as np\n",
    "%matplotlib inline \n",
    "a = np.arange(15).reshape(3, 5)\n",
    "a"
   ]
  },
  {
   "cell_type": "code",
   "execution_count": 4,
   "metadata": {
    "collapsed": false
   },
   "outputs": [
    {
     "data": {
      "text/plain": [
       "(3, 5)"
      ]
     },
     "execution_count": 4,
     "metadata": {},
     "output_type": "execute_result"
    }
   ],
   "source": [
    "'''\n",
    "The dimensions of the array: this is a tuple of integers indicating the size of the array in each dimension. For a \n",
    "matrix with n rows and m columns, shape will be (n,m). The length of the shape tuple is therefore the rank, or \n",
    "number of dimensions, ndim.\n",
    "'''\n",
    "a.shape"
   ]
  },
  {
   "cell_type": "code",
   "execution_count": 5,
   "metadata": {
    "collapsed": false
   },
   "outputs": [
    {
     "data": {
      "text/plain": [
       "2"
      ]
     },
     "execution_count": 5,
     "metadata": {},
     "output_type": "execute_result"
    }
   ],
   "source": [
    "# the number of axes (dimensions) of the array. In the Python world, the number of dimensions is referred to as rank.\n",
    "a.ndim"
   ]
  },
  {
   "cell_type": "code",
   "execution_count": 6,
   "metadata": {
    "collapsed": false
   },
   "outputs": [
    {
     "data": {
      "text/plain": [
       "'int64'"
      ]
     },
     "execution_count": 6,
     "metadata": {},
     "output_type": "execute_result"
    }
   ],
   "source": [
    "a.dtype.name"
   ]
  },
  {
   "cell_type": "code",
   "execution_count": 7,
   "metadata": {
    "collapsed": false
   },
   "outputs": [
    {
     "data": {
      "text/plain": [
       "8"
      ]
     },
     "execution_count": 7,
     "metadata": {},
     "output_type": "execute_result"
    }
   ],
   "source": [
    "'''\n",
    "The size in bytes of each element of the array. For example, an array of elements of type float64 has itemsize 8\n",
    "(=64/8), while one of type complex32 has itemsize 4 (=32/8). It is equivalent to ndarray.dtype.itemsize.\n",
    "'''\n",
    "a.itemsize"
   ]
  },
  {
   "cell_type": "code",
   "execution_count": 8,
   "metadata": {
    "collapsed": false
   },
   "outputs": [
    {
     "data": {
      "text/plain": [
       "15"
      ]
     },
     "execution_count": 8,
     "metadata": {},
     "output_type": "execute_result"
    }
   ],
   "source": [
    "# the total number of elements of the array. This is equal to the product of the elements of shape.\n",
    "a.size"
   ]
  },
  {
   "cell_type": "code",
   "execution_count": 9,
   "metadata": {
    "collapsed": false
   },
   "outputs": [
    {
     "data": {
      "text/plain": [
       "numpy.ndarray"
      ]
     },
     "execution_count": 9,
     "metadata": {},
     "output_type": "execute_result"
    }
   ],
   "source": [
    "type(a)"
   ]
  },
  {
   "cell_type": "code",
   "execution_count": 10,
   "metadata": {
    "collapsed": false
   },
   "outputs": [
    {
     "data": {
      "text/plain": [
       "array([6, 7, 8])"
      ]
     },
     "execution_count": 10,
     "metadata": {},
     "output_type": "execute_result"
    }
   ],
   "source": [
    "b = np.array([6, 7, 8])\n",
    "b"
   ]
  },
  {
   "cell_type": "code",
   "execution_count": 11,
   "metadata": {
    "collapsed": false
   },
   "outputs": [
    {
     "data": {
      "text/plain": [
       "numpy.ndarray"
      ]
     },
     "execution_count": 11,
     "metadata": {},
     "output_type": "execute_result"
    }
   ],
   "source": [
    "type(b)"
   ]
  },
  {
   "cell_type": "code",
   "execution_count": 12,
   "metadata": {
    "collapsed": false
   },
   "outputs": [
    {
     "name": "stdout",
     "output_type": "stream",
     "text": [
      "a: [2 3 4]\n",
      "a.dtype: int64\n",
      "b.dtype: float64\n"
     ]
    },
    {
     "data": {
      "text/plain": [
       "u'\\nA frequent error consists in calling array with multiple numeric arguments, rather than providing a single list of \\nnumbers as an argument.\\na = np.array(1,2,3,4)    # WRONG\\na = np.array([1,2,3,4])  # RIGHT\\n'"
      ]
     },
     "execution_count": 12,
     "metadata": {},
     "output_type": "execute_result"
    }
   ],
   "source": [
    "'''\n",
    "ARRAY CREATION: There are several ways to create arrays. For example, you can create an array from a regular Python \n",
    "list or tuple using the array function. The type of the resulting array is deduced from the type of the elements in \n",
    "the sequences.\n",
    "'''\n",
    "import numpy as np\n",
    "a = np.array([2,3,4])\n",
    "print('a:', a)\n",
    "print('a.dtype:', a.dtype)\n",
    "b = np.array([1.2, 3.5, 5.1])\n",
    "print('b.dtype:', b.dtype)\n",
    "'''\n",
    "A frequent error consists in calling array with multiple numeric arguments, rather than providing a single list of \n",
    "numbers as an argument.\n",
    "a = np.array(1,2,3,4)    # WRONG\n",
    "a = np.array([1,2,3,4])  # RIGHT\n",
    "'''"
   ]
  },
  {
   "cell_type": "code",
   "execution_count": 13,
   "metadata": {
    "collapsed": false
   },
   "outputs": [
    {
     "name": "stdout",
     "output_type": "stream",
     "text": [
      "b:  [[ 1.5  2.   3. ]\n",
      " [ 4.   5.   6. ]]\n",
      "c:  [[ 1.+0.j  2.+0.j]\n",
      " [ 3.+0.j  4.+0.j]]\n"
     ]
    }
   ],
   "source": [
    "'''\n",
    "'array' transforms sequences of sequences into two-dimensional arrays, sequences of sequences of sequences into \n",
    "three-dimensional arrays, and so on.\n",
    "'''\n",
    "b = np.array([(1.5,2,3), (4,5,6)])\n",
    "print('b: ', b)\n",
    "\n",
    "# The type of the array can also be explicitly specified at creation time:\n",
    "c = np.array( [ [1,2], [3,4] ], dtype=complex )\n",
    "print('c: ', c)\n"
   ]
  },
  {
   "cell_type": "code",
   "execution_count": 14,
   "metadata": {
    "collapsed": false
   },
   "outputs": [
    {
     "name": "stdout",
     "output_type": "stream",
     "text": [
      "[[ 0.  0.  0.  0.]\n",
      " [ 0.  0.  0.  0.]\n",
      " [ 0.  0.  0.  0.]]\n",
      "\n",
      "[[[1 1 1 1]\n",
      "  [1 1 1 1]\n",
      "  [1 1 1 1]]\n",
      "\n",
      " [[1 1 1 1]\n",
      "  [1 1 1 1]\n",
      "  [1 1 1 1]]]\n",
      "[[  1.39069238e-309   1.39069238e-309   1.39069238e-309]\n",
      " [  1.39069238e-309   1.39069238e-309   1.39069238e-309]]\n"
     ]
    }
   ],
   "source": [
    "'''\n",
    "Often, the elements of an array are originally unknown, but its size is known. Hence, NumPy offers several functions\n",
    "to create arrays with initial placeholder content. These minimize the necessity of growing arrays, an expensive \n",
    "operation.\n",
    "\n",
    "The function 'zeros' creates an array full of zeros, the function 'ones' creates an array full of ones, and the \n",
    "function 'empty' creates an array whose initial content is random and depends on the state of the memory. \n",
    "By default, the dtype of the created array is float64.\n",
    "'''\n",
    "print(np.zeros( (3,4) ))\n",
    "print()\n",
    "print(np.ones( (2,3,4), dtype=np.int16 ))                # dtype can also be specified\n",
    "print(np.empty( (2,3) ))                                 # uninitialized, output may vary"
   ]
  },
  {
   "cell_type": "code",
   "execution_count": 15,
   "metadata": {
    "collapsed": false
   },
   "outputs": [
    {
     "data": {
      "text/plain": [
       "array([10, 15, 20, 25])"
      ]
     },
     "execution_count": 15,
     "metadata": {},
     "output_type": "execute_result"
    }
   ],
   "source": [
    "# To create sequences of numbers, NumPy provides a function analogous to 'range' that returns arrays instead of lists\n",
    "np.arange( 10, 30, 5 )"
   ]
  },
  {
   "cell_type": "code",
   "execution_count": 16,
   "metadata": {
    "collapsed": false
   },
   "outputs": [
    {
     "data": {
      "text/plain": [
       "array([ 0. ,  0.3,  0.6,  0.9,  1.2,  1.5,  1.8])"
      ]
     },
     "execution_count": 16,
     "metadata": {},
     "output_type": "execute_result"
    }
   ],
   "source": [
    "np.arange( 0, 2, 0.3 )                 # it accepts float arguments"
   ]
  },
  {
   "cell_type": "code",
   "execution_count": 17,
   "metadata": {
    "collapsed": false
   },
   "outputs": [
    {
     "name": "stdout",
     "output_type": "stream",
     "text": [
      "[ 0.    0.25  0.5   0.75  1.    1.25  1.5   1.75  2.  ]\n",
      "x:  [ 0.          0.06346652  0.12693304  0.19039955  0.25386607  0.31733259\n",
      "  0.38079911  0.44426563  0.50773215  0.57119866  0.63466518  0.6981317\n",
      "  0.76159822  0.82506474  0.88853126  0.95199777  1.01546429  1.07893081\n",
      "  1.14239733  1.20586385  1.26933037  1.33279688  1.3962634   1.45972992\n",
      "  1.52319644  1.58666296  1.65012947  1.71359599  1.77706251  1.84052903\n",
      "  1.90399555  1.96746207  2.03092858  2.0943951   2.15786162  2.22132814\n",
      "  2.28479466  2.34826118  2.41172769  2.47519421  2.53866073  2.60212725\n",
      "  2.66559377  2.72906028  2.7925268   2.85599332  2.91945984  2.98292636\n",
      "  3.04639288  3.10985939  3.17332591  3.23679243  3.30025895  3.36372547\n",
      "  3.42719199  3.4906585   3.55412502  3.61759154  3.68105806  3.74452458\n",
      "  3.8079911   3.87145761  3.93492413  3.99839065  4.06185717  4.12532369\n",
      "  4.1887902   4.25225672  4.31572324  4.37918976  4.44265628  4.5061228\n",
      "  4.56958931  4.63305583  4.69652235  4.75998887  4.82345539  4.88692191\n",
      "  4.95038842  5.01385494  5.07732146  5.14078798  5.2042545   5.26772102\n",
      "  5.33118753  5.39465405  5.45812057  5.52158709  5.58505361  5.64852012\n",
      "  5.71198664  5.77545316  5.83891968  5.9023862   5.96585272  6.02931923\n",
      "  6.09278575  6.15625227  6.21971879  6.28318531]\n",
      "f:  [  0.00000000e+00   6.34239197e-02   1.26592454e-01   1.89251244e-01\n",
      "   2.51147987e-01   3.12033446e-01   3.71662456e-01   4.29794912e-01\n",
      "   4.86196736e-01   5.40640817e-01   5.92907929e-01   6.42787610e-01\n",
      "   6.90079011e-01   7.34591709e-01   7.76146464e-01   8.14575952e-01\n",
      "   8.49725430e-01   8.81453363e-01   9.09631995e-01   9.34147860e-01\n",
      "   9.54902241e-01   9.71811568e-01   9.84807753e-01   9.93838464e-01\n",
      "   9.98867339e-01   9.99874128e-01   9.96854776e-01   9.89821442e-01\n",
      "   9.78802446e-01   9.63842159e-01   9.45000819e-01   9.22354294e-01\n",
      "   8.95993774e-01   8.66025404e-01   8.32569855e-01   7.95761841e-01\n",
      "   7.55749574e-01   7.12694171e-01   6.66769001e-01   6.18158986e-01\n",
      "   5.67059864e-01   5.13677392e-01   4.58226522e-01   4.00930535e-01\n",
      "   3.42020143e-01   2.81732557e-01   2.20310533e-01   1.58001396e-01\n",
      "   9.50560433e-02   3.17279335e-02  -3.17279335e-02  -9.50560433e-02\n",
      "  -1.58001396e-01  -2.20310533e-01  -2.81732557e-01  -3.42020143e-01\n",
      "  -4.00930535e-01  -4.58226522e-01  -5.13677392e-01  -5.67059864e-01\n",
      "  -6.18158986e-01  -6.66769001e-01  -7.12694171e-01  -7.55749574e-01\n",
      "  -7.95761841e-01  -8.32569855e-01  -8.66025404e-01  -8.95993774e-01\n",
      "  -9.22354294e-01  -9.45000819e-01  -9.63842159e-01  -9.78802446e-01\n",
      "  -9.89821442e-01  -9.96854776e-01  -9.99874128e-01  -9.98867339e-01\n",
      "  -9.93838464e-01  -9.84807753e-01  -9.71811568e-01  -9.54902241e-01\n",
      "  -9.34147860e-01  -9.09631995e-01  -8.81453363e-01  -8.49725430e-01\n",
      "  -8.14575952e-01  -7.76146464e-01  -7.34591709e-01  -6.90079011e-01\n",
      "  -6.42787610e-01  -5.92907929e-01  -5.40640817e-01  -4.86196736e-01\n",
      "  -4.29794912e-01  -3.71662456e-01  -3.12033446e-01  -2.51147987e-01\n",
      "  -1.89251244e-01  -1.26592454e-01  -6.34239197e-02  -2.44929360e-16]\n"
     ]
    }
   ],
   "source": [
    "'''\n",
    "When arange is used with floating point arguments, it is generally not possible to predict the number of elements \n",
    "obtained, due to the finite floating point precision. For this reason, it is usually better to use the function \n",
    "linspace that receives as an argument the number of elements that we want, instead of the step:\n",
    "'''\n",
    "from numpy import pi\n",
    "print(np.linspace( 0, 2, 9 ))                 # 9 numbers from 0 to 2\n",
    "x = np.linspace( 0, 2*pi, 100 )        # useful to evaluate function at lots of points\n",
    "f = np.sin(x)\n",
    "print('x: ',x)\n",
    "print('f: ',f)"
   ]
  },
  {
   "cell_type": "code",
   "execution_count": 18,
   "metadata": {
    "collapsed": false
   },
   "outputs": [
    {
     "name": "stdout",
     "output_type": "stream",
     "text": [
      "[0 1 2 3 4 5]\n",
      "\n",
      "[[ 0  1  2]\n",
      " [ 3  4  5]\n",
      " [ 6  7  8]\n",
      " [ 9 10 11]]\n",
      "\n",
      "[[[ 0  1  2  3]\n",
      "  [ 4  5  6  7]\n",
      "  [ 8  9 10 11]]\n",
      "\n",
      " [[12 13 14 15]\n",
      "  [16 17 18 19]\n",
      "  [20 21 22 23]]]\n"
     ]
    }
   ],
   "source": [
    "'''\n",
    "Printing Arrays -- I've already done some of this above:\n",
    "\n",
    "When you print an array, NumPy displays it in a similar way to nested lists, but with the following layout:\n",
    "\n",
    ". the last axis is printed from left to right,\n",
    ". the second-to-last is printed from top to bottom,\n",
    ". the rest are also printed from top to bottom, with each slice separated from the next by an empty line.\n",
    ". One-dimensional arrays are then printed as rows, bidimensionals as matrices and tridimensionals as lists of matrices.\n",
    "'''\n",
    "a = np.arange(6)                         # 1d array\n",
    "print(a)\n",
    "print()\n",
    "b = np.arange(12).reshape(4,3)           # 2d array\n",
    "print(b)\n",
    "print()\n",
    "c = np.arange(24).reshape(2,3,4)         # 3d array\n",
    "print(c)\n"
   ]
  },
  {
   "cell_type": "code",
   "execution_count": 19,
   "metadata": {
    "collapsed": false
   },
   "outputs": [
    {
     "name": "stdout",
     "output_type": "stream",
     "text": [
      "[   0    1    2 ..., 9997 9998 9999]\n",
      "\n",
      "[[   0    1    2 ...,   97   98   99]\n",
      " [ 100  101  102 ...,  197  198  199]\n",
      " [ 200  201  202 ...,  297  298  299]\n",
      " ..., \n",
      " [9700 9701 9702 ..., 9797 9798 9799]\n",
      " [9800 9801 9802 ..., 9897 9898 9899]\n",
      " [9900 9901 9902 ..., 9997 9998 9999]]\n",
      "\n"
     ]
    }
   ],
   "source": [
    "'''\n",
    "If an array is too large to be printed, NumPy automatically skips the central part of the array and only prints the \n",
    "corners:\n",
    "'''\n",
    "print(np.arange(10000))\n",
    "print()\n",
    "print(np.arange(10000).reshape(100,100))\n",
    "print()\n",
    "'''\n",
    "To disable this behaviour and force NumPy to print the entire array, you can change the printing options using \n",
    "set_printoptions.\n",
    "'''\n",
    "np.set_printoptions(threshold='nan')"
   ]
  },
  {
   "cell_type": "code",
   "execution_count": 20,
   "metadata": {
    "collapsed": false
   },
   "outputs": [
    {
     "name": "stdout",
     "output_type": "stream",
     "text": [
      "a:  [20 30 40 50]\n",
      "b:  [0 1 2 3]\n",
      "c:  [20 29 38 47]\n",
      "b**2:  [0 1 4 9]\n",
      "10*np.sin(a):  [ 9.12945251 -9.88031624  7.4511316  -2.62374854]\n",
      "a<35:  [ True  True False False]\n"
     ]
    }
   ],
   "source": [
    "'''\n",
    "Basic Operations:\n",
    "Arithmetic operators on arrays apply elementwise. A new array is created and filled with the result.\n",
    "'''\n",
    "a = np.array( [20,30,40,50] )\n",
    "b = np.arange( 4 )\n",
    "print('a: ',a)\n",
    "print('b: ',b)\n",
    "c = a-b\n",
    "print('c: ',c)\n",
    "print('b**2: ', b**2)\n",
    "print('10*np.sin(a): ', 10*np.sin(a))\n",
    "print('a<35: ', a<35)\n"
   ]
  },
  {
   "cell_type": "code",
   "execution_count": 21,
   "metadata": {
    "collapsed": false
   },
   "outputs": [
    {
     "name": "stdout",
     "output_type": "stream",
     "text": [
      "A:  [[1 1]\n",
      " [0 1]]\n",
      "B:  [[2 0]\n",
      " [3 4]]\n",
      "A*B:  [[2 0]\n",
      " [0 4]]\n",
      "A.dot(B):  [[5 4]\n",
      " [3 4]]\n",
      "np.dot(A,B):  [[5 4]\n",
      " [3 4]]\n"
     ]
    }
   ],
   "source": [
    "'''\n",
    "Unlike in many matrix languages, the product operator '*' operates elementwise in NumPy arrays. The matrix product can \n",
    "be performed using the dot function or method:\n",
    "'''\n",
    "A = np.array( [[1,1], [0,1]] )\n",
    "B = np.array( [[2,0],[3,4]] )\n",
    "print('A: ',A)\n",
    "print('B: ',B)\n",
    "print('A*B: ',A*B)                         # elementwise product\n",
    "print('A.dot(B): ',A.dot(B))                    # matrix product\n",
    "print('np.dot(A,B): ',np.dot(A, B))                # another matrix product\n"
   ]
  },
  {
   "cell_type": "code",
   "execution_count": 22,
   "metadata": {
    "collapsed": false
   },
   "outputs": [
    {
     "name": "stdout",
     "output_type": "stream",
     "text": [
      "a:  [[3 3 3]\n",
      " [3 3 3]]\n",
      "b:  [[ 3.86462215  3.71616313  3.16766879]\n",
      " [ 3.00847292  3.56904853  3.34550779]]\n"
     ]
    }
   ],
   "source": [
    "# Some operations, such as += and *=, act in place to modify an existing array rather than create a new one\n",
    "a = np.ones((2,3), dtype=int)\n",
    "b = np.random.random((2,3))\n",
    "a *= 3\n",
    "print('a: ', a)\n",
    "b += a\n",
    "print('b: ', b)\n",
    "# a += b                  # b is not automatically converted to integer type\n",
    "# This results in error message:\n",
    "# TypeError: Cannot cast ufunc add output from dtype('float64') to dtype('int64') with casting rule 'same_kind'\n"
   ]
  },
  {
   "cell_type": "code",
   "execution_count": 23,
   "metadata": {
    "collapsed": false
   },
   "outputs": [
    {
     "name": "stdout",
     "output_type": "stream",
     "text": [
      "b.dtype.name:  float64\n",
      "c:  [ 1.          2.57079633  4.14159265]\n",
      "c.dtype.name:  float64\n",
      "d:  [ 0.54030231+0.84147098j -0.84147098+0.54030231j -0.54030231-0.84147098j]\n",
      "d.dtype.name:  complex128\n"
     ]
    }
   ],
   "source": [
    "'''\n",
    "When operating with arrays of different types, the type of the resulting array corresponds to the more general or \n",
    "precise one (a behavior known as upcasting).\n",
    "'''\n",
    "a = np.ones(3, dtype=np.int32)\n",
    "b = np.linspace(0,pi,3)\n",
    "print('b.dtype.name: ', b.dtype.name)\n",
    "c = a+b\n",
    "print('c: ', c)\n",
    "print('c.dtype.name: ', c.dtype.name)\n",
    "d = np.exp(c*1j)\n",
    "print('d: ', d)\n",
    "print('d.dtype.name: ', d.dtype.name)"
   ]
  },
  {
   "cell_type": "code",
   "execution_count": 24,
   "metadata": {
    "collapsed": false
   },
   "outputs": [
    {
     "name": "stdout",
     "output_type": "stream",
     "text": [
      "a:  [[ 0.03101674  0.17203604  0.19035191]\n",
      " [ 0.12703076  0.21440051  0.88718882]]\n",
      "a.sum():  1.62202478169\n",
      "a.min():  0.0310167429609\n",
      "a.max():  0.88718882059\n"
     ]
    }
   ],
   "source": [
    "'''\n",
    "Many unary operations, such as computing the sum of all the elements in the array, are implemented as methods of the \n",
    "ndarray class.\n",
    "'''\n",
    "a = np.random.random((2,3))\n",
    "print('a: ', a)\n",
    "print('a.sum(): ', a.sum())\n",
    "print('a.min(): ', a.min())\n",
    "print('a.max(): ', a.max())"
   ]
  },
  {
   "cell_type": "code",
   "execution_count": 25,
   "metadata": {
    "collapsed": false
   },
   "outputs": [
    {
     "name": "stdout",
     "output_type": "stream",
     "text": [
      "b:  [[ 0  1  2  3]\n",
      " [ 4  5  6  7]\n",
      " [ 8  9 10 11]]\n",
      "b.sum(axis=0):  [12 15 18 21]\n",
      "b.min(axis=1):  [0 4 8]\n",
      "b.cumsum(axis=1):  [[ 0  1  3  6]\n",
      " [ 4  9 15 22]\n",
      " [ 8 17 27 38]]\n"
     ]
    }
   ],
   "source": [
    "'''\n",
    "By default, these operations apply to the array as though it were a list of numbers, regardless of its shape. \n",
    "However, by specifying the axis parameter you can apply an operation along the specified axis of an array:\n",
    "'''\n",
    "b = np.arange(12).reshape(3,4)\n",
    "print('b: ', b)\n",
    "print('b.sum(axis=0): ', b.sum(axis=0))  # sum of each column\n",
    "print('b.min(axis=1): ', b.min(axis=1))  # min of each row\n",
    "print('b.cumsum(axis=1): ', b.cumsum(axis=1))  # cumulative sum along each row"
   ]
  },
  {
   "cell_type": "code",
   "execution_count": 26,
   "metadata": {
    "collapsed": false
   },
   "outputs": [
    {
     "name": "stdout",
     "output_type": "stream",
     "text": [
      "B:  [0 1 2]\n",
      "np.exp(B):  [ 1.          2.71828183  7.3890561 ]\n",
      "C:  [ 2. -1.  4.]\n",
      "np.add(B, C):  [ 2.  0.  6.]\n"
     ]
    }
   ],
   "source": [
    "'''\n",
    "Universal Functions:\n",
    "\n",
    "NumPy provides familiar mathematical functions such as sin, cos, and exp. In NumPy, these are called “universal \n",
    "functions”(ufunc). Within NumPy, these functions operate elementwise on an array, producing an array as output.\n",
    "'''\n",
    "B = np.arange(3)\n",
    "print('B: ', B)\n",
    "print('np.exp(B): ', np.exp(B))\n",
    "C = np.array([2., -1., 4.])\n",
    "print('C: ', C)\n",
    "print('np.add(B, C): ', np.add(B, C))"
   ]
  },
  {
   "cell_type": "code",
   "execution_count": 27,
   "metadata": {
    "collapsed": false
   },
   "outputs": [
    {
     "name": "stdout",
     "output_type": "stream",
     "text": [
      "a:  [  0   1   8  27  64 125 216 343 512 729]\n",
      "a[2]:  8\n",
      "a[2:5]:  [ 8 27 64]\n",
      "a:  [-1000     1 -1000    27 -1000   125   216   343   512   729]\n",
      "a[ : :-1]:  [  729   512   343   216   125 -1000    27 -1000     1 -1000]\n",
      "nan\n",
      "1.0\n",
      "nan\n",
      "3.0\n",
      "nan\n",
      "5.0\n",
      "6.0\n",
      "7.0\n",
      "8.0\n",
      "9.0\n"
     ]
    },
    {
     "name": "stderr",
     "output_type": "stream",
     "text": [
      "/Users/markyashar/anaconda/lib/python2.7/site-packages/ipykernel/__main__.py:16: RuntimeWarning: invalid value encountered in power\n"
     ]
    }
   ],
   "source": [
    "'''\n",
    "Indexing, Slicing and Iterating:\n",
    "\n",
    "One-dimensional arrays can be indexed, sliced and iterated over, much like lists and other Python sequences.\n",
    "'''\n",
    "a = np.arange(10)**3\n",
    "print('a: ', a)\n",
    "print('a[2]: ', a[2])\n",
    "print('a[2:5]: ', a[2:5])\n",
    "a[:6:2] = -1000    # equivalent to a[0:6:2] = -1000; from start to position 6, exclusive, set every 2nd element to \n",
    "                   # -1000\n",
    "print('a: ', a)\n",
    "print('a[ : :-1]: ', a[ : :-1])                                 # reversed a\n",
    "\n",
    "for i in a:\n",
    "    print(i**(1/3.))"
   ]
  },
  {
   "cell_type": "code",
   "execution_count": 28,
   "metadata": {
    "collapsed": false
   },
   "outputs": [
    {
     "name": "stdout",
     "output_type": "stream",
     "text": [
      "b:  [[ 0  1  2  3]\n",
      " [10 11 12 13]\n",
      " [20 21 22 23]\n",
      " [30 31 32 33]\n",
      " [40 41 42 43]]\n",
      "b[2,3]:  23\n",
      "b[0:5, 1]:  [ 1 11 21 31 41]\n",
      "b[ : ,1]:  [ 1 11 21 31 41]\n",
      "b[1:3, : ]:  [[10 11 12 13]\n",
      " [20 21 22 23]]\n",
      "b[-1]:  [40 41 42 43]\n"
     ]
    }
   ],
   "source": [
    "# Multidimensional arrays can have one index per axis. These indices are given in a tuple separated by commas:\n",
    "\n",
    "def f(x,y):\n",
    "    return 10*x+y\n",
    "\n",
    "b = np.fromfunction(f,(5,4),dtype=int)\n",
    "print('b: ', b)\n",
    "print('b[2,3]: ', b[2,3])\n",
    "print('b[0:5, 1]: ', b[0:5, 1])                       # each row in the second column of b\n",
    "print('b[ : ,1]: ', b[ : ,1])                        # equivalent to the previous example\n",
    "print('b[1:3, : ]: ', b[1:3, :])                      # each column in the second and third row of b\n",
    "\n",
    "# When fewer indices are provided than the number of axes, the missing indices are considered complete slices:\n",
    "print('b[-1]: ', b[-1])                                  # the last row. Equivalent to b[-1,:]"
   ]
  },
  {
   "cell_type": "code",
   "execution_count": 29,
   "metadata": {
    "collapsed": false
   },
   "outputs": [
    {
     "name": "stdout",
     "output_type": "stream",
     "text": [
      "c.shape:  (2, 2, 3)\n",
      "c[1,...]:  [[100 101 102]\n",
      " [110 112 113]]\n",
      "c[...,2]:  [[  2  13]\n",
      " [102 113]]\n"
     ]
    }
   ],
   "source": [
    "'''\n",
    "The expression within brackets in b[i] is treated as an i followed by as many instances of : as needed to represent \n",
    "the remaining axes. NumPy also allows you to write this using dots as b[i,...].\n",
    "\n",
    "The dots (...) represent as many colons as needed to produce a complete indexing tuple. For example, if x is a rank 5 \n",
    "array (i.e., it has 5 axes), then\n",
    "\n",
    "x[1,2,...] is equivalent to x[1,2,:,:,:],\n",
    "\n",
    "x[...,3] to x[:,:,:,:,3] and\n",
    "\n",
    "x[4,...,5,:] to x[4,:,:,5,:].\n",
    "'''\n",
    "\n",
    "c = np.array( [[[  0,  1,  2], [10,12,13]],               # a 3D array (two stacked 2D arrays)\n",
    "               [[100,101,102],\n",
    "                 [110,112,113]]])\n",
    "print('c.shape: ', c.shape)\n",
    "print('c[1,...]: ', c[1,...])                                   # same as c[1,:,:] or c[1]\n",
    "print('c[...,2]: ', c[...,2])                                   # same as c[:,:,2]\n"
   ]
  },
  {
   "cell_type": "code",
   "execution_count": 30,
   "metadata": {
    "collapsed": false
   },
   "outputs": [
    {
     "name": "stdout",
     "output_type": "stream",
     "text": [
      "[0 1 2 3]\n",
      "[10 11 12 13]\n",
      "[20 21 22 23]\n",
      "[30 31 32 33]\n",
      "[40 41 42 43]\n"
     ]
    }
   ],
   "source": [
    "# Iterating over multidimensional arrays is done with respect to the first axis:\n",
    "for row in b:\n",
    "    print(row)"
   ]
  },
  {
   "cell_type": "code",
   "execution_count": 31,
   "metadata": {
    "collapsed": false
   },
   "outputs": [
    {
     "name": "stdout",
     "output_type": "stream",
     "text": [
      "0\n",
      "1\n",
      "2\n",
      "3\n",
      "10\n",
      "11\n",
      "12\n",
      "13\n",
      "20\n",
      "21\n",
      "22\n",
      "23\n",
      "30\n",
      "31\n",
      "32\n",
      "33\n",
      "40\n",
      "41\n",
      "42\n",
      "43\n"
     ]
    }
   ],
   "source": [
    "# However, if one wants to perform an operation on each element in the array, one can use the 'flat' attribute which \n",
    "# is an iterator over all the elements of the array:\n",
    "for element in b.flat:\n",
    "    print(element)"
   ]
  },
  {
   "cell_type": "code",
   "execution_count": 32,
   "metadata": {
    "collapsed": false
   },
   "outputs": [
    {
     "name": "stdout",
     "output_type": "stream",
     "text": [
      "a:  [[ 9.  2.  5.  7.]\n",
      " [ 7.  6.  9.  2.]\n",
      " [ 5.  0.  7.  8.]]\n",
      "a.shape:  (3, 4)\n",
      "a.ravel():  [ 9.  2.  5.  7.  7.  6.  9.  2.  5.  0.  7.  8.]\n",
      "a.T:  [[ 9.  5.  7.  9.  5.  7.]\n",
      " [ 2.  7.  6.  2.  0.  8.]]\n"
     ]
    }
   ],
   "source": [
    "'''\n",
    "Shape Manipulation\n",
    "Changing the shape of an array\n",
    "\n",
    "An array has a shape given by the number of elements along each axis:\n",
    "'''\n",
    "a = np.floor(10*np.random.random((3,4)))\n",
    "print('a: ', a)\n",
    "print('a.shape: ', a.shape)\n",
    "\n",
    "# The shape of an array can be changed with various commands:\n",
    "print('a.ravel(): ', a.ravel())   # flatten the array\n",
    "a.shape = (6, 2)\n",
    "print('a.T: ', a.T)\n"
   ]
  },
  {
   "cell_type": "code",
   "execution_count": 33,
   "metadata": {
    "collapsed": false
   },
   "outputs": [
    {
     "name": "stdout",
     "output_type": "stream",
     "text": [
      "a:  [[ 9.  2.]\n",
      " [ 5.  7.]\n",
      " [ 7.  6.]\n",
      " [ 9.  2.]\n",
      " [ 5.  0.]\n",
      " [ 7.  8.]]\n",
      "a:  [[ 9.  2.  5.  7.  7.  6.]\n",
      " [ 9.  2.  5.  0.  7.  8.]]\n",
      "a.reshape(3,-1) [[ 9.  2.  5.  7.]\n",
      " [ 7.  6.  9.  2.]\n",
      " [ 5.  0.  7.  8.]]\n"
     ]
    }
   ],
   "source": [
    "'''\n",
    "The order of the elements in the array resulting from ravel() is normally “C-style”, that is, the rightmost index \n",
    "“changes the fastest”, so the element after a[0,0] is a[0,1]. If the array is reshaped to some other shape, again the \n",
    "array is treated as “C-style”. Numpy normally creates arrays stored in this order, so ravel() will usually not need \n",
    "to copy its argument, but if the array was made by taking slices of another array or created with unusual options, it \n",
    "may need to be copied. The functions ravel() and reshape() can also be instructed, using an optional argument, to use \n",
    "FORTRAN-style arrays, in which the leftmost index changes the fastest.\n",
    "\n",
    "The reshape function returns its argument with a modified shape, whereas the ndarray.resize method modifies the array \n",
    "itself:\n",
    "'''\n",
    "print('a: ',a)\n",
    "a.resize((2,6))\n",
    "print('a: ', a)\n",
    "\n",
    "# If a dimension is given as -1 in a reshaping operation, the other dimensions are automatically calculated:\n",
    "print('a.reshape(3,-1)', a.reshape(3,-1))"
   ]
  },
  {
   "cell_type": "markdown",
   "metadata": {
    "collapsed": true
   },
   "source": [
    "## Stacking together different arrays"
   ]
  },
  {
   "cell_type": "markdown",
   "metadata": {},
   "source": [
    "Several arrays can be stacked together along different axes:"
   ]
  },
  {
   "cell_type": "code",
   "execution_count": 34,
   "metadata": {
    "collapsed": false
   },
   "outputs": [
    {
     "name": "stdout",
     "output_type": "stream",
     "text": [
      "a:  [[ 5.  0.]\n",
      " [ 4.  7.]]\n",
      "b:  [[ 4.  8.]\n",
      " [ 2.  4.]]\n"
     ]
    }
   ],
   "source": [
    "a = np.floor(10*np.random.random((2,2)))\n",
    "print('a: ', a)\n",
    "b = np.floor(10*np.random.random((2,2)))\n",
    "print('b: ', b)\n",
    "# floor: compute the floor of each element, i.e., the largest integer less than or equal to each element."
   ]
  },
  {
   "cell_type": "code",
   "execution_count": 37,
   "metadata": {
    "collapsed": false
   },
   "outputs": [
    {
     "data": {
      "text/plain": [
       "array([[ 5.,  0.],\n",
       "       [ 4.,  7.],\n",
       "       [ 4.,  8.],\n",
       "       [ 2.,  4.]])"
      ]
     },
     "execution_count": 37,
     "metadata": {},
     "output_type": "execute_result"
    }
   ],
   "source": [
    "np.vstack((a,b))\n",
    "\n",
    "# Signature: np.vstack(tup)\n",
    "# Docstring:\n",
    "# Stack arrays in sequence vertically (row wise).\n",
    "\n",
    "# Take a sequence of arrays and stack them vertically to make a single\n",
    "# array. Rebuild arrays divided by `vsplit`\n"
   ]
  },
  {
   "cell_type": "code",
   "execution_count": 38,
   "metadata": {
    "collapsed": false
   },
   "outputs": [
    {
     "data": {
      "text/plain": [
       "array([[ 5.,  0.,  4.,  8.],\n",
       "       [ 4.,  7.,  2.,  4.]])"
      ]
     },
     "execution_count": 38,
     "metadata": {},
     "output_type": "execute_result"
    }
   ],
   "source": [
    "np.hstack((a,b))\n",
    "\n",
    "# Signature: np.hstack(tup)\n",
    "# Docstring:\n",
    "# Stack arrays in sequence horizontally (column wise).\n",
    "\n",
    "# Take a sequence of arrays and stack them horizontally to make\n",
    "# a single array. Rebuild arrays divided by `hsplit`.\n",
    "\n",
    "# Parameters\n",
    "# ----------\n",
    "# tup : sequence of ndarrays\n",
    "#     All arrays must have the same shape along all but the second axis.\n",
    "\n",
    "# Returns\n",
    "# -------\n",
    "# stacked : ndarray\n",
    "#     The array formed by stacking the given arrays.\n"
   ]
  },
  {
   "cell_type": "markdown",
   "metadata": {},
   "source": [
    "The function column_stack stacks 1D arrays as columns into a 2D array. It is equivalent to vstack only for 1D arrays:"
   ]
  },
  {
   "cell_type": "code",
   "execution_count": 39,
   "metadata": {
    "collapsed": false
   },
   "outputs": [
    {
     "data": {
      "text/plain": [
       "array([[ 5.,  0.,  4.,  8.],\n",
       "       [ 4.,  7.,  2.,  4.]])"
      ]
     },
     "execution_count": 39,
     "metadata": {},
     "output_type": "execute_result"
    }
   ],
   "source": [
    "from numpy import newaxis\n",
    "np.column_stack((a,b))   # With 2D arrays\n",
    "\n",
    "# Signature: np.column_stack(tup)\n",
    "# Docstring:\n",
    "# Stack 1-D arrays as columns into a 2-D array.\n",
    "\n",
    "# Take a sequence of 1-D arrays and stack them as columns\n",
    "# to make a single 2-D array. 2-D arrays are stacked as-is,\n",
    "# just like with `hstack`.  1-D arrays are turned into 2-D columns\n",
    "# first.\n",
    "\n",
    "# Parameters\n",
    "# ----------\n",
    "# tup : sequence of 1-D or 2-D arrays.\n",
    "#     Arrays to stack. All of them must have the same first dimension.\n",
    "\n",
    "# Returns\n",
    "# -------\n",
    "# stacked : 2-D array\n",
    "#     The array formed by stacking the given arrays."
   ]
  },
  {
   "cell_type": "code",
   "execution_count": 40,
   "metadata": {
    "collapsed": false
   },
   "outputs": [
    {
     "data": {
      "text/plain": [
       "array([[ 4.],\n",
       "       [ 2.]])"
      ]
     },
     "execution_count": 40,
     "metadata": {},
     "output_type": "execute_result"
    }
   ],
   "source": [
    "a = np.array([4.,2.])\n",
    "b = np.array([2.,8.])\n",
    "a[:,newaxis]  # This allows to have a 2D columns vector"
   ]
  },
  {
   "cell_type": "code",
   "execution_count": 41,
   "metadata": {
    "collapsed": false
   },
   "outputs": [
    {
     "data": {
      "text/plain": [
       "array([[ 4.,  2.],\n",
       "       [ 2.,  8.]])"
      ]
     },
     "execution_count": 41,
     "metadata": {},
     "output_type": "execute_result"
    }
   ],
   "source": [
    "np.column_stack((a[:,newaxis],b[:,newaxis]))"
   ]
  },
  {
   "cell_type": "code",
   "execution_count": 42,
   "metadata": {
    "collapsed": false
   },
   "outputs": [
    {
     "data": {
      "text/plain": [
       "array([[ 4.],\n",
       "       [ 2.],\n",
       "       [ 2.],\n",
       "       [ 8.]])"
      ]
     },
     "execution_count": 42,
     "metadata": {},
     "output_type": "execute_result"
    }
   ],
   "source": [
    "np.vstack((a[:,newaxis],b[:,newaxis])) # The behavior of vstack is different"
   ]
  },
  {
   "cell_type": "markdown",
   "metadata": {},
   "source": [
    "For arrays of with more than two dimensions, hstack stacks along their second axes, vstack stacks along their first axes, and concatenate allows for an optional arguments giving the number of the axis along which the \n",
    "concatenation should happen."
   ]
  },
  {
   "cell_type": "markdown",
   "metadata": {},
   "source": [
    "Note -- In complex cases, r_ and c_ are useful for creating arrays by stacking numbers along one axis. They allow the use of range literals (”:”) :"
   ]
  },
  {
   "cell_type": "code",
   "execution_count": 44,
   "metadata": {
    "collapsed": false
   },
   "outputs": [
    {
     "data": {
      "text/plain": [
       "array([1, 2, 3, 0, 4])"
      ]
     },
     "execution_count": 44,
     "metadata": {},
     "output_type": "execute_result"
    }
   ],
   "source": [
    "np.r_[1:4,0,4]\n",
    "\n",
    "# Docstring:\n",
    "# Translates slice objects to concatenation along the first axis.\n",
    "\n",
    "# This is a simple way to build up arrays quickly. There are two use cases.\n",
    "\n",
    "# 1. If the index expression contains comma separated arrays, then stack\n",
    "#    them along their first axis.\n",
    "# 2. If the index expression contains slice notation or scalars then create\n",
    "#    a 1-D array with a range indicated by the slice notation.\n",
    "\n",
    "# If slice notation is used, the syntax ``start:stop:step`` is equivalent\n",
    "# to ``np.arange(start, stop, step)`` inside of the brackets. However, if\n",
    "# ``step`` is an imaginary number (i.e. 100j) then its integer portion is\n",
    "# interpreted as a number-of-points desired and the start and stop are\n",
    "# inclusive. In other words ``start:stop:stepj`` is interpreted as\n",
    "# ``np.linspace(start, stop, step, endpoint=1)`` inside of the brackets.\n",
    "# After expansion of slice notation, all comma separated sequences are\n",
    "# concatenated together.\n"
   ]
  },
  {
   "cell_type": "markdown",
   "metadata": {},
   "source": [
    "When used with arrays as arguments, r$_$ and c$_$ are similar to vstack and hstack in their default behavior, but allow for an optional argument giving the number of the axis along which to concatenate.\n",
    "\n"
   ]
  },
  {
   "cell_type": "markdown",
   "metadata": {},
   "source": [
    "## Splitting one array into several smaller ones\n",
    "\n",
    "Using hsplit, you can split an array along its horizontal axis, either by specifying the number of equally shaped \n",
    "arrays to return, or by specifying the columns after which the division should occur:"
   ]
  },
  {
   "cell_type": "code",
   "execution_count": 47,
   "metadata": {
    "collapsed": false
   },
   "outputs": [
    {
     "data": {
      "text/plain": [
       "array([[ 9.,  1.,  1.,  3.,  4.,  9.,  0.,  5.,  6.,  6.,  2.,  4.],\n",
       "       [ 9.,  5.,  6.,  3.,  8.,  8.,  0.,  5.,  2.,  6.,  2.,  7.]])"
      ]
     },
     "execution_count": 47,
     "metadata": {},
     "output_type": "execute_result"
    }
   ],
   "source": [
    "a = np.floor(10*np.random.random((2,12)))\n",
    "a"
   ]
  },
  {
   "cell_type": "code",
   "execution_count": 48,
   "metadata": {
    "collapsed": false
   },
   "outputs": [
    {
     "data": {
      "text/plain": [
       "[array([[ 9.,  1.,  1.,  3.],\n",
       "        [ 9.,  5.,  6.,  3.]]), array([[ 4.,  9.,  0.,  5.],\n",
       "        [ 8.,  8.,  0.,  5.]]), array([[ 6.,  6.,  2.,  4.],\n",
       "        [ 2.,  6.,  2.,  7.]])]"
      ]
     },
     "execution_count": 48,
     "metadata": {},
     "output_type": "execute_result"
    }
   ],
   "source": [
    "np.hsplit(a,3)   # Split a into 3\n",
    "\n",
    "# Signature: np.hsplit(ary, indices_or_sections)\n",
    "# Docstring:\n",
    "# Split an array into multiple sub-arrays horizontally (column-wise).\n",
    "\n",
    "# Please refer to the `split` documentation.  `hsplit` is equivalent\n",
    "# to `split` with ``axis=1``, the array is always split along the second\n",
    "# axis regardless of the array dimension.\n"
   ]
  },
  {
   "cell_type": "code",
   "execution_count": 49,
   "metadata": {
    "collapsed": false
   },
   "outputs": [
    {
     "data": {
      "text/plain": [
       "[array([[ 9.,  1.,  1.],\n",
       "        [ 9.,  5.,  6.]]), array([[ 3.],\n",
       "        [ 3.]]), array([[ 4.,  9.,  0.,  5.,  6.,  6.,  2.,  4.],\n",
       "        [ 8.,  8.,  0.,  5.,  2.,  6.,  2.,  7.]])]"
      ]
     },
     "execution_count": 49,
     "metadata": {},
     "output_type": "execute_result"
    }
   ],
   "source": [
    "np.hsplit(a,(3,4))   # Split a after the third and the fourth column"
   ]
  },
  {
   "cell_type": "markdown",
   "metadata": {},
   "source": [
    "\"vsplit\" splits along the vertical axis, and \"array_split\" allows one to specify along which axis to split."
   ]
  },
  {
   "cell_type": "markdown",
   "metadata": {},
   "source": [
    "# Copies and Views\n",
    "\n",
    "When operating and manipulating arrays, their data is sometimes copied into a new array and sometimes not. This is often a source of confusion for beginners. There are three cases:\n",
    "\n",
    "## No Copy at All"
   ]
  },
  {
   "cell_type": "markdown",
   "metadata": {},
   "source": [
    "Simple assignments make no copy of array objects or of their data."
   ]
  },
  {
   "cell_type": "code",
   "execution_count": 51,
   "metadata": {
    "collapsed": false
   },
   "outputs": [
    {
     "name": "stdout",
     "output_type": "stream",
     "text": [
      "a:  [ 0  1  2  3  4  5  6  7  8  9 10 11]\n",
      "b:  [ 0  1  2  3  4  5  6  7  8  9 10 11]\n"
     ]
    },
    {
     "data": {
      "text/plain": [
       "True"
      ]
     },
     "execution_count": 51,
     "metadata": {},
     "output_type": "execute_result"
    }
   ],
   "source": [
    "a = np.arange(12)\n",
    "b = a            # no new object is created\n",
    "print(\"a: \",a)\n",
    "print(\"b: \",b)\n",
    "b is a # a and b are two names for the same ndarray object"
   ]
  },
  {
   "cell_type": "code",
   "execution_count": 52,
   "metadata": {
    "collapsed": false
   },
   "outputs": [
    {
     "data": {
      "text/plain": [
       "(3, 4)"
      ]
     },
     "execution_count": 52,
     "metadata": {},
     "output_type": "execute_result"
    }
   ],
   "source": [
    "b.shape = 3,4    # changes the shape of a\n",
    "a.shape"
   ]
  },
  {
   "cell_type": "markdown",
   "metadata": {},
   "source": [
    "Python passes mutable objects as references, so function calls make no copy."
   ]
  },
  {
   "cell_type": "code",
   "execution_count": 53,
   "metadata": {
    "collapsed": true
   },
   "outputs": [],
   "source": [
    "def f(x):\n",
    "...     print(id(x))"
   ]
  },
  {
   "cell_type": "code",
   "execution_count": 54,
   "metadata": {
    "collapsed": false
   },
   "outputs": [
    {
     "data": {
      "text/plain": [
       "4524784416"
      ]
     },
     "execution_count": 54,
     "metadata": {},
     "output_type": "execute_result"
    }
   ],
   "source": [
    "id(a)"
   ]
  },
  {
   "cell_type": "code",
   "execution_count": 55,
   "metadata": {
    "collapsed": false
   },
   "outputs": [
    {
     "name": "stdout",
     "output_type": "stream",
     "text": [
      "4524784416\n"
     ]
    }
   ],
   "source": [
    "f(a)"
   ]
  },
  {
   "cell_type": "markdown",
   "metadata": {},
   "source": [
    "## View or Shallow Copy\n",
    "\n",
    "Different array objects can share the same data. The view method creates a new array object that looks at the same data."
   ]
  },
  {
   "cell_type": "code",
   "execution_count": 57,
   "metadata": {
    "collapsed": false
   },
   "outputs": [
    {
     "name": "stdout",
     "output_type": "stream",
     "text": [
      "[[ 0  1  2  3]\n",
      " [ 4  5  6  7]\n",
      " [ 8  9 10 11]]\n"
     ]
    }
   ],
   "source": [
    "c = a.view()\n",
    "print(c)\n",
    "\n",
    "# Docstring:\n",
    "# a.view(dtype=None, type=None)\n",
    "\n",
    "# New view of array with the same data.\n",
    "\n",
    "# Parameters\n",
    "# ----------\n",
    "# dtype : data-type or ndarray sub-class, optional\n",
    "#     Data-type descriptor of the returned view, e.g., float32 or int16. The\n",
    "#     default, None, results in the view having the same data-type as `a`.\n",
    "#     This argument can also be specified as an ndarray sub-class, which\n",
    "#     then specifies the type of the returned object (this is equivalent to\n",
    "#     setting the ``type`` parameter).\n",
    "# type : Python type, optional\n",
    "#     Type of the returned view, e.g., ndarray or matrix.  Again, the\n",
    "#     default None results in type preservation.\n"
   ]
  },
  {
   "cell_type": "code",
   "execution_count": 60,
   "metadata": {
    "collapsed": false
   },
   "outputs": [
    {
     "name": "stdout",
     "output_type": "stream",
     "text": [
      "False\n",
      "True\n",
      "[[ 0  1  2  3]\n",
      " [ 4  5  6  7]\n",
      " [ 8  9 10 11]]\n"
     ]
    }
   ],
   "source": [
    "print(c is a)\n",
    "print(c.base is a)     # c is a view of the data owned by a\n",
    "print(c.base)"
   ]
  },
  {
   "cell_type": "code",
   "execution_count": 61,
   "metadata": {
    "collapsed": false
   },
   "outputs": [
    {
     "data": {
      "text/plain": [
       "False"
      ]
     },
     "execution_count": 61,
     "metadata": {},
     "output_type": "execute_result"
    }
   ],
   "source": [
    "c.flags.owndata"
   ]
  },
  {
   "cell_type": "code",
   "execution_count": 62,
   "metadata": {
    "collapsed": false
   },
   "outputs": [
    {
     "data": {
      "text/plain": [
       "(3, 4)"
      ]
     },
     "execution_count": 62,
     "metadata": {},
     "output_type": "execute_result"
    }
   ],
   "source": [
    "c.shape = 2,6                      # a's shape doesn't change\n",
    "a.shape"
   ]
  },
  {
   "cell_type": "code",
   "execution_count": 64,
   "metadata": {
    "collapsed": false
   },
   "outputs": [
    {
     "name": "stdout",
     "output_type": "stream",
     "text": [
      "a:  [[   0    1    2    3]\n",
      " [1234    5    6    7]\n",
      " [   8    9   10   11]]\n"
     ]
    }
   ],
   "source": [
    "c[0,4] = 1234\n",
    "print(\"a: \", a)"
   ]
  },
  {
   "cell_type": "markdown",
   "metadata": {},
   "source": [
    "Slicing an array returns a view of it:"
   ]
  },
  {
   "cell_type": "code",
   "execution_count": 67,
   "metadata": {
    "collapsed": false
   },
   "outputs": [
    {
     "name": "stdout",
     "output_type": "stream",
     "text": [
      "s:  [[10 10]\n",
      " [10 10]\n",
      " [10 10]]\n",
      "s:  [[10 10]\n",
      " [10 10]\n",
      " [10 10]]\n",
      "a:  [[   0   10   10    3]\n",
      " [1234   10   10    7]\n",
      " [   8   10   10   11]]\n"
     ]
    }
   ],
   "source": [
    "s = a[ : , 1:3]     # spaces added for clarity; could also be written \"s = a[:,1:3]\"\n",
    "print(\"s: \", s)\n",
    "s[:] = 10           # s[:] is a view of s. Note the difference between s=10 and s[:]=10\n",
    "print(\"s: \", s)\n",
    "print(\"a: \", a)"
   ]
  },
  {
   "cell_type": "markdown",
   "metadata": {},
   "source": [
    "## Deep Copy\n",
    "\n",
    "The copy method makes a complete copy of the array and its data."
   ]
  },
  {
   "cell_type": "code",
   "execution_count": 69,
   "metadata": {
    "collapsed": false
   },
   "outputs": [
    {
     "name": "stdout",
     "output_type": "stream",
     "text": [
      "d:  [[   0   10   10    3]\n",
      " [1234   10   10    7]\n",
      " [   8   10   10   11]]\n",
      "False\n"
     ]
    }
   ],
   "source": [
    "d = a.copy()                          # a new array object with new data is created\n",
    "print(\"d: \", d)\n",
    "print(d is a)"
   ]
  },
  {
   "cell_type": "code",
   "execution_count": 71,
   "metadata": {
    "collapsed": false
   },
   "outputs": [
    {
     "name": "stdout",
     "output_type": "stream",
     "text": [
      "a:  [[   0   10   10    3]\n",
      " [1234   10   10    7]\n",
      " [   8   10   10   11]]\n"
     ]
    }
   ],
   "source": [
    "d.base is a                           # d doesn't share anything with a\n",
    "\n",
    "# numpy.ndarray.base\n",
    "\n",
    "# ndarray.base\n",
    "# Base object if memory is from some other object.\n",
    "\n",
    "# Examples\n",
    "\n",
    "# The base of an array that owns its memory is None...\n",
    "d[0,0] = 9999\n",
    "print(\"a: \", a)"
   ]
  },
  {
   "cell_type": "markdown",
   "metadata": {},
   "source": [
    "## Functions and Methods Overview\n",
    "\n",
    "Here is a list of some useful NumPy functions and methods names ordered in categories. See Routines (https://docs.scipy.org/doc/numpy-dev/reference/routines.html#routines) for the full list.\n",
    "\n",
    "**Array Creation: **\n",
    "arange, array, copy, empty, empty_like, eye, fromfile, fromfunction, identity, linspace, logspace, mgrid, ogrid, ones, ones_like, r, zeros, zeros_like\n",
    "\n",
    "**Conversions: **\n",
    "ndarray.astype, atleast_1d, atleast_2d, atleast_3d, mat\n",
    "\n",
    "**Manipulations: **\n",
    "array_split, column_stack, concatenate, diagonal, dsplit, dstack, hsplit, hstack, ndarray.item, newaxis, ravel, repeat, reshape, resize, squeeze, swapaxes, take, transpose, vsplit, vstack\n",
    "\n",
    "**Questions: **\n",
    "all, any, nonzero, where\n",
    "\n",
    "**Ordering: **\n",
    "argmax, argmin, argsort, max, min, ptp, searchsorted, sort\n",
    "\n",
    "**Operations: **\n",
    "choose, compress, cumprod, cumsum, inner, ndarray.fill, imag, prod, put, putmask, real, sum\n",
    "\n",
    "**Basic Statistics: **\n",
    "cov, mean, std, var\n",
    "\n",
    "**Basic Linear Algebra: **\n",
    "cross, dot, outer, linalg.svd, vdot\n"
   ]
  },
  {
   "cell_type": "markdown",
   "metadata": {},
   "source": [
    "# Less Basic\n",
    "## Broadcasting rules\n",
    "\n",
    "Broadcasting allows universal functions to deal in a meaningful way with inputs that do not have exactly the same shape.\n",
    "\n",
    "The first rule of broadcasting is that if all input arrays do not have the same number of dimensions, a “1” will be repeatedly prepended to the shapes of the smaller arrays until all the arrays have the same number of dimensions.\n",
    "\n",
    "The second rule of broadcasting ensures that arrays with a size of 1 along a particular dimension act as if they had the size of the array with the largest shape along that dimension. The value of the array element is assumed to be the same along that dimension for the “broadcast” array.\n",
    "\n",
    "After application of the broadcasting rules, the sizes of all arrays must match. More details can be found in Broadcasting (https://docs.scipy.org/doc/numpy-dev/user/basics.broadcasting.html).\n",
    "\n"
   ]
  },
  {
   "cell_type": "markdown",
   "metadata": {},
   "source": [
    "# Fancy indexing and index tricks\n",
    "NumPy offers more indexing facilities than regular Python sequences. In addition to indexing by integers and slices, as we saw before, arrays can be indexed by arrays of integers and arrays of booleans.\n",
    "\n",
    "## Indexing with Arrays of Indices\n",
    "\n",
    "\n"
   ]
  },
  {
   "cell_type": "code",
   "execution_count": 73,
   "metadata": {
    "collapsed": false
   },
   "outputs": [
    {
     "name": "stdout",
     "output_type": "stream",
     "text": [
      "a:  [  0   1   4   9  16  25  36  49  64  81 100 121]\n",
      "i:  [1 1 3 8 5]\n",
      "a[i]:  [ 1  1  9 64 25]\n",
      "j:  [[3 4]\n",
      " [9 7]]\n",
      "a[j]:  [[ 9 16]\n",
      " [81 49]]\n"
     ]
    }
   ],
   "source": [
    "a = np.arange(12)**2                       # the first 12 square numbers\n",
    "i = np.array( [ 1,1,3,8,5 ] )              # an array of indices\n",
    "print(\"a: \", a)\n",
    "print(\"i: \", i)\n",
    "print(\"a[i]: \", a[i])                      # the elements of a at the positions i\n",
    "j = np.array( [ [ 3, 4], [ 9, 7 ] ] )      # a bidimensional array of indices\n",
    "print(\"j: \", j)\n",
    "print(\"a[j]: \", a[j])                      # the same shape as j"
   ]
  },
  {
   "cell_type": "markdown",
   "metadata": {},
   "source": [
    "When the indexed array a is multidimensional, a single array of indices refers to the first dimension of a. The following example shows this behavior by converting an image of labels into a color image using a palette."
   ]
  },
  {
   "cell_type": "code",
   "execution_count": 75,
   "metadata": {
    "collapsed": false
   },
   "outputs": [
    {
     "name": "stdout",
     "output_type": "stream",
     "text": [
      "palette:  [[  0   0   0]\n",
      " [255   0   0]\n",
      " [  0 255   0]\n",
      " [  0   0 255]\n",
      " [255 255 255]]\n",
      "image:  [[0 1 2 0]\n",
      " [0 3 4 0]]\n",
      "palette[image]:  [[[  0   0   0]\n",
      "  [255   0   0]\n",
      "  [  0 255   0]\n",
      "  [  0   0   0]]\n",
      "\n",
      " [[  0   0   0]\n",
      "  [  0   0 255]\n",
      "  [255 255 255]\n",
      "  [  0   0   0]]]\n"
     ]
    }
   ],
   "source": [
    "palette = np.array( [ [0,0,0],                # black\n",
    "...                       [255,0,0],              # red\n",
    "...                       [0,255,0],              # green\n",
    "...                       [0,0,255],              # blue\n",
    "...                       [255,255,255] ] )       # white\n",
    "print(\"palette: \", palette)\n",
    "image = np.array( [ [ 0, 1, 2, 0 ],           # each value corresponds to a color in the palette\n",
    "...             [ 0, 3, 4, 0 ]  ] )\n",
    "print(\"image: \", image)\n",
    "print (\"palette[image]: \", palette[image])     # the (2,4,3) color image"
   ]
  },
  {
   "cell_type": "markdown",
   "metadata": {},
   "source": [
    "We can also give indexes for more than one dimension. The arrays of indices for each dimension must have the same shape."
   ]
  },
  {
   "cell_type": "code",
   "execution_count": 78,
   "metadata": {
    "collapsed": false
   },
   "outputs": [
    {
     "name": "stdout",
     "output_type": "stream",
     "text": [
      "a:  [[ 0  1  2  3]\n",
      " [ 4  5  6  7]\n",
      " [ 8  9 10 11]]\n",
      "i:  [[0 1]\n",
      " [1 2]]\n",
      "j:  [[2 1]\n",
      " [3 3]]\n",
      "a[i,j]:  [[ 2  5]\n",
      " [ 7 11]]\n",
      "a[i,2]:  [[ 2  6]\n",
      " [ 6 10]]\n",
      "a[:,j]:  [[ 2  5]\n",
      " [ 7 11]]\n",
      "[i,j]:  [array([[0, 1],\n",
      "       [1, 2]]), array([[2, 1],\n",
      "       [3, 3]])]\n"
     ]
    }
   ],
   "source": [
    "a = np.arange(12).reshape(3,4)\n",
    "print(\"a: \", a)\n",
    "i = np.array( [ [0,1],  [1,2] ] )             # indices for the first dim of a\n",
    "j = np.array( [ [2,1],  [3,3] ] )             # indices for the second dim                 \n",
    "print(\"i: \", i)\n",
    "print(\"j: \", j)\n",
    "print(\"a[i,j]: \", a[i,j])                   # i and j must have equal shape\n",
    "print(\"a[i,2]: \", a[i,2])\n",
    "print(\"a[:,j]: \", a[i,j])                    # i.e., a[ : , j]\n",
    "print(\"[i,j]: \", [i,j])"
   ]
  },
  {
   "cell_type": "markdown",
   "metadata": {},
   "source": [
    "Naturally, we can put i and j in a sequence (say a list) and then do the indexing with the list."
   ]
  },
  {
   "cell_type": "code",
   "execution_count": 80,
   "metadata": {
    "collapsed": false
   },
   "outputs": [
    {
     "name": "stdout",
     "output_type": "stream",
     "text": [
      "a[l]:  [[ 2  5]\n",
      " [ 7 11]]\n"
     ]
    }
   ],
   "source": [
    "l = [i,j]\n",
    "print(\"a[l]: \", a[l])                                       # equivalent to a[i,j]\n"
   ]
  },
  {
   "cell_type": "markdown",
   "metadata": {},
   "source": [
    "However, we can not do this by putting i and j into an array, because this array will be interpreted as indexing the first dimension of a."
   ]
  },
  {
   "cell_type": "code",
   "execution_count": 81,
   "metadata": {
    "collapsed": false
   },
   "outputs": [
    {
     "ename": "IndexError",
     "evalue": "index 3 is out of bounds for axis 0 with size 3",
     "output_type": "error",
     "traceback": [
      "\u001b[0;31m---------------------------------------------------------------------------\u001b[0m",
      "\u001b[0;31mIndexError\u001b[0m                                Traceback (most recent call last)",
      "\u001b[0;32m<ipython-input-81-5929a3ec059f>\u001b[0m in \u001b[0;36m<module>\u001b[0;34m()\u001b[0m\n\u001b[1;32m      1\u001b[0m \u001b[0ms\u001b[0m \u001b[0;34m=\u001b[0m \u001b[0mnp\u001b[0m\u001b[0;34m.\u001b[0m\u001b[0marray\u001b[0m\u001b[0;34m(\u001b[0m \u001b[0;34m[\u001b[0m\u001b[0mi\u001b[0m\u001b[0;34m,\u001b[0m\u001b[0mj\u001b[0m\u001b[0;34m]\u001b[0m \u001b[0;34m)\u001b[0m\u001b[0;34m\u001b[0m\u001b[0m\n\u001b[0;32m----> 2\u001b[0;31m \u001b[0;32mprint\u001b[0m\u001b[0;34m(\u001b[0m\u001b[0;34m\"a[s]: \"\u001b[0m\u001b[0;34m,\u001b[0m \u001b[0ma\u001b[0m\u001b[0;34m[\u001b[0m\u001b[0ms\u001b[0m\u001b[0;34m]\u001b[0m\u001b[0;34m)\u001b[0m     \u001b[0;31m# not what we want\u001b[0m\u001b[0;34m\u001b[0m\u001b[0m\n\u001b[0m",
      "\u001b[0;31mIndexError\u001b[0m: index 3 is out of bounds for axis 0 with size 3"
     ]
    }
   ],
   "source": [
    "s = np.array( [i,j] )\n",
    "print(\"a[s]: \", a[s])     # not what we want"
   ]
  },
  {
   "cell_type": "code",
   "execution_count": 82,
   "metadata": {
    "collapsed": false
   },
   "outputs": [
    {
     "name": "stdout",
     "output_type": "stream",
     "text": [
      "a[tuple(s)]:  [[ 2  5]\n",
      " [ 7 11]]\n"
     ]
    }
   ],
   "source": [
    "print(\"a[tuple(s)]: \", a[tuple(s)])        # same as a[i,j]"
   ]
  },
  {
   "cell_type": "code",
   "execution_count": 86,
   "metadata": {
    "collapsed": false
   },
   "outputs": [
    {
     "name": "stdout",
     "output_type": "stream",
     "text": [
      "time:  [  20.     51.25   82.5   113.75  145.  ]\n",
      "data:  [[ 0.          0.84147098  0.90929743  0.14112001]\n",
      " [-0.7568025  -0.95892427 -0.2794155   0.6569866 ]\n",
      " [ 0.98935825  0.41211849 -0.54402111 -0.99999021]\n",
      " [-0.53657292  0.42016704  0.99060736  0.65028784]\n",
      " [-0.28790332 -0.96139749 -0.75098725  0.14987721]]\n",
      "ind:  [2 0 3 1]\n",
      "time_max:  [  82.5    20.    113.75   51.25]\n",
      "data_max:  [ 0.98935825  0.84147098  0.99060736  0.6569866 ]\n"
     ]
    },
    {
     "data": {
      "text/plain": [
       "True"
      ]
     },
     "execution_count": 86,
     "metadata": {},
     "output_type": "execute_result"
    }
   ],
   "source": [
    "time = np.linspace(20, 145, 5)                 # time scale\n",
    "data = np.sin(np.arange(20)).reshape(5,4)      # 4 time-dependent series\n",
    "print(\"time: \", time)\n",
    "print(\"data: \", data)\n",
    "ind = data.argmax(axis=0)                   # index of the maxima for each series\n",
    "print(\"ind: \", ind)\n",
    "time_max = time[ ind]                       # times corresponding to the maxima\n",
    "\n",
    "data_max = data[ind, xrange(data.shape[1])] # => data[ind[0],0], data[ind[1],1]...\n",
    "print(\"time_max: \", time_max)\n",
    "print(\"data_max: \", data_max)\n",
    "np.all(data_max == data.max(axis=0))"
   ]
  },
  {
   "cell_type": "markdown",
   "metadata": {},
   "source": [
    "You can also use indexing with arrays as a target to assign to:"
   ]
  },
  {
   "cell_type": "code",
   "execution_count": 87,
   "metadata": {
    "collapsed": false
   },
   "outputs": [
    {
     "name": "stdout",
     "output_type": "stream",
     "text": [
      "a:  [0 1 2 3 4]\n",
      "a:  [0 0 2 0 0]\n"
     ]
    }
   ],
   "source": [
    "a = np.arange(5)\n",
    "print(\"a: \", a)\n",
    "a[[1,3,4]] = 0\n",
    "print(\"a: \", a)"
   ]
  },
  {
   "cell_type": "markdown",
   "metadata": {},
   "source": [
    "However, when the list of indices contains repetitions, the assignment is done several times, leaving behind the \n",
    "last value:"
   ]
  },
  {
   "cell_type": "code",
   "execution_count": 88,
   "metadata": {
    "collapsed": false
   },
   "outputs": [
    {
     "name": "stdout",
     "output_type": "stream",
     "text": [
      "a:  [0 1 2 3 4]\n",
      "a:  [2 1 3 3 4]\n"
     ]
    }
   ],
   "source": [
    "a = np.arange(5)\n",
    "print(\"a: \", a)\n",
    "a[[0,0,2]]=[1,2,3]\n",
    "print(\"a: \", a)"
   ]
  },
  {
   "cell_type": "markdown",
   "metadata": {},
   "source": [
    "This is reasonable enough, but watch out if you want to use Python’s += construct, as it may not do what you expect:"
   ]
  },
  {
   "cell_type": "code",
   "execution_count": 89,
   "metadata": {
    "collapsed": false
   },
   "outputs": [
    {
     "name": "stdout",
     "output_type": "stream",
     "text": [
      "a:  [0 1 2 3 4]\n",
      "a:  [1 1 3 3 4]\n"
     ]
    }
   ],
   "source": [
    "a = np.arange(5)\n",
    "print(\"a: \", a)\n",
    "a[[0,0,2]]+=1\n",
    "print(\"a: \", a)"
   ]
  },
  {
   "cell_type": "markdown",
   "metadata": {},
   "source": [
    "Even though 0 occurs twice in the list of indices, the 0th element is only incremented once. This is because Python requires “a+=1” to be equivalent to “a=a+1”."
   ]
  },
  {
   "cell_type": "markdown",
   "metadata": {},
   "source": [
    "# Indexing with Boolean Arrays\n",
    "\n",
    "When we index arrays with arrays of (integer) indices we are providing the list of indices to pick. With boolean indices the approach is different; we explicitly choose which items in the array we want and which ones we don’t.\n",
    "\n",
    "The most natural way one can think of for boolean indexing is to use boolean arrays that have the same shape as the original array:"
   ]
  },
  {
   "cell_type": "code",
   "execution_count": 90,
   "metadata": {
    "collapsed": false
   },
   "outputs": [
    {
     "name": "stdout",
     "output_type": "stream",
     "text": [
      "a:  [[ 0  1  2  3]\n",
      " [ 4  5  6  7]\n",
      " [ 8  9 10 11]]\n",
      "b:  [[False False False False]\n",
      " [False  True  True  True]\n",
      " [ True  True  True  True]]\n",
      "a[b]:  [ 5  6  7  8  9 10 11]\n"
     ]
    }
   ],
   "source": [
    "a = np.arange(12).reshape(3,4)\n",
    "b = a > 4\n",
    "print(\"a: \", a)\n",
    "print(\"b: \", b)                # b is a boolean with a's shape\n",
    "print(\"a[b]: \", a[b])           # 1d array with the selected elements"
   ]
  },
  {
   "cell_type": "markdown",
   "metadata": {},
   "source": [
    "This property can be very useful in assignments:"
   ]
  },
  {
   "cell_type": "code",
   "execution_count": 91,
   "metadata": {
    "collapsed": false
   },
   "outputs": [
    {
     "name": "stdout",
     "output_type": "stream",
     "text": [
      "a:  [[0 1 2 3]\n",
      " [4 0 0 0]\n",
      " [0 0 0 0]]\n"
     ]
    }
   ],
   "source": [
    "a[b] = 0                                   # All elements of 'a' higher than 4 become 0\n",
    "print(\"a: \", a)"
   ]
  },
  {
   "cell_type": "markdown",
   "metadata": {},
   "source": [
    "You can look at the following example to see how to use boolean indexing to generate an image of the Mandelbrot set:"
   ]
  },
  {
   "cell_type": "code",
   "execution_count": 94,
   "metadata": {
    "collapsed": false
   },
   "outputs": [
    {
     "data": {
      "image/png": "[encoded data removed]",
      "text/plain": [
       "<matplotlib.figure.Figure at 0x10db065d0>"
      ]
     },
     "metadata": {},
     "output_type": "display_data"
    }
   ],
   "source": [
    "import numpy as np\n",
    "import matplotlib.pyplot as plt\n",
    "def mandelbrot( h,w, maxit=20 ):\n",
    "     \"\"\"Returns an image of the Mandelbrot fractal of size (h,w).\"\"\"\n",
    "        #Signature: mandelbrot(h, w, maxit=20)\n",
    "        #Docstring: Returns an image of the Mandelbrot fractal of size (h,w).\n",
    "     y,x = np.ogrid[ -1.4:1.4:h*1j, -2:0.8:w*1j ]\n",
    "\n",
    "# `nd_grid` instance which returns an open multi-dimensional \"meshgrid\".\n",
    "\n",
    "# An instance of `numpy.lib.index_tricks.nd_grid` which returns an open\n",
    "# (i.e. not fleshed out) mesh-grid when indexed, so that only one dimension\n",
    "# of each returned array is greater than 1.  The dimension and number of the\n",
    "# output arrays are equal to the number of indexing dimensions.  If the step\n",
    "# length is not a complex number, then the stop is not inclusive.\n",
    "\n",
    "# However, if the step length is a **complex number** (e.g. 5j), then\n",
    "# the integer part of its magnitude is interpreted as specifying the\n",
    "# number of points to create between the start and stop values, where\n",
    "# the stop value **is inclusive**.\n",
    "\n",
    "# Returns\n",
    "# ----------\n",
    "# mesh-grid `ndarrays` with only one dimension :math:`\\neq 1`\n",
    "\n",
    "     c = x+y*1j\n",
    "     z = c\n",
    "     divtime = maxit + np.zeros(z.shape, dtype=int)\n",
    "\n",
    "     for i in range(maxit):\n",
    "         z = z**2 + c\n",
    "         diverge = z*np.conj(z) > 2**2            # who is diverging\n",
    "         div_now = diverge & (divtime==maxit)  # who is diverging now\n",
    "         divtime[div_now] = i                  # note when\n",
    "         z[diverge] = 2                        # avoid diverging too much\n",
    "\n",
    "     return divtime\n",
    "plt.imshow(mandelbrot(400,400))\n",
    "plt.show()\n",
    "\n",
    "# Signature: plt.imshow(X, cmap=None, norm=None, aspect=None, interpolation=None, alpha=None, vmin=None, vmax=None, \n",
    "#                       origin=None, extent=None, shape=None, filternorm=1, filterrad=4.0, imlim=None, resample=None, \n",
    "#                       url=None, hold=None, data=None, **kwargs)\n",
    "# Docstring:\n",
    "# Display an image on the axes.\n"
   ]
  },
  {
   "cell_type": "markdown",
   "metadata": {},
   "source": [
    "The second way of indexing with booleans is more similar to integer indexing; for each dimension of the array we give\n",
    "a 1D boolean array selecting the slices we want."
   ]
  },
  {
   "cell_type": "code",
   "execution_count": 95,
   "metadata": {
    "collapsed": false
   },
   "outputs": [
    {
     "name": "stdout",
     "output_type": "stream",
     "text": [
      "a:  [[ 0  1  2  3]\n",
      " [ 4  5  6  7]\n",
      " [ 8  9 10 11]]\n",
      "b1:  [False  True  True]\n",
      "b2:  [ True False  True False]\n",
      "a[b1,:]:  [[ 4  5  6  7]\n",
      " [ 8  9 10 11]]\n",
      "a[b1]:  [[ 4  5  6  7]\n",
      " [ 8  9 10 11]]\n",
      "a[:,b2]:  [[ 0  2]\n",
      " [ 4  6]\n",
      " [ 8 10]]\n",
      "a[b1,b2]:  [ 4 10]\n"
     ]
    }
   ],
   "source": [
    "a = np.arange(12).reshape(3,4)\n",
    "b1 = np.array([False,True,True])             # first dim selection\n",
    "b2 = np.array([True,False,True,False])       # second dim selection\n",
    "print(\"a: \", a)\n",
    "print(\"b1: \", b1)\n",
    "print(\"b2: \", b2)\n",
    "print(\"a[b1,:]: \", a[b1,:])                  # selecting rows\n",
    "print(\"a[b1]: \", a[b1])                      # same thing\n",
    "print(\"a[:,b2]: \", a[:,b2])                  # selecting columns \n",
    "print(\"a[b1,b2]: \", a[b1,b2])                # a weird thing to do"
   ]
  },
  {
   "cell_type": "markdown",
   "metadata": {},
   "source": [
    "Note that the length of the 1D boolean array must coincide with the length of the dimension (or axis) you want to slice. In the previous example, b1 is a 1-rank array with length 3 (the number of rows in a), and b2 (of length 4) is suitable to index the 2nd rank (columns) of a.\n",
    "\n"
   ]
  },
  {
   "cell_type": "markdown",
   "metadata": {},
   "source": [
    "## The ix_() function\n",
    "\n",
    "The ix_ function can be used to combine different vectors so as to obtain the result for each n-uplet. For example, if you want to compute all the a+b*c for all the triplets taken from each of the vectors a, b and c:\n",
    "\n",
    "\n"
   ]
  },
  {
   "cell_type": "code",
   "execution_count": 96,
   "metadata": {
    "collapsed": false
   },
   "outputs": [
    {
     "name": "stdout",
     "output_type": "stream",
     "text": [
      "a:  [2 3 4 5]\n",
      "b:  [8 5 4]\n",
      "c:  [5 4 6 8 3]\n",
      "ax:  [[[2]]\n",
      "\n",
      " [[3]]\n",
      "\n",
      " [[4]]\n",
      "\n",
      " [[5]]]\n",
      "bx:  [[[8]\n",
      "  [5]\n",
      "  [4]]]\n",
      "cx:  [[[5 4 6 8 3]]]\n",
      "ax.shape:  (4, 1, 1)\n",
      "bx.shape:  (1, 3, 1)\n",
      "cx.shape:  (1, 1, 5)\n",
      "result:  [[[42 34 50 66 26]\n",
      "  [27 22 32 42 17]\n",
      "  [22 18 26 34 14]]\n",
      "\n",
      " [[43 35 51 67 27]\n",
      "  [28 23 33 43 18]\n",
      "  [23 19 27 35 15]]\n",
      "\n",
      " [[44 36 52 68 28]\n",
      "  [29 24 34 44 19]\n",
      "  [24 20 28 36 16]]\n",
      "\n",
      " [[45 37 53 69 29]\n",
      "  [30 25 35 45 20]\n",
      "  [25 21 29 37 17]]]\n",
      "result[3,2,4]:  17\n",
      "a[3]+b[2]+c[4]:  17\n"
     ]
    }
   ],
   "source": [
    "a = np.array([2,3,4,5])\n",
    "b = np.array([8,5,4])\n",
    "c = np.array([5,4,6,8,3])\n",
    "ax,bx,cx = np.ix_(a,b,c)\n",
    "print(\"a: \", a)\n",
    "print(\"b: \", b)\n",
    "print(\"c: \", c)\n",
    "print(\"ax: \", ax)\n",
    "print(\"bx: \", bx)\n",
    "print(\"cx: \", cx)\n",
    "print(\"ax.shape: \", ax.shape)\n",
    "print(\"bx.shape: \", bx.shape)\n",
    "print(\"cx.shape: \", cx.shape)\n",
    "result = ax+bx*cx\n",
    "print(\"result: \", result)\n",
    "print(\"result[3,2,4]: \", result[3,2,4])\n",
    "print(\"a[3]+b[2]+c[4]: \", a[3]+b[2]*c[4])\n"
   ]
  },
  {
   "cell_type": "markdown",
   "metadata": {},
   "source": [
    "You could also implement the reduce as follows:"
   ]
  },
  {
   "cell_type": "code",
   "execution_count": 97,
   "metadata": {
    "collapsed": true
   },
   "outputs": [],
   "source": [
    "def ufunc_reduce(ufct, *vectors):\n",
    "    vs = np.ix_(*vectors)\n",
    "    r = ufct.identity\n",
    "    for v in vs:\n",
    "        r = ufct(r,v)\n",
    "    return r"
   ]
  },
  {
   "cell_type": "markdown",
   "metadata": {},
   "source": [
    "and then use it as:"
   ]
  },
  {
   "cell_type": "code",
   "execution_count": 98,
   "metadata": {
    "collapsed": false
   },
   "outputs": [
    {
     "data": {
      "text/plain": [
       "array([[[15, 14, 16, 18, 13],\n",
       "        [12, 11, 13, 15, 10],\n",
       "        [11, 10, 12, 14,  9]],\n",
       "\n",
       "       [[16, 15, 17, 19, 14],\n",
       "        [13, 12, 14, 16, 11],\n",
       "        [12, 11, 13, 15, 10]],\n",
       "\n",
       "       [[17, 16, 18, 20, 15],\n",
       "        [14, 13, 15, 17, 12],\n",
       "        [13, 12, 14, 16, 11]],\n",
       "\n",
       "       [[18, 17, 19, 21, 16],\n",
       "        [15, 14, 16, 18, 13],\n",
       "        [14, 13, 15, 17, 12]]])"
      ]
     },
     "execution_count": 98,
     "metadata": {},
     "output_type": "execute_result"
    }
   ],
   "source": [
    "ufunc_reduce(np.add,a,b,c)"
   ]
  },
  {
   "cell_type": "markdown",
   "metadata": {},
   "source": [
    "The advantage of this version of reduce compared to the normal ufunc.reduce is that it makes use of the Broadcasting Rules  in order to avoid creating an argument array the size of the output times the number of vectors."
   ]
  },
  {
   "cell_type": "markdown",
   "metadata": {},
   "source": [
    "## Indexing with strings\n",
    "\n",
    "See 'RecordArrays'."
   ]
  },
  {
   "cell_type": "markdown",
   "metadata": {},
   "source": [
    "# Linear Algebra\n",
    "Work in progress. Basic linear algebra to be included here.\n",
    "\n",
    "## Simple Array Operations\n",
    "\n",
    "See linalg.py in numpy folder for more."
   ]
  },
  {
   "cell_type": "code",
   "execution_count": 100,
   "metadata": {
    "collapsed": false
   },
   "outputs": [
    {
     "name": "stdout",
     "output_type": "stream",
     "text": [
      "a:  [[ 1.  2.]\n",
      " [ 3.  4.]]\n"
     ]
    },
    {
     "data": {
      "text/plain": [
       "array([[ 1.,  3.],\n",
       "       [ 2.,  4.]])"
      ]
     },
     "execution_count": 100,
     "metadata": {},
     "output_type": "execute_result"
    }
   ],
   "source": [
    "import numpy as np\n",
    "a = np.array([[1.0, 2.0], [3.0, 4.0]])\n",
    "print(\"a: \", a)\n",
    "a.transpose()"
   ]
  },
  {
   "cell_type": "code",
   "execution_count": 101,
   "metadata": {
    "collapsed": false
   },
   "outputs": [
    {
     "data": {
      "text/plain": [
       "array([[-2. ,  1. ],\n",
       "       [ 1.5, -0.5]])"
      ]
     },
     "execution_count": 101,
     "metadata": {},
     "output_type": "execute_result"
    }
   ],
   "source": [
    "np.linalg.inv(a)"
   ]
  },
  {
   "cell_type": "code",
   "execution_count": 103,
   "metadata": {
    "collapsed": false
   },
   "outputs": [
    {
     "name": "stdout",
     "output_type": "stream",
     "text": [
      "u:  [[ 1.  0.]\n",
      " [ 0.  1.]]\n",
      "j:  [[ 0. -1.]\n",
      " [ 1.  0.]]\n"
     ]
    },
    {
     "data": {
      "text/plain": [
       "array([[-1.,  0.],\n",
       "       [ 0., -1.]])"
      ]
     },
     "execution_count": 103,
     "metadata": {},
     "output_type": "execute_result"
    }
   ],
   "source": [
    "u = np.eye(2) # unit 2x2 matrix; \"eye\" represents \"I\"\n",
    "print(\"u: \", u)\n",
    "j = np.array([[0.0, -1.0], [1.0, 0.0]])\n",
    "print(\"j: \", j)\n",
    "np.dot (j, j) # matrix product"
   ]
  },
  {
   "cell_type": "code",
   "execution_count": 104,
   "metadata": {
    "collapsed": false
   },
   "outputs": [
    {
     "data": {
      "text/plain": [
       "2.0"
      ]
     },
     "execution_count": 104,
     "metadata": {},
     "output_type": "execute_result"
    }
   ],
   "source": [
    "np.trace(u)  # trace"
   ]
  },
  {
   "cell_type": "code",
   "execution_count": 105,
   "metadata": {
    "collapsed": false
   },
   "outputs": [
    {
     "name": "stdout",
     "output_type": "stream",
     "text": [
      "y:  [[ 5.]\n",
      " [ 7.]]\n"
     ]
    },
    {
     "data": {
      "text/plain": [
       "array([[-3.],\n",
       "       [ 4.]])"
      ]
     },
     "execution_count": 105,
     "metadata": {},
     "output_type": "execute_result"
    }
   ],
   "source": [
    "y = np.array([[5.], [7.]])\n",
    "print(\"y: \", y)\n",
    "np.linalg.solve(a, y)"
   ]
  },
  {
   "cell_type": "code",
   "execution_count": 106,
   "metadata": {
    "collapsed": false
   },
   "outputs": [
    {
     "data": {
      "text/plain": [
       "(array([ 0.+1.j,  0.-1.j]),\n",
       " array([[ 0.70710678+0.j        ,  0.70710678-0.j        ],\n",
       "        [ 0.00000000-0.70710678j,  0.00000000+0.70710678j]]))"
      ]
     },
     "execution_count": 106,
     "metadata": {},
     "output_type": "execute_result"
    }
   ],
   "source": [
    "np.linalg.eig(j)\n",
    "\n",
    "# Signature: np.linalg.eig(a)\n",
    "# Docstring:\n",
    "# Compute the eigenvalues and right eigenvectors of a square array.\n",
    "\n",
    "# Parameters\n",
    "# ----------\n",
    "# a : (..., M, M) array\n",
    "#     Matrices for which the eigenvalues and right eigenvectors will\n",
    "#     be computed\n",
    "# -------------------------------------------------------------------------------\n",
    "\n",
    "# Parameters:\n",
    "#     square matrix\n",
    "# Returns\n",
    "#     The eigenvalues, each repeated according to its multiplicity.\n",
    "#     The normalized (unit \"length\") eigenvectors, such that the\n",
    "#     column ``v[:,i]`` is the eigenvector corresponding to the\n",
    "#     eigenvalue ``w[i]`` ."
   ]
  },
  {
   "cell_type": "code",
   "execution_count": null,
   "metadata": {
    "collapsed": true
   },
   "outputs": [],
   "source": [
    "# Docstring:\n",
    "# Core Linear Algebra Tools\n",
    "# -------------------------\n",
    "# Linear algebra basics:\n",
    "\n",
    "# - norm            Vector or matrix norm\n",
    "# - inv             Inverse of a square matrix\n",
    "# - solve           Solve a linear system of equations\n",
    "# - det             Determinant of a square matrix\n",
    "# - lstsq           Solve linear least-squares problem\n",
    "# - pinv            Pseudo-inverse (Moore-Penrose) calculated using a singular\n",
    "#                   value decomposition\n",
    "# - matrix_power    Integer power of a square matrix\n",
    "\n",
    "# Eigenvalues and decompositions:\n",
    "\n",
    "# - eig             Eigenvalues and vectors of a square matrix\n",
    "# - eigh            Eigenvalues and eigenvectors of a Hermitian matrix\n",
    "# - eigvals         Eigenvalues of a square matrix\n",
    "# - eigvalsh        Eigenvalues of a Hermitian matrix\n",
    "# - qr              QR decomposition of a matrix\n",
    "# - svd             Singular value decomposition of a matrix\n",
    "# - cholesky        Cholesky decomposition of a matrix\n"
   ]
  },
  {
   "cell_type": "markdown",
   "metadata": {},
   "source": [
    "# Tricks and Tips\n",
    "Here we give a list of short and useful tips.\n",
    "\n",
    "## “Automatic” Reshaping\n",
    "\n",
    "To change the dimensions of an array, you can omit one of the sizes which will then be deduced automatically:"
   ]
  },
  {
   "cell_type": "code",
   "execution_count": 107,
   "metadata": {
    "collapsed": false
   },
   "outputs": [
    {
     "name": "stdout",
     "output_type": "stream",
     "text": [
      "a:  [ 0  1  2  3  4  5  6  7  8  9 10 11 12 13 14 15 16 17 18 19 20 21 22 23 24\n",
      " 25 26 27 28 29]\n",
      "a.shape:  (2, 5, 3)\n",
      "a:  [[[ 0  1  2]\n",
      "  [ 3  4  5]\n",
      "  [ 6  7  8]\n",
      "  [ 9 10 11]\n",
      "  [12 13 14]]\n",
      "\n",
      " [[15 16 17]\n",
      "  [18 19 20]\n",
      "  [21 22 23]\n",
      "  [24 25 26]\n",
      "  [27 28 29]]]\n"
     ]
    }
   ],
   "source": [
    "a = np.arange(30)\n",
    "print(\"a: \", a)\n",
    "a.shape = 2,-1,3  # -1 means \"whatever is needed\"\n",
    "print(\"a.shape: \", a.shape)\n",
    "print(\"a: \", a)\n"
   ]
  },
  {
   "cell_type": "markdown",
   "metadata": {},
   "source": [
    "## Vector Stacking\n",
    "\n",
    "How do we construct a 2D array from a list of equally-sized row vectors? In MATLAB this is quite easy: if x and y are two vectors of the same length you only need do m=[x;y]. In NumPy this works via the functions column_stack, dstack, hstack and vstack, depending on the dimension in which the stacking is to be done. For example:\n",
    "\n"
   ]
  },
  {
   "cell_type": "code",
   "execution_count": 108,
   "metadata": {
    "collapsed": false
   },
   "outputs": [
    {
     "name": "stdout",
     "output_type": "stream",
     "text": [
      "x:  [0 2 4 6 8]\n",
      "y:  [0 1 2 3 4]\n",
      "m:  [[0 2 4 6 8]\n",
      " [0 1 2 3 4]]\n",
      "xy:  [0 2 4 6 8 0 1 2 3 4]\n"
     ]
    }
   ],
   "source": [
    "x = np.arange(0,10,2)                     # x=([0,2,4,6,8])\n",
    "y = np.arange(5)                          # y=([0,1,2,3,4])\n",
    "m = np.vstack([x,y])                      # m=([[0,2,4,6,8],\n",
    "                                          #     [0,1,2,3,4]])\n",
    "xy = np.hstack([x,y])                     # xy =([0,2,4,6,8,0,1,2,3,4])\n",
    "print(\"x: \", x)\n",
    "print(\"y: \", y)\n",
    "print(\"m: \", m)\n",
    "print(\"xy: \", xy)"
   ]
  },
  {
   "cell_type": "markdown",
   "metadata": {},
   "source": [
    "The logic behind those functions in more than two dimensions can be strange.\n",
    "\n",
    "See also: Numpy for Matlab users (https://docs.scipy.org/doc/numpy-dev/user/numpy-for-matlab-users.html)\n",
    "\n"
   ]
  },
  {
   "cell_type": "markdown",
   "metadata": {},
   "source": [
    "## Histograms\n",
    "\n",
    "The NumPy histogram function applied to an array returns a pair of vectors: the histogram of the array and the vector of bins. Beware: matplotlib also has a function to build histograms (called hist, as in Matlab) that differs from the one in NumPy. The main difference is that pylab.hist plots the histogram automatically, while numpy.histogram only generates the data."
   ]
  },
  {
   "cell_type": "code",
   "execution_count": 110,
   "metadata": {
    "collapsed": false
   },
   "outputs": [
    {
     "data": {
      "image/png": "[encoded data removed]",
      "text/plain": [
       "<matplotlib.figure.Figure at 0x10dbd2250>"
      ]
     },
     "metadata": {},
     "output_type": "display_data"
    }
   ],
   "source": [
    "import numpy as np\n",
    "import matplotlib.pyplot as plt\n",
    "# Build a vector of 10000 normal deviates with variance 0.5^2 and mean 2\n",
    "mu, sigma = 2, 0.5\n",
    "v = np.random.normal(mu,sigma,10000)\n",
    "# print(\"v: \", v)\n",
    "# Plot a normalized histogram with 50 bins\n",
    "plt.hist(v, bins=50, normed=1)       # matplotlib version (plot)\n",
    "plt.show()\n",
    "\n",
    "# Signature: plt.hist(x, bins=10, range=None, normed=False, weights=None, cumulative=False, bottom=None, \n",
    "#                     histtype=u'bar', align=u'mid', orientation=u'vertical', rwidth=None, log=False, color=None,\n",
    "#                     label=None, stacked=False, hold=None, data=None, **kwargs)\n",
    "# Docstring:\n",
    "# Plot a histogram.\n",
    "\n",
    "# Compute and draw the histogram of *x*. The return value is a\n",
    "# tuple (*n*, *bins*, *patches*) or ([*n0*, *n1*, ...], *bins*,\n",
    "# [*patches0*, *patches1*,...]) if the input contains multiple\n",
    "# data.\n",
    "\n",
    "# Multiple data can be provided via *x* as a list of datasets\n",
    "# of potentially different length ([*x0*, *x1*, ...]), or as\n",
    "# a 2-D ndarray in which each column is a dataset.  Note that\n",
    "# the ndarray form is transposed relative to the list form.\n",
    "\n",
    "# Masked arrays are not supported at present.\n",
    "\n",
    "# Parameters\n",
    "# ----------\n",
    "# x : (n,) array or sequence of (n,) arrays\n",
    "#     Input values, this takes either a single array or a sequency of\n",
    "#     arrays which are not required to be of the same length\n",
    "\n",
    "# bins : integer or array_like, optional\n",
    "#     If an integer is given, `bins + 1` bin edges are returned,\n",
    "#     consistently with :func:`numpy.histogram` for numpy version >=\n",
    "#     1.3.\n",
    "\n",
    "#     Unequally spaced bins are supported if `bins` is a sequence.\n",
    "\n",
    "#     default is 10\n",
    "# ....\n",
    "# normed : boolean, optional\n",
    "#     If `True`, the first element of the return tuple will\n",
    "#     be the counts normalized to form a probability density, i.e.,\n",
    "#     ``n/(len(x)`dbin)``, i.e., the integral of the histogram will sum\n",
    "#     to 1. If *stacked* is also *True*, the sum of the histograms is\n",
    "#     normalized to 1.\n",
    "\n",
    "#     Default is ``False``\n"
   ]
  },
  {
   "cell_type": "code",
   "execution_count": 112,
   "metadata": {
    "collapsed": false,
    "scrolled": true
   },
   "outputs": [
    {
     "data": {
      "image/png": "[encoded data removed]",
      "text/plain": [
       "<matplotlib.figure.Figure at 0x112654150>"
      ]
     },
     "metadata": {},
     "output_type": "display_data"
    }
   ],
   "source": [
    "# Compute the histogram with numpy and then plot it\n",
    "(n, bins) = np.histogram(v, bins=50, normed=True)  # NumPy version (no plot)\n",
    "plt.plot(.5*(bins[1:]+bins[:-1]), n)\n",
    "plt.show()\n",
    "\n",
    "# Signature: np.histogram(a, bins=10, range=None, normed=False, weights=None, density=None)\n",
    "# Docstring:\n",
    "# Compute the histogram of a set of data.\n",
    "\n",
    "# Parameters\n",
    "# ----------\n",
    "# a : array_like\n",
    "#     Input data. The histogram is computed over the flattened array.\n",
    "# bins : int or sequence of scalars or str, optional\n",
    "#     If `bins` is an int, it defines the number of equal-width\n",
    "#     bins in the given range (10, by default). If `bins` is a\n",
    "#     sequence, it defines the bin edges, including the rightmost\n",
    "#     edge, allowing for non-uniform bin widths....\n",
    "\n",
    "    \n"
   ]
  },
  {
   "cell_type": "markdown",
   "metadata": {},
   "source": [
    "## Further reading\n",
    "The Python tutorial (https://docs.python.org/3/tutorial/)\n",
    "\n",
    "NumPy Reference (https://docs.scipy.org/doc/numpy-dev/reference/index.html#reference)\n",
    "\n",
    "SciPy Tutorial (https://docs.scipy.org/doc/scipy/reference/tutorial/index.html)\n",
    "\n",
    "SciPy Lecture Notes (http://www.scipy-lectures.org/)\n",
    "\n",
    "A matlab, R, IDL, NumPy/SciPy dictionary (http://mathesaurus.sourceforge.net/)"
   ]
  },
  {
   "cell_type": "code",
   "execution_count": null,
   "metadata": {
    "collapsed": true
   },
   "outputs": [],
   "source": []
  }
 ],
 "metadata": {
  "anaconda-cloud": {},
  "kernelspec": {
   "display_name": "Python [Root]",
   "language": "python",
   "name": "Python [Root]"
  }
 },
 "nbformat": 4,
 "nbformat_minor": 0
}
