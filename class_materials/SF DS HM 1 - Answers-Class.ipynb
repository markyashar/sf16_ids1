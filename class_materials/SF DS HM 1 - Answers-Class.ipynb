{
 "cells": [
  {
   "cell_type": "markdown",
   "metadata": {},
   "source": [
    "## You will be using NYC taxi ride data. There are two files located in the `data/nycTaxiData/` folder: `trip_fare_500k.csv` and `trip_data_500k.csv`.\n",
    "\n",
    "\n",
    "\n",
    "`trip_fare_500k.csv` file found in the `data/nycTaxiData/` folder. \n",
    "This dataset contains a fairly large number of distinct trips taken in cabs in the NYC area in 2013 (500 thousand of them, to be exact!).\n",
    "\n",
    "The dataset contains the following information at the top of the file (this is called the header):\n",
    "\n",
    "* `medallion`: The ID of the cab being operated\n",
    "* `hack_license`: The ID of the person operating the cab\n",
    "* `vendor_id`: The type of vendor operating the cab, can either be `CMT` or `VTS`, no clue what these two types mean\n",
    "* `pickup_datetime`: The time when the ride started\n",
    "* `payment_type`: How the trip was paid, `UNK` stands for unknown, I have no idea what `NOC` stands for, but lets assume its some known way to pay\n",
    "* `fare_amount`: Base fare cost of the trip\n",
    "* `surcharge`: Additional charges that are not tolls\n",
    "* `mta_tax`: The mta has to get its cut, right? :)\n",
    "* `tip_amount`: How generous the rider(s) decided to be\n",
    "* `tolls_amount`: How much money you had to pay in tolls\n",
    "* `total_amount`: How much the trip cost.\n",
    "\n",
    "Here are the columns of the trip dataset, found in `trip_data_500k.csv`:\n",
    "\n",
    "* `medallion`: The ID of the cab being operated\n",
    "* `hack_license`: The ID of the person operating the cab\n",
    "* `vendor_id`: The type of vendor operating the cab, can either be `CMT` or `VTS`, no clue what these two types mean\n",
    "* `rate_code`: Designates the kind of ride this is, must be `1` through `6`, any other number is incorrect\n",
    "* `store_and_fwd_flag`: Can be either `Y`,`N`, or Nan\n",
    "* `pickup_datetime`: The time when the ride started\n",
    "* `dropoff_datetime`: The time when the ride ended\n",
    "* `passenger_count`: The number of passengers during the ride\n",
    "* `trip_time_in_secs`: How long the trip took\n",
    "* `trip_distance`: Distance of the trip, to the nearest 1/10 mile\n",
    "* `pickup_longitude`: Longitude of pickup location\n",
    "* `pickup_latitude`: Latitude of pickup location\n",
    "* `dropoff_longitude`: Longitude of dropoff location\n",
    "* `dropoff_latitude`: Latitude of dropoff location"
   ]
  },
  {
   "cell_type": "markdown",
   "metadata": {},
   "source": [
    "First step - make your own copy of the notebook.\n",
    "\n",
    "Use the rest of this notebook to work through all these questions. \n",
    "\n",
    "If you can tackle all of these questions, then you've learned a lot already! \n",
    "\n",
    "For tips and commands, see the pandas class notebooks or https://github.com/guipsamora/pandas_exercises.\n",
    "\n",
    "If not, don't worry, this stuff is hard and T.J. and Ramesh will gladly help/guide you through all of this. Contact us through Slack with any questions.\n",
    "\n",
    "But take charge of your learning! This means:\n",
    "\n",
    "* Ask a classmate\n",
    "to help if you don't understand something. \n",
    "* If your neighbor can't help you, try using:\n",
    "  * [pandas documentation](http://pandas.pydata.org/pandas-docs/stable/index.html)\n",
    "  * [google](http://www.google.com)\n",
    "  * [stackoverflow](http://stackoverflow.com) to see if someone in the internet ether has had a similar problem before\n",
    "  * if none of this works, then I will gladly help you\n",
    "* This will accomplish at least two things:\n",
    "  * It will get you to use online resources and take charge of your learning\n",
    "  * Get you to learn alternative approaches"
   ]
  },
  {
   "cell_type": "markdown",
   "metadata": {},
   "source": [
    "I've started the bare-bones script for you by:\n",
    "\n",
    "* importing what you will need.\n",
    "* loading the two datasets into `DataFrame` objects (you might need to change the path to where the file is located on your system).\n",
    "* formatting the timestamp for you so that you don't have to figure out how to do it, because spending 30+ minutes  (or more) trying to figure it out is not the point of the assignment. This way, all of the functions in `fareData.pickup_datetime.dt` can immediately be used on the `pickup_datetime` column your dataset.\n",
    "\n",
    "The rest I leave to you. Happy hacking!"
   ]
  },
  {
   "cell_type": "code",
   "execution_count": 1,
   "metadata": {
    "collapsed": true
   },
   "outputs": [],
   "source": [
    "from __future__ import print_function, unicode_literals, division\n",
    "import pandas as pd\n",
    "import numpy as np"
   ]
  },
  {
   "cell_type": "markdown",
   "metadata": {},
   "source": [
    "## Let's start with the fare data:"
   ]
  },
  {
   "cell_type": "code",
   "execution_count": 2,
   "metadata": {
    "collapsed": false
   },
   "outputs": [
    {
     "data": {
      "text/plain": [
       "medallion                  object\n",
       "hack_license               object\n",
       "vendor_id                  object\n",
       "pickup_datetime    datetime64[ns]\n",
       "payment_type               object\n",
       "fare_amount               float64\n",
       "surcharge                 float64\n",
       "mta_tax                   float64\n",
       "tip_amount                float64\n",
       "tolls_amount              float64\n",
       "total_amount              float64\n",
       "dtype: object"
      ]
     },
     "execution_count": 2,
     "metadata": {},
     "output_type": "execute_result"
    }
   ],
   "source": [
    "fareData = pd.read_csv(\"../data/nycTaxiData/trip_fare_500k.csv\")\n",
    "fareData.pickup_datetime = pd.to_datetime(fareData.pickup_datetime,format=\"%Y-%m-%d %H:%M:%S\")\n",
    "fareData.dtypes #this is to confirm that the pickup_datetime column, as well as all of the other\n",
    "# columns, are in the appropriate formats (pickup_datetime should be in datetime64 format)\n",
    "# if it isn't something is wrong, and we need to figure what that is"
   ]
  },
  {
   "cell_type": "markdown",
   "metadata": {},
   "source": [
    "<b>Is there any missing data (null-values)?"
   ]
  },
  {
   "cell_type": "code",
   "execution_count": 3,
   "metadata": {
    "collapsed": false
   },
   "outputs": [
    {
     "name": "stdout",
     "output_type": "stream",
     "text": [
      "<class 'pandas.core.frame.DataFrame'>\n",
      "RangeIndex: 500000 entries, 0 to 499999\n",
      "Data columns (total 11 columns):\n",
      "medallion          500000 non-null object\n",
      "hack_license       500000 non-null object\n",
      "vendor_id          500000 non-null object\n",
      "pickup_datetime    500000 non-null datetime64[ns]\n",
      "payment_type       500000 non-null object\n",
      "fare_amount        500000 non-null float64\n",
      "surcharge          500000 non-null float64\n",
      "mta_tax            500000 non-null float64\n",
      "tip_amount         500000 non-null float64\n",
      "tolls_amount       500000 non-null float64\n",
      "total_amount       500000 non-null float64\n",
      "dtypes: datetime64[ns](1), float64(6), object(4)\n",
      "memory usage: 42.0+ MB\n"
     ]
    }
   ],
   "source": [
    "fareData.info()"
   ]
  },
  {
   "cell_type": "markdown",
   "metadata": {},
   "source": [
    "<b>What was the most expensive/least expensive trip taken?</b>"
   ]
  },
  {
   "cell_type": "code",
   "execution_count": 4,
   "metadata": {
    "collapsed": false
   },
   "outputs": [
    {
     "data": {
      "text/plain": [
       "460.5"
      ]
     },
     "execution_count": 4,
     "metadata": {},
     "output_type": "execute_result"
    }
   ],
   "source": [
    "fareData.total_amount.min()\n",
    "fareData.total_amount.max()"
   ]
  },
  {
   "cell_type": "markdown",
   "metadata": {},
   "source": [
    "<b>How does the overall `total_amount` paid per ride correlate with `tip_amount` per ride?</b>"
   ]
  },
  {
   "cell_type": "code",
   "execution_count": 5,
   "metadata": {
    "collapsed": false
   },
   "outputs": [
    {
     "data": {
      "text/plain": [
       "0.67087530714019938"
      ]
     },
     "execution_count": 5,
     "metadata": {},
     "output_type": "execute_result"
    }
   ],
   "source": [
    "fareData.total_amount.corr(fareData.tip_amount)"
   ]
  },
  {
   "cell_type": "markdown",
   "metadata": {},
   "source": [
    "<b>How do they correlate for only rides with cash `payment_type`?<b>"
   ]
  },
  {
   "cell_type": "code",
   "execution_count": 6,
   "metadata": {
    "collapsed": false
   },
   "outputs": [
    {
     "data": {
      "text/plain": [
       "0.0030334289521608037"
      ]
     },
     "execution_count": 6,
     "metadata": {},
     "output_type": "execute_result"
    }
   ],
   "source": [
    "fareData.payment_type.unique()\n",
    "filteredDF = fareData[fareData.payment_type == 'CSH']\n",
    "filteredDF.total_amount.corr(fareData.tip_amount)"
   ]
  },
  {
   "cell_type": "markdown",
   "metadata": {},
   "source": [
    "<b>Calculate the average cost of a trip in this dataset given the following conditions:</b>\n",
    "  1. Across the whole dataset\n",
    "  2. Across the whole dataset when the `payment_type` is known (not `UNK`)\n",
    "  3. For each `payment_type`. You can totally do this 1 by 1, but try to do this in a for loop.\n",
    "  4. Which `payment_type` had the highest average cost?\n",
    "  5. Which `payment_type` had the largest spread in how much people paid (largest standard deviation)?\n",
    "  6. Which `payment_type` had the most generous people (had the highest average tip), including unknown payment types?\n",
    "  7. What hour in the day were people most generous, on average, when they got into a cab?\n",
    "  8. What hour of the day did people fluctuate the most in terms of tips? That is, do some hours lead to unpredictable tip amounts? "
   ]
  },
  {
   "cell_type": "code",
   "execution_count": 7,
   "metadata": {
    "collapsed": false
   },
   "outputs": [
    {
     "name": "stdout",
     "output_type": "stream",
     "text": [
      "----------- 1: ------------\n",
      "14.17029444\n",
      "----------- 2: ------------\n",
      "14.1630248047\n",
      "----------- 3: ------------\n",
      "Average total fare when paid by CSH\n",
      "11.6167465066\n",
      "Average total fare when paid by DIS\n",
      "5.75\n",
      "Average total fare when paid by NOC\n",
      "3.0\n",
      "Average total fare when paid by CRD\n",
      "16.371266867\n",
      "Average total fare when paid by UNK\n",
      "22.1166739606\n",
      "----------- 4: ------------\n",
      "Answered above\n",
      "----------- 5: ------------\n",
      "STD of fare when paid by CSH\n",
      "9.5683194441\n",
      "STD of fare when paid by DIS\n",
      "2.47487373415\n",
      "STD of fare when paid by NOC\n",
      "nan\n",
      "STD of fare when paid by CRD\n",
      "13.7538825481\n",
      "STD of fare when paid by UNK\n",
      "21.0492771964\n",
      "----------- 6: ------------\n",
      "Average tip amount when paid by CSH\n",
      "7.43515253916e-05\n",
      "Average tip amount when paid by DIS\n",
      "0.0\n",
      "Average tip amount when paid by NOC\n",
      "0.0\n",
      "Average tip amount when paid by CRD\n",
      "2.42857431205\n",
      "Average tip amount when paid by UNK\n",
      "3.43008752735\n",
      "----------- 7: ------------\n",
      "   hour  tip_amount\n",
      "5     5    1.942813\n",
      "----------- 8: ------------\n",
      "   hour  tip_amount\n",
      "5     5    3.275576\n"
     ]
    }
   ],
   "source": [
    "print(\"----------- 1: ------------\")\n",
    "print(fareData.total_amount.mean())\n",
    "\n",
    "print(\"----------- 2: ------------\")\n",
    "print(fareData[fareData.payment_type != 'UNK'].total_amount.mean())\n",
    "\n",
    "print(\"----------- 3: ------------\")\n",
    "paytypes = fareData.payment_type.unique()\n",
    "for paytype in paytypes:\n",
    "    print(\"Average total fare when paid by \" + paytype)\n",
    "    print(fareData[fareData.payment_type == paytype].total_amount.mean())\n",
    "\n",
    "print(\"----------- 4: ------------\")\n",
    "print('Answered above')\n",
    "\n",
    "print(\"----------- 5: ------------\")\n",
    "paytypes = fareData.payment_type.unique()\n",
    "for paytype in paytypes:\n",
    "    print(\"STD of fare when paid by \" + paytype)\n",
    "    print(fareData[fareData.payment_type == paytype].total_amount.std())\n",
    "\n",
    "print(\"----------- 6: ------------\")\n",
    "for paytype in paytypes:\n",
    "    print(\"Average tip amount when paid by \" + paytype)\n",
    "    print(fareData[fareData.payment_type == paytype].tip_amount.mean())\n",
    "\n",
    "print(\"----------- 7: ------------\")\n",
    "fareData['hour'] = fareData.pickup_datetime.dt.hour\n",
    "meanByHourDF = fareData[['hour', 'tip_amount']].groupby('hour').mean().reset_index()\n",
    "print(meanByHourDF[meanByHourDF.tip_amount == meanByHourDF.tip_amount.max()])\n",
    "\n",
    "print(\"----------- 8: ------------\")\n",
    "stdByHourDF = fareData[['hour', 'tip_amount']].groupby('hour').std().reset_index()\n",
    "print(stdByHourDF[stdByHourDF.tip_amount == stdByHourDF.tip_amount.max()])"
   ]
  },
  {
   "cell_type": "markdown",
   "metadata": {},
   "source": [
    "<b>Which person (`hack_license`) made the most money:</b>\n",
    "  1. In total\n",
    "  2. On a per-trip basis, given that they took at least 20 trips"
   ]
  },
  {
   "cell_type": "code",
   "execution_count": 8,
   "metadata": {
    "collapsed": false
   },
   "outputs": [
    {
     "name": "stdout",
     "output_type": "stream",
     "text": [
      "----------- 1: ------------\n",
      "                                  total_amount\n",
      "hack_license                                  \n",
      "CFCD208495D565EF66E7DFF9F98764DA       2517.28\n",
      "----------- 2: ------------\n",
      "                          hack_license total_amount       dollarPerTrip\n",
      "                                                sum count              \n",
      "3638  3E8BC9829EE46234B580C2DA5ED69C0C        87.99     1         87.99\n"
     ]
    }
   ],
   "source": [
    "print(\"----------- 1: ------------\")\n",
    "totalPerDriver = fareData[['hack_license', 'total_amount']].groupby('hack_license').sum()\n",
    "print(totalPerDriver[totalPerDriver.total_amount == totalPerDriver.total_amount.max()])\n",
    "\n",
    "print(\"----------- 2: ------------\")\n",
    "totalPerDriver2 = fareData[['hack_license', 'total_amount']] \\\n",
    "    .groupby('hack_license') \\\n",
    "    .agg(['sum', 'count']) \\\n",
    "    .reset_index() \n",
    "totalPerDriver2['dollarPerTrip'] = \\\n",
    "    totalPerDriver2.total_amount['sum']/totalPerDriver2.total_amount['count']\n",
    "print(totalPerDriver2[totalPerDriver2.dollarPerTrip == totalPerDriver2.dollarPerTrip.max()])"
   ]
  },
  {
   "cell_type": "markdown",
   "metadata": {},
   "source": [
    "<b>Does the number of trips a given cabbie takes (her/his experience) correlate with how well she/he is tipped? If so, in what direction</b>"
   ]
  },
  {
   "cell_type": "code",
   "execution_count": 9,
   "metadata": {
    "collapsed": false
   },
   "outputs": [
    {
     "data": {
      "text/html": [
       "<div>\n",
       "<table border=\"1\" class=\"dataframe\">\n",
       "  <thead>\n",
       "    <tr style=\"text-align: right;\">\n",
       "      <th></th>\n",
       "      <th>size</th>\n",
       "      <th>mean</th>\n",
       "    </tr>\n",
       "  </thead>\n",
       "  <tbody>\n",
       "    <tr>\n",
       "      <th>size</th>\n",
       "      <td>1.000000</td>\n",
       "      <td>-0.291082</td>\n",
       "    </tr>\n",
       "    <tr>\n",
       "      <th>mean</th>\n",
       "      <td>-0.291082</td>\n",
       "      <td>1.000000</td>\n",
       "    </tr>\n",
       "  </tbody>\n",
       "</table>\n",
       "</div>"
      ],
      "text/plain": [
       "          size      mean\n",
       "size  1.000000 -0.291082\n",
       "mean -0.291082  1.000000"
      ]
     },
     "execution_count": 9,
     "metadata": {},
     "output_type": "execute_result"
    }
   ],
   "source": [
    "fareData.groupby(\"hack_license\")[\"tip_amount\"].agg([np.size, np.mean]).corr()"
   ]
  },
  {
   "cell_type": "markdown",
   "metadata": {},
   "source": [
    "<b>Does the number of times a given cab is used correlate with how well the person driving the cab is tipped? That is, are there \"lucky\" cabs?</b>"
   ]
  },
  {
   "cell_type": "code",
   "execution_count": 10,
   "metadata": {
    "collapsed": false
   },
   "outputs": [
    {
     "data": {
      "text/html": [
       "<div>\n",
       "<table border=\"1\" class=\"dataframe\">\n",
       "  <thead>\n",
       "    <tr style=\"text-align: right;\">\n",
       "      <th></th>\n",
       "      <th>size</th>\n",
       "      <th>mean</th>\n",
       "    </tr>\n",
       "  </thead>\n",
       "  <tbody>\n",
       "    <tr>\n",
       "      <th>size</th>\n",
       "      <td>1.00000</td>\n",
       "      <td>-0.34822</td>\n",
       "    </tr>\n",
       "    <tr>\n",
       "      <th>mean</th>\n",
       "      <td>-0.34822</td>\n",
       "      <td>1.00000</td>\n",
       "    </tr>\n",
       "  </tbody>\n",
       "</table>\n",
       "</div>"
      ],
      "text/plain": [
       "         size     mean\n",
       "size  1.00000 -0.34822\n",
       "mean -0.34822  1.00000"
      ]
     },
     "execution_count": 10,
     "metadata": {},
     "output_type": "execute_result"
    }
   ],
   "source": [
    "fareData.groupby(\"medallion\")[\"tip_amount\"].agg([np.size, np.mean]).corr()"
   ]
  },
  {
   "cell_type": "markdown",
   "metadata": {},
   "source": [
    "<b>Which `vendor_id` had the higher average `surcharge` on a per-hour basis?</b>\n"
   ]
  },
  {
   "cell_type": "code",
   "execution_count": 23,
   "metadata": {
    "collapsed": false
   },
   "outputs": [
    {
     "name": "stdout",
     "output_type": "stream",
     "text": [
      "vendor_id\n",
      "VTS    0.293235\n",
      "dtype: float64\n"
     ]
    }
   ],
   "source": [
    "perVendorMeans = fareData.groupby([\"vendor_id\",\"hour\"])[\"surcharge\"].mean().unstack(level=1)\n",
    "perVendorMeans = perVendorMeans.mean(axis=1)\n",
    "print(perVendorMeans[perVendorMeans==perVendorMeans.max()])"
   ]
  },
  {
   "cell_type": "markdown",
   "metadata": {},
   "source": [
    "<b>Which hour in the day: </b>\n",
    "  1. Did people most frequently take rides?\n",
    "  2. Did people least frequently take rides?\n",
    "  3. Had the largest number of unique cabs on the street?\n",
    "  4. Had the least number of cabs in the street?\n",
    "  5. What is the average number of cabs on the streets in NYC in each quarter of the day (at least in this dataset?)?"
   ]
  },
  {
   "cell_type": "code",
   "execution_count": 30,
   "metadata": {
    "collapsed": false
   },
   "outputs": [
    {
     "name": "stdout",
     "output_type": "stream",
     "text": [
      "----------- 1: ------------\n",
      "The hour with the most rides is:\n",
      "hour\n",
      "12    33564\n",
      "dtype: int64\n",
      "----------- 2: ------------\n",
      "The hour with the fewest rides is:\n",
      "hour\n",
      "4    3962\n",
      "dtype: int64\n",
      "----------- 3: ------------\n",
      "The hour with the most unique cabs on the street:\n",
      "hour\n",
      "14    6201\n",
      "dtype: int64\n",
      "----------- 4: ------------\n",
      "The hour with the fewest unique cabs on the street:\n",
      "hour\n",
      "5    1935\n",
      "dtype: int64\n",
      "----------- 5: ------------\n",
      "The number of unique cabs per quarter of the day in this dataset is:\n",
      "quarterDay\n",
      "(-1, 5]      73.460526\n",
      "(5, 11]      86.302632\n",
      "(11, 17]     92.434211\n",
      "(17, inf]    91.552632\n",
      "dtype: float64\n"
     ]
    }
   ],
   "source": [
    "print(\"----------- 1: ------------\")\n",
    "hourGroupsSizes = fareData.groupby(\"hour\").size()\n",
    "print(\"The hour with the most rides is:\")\n",
    "print(hourGroupsSizes[hourGroupsSizes==hourGroupsSizes.max()])\n",
    "\n",
    "print(\"----------- 2: ------------\")\n",
    "print(\"The hour with the fewest rides is:\")\n",
    "print(hourGroupsSizes[hourGroupsSizes==hourGroupsSizes.min()])\n",
    "\n",
    "print(\"----------- 3: ------------\")\n",
    "uniqueCabsHour = fareData.drop_duplicates([\"medallion\",\"hour\"])\n",
    "uniqueCabsPerHour = uniqueCabsHour.groupby(\"hour\").size()\n",
    "print(\"The hour with the most unique cabs on the street:\")\n",
    "print(uniqueCabsPerHour[uniqueCabsPerHour==uniqueCabsPerHour.max()])\n",
    "\n",
    "print(\"----------- 4: ------------\")\n",
    "print(\"The hour with the fewest unique cabs on the street:\")\n",
    "print(uniqueCabsPerHour[uniqueCabsPerHour==uniqueCabsPerHour.min()])\n",
    "\n",
    "print(\"----------- 5: ------------\")\n",
    "fareData[\"quarterDay\"] = pd.cut(fareData.hour,[-1,5,11,17,np.inf])\n",
    "earliestDay = fareData.pickup_datetime.dt.dayofyear.min()\n",
    "lastDay = fareData.pickup_datetime.dt.dayofyear.max()\n",
    "totalQuarters = (lastDay-earliestDay)*4\n",
    "uniqueCabsQuarterDay = fareData.drop_duplicates([\"medallion\",\"quarterDay\"])\n",
    "print(\"The number of unique cabs per quarter of the day in this dataset is:\")\n",
    "print(uniqueCabsQuarterDay.groupby(\"quarterDay\").size()/totalQuarters)"
   ]
  },
  {
   "cell_type": "markdown",
   "metadata": {},
   "source": [
    "<b>Join the trip_data and fare_data datasets together. You will need to join the datasets on more than one column, but you will have to figure out what those columns are!</b>"
   ]
  },
  {
   "cell_type": "code",
   "execution_count": 31,
   "metadata": {
    "collapsed": true
   },
   "outputs": [],
   "source": [
    "tripData = pd.read_csv(\"../data/nycTaxiData/trip_data_500k.csv\")\n",
    "tripData.pickup_datetime = pd.to_datetime(tripData.pickup_datetime,format=\"%Y-%m-%d %H:%M:%S\")"
   ]
  },
  {
   "cell_type": "code",
   "execution_count": 32,
   "metadata": {
    "collapsed": false
   },
   "outputs": [
    {
     "data": {
      "text/html": [
       "<div>\n",
       "<table border=\"1\" class=\"dataframe\">\n",
       "  <thead>\n",
       "    <tr style=\"text-align: right;\">\n",
       "      <th></th>\n",
       "      <th>medallion</th>\n",
       "      <th>hack_license</th>\n",
       "      <th>vendor_id</th>\n",
       "      <th>rate_code</th>\n",
       "      <th>store_and_fwd_flag</th>\n",
       "      <th>pickup_datetime</th>\n",
       "      <th>dropoff_datetime</th>\n",
       "      <th>passenger_count</th>\n",
       "      <th>trip_time_in_secs</th>\n",
       "      <th>trip_distance</th>\n",
       "      <th>...</th>\n",
       "      <th>dropoff_latitude</th>\n",
       "      <th>payment_type</th>\n",
       "      <th>fare_amount</th>\n",
       "      <th>surcharge</th>\n",
       "      <th>mta_tax</th>\n",
       "      <th>tip_amount</th>\n",
       "      <th>tolls_amount</th>\n",
       "      <th>total_amount</th>\n",
       "      <th>hour</th>\n",
       "      <th>quarterDay</th>\n",
       "    </tr>\n",
       "  </thead>\n",
       "  <tbody>\n",
       "    <tr>\n",
       "      <th>0</th>\n",
       "      <td>89D227B655E5C82AECF13C3F540D4CF4</td>\n",
       "      <td>BA96DE419E711691B9445D6A6307C170</td>\n",
       "      <td>CMT</td>\n",
       "      <td>1</td>\n",
       "      <td>N</td>\n",
       "      <td>2013-01-01 15:11:48</td>\n",
       "      <td>2013-01-01 15:18:10</td>\n",
       "      <td>4</td>\n",
       "      <td>382</td>\n",
       "      <td>1.0</td>\n",
       "      <td>...</td>\n",
       "      <td>40.751171</td>\n",
       "      <td>CSH</td>\n",
       "      <td>6.5</td>\n",
       "      <td>0.0</td>\n",
       "      <td>0.5</td>\n",
       "      <td>0.0</td>\n",
       "      <td>0.0</td>\n",
       "      <td>7.0</td>\n",
       "      <td>15</td>\n",
       "      <td>(11, 17]</td>\n",
       "    </tr>\n",
       "  </tbody>\n",
       "</table>\n",
       "<p>1 rows × 23 columns</p>\n",
       "</div>"
      ],
      "text/plain": [
       "                          medallion                      hack_license  \\\n",
       "0  89D227B655E5C82AECF13C3F540D4CF4  BA96DE419E711691B9445D6A6307C170   \n",
       "\n",
       "  vendor_id  rate_code store_and_fwd_flag     pickup_datetime  \\\n",
       "0       CMT          1                  N 2013-01-01 15:11:48   \n",
       "\n",
       "      dropoff_datetime  passenger_count  trip_time_in_secs  trip_distance  \\\n",
       "0  2013-01-01 15:18:10                4                382            1.0   \n",
       "\n",
       "      ...      dropoff_latitude  payment_type  fare_amount  surcharge mta_tax  \\\n",
       "0     ...             40.751171           CSH          6.5        0.0     0.5   \n",
       "\n",
       "   tip_amount  tolls_amount  total_amount  hour  quarterDay  \n",
       "0         0.0           0.0           7.0    15    (11, 17]  \n",
       "\n",
       "[1 rows x 23 columns]"
      ]
     },
     "execution_count": 32,
     "metadata": {},
     "output_type": "execute_result"
    }
   ],
   "source": [
    "full_data = tripData.merge(fareData,on=[\"medallion\",\"hack_license\",\"vendor_id\",\"pickup_datetime\"])\n",
    "full_data.head(1)"
   ]
  },
  {
   "cell_type": "markdown",
   "metadata": {},
   "source": [
    "<b>Which driver (`hack_license`) carried the most passengers, on average?</b>"
   ]
  },
  {
   "cell_type": "code",
   "execution_count": 33,
   "metadata": {
    "collapsed": false
   },
   "outputs": [
    {
     "data": {
      "text/plain": [
       "hack_license\n",
       "DF1338A98DAA39B20B528EEC54081A3D    6.0\n",
       "Name: passenger_count, dtype: float64"
      ]
     },
     "execution_count": 33,
     "metadata": {},
     "output_type": "execute_result"
    }
   ],
   "source": [
    "full_data.groupby(\"hack_license\")[\"passenger_count\"].mean().sort_values(ascending=False).head(1)"
   ]
  },
  {
   "cell_type": "markdown",
   "metadata": {},
   "source": [
    "<b>How does the number of passengers correlate with the tip amount?</b>"
   ]
  },
  {
   "cell_type": "code",
   "execution_count": 34,
   "metadata": {
    "collapsed": false
   },
   "outputs": [
    {
     "data": {
      "text/plain": [
       "-0.008328931582181353"
      ]
     },
     "execution_count": 34,
     "metadata": {},
     "output_type": "execute_result"
    }
   ],
   "source": [
    "full_data['passenger_count'].corr(full_data['tip_amount'])"
   ]
  },
  {
   "cell_type": "code",
   "execution_count": null,
   "metadata": {
    "collapsed": true
   },
   "outputs": [],
   "source": []
  }
 ],
 "metadata": {
  "anaconda-cloud": {},
  "kernelspec": {
   "display_name": "Python [Root]",
   "language": "python",
   "name": "Python [Root]"
  },
  "language_info": {
   "codemirror_mode": {
    "name": "ipython",
    "version": 2
   },
   "file_extension": ".py",
   "mimetype": "text/x-python",
   "name": "python",
   "nbconvert_exporter": "python",
   "pygments_lexer": "ipython2",
   "version": "2.7.12"
  }
 },
 "nbformat": 4,
 "nbformat_minor": 0
}
