{
 "cells": [
  {
   "cell_type": "markdown",
   "metadata": {},
   "source": [
    "## Class 2: Linear Algebra and Stats in Python\n",
    "### Agenda:\n",
    "* **An overview of how to work with matrices and vectors in Python (this notebook)**\n",
    "* **An overview of probabilities and probability distributions in Python (next notebook)**"
   ]
  },
  {
   "cell_type": "markdown",
   "metadata": {},
   "source": [
    "### Outline of this notebook\n",
    "* **scalars and scalar operations**\n",
    "* **vectors and vector operations**\n",
    "* **matrices and basic matrix operations**\n",
    "* **matrix inverse**\n",
    "* **matrix transpose**"
   ]
  },
  {
   "cell_type": "markdown",
   "metadata": {},
   "source": [
    "Ok, so last time we had a whirlwind tour of basic `Python`.\n",
    "\n",
    "Now we will have a brief tour of basic linear algebra in `Python` using the [NumPy library](http://www.numpy.org/). \n",
    "\n",
    "`NumPy` is a library (a collection of functions and datatypes) that extends the numerical capabilities of pure `Python` to work very quickly (and well) with matrices and vectors. `NumPy` is a core component of the [**`Python` scientific stack**](http://www.scipy.org/index.html), and we will be using it a lot as we proceed through the course."
   ]
  },
  {
   "cell_type": "markdown",
   "metadata": {},
   "source": [
    "Matrices and vectors are parts of the mathematical bedrock that data scientists rely on, on a daily basis. \n",
    "\n",
    "In order to succeed as a data scientist, we need to understand how to work, in a limited way, with matrices and vectors, so we will spend this portion of the class working with both kinds of objects. \n",
    "\n",
    "**Going forward, we will infrequently work with matrices and vectors directly, but it is nonetheless important to understand some of their basic properties to be productive as we progress through this course.**"
   ]
  },
  {
   "cell_type": "markdown",
   "metadata": {},
   "source": [
    "Now, some plumbing issues/explanations.\n",
    "\n",
    "In order to use `numpy` within a given `Python` program or script, we need to `import` it into our program's namespace. \n",
    "\n",
    "This is just a way of saying, in order for our `Python` code to rely on all of the cool `numpy` functionality, we need to tell our program to use it (it doesn't get baked into our program by default).\n",
    "\n",
    "So let's do that:"
   ]
  },
  {
   "cell_type": "code",
   "execution_count": null,
   "metadata": {
    "collapsed": false
   },
   "outputs": [],
   "source": [
    "from __future__ import print_function, unicode_literals#, division  \n",
    "import numpy as np"
   ]
  },
  {
   "cell_type": "markdown",
   "metadata": {},
   "source": [
    "What we've done is told `Python` \"give me all the functionality of numpy, but whenever I call a numpy function, I don't want to say numpy.BLAH, instead, I want to say np.BLAH.\"\n",
    "\n",
    "Make sense?\n",
    "\n",
    "This is a **convention** in the `Python` world. Many packages that are used by developers and data scientists have conventional renamings, and I will attempt to use them throughout the course (If I know the convention :))."
   ]
  },
  {
   "cell_type": "markdown",
   "metadata": {},
   "source": [
    "### Scalars"
   ]
  },
  {
   "cell_type": "markdown",
   "metadata": {},
   "source": [
    "A scalar `NumPy` is just an individual number, just a mathy way of saying it. This is what we use when we add two numbers together, multiply them together, etc. You (intuitively) know what a scalar is:"
   ]
  },
  {
   "cell_type": "code",
   "execution_count": null,
   "metadata": {
    "collapsed": false
   },
   "outputs": [],
   "source": [
    "x = 3.4\n",
    "print(\"This is a scalar:\",x)"
   ]
  },
  {
   "cell_type": "markdown",
   "metadata": {},
   "source": [
    "There are lots of scalar types that `NumPy` recognizes. Here's the list of them:"
   ]
  },
  {
   "cell_type": "code",
   "execution_count": null,
   "metadata": {
    "collapsed": false
   },
   "outputs": [],
   "source": [
    "np.ScalarType"
   ]
  },
  {
   "cell_type": "markdown",
   "metadata": {
    "collapsed": true
   },
   "source": [
    "### Vectors"
   ]
  },
  {
   "cell_type": "markdown",
   "metadata": {
    "collapsed": true
   },
   "source": [
    "Vectors are just arrays (lists) of scalars. They are created in a very specific way in `Numpy`, by using the function `array` and can either be created directly, or **cast** from a list:"
   ]
  },
  {
   "cell_type": "code",
   "execution_count": null,
   "metadata": {
    "collapsed": false
   },
   "outputs": [],
   "source": [
    "an_array = np.array([1,20,34,12])\n",
    "print(an_array,type(an_array))"
   ]
  },
  {
   "cell_type": "code",
   "execution_count": null,
   "metadata": {
    "collapsed": false
   },
   "outputs": [],
   "source": [
    "my_list = [30,3.5,12]\n",
    "an_array_from_list = np.array(my_list)\n",
    "print(an_array_from_list, type(an_array_from_list))"
   ]
  },
  {
   "cell_type": "markdown",
   "metadata": {},
   "source": [
    "However, unlike lists in pure `Python`, `NumPy` arrays are very different, in that they **must have scalars of all the same type in them.** \n",
    "\n",
    "What's cool about `NumPy` is it automatically casts your lists into what it thinks is the most intuitive datatype for the array, given all of the values in it.\n",
    "\n",
    "So, if you have a list of `floats` and `ints`, you'll get a `NumPy` array that is all floats:"
   ]
  },
  {
   "cell_type": "code",
   "execution_count": null,
   "metadata": {
    "collapsed": false
   },
   "outputs": [],
   "source": [
    "my_float_and_int_list = [1,2.5,12]\n",
    "my_float_array = np.array(my_float_and_int_list)\n",
    "print(my_float_array, my_float_array.dtype)\n",
    "print(my_float_array[0], type(my_float_array[0])) #see?"
   ]
  },
  {
   "cell_type": "markdown",
   "metadata": {},
   "source": [
    "However, as I'd mentioned before, you don't want to mix `strings` and numbers together, as you'll get behavior you might not have wanted:"
   ]
  },
  {
   "cell_type": "code",
   "execution_count": null,
   "metadata": {
    "collapsed": false
   },
   "outputs": [],
   "source": [
    "my_list_of_strings_and_ints = [\"hello\",12,\"15.8\"]\n",
    "my_string_array = np.array(my_list_of_strings_and_ints)\n",
    "print(my_string_array, my_string_array.dtype)\n",
    "print(my_string_array[1],type(my_string_array[1])) # 12 is now a string!"
   ]
  },
  {
   "cell_type": "markdown",
   "metadata": {},
   "source": [
    "When you have numeric 1-dimensional arrays (vectors, same thing). You can perform some cool math on them, like multiplying, dividing, adding to, subtracting from them by a scalar:"
   ]
  },
  {
   "cell_type": "code",
   "execution_count": null,
   "metadata": {
    "collapsed": false
   },
   "outputs": [],
   "source": [
    "my_array = np.array([12,46,3.4])\n",
    "print(\"Original array:\\t\\t\",my_array)\n",
    "my_mult_array = my_array * 3\n",
    "print(\"Multiplied by 3:\\t\",my_mult_array)\n",
    "my_div_array = my_array / 3\n",
    "print(\"Divided by 3:\\t\\t\",my_div_array)\n",
    "my_sub_array = my_array - 3\n",
    "print(\"Subtracted 3 from:\\t\",my_sub_array)\n",
    "my_add_array = my_array + 3\n",
    "print(\"Added 3 to:\\t\\t\",my_add_array)"
   ]
  },
  {
   "cell_type": "markdown",
   "metadata": {},
   "source": [
    "All `NumPy` arrays have a shape, which tells you its structure:"
   ]
  },
  {
   "cell_type": "code",
   "execution_count": null,
   "metadata": {
    "collapsed": false
   },
   "outputs": [],
   "source": [
    "print(\"my_array shape:\",my_array.shape)"
   ]
  },
  {
   "cell_type": "markdown",
   "metadata": {},
   "source": [
    "This means it is 1-dimensional (a vector)."
   ]
  },
  {
   "cell_type": "markdown",
   "metadata": {},
   "source": [
    "You can add/subtract/multiply/divide 2 vectors together, this will cause them to be multiplied/added/subtracted/divided one by one. However, **the two vectors must be exactly the same shape**:"
   ]
  },
  {
   "cell_type": "code",
   "execution_count": null,
   "metadata": {
    "collapsed": false
   },
   "outputs": [],
   "source": [
    "my_first_vector = np.array([10,12,13])\n",
    "my_second_vector = np.array([1,4,3.5])\n",
    "print(\"are the two vectors of the same shape?\", my_first_vector.shape == my_second_vector.shape)\n",
    "#how you check for shape equality in Python\n",
    "print(\"Original vectors:\\t\",my_first_vector, my_second_vector)\n",
    "print(\"Added:\\t\\t\\t\",my_first_vector+my_second_vector)\n",
    "print(\"Divided:\\t\\t\",my_first_vector/my_second_vector)\n",
    "print(\"Multiplied:\\t\\t\",my_first_vector*my_second_vector)\n",
    "print(\"Subtracted:\\t\\t\",my_first_vector-my_second_vector)"
   ]
  },
  {
   "cell_type": "markdown",
   "metadata": {},
   "source": [
    "You can do other really cool things with arrays, like check each element in them for certain properties.\n",
    "\n",
    "Lets say we only wanted to see those entries that are greater than 10 in `my_array`.\n",
    "\n",
    "First, we want to find out which scalars in our array satisfy our condition (value > 10). Here's how we would do that:"
   ]
  },
  {
   "cell_type": "code",
   "execution_count": null,
   "metadata": {
    "collapsed": false
   },
   "outputs": [],
   "source": [
    "my_array > 10"
   ]
  },
  {
   "cell_type": "markdown",
   "metadata": {},
   "source": [
    "So checking for a condition gives us a new array that is of type `bool`.\n",
    "\n",
    "What we can then do is apply this same exact `boolean array` to our `original array` to get a new array that satisfies our condition:"
   ]
  },
  {
   "cell_type": "code",
   "execution_count": null,
   "metadata": {
    "collapsed": false
   },
   "outputs": [],
   "source": [
    "greater_than_10_array = my_array[my_array>10]\n",
    "print(greater_than_10_array) #cool huh?"
   ]
  },
  {
   "cell_type": "markdown",
   "metadata": {},
   "source": [
    "Finally, vectors can be indexed (sliced) in the same way as lists in pure `Python`:"
   ]
  },
  {
   "cell_type": "code",
   "execution_count": null,
   "metadata": {
    "collapsed": false
   },
   "outputs": [],
   "source": [
    "my_array[1:-1]"
   ]
  },
  {
   "cell_type": "markdown",
   "metadata": {},
   "source": [
    "#### Exercise Time!!!\n",
    "* create a `NumPy array` called `heights` with the values [6.5,7.3,5.1,4.9]\n",
    "* multiply all of the heights by 4 and store that into a new variable called `huge_people`\n",
    "* create a new array `basketballers` with only those entries in heights that are > 6\n",
    "* create another array `little_people` with only those entries in heights that are < 5"
   ]
  },
  {
   "cell_type": "code",
   "execution_count": null,
   "metadata": {
    "collapsed": true
   },
   "outputs": [],
   "source": [
    "pass"
   ]
  },
  {
   "cell_type": "markdown",
   "metadata": {},
   "source": [
    "### Matrices"
   ]
  },
  {
   "cell_type": "markdown",
   "metadata": {},
   "source": [
    "Now that we've talked about Vectors (1-d arrays), lets talk about Matrices, which are 2-dimensional vectors. They are a bit more complicated and have a lot more properties than vectors, but they are also infinitely more useful.\n",
    "\n",
    "Let's start. Here's a simple 2X2 matrix:"
   ]
  },
  {
   "cell_type": "code",
   "execution_count": null,
   "metadata": {
    "collapsed": false
   },
   "outputs": [],
   "source": [
    "my_first_matrix = np.array([[20,12],[30,1]])\n",
    "print(my_first_matrix)"
   ]
  },
  {
   "cell_type": "markdown",
   "metadata": {},
   "source": [
    "Matrices with an equal number of rows and columns are called **square**.\n",
    "\n",
    "You can access rows, columns, or individual values in the matrix in a way very similar to how we would access elements or collections of elements in lists:"
   ]
  },
  {
   "cell_type": "code",
   "execution_count": null,
   "metadata": {
    "collapsed": false
   },
   "outputs": [],
   "source": [
    "print(\"First row of the matrix:\\n\", my_first_matrix[0,:], type(my_first_matrix[0,:]))\n",
    "print(\"First column of the matrix:\\n\", my_first_matrix[:,0], type(my_first_matrix[:,0]))\n",
    "print(\"Last element in last row of the matrix:\\n\", my_first_matrix[-1,-1], type(my_first_matrix[-1,-1]))"
   ]
  },
  {
   "cell_type": "markdown",
   "metadata": {},
   "source": [
    "Notice that when you select an individual element from a matrix, the `type` of the returned value is no longer an `ndarray` but rather an `int` (a special `int` type created in `NumPy`)."
   ]
  },
  {
   "cell_type": "markdown",
   "metadata": {
    "collapsed": false
   },
   "source": [
    "Matrices are a bit different from vectors and scalars in that **all mathematical operations that are common in vectors/scalars can actually be performed in 2 very different ways on matrices**, either with individual values (scalars) or by combining 2 matrices using those operations.\n",
    "\n",
    "To understand this, lets look at the two ways matrix addition/subtraction/division/multiplication can be performed."
   ]
  },
  {
   "cell_type": "markdown",
   "metadata": {},
   "source": [
    "#### Matrix addition/subtraction/division/multiplication with scalars"
   ]
  },
  {
   "cell_type": "code",
   "execution_count": null,
   "metadata": {
    "collapsed": false
   },
   "outputs": [],
   "source": [
    "print(\"Original matrix:\\n\", my_first_matrix)\n",
    "scalar_addition_matrix = my_first_matrix + 5\n",
    "print(\"Adding the value 5 to the matrix:\\n\",scalar_addition_matrix)\n",
    "scalar_subtraction_matrix = my_first_matrix - 20\n",
    "print(\"Subtracting 20 from the matrix:\\n\", scalar_subtraction_matrix)\n",
    "scalar_division_matrix = my_first_matrix / 5\n",
    "print(\"Dividing the matrix by 5:\\n\",scalar_division_matrix)\n",
    "scalar_multiplication_matrix = my_first_matrix * 20\n",
    "print(\"Multiplying the matrix by 20:\\n\", scalar_multiplication_matrix)"
   ]
  },
  {
   "cell_type": "markdown",
   "metadata": {},
   "source": [
    "So, performing any operation with a matrix and a scalar causes the operation to be performed element-wise on the matrix. Lets move onto basic operations where both elements are matrices."
   ]
  },
  {
   "cell_type": "markdown",
   "metadata": {},
   "source": [
    "#### Matrix addition/subtraction with another matrix"
   ]
  },
  {
   "cell_type": "markdown",
   "metadata": {},
   "source": [
    "**When matrix addition and subtraction are performed with two matrices, both matrices must have the same exact shape:**"
   ]
  },
  {
   "cell_type": "code",
   "execution_count": null,
   "metadata": {
    "collapsed": false
   },
   "outputs": [],
   "source": [
    "my_second_matrix = np.array([[1,3],[6,7]])\n",
    "my_third_matrix = np.array([[1,2,4],[1,3,5]])\n",
    "\n",
    "print(my_first_matrix,my_first_matrix.shape)\n",
    "print(my_second_matrix,my_second_matrix.shape)\n",
    "\n",
    "print(\"Are my first and second matrices the same shape?\",my_first_matrix.shape == my_second_matrix.shape)\n",
    "\n",
    "print(\"You can add and subtract matrices of the same shape:\\n\",my_first_matrix + my_second_matrix,\"\\n\")\n",
    "print(my_first_matrix - my_second_matrix)"
   ]
  },
  {
   "cell_type": "markdown",
   "metadata": {},
   "source": [
    "If you ever try to add/subtract 2 matrices of different shape, `Python` will throw a `ValueError`:"
   ]
  },
  {
   "cell_type": "code",
   "execution_count": null,
   "metadata": {
    "collapsed": false
   },
   "outputs": [],
   "source": [
    "print(\"But you can't do anything when the matrices have different shapes:\")\n",
    "print(my_first_matrix, my_first_matrix.shape)\n",
    "print(my_third_matrix, my_third_matrix.shape)\n",
    "print(\"Are my first and third matrices the same shape?\",my_first_matrix.shape==my_third_matrix.shape)\n",
    "my_first_matrix + my_third_matrix"
   ]
  },
  {
   "cell_type": "markdown",
   "metadata": {},
   "source": [
    "#### Matrix multiplication with another matrix or a properly shaped vector"
   ]
  },
  {
   "cell_type": "markdown",
   "metadata": {},
   "source": [
    "Matrices can be multiplied either with other matrices or vectors. Both cases rely on the object you're multiplying with having an appropriate shape (but not necessarily the same shape as the first matrix!).\n",
    "\n",
    "In all talk of operations on matrices and vectors going forward, we will talk about the first matrix/vector as the **first operand** and the second matrix/vector as the **second operand**.\n",
    "\n",
    "**In order for multiplication of two matrices/vectors AxB to be defined, the number of columns in the first operand must equal the number of rows in the second operand. The resulting new matrix will have a number of rows equal to the number of rows in the first operand and the number of columns equal to the second operand.**\n",
    "\n",
    "To multiply matrices, we use a slightly different notation, calling the `dot` operator on a `NumPy` array:"
   ]
  },
  {
   "cell_type": "code",
   "execution_count": null,
   "metadata": {
    "collapsed": false
   },
   "outputs": [],
   "source": [
    "print(\"First matrix:\\n\",my_first_matrix, my_first_matrix.shape)\n",
    "print(\"Second matrix: \\n\", my_second_matrix, my_second_matrix.shape)\n",
    "print(\"Result of multiplying first x second:\\n\", my_first_matrix.dot(my_second_matrix),\n",
    "      my_first_matrix.dot(my_second_matrix).shape)\n",
    "print(\"Result of multiplying second x first:\\n\", my_second_matrix.dot(my_first_matrix),\n",
    "      my_second_matrix.dot(my_first_matrix).shape)"
   ]
  },
  {
   "cell_type": "markdown",
   "metadata": {},
   "source": [
    "**Notice that AxB is not the same as BxA when multiplying matrices!**\n",
    "Let's try the same thing with matrices of slightly different shape:"
   ]
  },
  {
   "cell_type": "code",
   "execution_count": null,
   "metadata": {
    "collapsed": false
   },
   "outputs": [],
   "source": [
    "print(\"First matrix:\\n\",my_first_matrix,my_first_matrix.shape)\n",
    "print(\"Other matrix:\\n\",my_third_matrix,my_third_matrix.shape)\n",
    "print(\"First x Other:\\n\", my_first_matrix.dot(my_third_matrix), my_first_matrix.dot(my_third_matrix).shape)"
   ]
  },
  {
   "cell_type": "markdown",
   "metadata": {},
   "source": [
    "Will multiplying Other x First work?"
   ]
  },
  {
   "cell_type": "markdown",
   "metadata": {},
   "source": [
    "Let's now try to multiply one of our matrices by a properly formed vector:"
   ]
  },
  {
   "cell_type": "code",
   "execution_count": null,
   "metadata": {
    "collapsed": false
   },
   "outputs": [],
   "source": [
    "print(\"A matrix:\\n\", my_third_matrix,my_third_matrix.shape)\n",
    "print(\"A vector:\\n\", my_first_vector, my_first_vector.shape)\n",
    "print(\"matrix x vector:\", my_third_matrix.dot(my_first_vector)\n",
    "      ,my_third_matrix.dot(my_first_vector).shape)"
   ]
  },
  {
   "cell_type": "code",
   "execution_count": null,
   "metadata": {
    "collapsed": false
   },
   "outputs": [],
   "source": [
    "my_third_matrix.dot(my_first_vector)"
   ]
  },
  {
   "cell_type": "markdown",
   "metadata": {},
   "source": [
    "#### Matrix division by another matrix (matrix inverse)"
   ]
  },
  {
   "cell_type": "markdown",
   "metadata": {},
   "source": [
    "In order to talk about matrix division, we must first introduce the concept of a matrix inverse, because matrix division can't exist without it.\n",
    "\n",
    "Remember from common math that dividing a number X by a number Y (X/Y) is the exact same thing as (X * 1/Y), or taking the reciprocal of Y and multiplying by that number. \n",
    "\n",
    "Also remember that a number multiplied by its reciprocal gives you 1 (Y * 1/Y = 1).\n",
    "\n",
    "For matrices, we have to do the same exact thing (take the reciprocal), and we also have to identify the matrix version of the number 1.\n",
    "\n",
    "So, how do we do Y * 1/Y = 1 for matrices? \n",
    "\n",
    "Let's first talk about the concept of the number 1 in matrix notation. This is called the identity matrix (we call this matrix I by convention in linear algebra). Here's the 2x2 version of the identity matrix:"
   ]
  },
  {
   "cell_type": "code",
   "execution_count": null,
   "metadata": {
    "collapsed": false
   },
   "outputs": [],
   "source": [
    "print(np.eye(2)) #eye is the function that does this in Python\n",
    "print(\"A matrix:\\n\", my_first_matrix)\n",
    "print(\"A matrix times the identity matrix gives you the same matrix again:\\n\",my_first_matrix.dot(np.eye(2)))"
   ]
  },
  {
   "cell_type": "markdown",
   "metadata": {},
   "source": [
    "So, the reciprocal of some matrix A (lets call it `recipA`) is the matrix such that `A * recipA = I`.\n",
    "\n",
    "This matrix `recipA` can only exist for square matrices, and is called the **matrix inverse**.\n",
    "\n",
    "**Not all square matrices have inverses!**\n",
    "\n",
    "We can compute the inverse of a matrix (if it exists) by using `np.linalg.inv`: "
   ]
  },
  {
   "cell_type": "code",
   "execution_count": null,
   "metadata": {
    "collapsed": false
   },
   "outputs": [],
   "source": [
    "my_first_matrix_inverse = np.linalg.inv(my_first_matrix)\n",
    "print(\"A matrix:\\n\",my_first_matrix)\n",
    "print(\"Its inverse:\\n\", my_first_matrix_inverse)\n",
    "print(\"Matrix multiplied by its inverse:\\n\", my_first_matrix.dot(my_first_matrix_inverse))"
   ]
  },
  {
   "cell_type": "markdown",
   "metadata": {},
   "source": [
    "So, now that we see what matrix inversion is, we can go back to answering the question of how to do matrix division:\n",
    "\n",
    "* For any 2 matrices, A and B, for A/B to give an actual result, B must be square and have an inverse.\n",
    "* To get A/B, just compute A x invB"
   ]
  },
  {
   "cell_type": "code",
   "execution_count": null,
   "metadata": {
    "collapsed": false
   },
   "outputs": [],
   "source": [
    "print(\"First matrix:\\n\",my_first_matrix) #A\n",
    "print(\"Second matrix:\\n\",my_second_matrix) #B\n",
    "my_second_matrix_inverse = np.linalg.inv(my_second_matrix) #invB\n",
    "print(\"First divided by second:\\n\",my_first_matrix.dot(my_second_matrix_inverse)) #A x invB"
   ]
  },
  {
   "cell_type": "markdown",
   "metadata": {},
   "source": [
    "#### Matrix transpose"
   ]
  },
  {
   "cell_type": "markdown",
   "metadata": {},
   "source": [
    "To explain matrix transpose, let's take a matrix and a vector that we want to multiply together:\n",
    "\n",
    "A = \\begin{bmatrix}\n",
    "  10 & 2 \\\\\n",
    "  -1 & 5 \\\\\n",
    "  3 & 3\n",
    " \\end{bmatrix}\n",
    " \n",
    "B  = \\begin{bmatrix}\n",
    "  2 & 3 & 31\n",
    "  \\end{bmatrix}"
   ]
  },
  {
   "cell_type": "markdown",
   "metadata": {},
   "source": [
    "A is of shape (3,2) and B is of shape (1,3), so as the two objects stand, we can perform BxA, but AxB will throw a `ValueError`: "
   ]
  },
  {
   "cell_type": "code",
   "execution_count": null,
   "metadata": {
    "collapsed": false
   },
   "outputs": [],
   "source": [
    "A = np.array([[10,2],[-1,5],[3,3]])\n",
    "B = np.array([[2,3,31]])\n",
    "print(\"A:\\n\",A)\n",
    "print(\"B:\\n\",B)\n",
    "print(\"Shape of A and B: \",A.shape,B.shape)\n",
    "print(\"B x A:\\n\", B.dot(A))\n",
    "print(\"A x B:\", A.dot(B))"
   ]
  },
  {
   "cell_type": "markdown",
   "metadata": {},
   "source": [
    "How can we mupltiply A x B without throwing an error?\n",
    "\n",
    "We can take the transpose of A  and of B to make them both have the appropriate dimensions to allow the multiplication to work.\n",
    "\n",
    "The matrix transpose simply switches row and column indices for any matrix, such that the rows = the columns and the columns = the rows.\n",
    "\n",
    "A = \\begin{bmatrix}\n",
    "  10 & 2 \\\\\n",
    "  -1 & 5 \\\\\n",
    "  3 & 3\n",
    " \\end{bmatrix}\n",
    "\n",
    "transpose(A) = \\begin{bmatrix}\n",
    "  10 & -1 & 3 \\\\\n",
    "  2 & 5 & 3\n",
    " \\end{bmatrix}\n",
    " \n",
    "B  = \\begin{bmatrix}\n",
    "  2 & 3 & 31\n",
    "  \\end{bmatrix}\n",
    "\n",
    "transpose(B) = \\begin{bmatrix}\n",
    "  2 \\\\\n",
    "  3 \\\\\n",
    "  31\n",
    "  \\end{bmatrix}\n",
    " \n",
    " So, to get the proper multiplication to work where A is the first operand and B is the second operand, we can do transpose(A) x transpose(B):"
   ]
  },
  {
   "cell_type": "code",
   "execution_count": null,
   "metadata": {
    "collapsed": false
   },
   "outputs": [],
   "source": [
    "A = np.array([[10,2],[-1,5],[3,3]])\n",
    "B = np.array([[2,3,31]])\n",
    "print(\"A:\\n\",A,A.shape)\n",
    "print()\n",
    "print(\"B:\\n\",B,B.shape)\n",
    "print()\n",
    "print(\"A':\\n\",A.T, A.T.shape)\n",
    "print()\n",
    "print(\"B':\\n\",B.T, B.T.shape)\n",
    "print()\n",
    "print(\"A' x B':\\n\",A.T.dot(B.T),A.T.dot(B.T).shape)"
   ]
  },
  {
   "cell_type": "markdown",
   "metadata": {},
   "source": [
    "### Exercise Time\n",
    "\n",
    "I've dumped a whole crapload of linear algebra into here, so I want to get you to use some of it:\n",
    "* Create a 3x3 matrix C = [[12,3,4],[1,-1,10],[2,5,-2]] and a 3 x 1 vector d = [[3,-2,10]]\n",
    "* Does the inverse of C exist? What is it?\n",
    "* Mutiply C x d\n",
    "* Get d x C to work using transpose"
   ]
  },
  {
   "cell_type": "code",
   "execution_count": null,
   "metadata": {
    "collapsed": true
   },
   "outputs": [],
   "source": []
  }
 ],
 "metadata": {
  "anaconda-cloud": {},
  "kernelspec": {
   "display_name": "Python [Root]",
   "language": "python",
   "name": "Python [Root]"
  },
  "language_info": {
   "codemirror_mode": {
    "name": "ipython",
    "version": 2
   },
   "file_extension": ".py",
   "mimetype": "text/x-python",
   "name": "python",
   "nbconvert_exporter": "python",
   "pygments_lexer": "ipython2",
   "version": "2.7.12"
  }
 },
 "nbformat": 4,
 "nbformat_minor": 0
}
