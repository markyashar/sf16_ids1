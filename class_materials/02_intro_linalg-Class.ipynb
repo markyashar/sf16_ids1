{
 "cells": [
  {
   "cell_type": "markdown",
   "metadata": {},
   "source": [
    "## Class 2: Linear Algebra and Stats in Python\n",
    "### Agenda:\n",
    "* **An overview of how to work with matrices and vectors in Python (this notebook)**\n",
    "* **An overview of probabilities and probability distributions in Python (next notebook)**"
   ]
  },
  {
   "cell_type": "markdown",
   "metadata": {},
   "source": [
    "### Outline of this notebook\n",
    "* **scalars and scalar operations**\n",
    "* **vectors and vector operations**\n",
    "* **matrices and basic matrix operations**\n",
    "* **matrix inverse**\n",
    "* **matrix transpose**"
   ]
  },
  {
   "cell_type": "markdown",
   "metadata": {},
   "source": [
    "Ok, so last time we had a whirlwind tour of basic `Python`.\n",
    "\n",
    "Now we will have a brief tour of basic linear algebra in `Python` using the [NumPy library](http://www.numpy.org/). \n",
    "\n",
    "`NumPy` is a library (a collection of functions and datatypes) that extends the numerical capabilities of pure `Python` to work very quickly (and well) with matrices and vectors. `NumPy` is a core component of the [**`Python` scientific stack**](http://www.scipy.org/index.html), and we will be using it a lot as we proceed through the course."
   ]
  },
  {
   "cell_type": "markdown",
   "metadata": {},
   "source": [
    "Matrices and vectors are parts of the mathematical bedrock that data scientists rely on, on a daily basis. \n",
    "\n",
    "In order to succeed as a data scientist, we need to understand how to work, in a limited way, with matrices and vectors, so we will spend this portion of the class working with both kinds of objects. \n",
    "\n",
    "**Going forward, we will infrequently work with matrices and vectors directly, but it is nonetheless important to understand some of their basic properties to be productive as we progress through this course.**"
   ]
  },
  {
   "cell_type": "markdown",
   "metadata": {},
   "source": [
    "Now, some plumbing issues/explanations.\n",
    "\n",
    "In order to use `numpy` within a given `Python` program or script, we need to `import` it into our program's namespace. \n",
    "\n",
    "This is just a way of saying, in order for our `Python` code to rely on all of the cool `numpy` functionality, we need to tell our program to use it (it doesn't get baked into our program by default).\n",
    "\n",
    "So let's do that:"
   ]
  },
  {
   "cell_type": "code",
   "execution_count": 1,
   "metadata": {
    "collapsed": false
   },
   "outputs": [],
   "source": [
    "from __future__ import print_function, unicode_literals, division  # for converting between python 2 and 3\n",
    "import numpy as np   # numeric python\n",
    "import random\n",
    "from numpy import abs"
   ]
  },
  {
   "cell_type": "code",
   "execution_count": 3,
   "metadata": {
    "collapsed": false
   },
   "outputs": [
    {
     "data": {
      "text/plain": [
       "3"
      ]
     },
     "execution_count": 3,
     "metadata": {},
     "output_type": "execute_result"
    }
   ],
   "source": [
    "np.abs(-3)"
   ]
  },
  {
   "cell_type": "markdown",
   "metadata": {},
   "source": [
    "What we've done is told `Python` \"give me all the functionality of numpy, but whenever I call a numpy function, I don't want to say numpy.BLAH, instead, I want to say np.BLAH.\"\n",
    "\n",
    "Make sense?\n",
    "\n",
    "This is a **convention** in the `Python` world. Many packages that are used by developers and data scientists have conventional renamings, and I will attempt to use them throughout the course (If I know the convention :))."
   ]
  },
  {
   "cell_type": "markdown",
   "metadata": {},
   "source": [
    "### Scalars"
   ]
  },
  {
   "cell_type": "markdown",
   "metadata": {},
   "source": [
    "A scalar `NumPy` is just an individual number, just a mathy way of saying it. This is what we use when we add two numbers together, multiply them together, etc. You (intuitively) know what a scalar is:"
   ]
  },
  {
   "cell_type": "code",
   "execution_count": 4,
   "metadata": {
    "collapsed": false
   },
   "outputs": [
    {
     "name": "stdout",
     "output_type": "stream",
     "text": [
      "This is a scalar: 3.4\n"
     ]
    }
   ],
   "source": [
    "x = 3.4\n",
    "print(\"This is a scalar:\",x)"
   ]
  },
  {
   "cell_type": "markdown",
   "metadata": {},
   "source": [
    "There are lots of scalar types that `NumPy` recognizes. Here's the list of them:"
   ]
  },
  {
   "cell_type": "code",
   "execution_count": 5,
   "metadata": {
    "collapsed": false
   },
   "outputs": [
    {
     "data": {
      "text/plain": [
       "(int,\n",
       " float,\n",
       " complex,\n",
       " long,\n",
       " bool,\n",
       " str,\n",
       " unicode,\n",
       " buffer,\n",
       " numpy.uint8,\n",
       " numpy.int8,\n",
       " numpy.object_,\n",
       " numpy.complex64,\n",
       " numpy.float32,\n",
       " numpy.uint16,\n",
       " numpy.int16,\n",
       " numpy.bool_,\n",
       " numpy.complex128,\n",
       " numpy.float64,\n",
       " numpy.uint32,\n",
       " numpy.int32,\n",
       " numpy.string_,\n",
       " numpy.complex256,\n",
       " numpy.float128,\n",
       " numpy.uint64,\n",
       " numpy.int64,\n",
       " numpy.unicode_,\n",
       " numpy.datetime64,\n",
       " numpy.uint64,\n",
       " numpy.int64,\n",
       " numpy.void,\n",
       " numpy.timedelta64,\n",
       " numpy.float16)"
      ]
     },
     "execution_count": 5,
     "metadata": {},
     "output_type": "execute_result"
    }
   ],
   "source": [
    "np.ScalarType"
   ]
  },
  {
   "cell_type": "markdown",
   "metadata": {
    "collapsed": true
   },
   "source": [
    "### Vectors"
   ]
  },
  {
   "cell_type": "markdown",
   "metadata": {
    "collapsed": true
   },
   "source": [
    "Vectors are just arrays (lists) of scalars. They are created in a very specific way in `Numpy`, by using the function `array` and can either be created directly, or **cast** from a list:"
   ]
  },
  {
   "cell_type": "code",
   "execution_count": 6,
   "metadata": {
    "collapsed": false
   },
   "outputs": [
    {
     "name": "stdout",
     "output_type": "stream",
     "text": [
      "[ 1 20 34 12] <type 'numpy.ndarray'>\n"
     ]
    }
   ],
   "source": [
    "an_array = np.array([1,20,34,12])\n",
    "print(an_array,type(an_array))  # printing out the arrya object"
   ]
  },
  {
   "cell_type": "code",
   "execution_count": 7,
   "metadata": {
    "collapsed": false
   },
   "outputs": [
    {
     "name": "stdout",
     "output_type": "stream",
     "text": [
      "[ 30.    3.5  12. ] <type 'numpy.ndarray'>\n"
     ]
    }
   ],
   "source": [
    "my_list = [30,3.5,12]\n",
    "an_array_from_list = np.array(my_list)   # turning it into an array\n",
    "print(an_array_from_list, type(an_array_from_list))"
   ]
  },
  {
   "cell_type": "markdown",
   "metadata": {},
   "source": [
    "However, unlike lists in pure `Python`, `NumPy` arrays are very different, in that they **must have scalars of all the same type in them.** \n",
    "\n",
    "What's cool about `NumPy` is it automatically casts your lists into what it thinks is the most intuitive datatype for the array, given all of the values in it.\n",
    "\n",
    "So, if you have a list of `floats` and `ints`, you'll get a `NumPy` array that is all floats:"
   ]
  },
  {
   "cell_type": "code",
   "execution_count": 2,
   "metadata": {
    "collapsed": false
   },
   "outputs": [
    {
     "name": "stdout",
     "output_type": "stream",
     "text": [
      "[  1.    2.5  12. ] float64\n",
      "1.0 <type 'numpy.float64'>\n"
     ]
    }
   ],
   "source": [
    "my_float_and_int_list = [1,2.5,12]\n",
    "my_float_array = np.array(my_float_and_int_list)\n",
    "print(my_float_array, my_float_array.dtype)\n",
    "print(my_float_array[0], type(my_float_array[0])) #see?"
   ]
  },
  {
   "cell_type": "markdown",
   "metadata": {},
   "source": [
    "However, as I'd mentioned before, you don't want to mix `strings` and numbers together, as you'll get behavior you might not have wanted:"
   ]
  },
  {
   "cell_type": "code",
   "execution_count": 8,
   "metadata": {
    "collapsed": false
   },
   "outputs": [
    {
     "name": "stdout",
     "output_type": "stream",
     "text": [
      "[u'hello' u'12' u'15.8'] <U5\n",
      "12 <type 'numpy.unicode_'>\n"
     ]
    }
   ],
   "source": [
    "my_list_of_strings_and_ints = [\"hello\",12,\"15.8\"]\n",
    "my_string_array = np.array(my_list_of_strings_and_ints)\n",
    "print(my_string_array, my_string_array.dtype)\n",
    "print(my_string_array[1],type(my_string_array[1])) # 12 is now a string!"
   ]
  },
  {
   "cell_type": "markdown",
   "metadata": {},
   "source": [
    "When you have numeric 1-dimensional arrays (vectors, same thing). You can perform some cool math on them, like multiplying, dividing, adding to, subtracting from them by a scalar:"
   ]
  },
  {
   "cell_type": "code",
   "execution_count": 9,
   "metadata": {
    "collapsed": false
   },
   "outputs": [
    {
     "data": {
      "text/plain": [
       "[12, 46, 3.4, 12, 46, 3.4, 12, 46, 3.4]"
      ]
     },
     "execution_count": 9,
     "metadata": {},
     "output_type": "execute_result"
    }
   ],
   "source": [
    "[12,46,3.4]*3"
   ]
  },
  {
   "cell_type": "code",
   "execution_count": 10,
   "metadata": {
    "collapsed": false
   },
   "outputs": [
    {
     "name": "stdout",
     "output_type": "stream",
     "text": [
      "Original array:\t\t [ 12.   46.    3.4]\n",
      "Multiplied by 3:\t [  36.   138.    10.2]\n",
      "Divided by 3:\t\t [  4.          15.33333333   1.13333333]\n",
      "Subtracted 3 from:\t [  9.   43.    0.4]\n",
      "Added 3 to:\t\t [ 15.   49.    6.4]\n"
     ]
    }
   ],
   "source": [
    "my_array = np.array([12,46,3.4])\n",
    "print(\"Original array:\\t\\t\",my_array)\n",
    "my_mult_array = my_array * 3\n",
    "print(\"Multiplied by 3:\\t\",my_mult_array)\n",
    "my_div_array = my_array / 3\n",
    "print(\"Divided by 3:\\t\\t\",my_div_array)\n",
    "my_sub_array = my_array - 3\n",
    "print(\"Subtracted 3 from:\\t\",my_sub_array)\n",
    "my_add_array = my_array + 3\n",
    "print(\"Added 3 to:\\t\\t\",my_add_array)"
   ]
  },
  {
   "cell_type": "markdown",
   "metadata": {},
   "source": [
    "All `NumPy` arrays have a shape, which tells you its structure:"
   ]
  },
  {
   "cell_type": "code",
   "execution_count": 11,
   "metadata": {
    "collapsed": false
   },
   "outputs": [
    {
     "name": "stdout",
     "output_type": "stream",
     "text": [
      "my_array shape: (3,)\n"
     ]
    }
   ],
   "source": [
    "print(\"my_array shape:\",my_array.shape)  # it's 1-D here"
   ]
  },
  {
   "cell_type": "markdown",
   "metadata": {},
   "source": [
    "This means it is 1-dimensional (a vector)."
   ]
  },
  {
   "cell_type": "markdown",
   "metadata": {},
   "source": [
    "You can add/subtract/multiply/divide 2 vectors together, this will cause them to be multiplied/added/subtracted/divided one by one. However, **the two vectors must be exactly the same shape**:"
   ]
  },
  {
   "cell_type": "code",
   "execution_count": 12,
   "metadata": {
    "collapsed": false
   },
   "outputs": [
    {
     "name": "stdout",
     "output_type": "stream",
     "text": [
      "are the two vectors of the same shape? True\n",
      "Original vectors:\t [10 12 13] [ 1.   4.   3.5]\n",
      "Added:\t\t\t [ 11.   16.   16.5]\n",
      "Divided:\t\t [ 10.           3.           3.71428571]\n",
      "Multiplied:\t\t [ 10.   48.   45.5]\n",
      "Subtracted:\t\t [ 9.   8.   9.5]\n"
     ]
    }
   ],
   "source": [
    "my_first_vector = np.array([10,12,13])  # we do element-wise oprations here\n",
    "my_second_vector = np.array([1,4,3.5])\n",
    "print(\"are the two vectors of the same shape?\", my_first_vector.shape == my_second_vector.shape)\n",
    "#how you check for shape equality in Python\n",
    "print(\"Original vectors:\\t\",my_first_vector, my_second_vector)\n",
    "print(\"Added:\\t\\t\\t\",my_first_vector+my_second_vector)\n",
    "print(\"Divided:\\t\\t\",my_first_vector/my_second_vector)\n",
    "print(\"Multiplied:\\t\\t\",my_first_vector*my_second_vector)\n",
    "print(\"Subtracted:\\t\\t\",my_first_vector-my_second_vector)"
   ]
  },
  {
   "cell_type": "markdown",
   "metadata": {},
   "source": [
    "You can do other really cool things with arrays, like check each element in them for certain properties.\n",
    "\n",
    "Lets say we only wanted to see those entries that are greater than 10 in `my_array`.\n",
    "\n",
    "First, we want to find out which scalars in our array satisfy our condition (value > 10). Here's how we would do that:"
   ]
  },
  {
   "cell_type": "code",
   "execution_count": 13,
   "metadata": {
    "collapsed": false
   },
   "outputs": [
    {
     "name": "stdout",
     "output_type": "stream",
     "text": [
      "[ 12.   46.    3.4]\n"
     ]
    },
    {
     "data": {
      "text/plain": [
       "array([ True,  True, False], dtype=bool)"
      ]
     },
     "execution_count": 13,
     "metadata": {},
     "output_type": "execute_result"
    }
   ],
   "source": [
    "print(my_array)\n",
    "my_array > 10   # gives us a test of the condition (> 10)"
   ]
  },
  {
   "cell_type": "markdown",
   "metadata": {},
   "source": [
    "So checking for a condition gives us a new array that is of type `bool`.\n",
    "\n",
    "What we can then do is apply this same exact `boolean array` to our `original array` to get a new array that satisfies our condition:"
   ]
  },
  {
   "cell_type": "code",
   "execution_count": 14,
   "metadata": {
    "collapsed": false
   },
   "outputs": [
    {
     "name": "stdout",
     "output_type": "stream",
     "text": [
      "[ 12.  46.]\n"
     ]
    }
   ],
   "source": [
    "greater_than_10_array = my_array[my_array>10]    # uses an array of booleans and filters out the objects we don't want\n",
    "print(greater_than_10_array) #cool huh?"
   ]
  },
  {
   "cell_type": "markdown",
   "metadata": {},
   "source": [
    "Finally, vectors can be indexed (sliced) in the same way as lists in pure `Python`:"
   ]
  },
  {
   "cell_type": "code",
   "execution_count": 15,
   "metadata": {
    "collapsed": false
   },
   "outputs": [
    {
     "data": {
      "text/plain": [
       "array([ 46.])"
      ]
     },
     "execution_count": 15,
     "metadata": {},
     "output_type": "execute_result"
    }
   ],
   "source": [
    "my_array[1:-1]  # we start with object in the first position and not including the one in the end"
   ]
  },
  {
   "cell_type": "markdown",
   "metadata": {},
   "source": [
    "#### Exercise Time!!!\n",
    "* create a `NumPy array` called `heights` with the values [6.5,7.3,5.1,4.9]\n",
    "* multiply all of the heights by 4 and store that into a new variable called `huge_people`\n",
    "* create a new array `basketballers` with only those entries in heights that are > 6\n",
    "* create another array `little_people` with only those entries in heights that are < 5"
   ]
  },
  {
   "cell_type": "code",
   "execution_count": 15,
   "metadata": {
    "collapsed": false
   },
   "outputs": [
    {
     "name": "stdout",
     "output_type": "stream",
     "text": [
      "[ 26.   29.2  20.4  19.6]\n",
      "[ 26.   29.2]\n",
      "[ 6.5  7.3]\n",
      "[ 4.9]\n"
     ]
    }
   ],
   "source": [
    "heights=np.array([6.5,7.3,5.1,4.9])\n",
    "huge_people =4*heights\n",
    "basketballers=huge_people[heights > 6]\n",
    "basketballers2=heights[heights > 6]\n",
    "little_people=heights[heights < 5]\n",
    "print(huge_people)\n",
    "print(basketballers)\n",
    "print(basketballers2)\n",
    "print(little_people)"
   ]
  },
  {
   "cell_type": "markdown",
   "metadata": {},
   "source": [
    "### Matrices"
   ]
  },
  {
   "cell_type": "markdown",
   "metadata": {},
   "source": [
    "Now that we've talked about Vectors (1-d arrays), lets talk about Matrices, which are 2-dimensional vectors. They are a bit more complicated and have a lot more properties than vectors, but they are also infinitely more useful.\n",
    "\n",
    "Let's start. Here's a simple 2X2 matrix:"
   ]
  },
  {
   "cell_type": "code",
   "execution_count": 18,
   "metadata": {
    "collapsed": false
   },
   "outputs": [
    {
     "name": "stdout",
     "output_type": "stream",
     "text": [
      "[[20 12]\n",
      " [30  1]]\n"
     ]
    }
   ],
   "source": [
    "my_first_matrix = np.array([[20,12],[30,1]])   # a list of lists here\n",
    "print(my_first_matrix)"
   ]
  },
  {
   "cell_type": "markdown",
   "metadata": {},
   "source": [
    "Matrices with an equal number of rows and columns are called **square**.\n",
    "\n",
    "You can access rows, columns, or individual values in the matrix in a way very similar to how we would access elements or collections of elements in lists:"
   ]
  },
  {
   "cell_type": "code",
   "execution_count": 19,
   "metadata": {
    "collapsed": false
   },
   "outputs": [
    {
     "name": "stdout",
     "output_type": "stream",
     "text": [
      "First row of the matrix:\n",
      " [20 12] <type 'numpy.ndarray'>\n",
      "First column of the matrix:\n",
      " [20 30] <type 'numpy.ndarray'>\n",
      "Last element in last row of the matrix:\n",
      " 1 <type 'numpy.int64'>\n"
     ]
    }
   ],
   "source": [
    "print(\"First row of the matrix:\\n\", my_first_matrix[0,:], type(my_first_matrix[0,:]))\n",
    "print(\"First column of the matrix:\\n\", my_first_matrix[:,0], type(my_first_matrix[:,0]))\n",
    "print(\"Last element in last row of the matrix:\\n\", my_first_matrix[-1,-1], type(my_first_matrix[-1,-1]))"
   ]
  },
  {
   "cell_type": "markdown",
   "metadata": {},
   "source": [
    "Notice that when you select an individual element from a matrix, the `type` of the returned value is no longer an `ndarray` but rather an `int` (a special `int` type created in `NumPy`)."
   ]
  },
  {
   "cell_type": "markdown",
   "metadata": {
    "collapsed": false
   },
   "source": [
    "Matrices are a bit different from vectors and scalars in that **all mathematical operations that are common in vectors/scalars can actually be performed in 2 very different ways on matrices**, either with individual values (scalars) or by combining 2 matrices using those operations.\n",
    "\n",
    "To understand this, lets look at the two ways matrix addition/subtraction/division/multiplication can be performed."
   ]
  },
  {
   "cell_type": "markdown",
   "metadata": {},
   "source": [
    "#### Matrix addition/subtraction/division/multiplication with scalars"
   ]
  },
  {
   "cell_type": "code",
   "execution_count": 20,
   "metadata": {
    "collapsed": false
   },
   "outputs": [
    {
     "name": "stdout",
     "output_type": "stream",
     "text": [
      "Original matrix:\n",
      " [[20 12]\n",
      " [30  1]]\n",
      "Adding the value 5 to the matrix:\n",
      " [[25 17]\n",
      " [35  6]]\n",
      "Subtracting 20 from the matrix:\n",
      " [[  0  -8]\n",
      " [ 10 -19]]\n",
      "Dividing the matrix by 5:\n",
      " [[ 4.   2.4]\n",
      " [ 6.   0.2]]\n",
      "Multiplying the matrix by 20:\n",
      " [[400 240]\n",
      " [600  20]]\n"
     ]
    }
   ],
   "source": [
    "print(\"Original matrix:\\n\", my_first_matrix)\n",
    "scalar_addition_matrix = my_first_matrix + 5\n",
    "print(\"Adding the value 5 to the matrix:\\n\",scalar_addition_matrix)\n",
    "scalar_subtraction_matrix = my_first_matrix - 20\n",
    "print(\"Subtracting 20 from the matrix:\\n\", scalar_subtraction_matrix)\n",
    "scalar_division_matrix = my_first_matrix / 5\n",
    "print(\"Dividing the matrix by 5:\\n\",scalar_division_matrix)\n",
    "scalar_multiplication_matrix = my_first_matrix * 20\n",
    "print(\"Multiplying the matrix by 20:\\n\", scalar_multiplication_matrix)"
   ]
  },
  {
   "cell_type": "markdown",
   "metadata": {},
   "source": [
    "So, performing any operation with a matrix and a scalar causes the operation to be performed element-wise on the matrix. Lets move onto basic operations where both elements are matrices."
   ]
  },
  {
   "cell_type": "markdown",
   "metadata": {},
   "source": [
    "#### Matrix addition/subtraction with another matrix"
   ]
  },
  {
   "cell_type": "markdown",
   "metadata": {},
   "source": [
    "**When matrix addition and subtraction are performed with two matrices, both matrices must have the same exact shape:**"
   ]
  },
  {
   "cell_type": "code",
   "execution_count": 21,
   "metadata": {
    "collapsed": false
   },
   "outputs": [
    {
     "name": "stdout",
     "output_type": "stream",
     "text": [
      "[[20 12]\n",
      " [30  1]] (2, 2)\n",
      "[[1 3]\n",
      " [6 7]] (2, 2)\n",
      "Are my first and second matrices the same shape? True\n",
      "You can add and subtract matrices of the same shape:\n",
      " [[21 15]\n",
      " [36  8]] \n",
      "\n",
      "[[19  9]\n",
      " [24 -6]]\n"
     ]
    }
   ],
   "source": [
    "my_second_matrix = np.array([[1,3],[6,7]])\n",
    "my_third_matrix = np.array([[1,2,4],[1,3,5]])\n",
    "\n",
    "print(my_first_matrix,my_first_matrix.shape)\n",
    "print(my_second_matrix,my_second_matrix.shape)\n",
    "\n",
    "print(\"Are my first and second matrices the same shape?\",my_first_matrix.shape == my_second_matrix.shape)\n",
    "\n",
    "print(\"You can add and subtract matrices of the same shape:\\n\",my_first_matrix + my_second_matrix,\"\\n\")\n",
    "print(my_first_matrix - my_second_matrix)"
   ]
  },
  {
   "cell_type": "markdown",
   "metadata": {},
   "source": [
    "If you ever try to add/subtract 2 matrices of different shape, `Python` will throw a `ValueError`:"
   ]
  },
  {
   "cell_type": "code",
   "execution_count": 22,
   "metadata": {
    "collapsed": false
   },
   "outputs": [
    {
     "name": "stdout",
     "output_type": "stream",
     "text": [
      "But you can't do anything when the matrices have different shapes:\n",
      "[[20 12]\n",
      " [30  1]] (2, 2)\n",
      "[[1 2 4]\n",
      " [1 3 5]] (2, 3)\n",
      "Are my first and third matrices the same shape? False\n"
     ]
    },
    {
     "ename": "ValueError",
     "evalue": "operands could not be broadcast together with shapes (2,2) (2,3) ",
     "output_type": "error",
     "traceback": [
      "\u001b[0;31m---------------------------------------------------------------------------\u001b[0m",
      "\u001b[0;31mValueError\u001b[0m                                Traceback (most recent call last)",
      "\u001b[0;32m<ipython-input-22-cf70a9fb9fb7>\u001b[0m in \u001b[0;36m<module>\u001b[0;34m()\u001b[0m\n\u001b[1;32m      3\u001b[0m \u001b[0;32mprint\u001b[0m\u001b[0;34m(\u001b[0m\u001b[0mmy_third_matrix\u001b[0m\u001b[0;34m,\u001b[0m \u001b[0mmy_third_matrix\u001b[0m\u001b[0;34m.\u001b[0m\u001b[0mshape\u001b[0m\u001b[0;34m)\u001b[0m\u001b[0;34m\u001b[0m\u001b[0m\n\u001b[1;32m      4\u001b[0m \u001b[0;32mprint\u001b[0m\u001b[0;34m(\u001b[0m\u001b[0;34m\"Are my first and third matrices the same shape?\"\u001b[0m\u001b[0;34m,\u001b[0m\u001b[0mmy_first_matrix\u001b[0m\u001b[0;34m.\u001b[0m\u001b[0mshape\u001b[0m\u001b[0;34m==\u001b[0m\u001b[0mmy_third_matrix\u001b[0m\u001b[0;34m.\u001b[0m\u001b[0mshape\u001b[0m\u001b[0;34m)\u001b[0m\u001b[0;34m\u001b[0m\u001b[0m\n\u001b[0;32m----> 5\u001b[0;31m \u001b[0mmy_first_matrix\u001b[0m \u001b[0;34m+\u001b[0m \u001b[0mmy_third_matrix\u001b[0m\u001b[0;34m\u001b[0m\u001b[0m\n\u001b[0m",
      "\u001b[0;31mValueError\u001b[0m: operands could not be broadcast together with shapes (2,2) (2,3) "
     ]
    }
   ],
   "source": [
    "print(\"But you can't do anything when the matrices have different shapes:\")\n",
    "print(my_first_matrix, my_first_matrix.shape)\n",
    "print(my_third_matrix, my_third_matrix.shape)\n",
    "print(\"Are my first and third matrices the same shape?\",my_first_matrix.shape==my_third_matrix.shape)\n",
    "my_first_matrix + my_third_matrix"
   ]
  },
  {
   "cell_type": "markdown",
   "metadata": {},
   "source": [
    "#### Matrix multiplication with another matrix or a properly shaped vector"
   ]
  },
  {
   "cell_type": "markdown",
   "metadata": {},
   "source": [
    "Matrices can be multiplied either with other matrices or vectors. Both cases rely on the object you're multiplying with having an appropriate shape (but not necessarily the same shape as the first matrix!).\n",
    "\n",
    "In all talk of operations on matrices and vectors going forward, we will talk about the first matrix/vector as the **first operand** and the second matrix/vector as the **second operand**.\n",
    "\n",
    "**In order for multiplication of two matrices/vectors AxB to be defined, the number of columns in the first operand must equal the number of rows in the second operand. The resulting new matrix will have a number of rows equal to the number of rows in the first operand and the number of columns equal to the second operand.**\n",
    "\n",
    "To multiply matrices, we use a slightly different notation, calling the `dot` operator on a `NumPy` array:"
   ]
  },
  {
   "cell_type": "code",
   "execution_count": 23,
   "metadata": {
    "collapsed": false
   },
   "outputs": [
    {
     "name": "stdout",
     "output_type": "stream",
     "text": [
      "First matrix:\n",
      " [[20 12]\n",
      " [30  1]] (2, 2)\n",
      "Second matrix: \n",
      " [[1 3]\n",
      " [6 7]] (2, 2)\n",
      "Result of multiplying first x second:\n",
      " [[ 92 144]\n",
      " [ 36  97]] (2, 2)\n",
      "Result of multiplying second x first:\n",
      " [[110  15]\n",
      " [330  79]] (2, 2)\n"
     ]
    }
   ],
   "source": [
    "print(\"First matrix:\\n\",my_first_matrix, my_first_matrix.shape)\n",
    "print(\"Second matrix: \\n\", my_second_matrix, my_second_matrix.shape)\n",
    "print(\"Result of multiplying first x second:\\n\", my_first_matrix.dot(my_second_matrix),\n",
    "      my_first_matrix.dot(my_second_matrix).shape)\n",
    "print(\"Result of multiplying second x first:\\n\", my_second_matrix.dot(my_first_matrix),\n",
    "      my_second_matrix.dot(my_first_matrix).shape)"
   ]
  },
  {
   "cell_type": "markdown",
   "metadata": {},
   "source": [
    "**Notice that AxB is not the same as BxA when multiplying matrices!**\n",
    "Let's try the same thing with matrices of slightly different shape:"
   ]
  },
  {
   "cell_type": "code",
   "execution_count": 25,
   "metadata": {
    "collapsed": false
   },
   "outputs": [
    {
     "name": "stdout",
     "output_type": "stream",
     "text": [
      "First matrix:\n",
      " [[20 12]\n",
      " [30  1]] (2, 2)\n",
      "Other matrix:\n",
      " [[1 2 4]\n",
      " [1 3 5]] (2, 3)\n",
      "First x Other:\n",
      " [[ 32  76 140]\n",
      " [ 31  63 125]] (2, 3)\n"
     ]
    },
    {
     "ename": "ValueError",
     "evalue": "shapes (2,3) and (2,2) not aligned: 3 (dim 1) != 2 (dim 0)",
     "output_type": "error",
     "traceback": [
      "\u001b[0;31m---------------------------------------------------------------------------\u001b[0m",
      "\u001b[0;31mValueError\u001b[0m                                Traceback (most recent call last)",
      "\u001b[0;32m<ipython-input-25-160c906aec65>\u001b[0m in \u001b[0;36m<module>\u001b[0;34m()\u001b[0m\n\u001b[1;32m      2\u001b[0m \u001b[0;32mprint\u001b[0m\u001b[0;34m(\u001b[0m\u001b[0;34m\"Other matrix:\\n\"\u001b[0m\u001b[0;34m,\u001b[0m\u001b[0mmy_third_matrix\u001b[0m\u001b[0;34m,\u001b[0m\u001b[0mmy_third_matrix\u001b[0m\u001b[0;34m.\u001b[0m\u001b[0mshape\u001b[0m\u001b[0;34m)\u001b[0m\u001b[0;34m\u001b[0m\u001b[0m\n\u001b[1;32m      3\u001b[0m \u001b[0;32mprint\u001b[0m\u001b[0;34m(\u001b[0m\u001b[0;34m\"First x Other:\\n\"\u001b[0m\u001b[0;34m,\u001b[0m \u001b[0mmy_first_matrix\u001b[0m\u001b[0;34m.\u001b[0m\u001b[0mdot\u001b[0m\u001b[0;34m(\u001b[0m\u001b[0mmy_third_matrix\u001b[0m\u001b[0;34m)\u001b[0m\u001b[0;34m,\u001b[0m \u001b[0mmy_first_matrix\u001b[0m\u001b[0;34m.\u001b[0m\u001b[0mdot\u001b[0m\u001b[0;34m(\u001b[0m\u001b[0mmy_third_matrix\u001b[0m\u001b[0;34m)\u001b[0m\u001b[0;34m.\u001b[0m\u001b[0mshape\u001b[0m\u001b[0;34m)\u001b[0m\u001b[0;34m\u001b[0m\u001b[0m\n\u001b[0;32m----> 4\u001b[0;31m \u001b[0;32mprint\u001b[0m\u001b[0;34m(\u001b[0m\u001b[0;34m\"Other x First:\\n\"\u001b[0m\u001b[0;34m,\u001b[0m \u001b[0mmy_third_matrix\u001b[0m\u001b[0;34m.\u001b[0m\u001b[0mdot\u001b[0m\u001b[0;34m(\u001b[0m\u001b[0mmy_first_matrix\u001b[0m\u001b[0;34m)\u001b[0m\u001b[0;34m,\u001b[0m \u001b[0mmy_third_matrix\u001b[0m\u001b[0;34m.\u001b[0m\u001b[0mdot\u001b[0m\u001b[0;34m(\u001b[0m\u001b[0mmy_first_matrix\u001b[0m\u001b[0;34m)\u001b[0m\u001b[0;34m.\u001b[0m\u001b[0mshape\u001b[0m\u001b[0;34m)\u001b[0m\u001b[0;34m\u001b[0m\u001b[0m\n\u001b[0m",
      "\u001b[0;31mValueError\u001b[0m: shapes (2,3) and (2,2) not aligned: 3 (dim 1) != 2 (dim 0)"
     ]
    }
   ],
   "source": [
    "print(\"First matrix:\\n\",my_first_matrix,my_first_matrix.shape)\n",
    "print(\"Other matrix:\\n\",my_third_matrix,my_third_matrix.shape)\n",
    "print(\"First x Other:\\n\", my_first_matrix.dot(my_third_matrix), my_first_matrix.dot(my_third_matrix).shape)\n",
    "print(\"Other x First:\\n\", my_third_matrix.dot(my_first_matrix), my_third_matrix.dot(my_first_matrix).shape)"
   ]
  },
  {
   "cell_type": "markdown",
   "metadata": {},
   "source": [
    "Will multiplying Other x First work?"
   ]
  },
  {
   "cell_type": "markdown",
   "metadata": {},
   "source": [
    "Let's now try to multiply one of our matrices by a properly formed vector:"
   ]
  },
  {
   "cell_type": "code",
   "execution_count": 27,
   "metadata": {
    "collapsed": false
   },
   "outputs": [
    {
     "name": "stdout",
     "output_type": "stream",
     "text": [
      "A matrix:\n",
      " [[1 2 4]\n",
      " [1 3 5]] (2, 3)\n",
      "A vector:\n",
      " [10 12 13] (3,)\n",
      "matrix x vector: [ 86 111] (2,)\n"
     ]
    }
   ],
   "source": [
    "print(\"A matrix:\\n\", my_third_matrix,my_third_matrix.shape)\n",
    "print(\"A vector:\\n\", my_first_vector, my_first_vector.shape)\n",
    "print(\"matrix x vector:\", my_third_matrix.dot(my_first_vector)\n",
    "      ,my_third_matrix.dot(my_first_vector).shape)"
   ]
  },
  {
   "cell_type": "code",
   "execution_count": 28,
   "metadata": {
    "collapsed": false
   },
   "outputs": [
    {
     "data": {
      "text/plain": [
       "array([ 86, 111])"
      ]
     },
     "execution_count": 28,
     "metadata": {},
     "output_type": "execute_result"
    }
   ],
   "source": [
    "my_third_matrix.dot(my_first_vector)"
   ]
  },
  {
   "cell_type": "markdown",
   "metadata": {},
   "source": [
    "#### Matrix division by another matrix (matrix inverse)"
   ]
  },
  {
   "cell_type": "markdown",
   "metadata": {},
   "source": [
    "In order to talk about matrix division, we must first introduce the concept of a matrix inverse, because matrix division can't exist without it.\n",
    "\n",
    "Remember from common math that dividing a number X by a number Y (X/Y) is the exact same thing as (X * 1/Y), or taking the reciprocal of Y and multiplying by that number. \n",
    "\n",
    "Also remember that a number multiplied by its reciprocal gives you 1 (Y * 1/Y = 1).\n",
    "\n",
    "For matrices, we have to do the same exact thing (take the reciprocal), and we also have to identify the matrix version of the number 1.\n",
    "\n",
    "So, how do we do Y * 1/Y = 1 for matrices? \n",
    "\n",
    "Let's first talk about the concept of the number 1 in matrix notation. This is called the identity matrix (we call this matrix I by convention in linear algebra). Here's the 2x2 version of the identity matrix:"
   ]
  },
  {
   "cell_type": "code",
   "execution_count": 29,
   "metadata": {
    "collapsed": false
   },
   "outputs": [
    {
     "name": "stdout",
     "output_type": "stream",
     "text": [
      "[[ 1.  0.]\n",
      " [ 0.  1.]]\n",
      "A matrix:\n",
      " [[20 12]\n",
      " [30  1]]\n",
      "A matrix times the identity matrix gives you the same matrix again:\n",
      " [[ 20.  12.]\n",
      " [ 30.   1.]]\n"
     ]
    }
   ],
   "source": [
    "print(np.eye(2)) #eye is the function that does this in Python\n",
    "print(\"A matrix:\\n\", my_first_matrix)\n",
    "print(\"A matrix times the identity matrix gives you the same matrix again:\\n\",my_first_matrix.dot(np.eye(2)))"
   ]
  },
  {
   "cell_type": "markdown",
   "metadata": {},
   "source": [
    "So, the reciprocal of some matrix A (lets call it `recipA`) is the matrix such that `A * recipA = I`.\n",
    "\n",
    "This matrix `recipA` can only exist for square matrices, and is called the **matrix inverse**.\n",
    "\n",
    "**Not all square matrices have inverses!**\n",
    "\n",
    "We can compute the inverse of a matrix (if it exists) by using `np.linalg.inv`: "
   ]
  },
  {
   "cell_type": "code",
   "execution_count": 30,
   "metadata": {
    "collapsed": false
   },
   "outputs": [
    {
     "name": "stdout",
     "output_type": "stream",
     "text": [
      "A matrix:\n",
      " [[20 12]\n",
      " [30  1]]\n",
      "Its inverse:\n",
      " [[-0.00294118  0.03529412]\n",
      " [ 0.08823529 -0.05882353]]\n",
      "Matrix multiplied by its inverse:\n",
      " [[ 1.  0.]\n",
      " [ 0.  1.]]\n"
     ]
    }
   ],
   "source": [
    "my_first_matrix_inverse = np.linalg.inv(my_first_matrix)\n",
    "print(\"A matrix:\\n\",my_first_matrix)\n",
    "print(\"Its inverse:\\n\", my_first_matrix_inverse)\n",
    "print(\"Matrix multiplied by its inverse:\\n\", my_first_matrix.dot(my_first_matrix_inverse))"
   ]
  },
  {
   "cell_type": "markdown",
   "metadata": {},
   "source": [
    "So, now that we see what matrix inversion is, we can go back to answering the question of how to do matrix division:\n",
    "\n",
    "* For any 2 matrices, A and B, for A/B to give an actual result, B must be square and have an inverse.\n",
    "* To get A/B, just compute A x invB"
   ]
  },
  {
   "cell_type": "code",
   "execution_count": 31,
   "metadata": {
    "collapsed": false
   },
   "outputs": [
    {
     "name": "stdout",
     "output_type": "stream",
     "text": [
      "First matrix:\n",
      " [[20 12]\n",
      " [30  1]]\n",
      "Second matrix:\n",
      " [[1 3]\n",
      " [6 7]]\n",
      "First divided by second:\n",
      " [[ -6.18181818   4.36363636]\n",
      " [-18.54545455   8.09090909]]\n"
     ]
    }
   ],
   "source": [
    "print(\"First matrix:\\n\",my_first_matrix) #A\n",
    "print(\"Second matrix:\\n\",my_second_matrix) #B\n",
    "my_second_matrix_inverse = np.linalg.inv(my_second_matrix) #invB\n",
    "print(\"First divided by second:\\n\",my_first_matrix.dot(my_second_matrix_inverse)) #A x invB"
   ]
  },
  {
   "cell_type": "markdown",
   "metadata": {},
   "source": [
    "#### Matrix transpose"
   ]
  },
  {
   "cell_type": "markdown",
   "metadata": {},
   "source": [
    "To explain matrix transpose, let's take a matrix and a vector that we want to multiply together:\n",
    "\n",
    "A = \\begin{bmatrix}\n",
    "  10 & 2 \\\\\n",
    "  -1 & 5 \\\\\n",
    "  3 & 3\n",
    " \\end{bmatrix}\n",
    " \n",
    "B  = \\begin{bmatrix}\n",
    "  2 & 3 & 31\n",
    "  \\end{bmatrix}"
   ]
  },
  {
   "cell_type": "markdown",
   "metadata": {},
   "source": [
    "A is of shape (3,2) and B is of shape (1,3), so as the two objects stand, we can perform BxA, but AxB will throw a `ValueError`: "
   ]
  },
  {
   "cell_type": "code",
   "execution_count": 32,
   "metadata": {
    "collapsed": false
   },
   "outputs": [
    {
     "name": "stdout",
     "output_type": "stream",
     "text": [
      "A:\n",
      " [[10  2]\n",
      " [-1  5]\n",
      " [ 3  3]]\n",
      "B:\n",
      " [[ 2  3 31]]\n",
      "Shape of A and B:  (3, 2) (1, 3)\n",
      "B x A:\n",
      " [[110 112]]\n"
     ]
    },
    {
     "ename": "ValueError",
     "evalue": "shapes (3,2) and (1,3) not aligned: 2 (dim 1) != 1 (dim 0)",
     "output_type": "error",
     "traceback": [
      "\u001b[0;31m---------------------------------------------------------------------------\u001b[0m",
      "\u001b[0;31mValueError\u001b[0m                                Traceback (most recent call last)",
      "\u001b[0;32m<ipython-input-32-b9cd1ce6d966>\u001b[0m in \u001b[0;36m<module>\u001b[0;34m()\u001b[0m\n\u001b[1;32m      5\u001b[0m \u001b[0;32mprint\u001b[0m\u001b[0;34m(\u001b[0m\u001b[0;34m\"Shape of A and B: \"\u001b[0m\u001b[0;34m,\u001b[0m\u001b[0mA\u001b[0m\u001b[0;34m.\u001b[0m\u001b[0mshape\u001b[0m\u001b[0;34m,\u001b[0m\u001b[0mB\u001b[0m\u001b[0;34m.\u001b[0m\u001b[0mshape\u001b[0m\u001b[0;34m)\u001b[0m\u001b[0;34m\u001b[0m\u001b[0m\n\u001b[1;32m      6\u001b[0m \u001b[0;32mprint\u001b[0m\u001b[0;34m(\u001b[0m\u001b[0;34m\"B x A:\\n\"\u001b[0m\u001b[0;34m,\u001b[0m \u001b[0mB\u001b[0m\u001b[0;34m.\u001b[0m\u001b[0mdot\u001b[0m\u001b[0;34m(\u001b[0m\u001b[0mA\u001b[0m\u001b[0;34m)\u001b[0m\u001b[0;34m)\u001b[0m\u001b[0;34m\u001b[0m\u001b[0m\n\u001b[0;32m----> 7\u001b[0;31m \u001b[0;32mprint\u001b[0m\u001b[0;34m(\u001b[0m\u001b[0;34m\"A x B:\"\u001b[0m\u001b[0;34m,\u001b[0m \u001b[0mA\u001b[0m\u001b[0;34m.\u001b[0m\u001b[0mdot\u001b[0m\u001b[0;34m(\u001b[0m\u001b[0mB\u001b[0m\u001b[0;34m)\u001b[0m\u001b[0;34m)\u001b[0m\u001b[0;34m\u001b[0m\u001b[0m\n\u001b[0m",
      "\u001b[0;31mValueError\u001b[0m: shapes (3,2) and (1,3) not aligned: 2 (dim 1) != 1 (dim 0)"
     ]
    }
   ],
   "source": [
    "A = np.array([[10,2],[-1,5],[3,3]])\n",
    "B = np.array([[2,3,31]])\n",
    "print(\"A:\\n\",A)\n",
    "print(\"B:\\n\",B)\n",
    "print(\"Shape of A and B: \",A.shape,B.shape)\n",
    "print(\"B x A:\\n\", B.dot(A))\n",
    "print(\"A x B:\", A.dot(B))"
   ]
  },
  {
   "cell_type": "markdown",
   "metadata": {},
   "source": [
    "How can we mupltiply A x B without throwing an error?\n",
    "\n",
    "We can take the transpose of A  and of B to make them both have the appropriate dimensions to allow the multiplication to work.\n",
    "\n",
    "The matrix transpose simply switches row and column indices for any matrix, such that the rows = the columns and the columns = the rows.\n",
    "\n",
    "A = \\begin{bmatrix}\n",
    "  10 & 2 \\\\\n",
    "  -1 & 5 \\\\\n",
    "  3 & 3\n",
    " \\end{bmatrix}\n",
    "\n",
    "transpose(A) = \\begin{bmatrix}\n",
    "  10 & -1 & 3 \\\\\n",
    "  2 & 5 & 3\n",
    " \\end{bmatrix}\n",
    " \n",
    "B  = \\begin{bmatrix}\n",
    "  2 & 3 & 31\n",
    "  \\end{bmatrix}\n",
    "\n",
    "transpose(B) = \\begin{bmatrix}\n",
    "  2 \\\\\n",
    "  3 \\\\\n",
    "  31\n",
    "  \\end{bmatrix}\n",
    " \n",
    " So, to get the proper multiplication to work where A is the first operand and B is the second operand, we can do transpose(A) x transpose(B):"
   ]
  },
  {
   "cell_type": "code",
   "execution_count": 33,
   "metadata": {
    "collapsed": false
   },
   "outputs": [
    {
     "name": "stdout",
     "output_type": "stream",
     "text": [
      "A:\n",
      " [[10  2]\n",
      " [-1  5]\n",
      " [ 3  3]] (3, 2)\n",
      "\n",
      "B:\n",
      " [[ 2  3 31]] (1, 3)\n",
      "\n",
      "A':\n",
      " [[10 -1  3]\n",
      " [ 2  5  3]] (2, 3)\n",
      "\n",
      "B':\n",
      " [[ 2]\n",
      " [ 3]\n",
      " [31]] (3, 1)\n",
      "\n",
      "A' x B':\n",
      " [[110]\n",
      " [112]] (2, 1)\n"
     ]
    }
   ],
   "source": [
    "A = np.array([[10,2],[-1,5],[3,3]])\n",
    "B = np.array([[2,3,31]])\n",
    "print(\"A:\\n\",A,A.shape)\n",
    "print()\n",
    "print(\"B:\\n\",B,B.shape)\n",
    "print()\n",
    "print(\"A':\\n\",A.T, A.T.shape)\n",
    "print()\n",
    "print(\"B':\\n\",B.T, B.T.shape)\n",
    "print()\n",
    "print(\"A' x B':\\n\",A.T.dot(B.T),A.T.dot(B.T).shape)"
   ]
  },
  {
   "cell_type": "markdown",
   "metadata": {},
   "source": [
    "### Exercise Time\n",
    "\n",
    "I've dumped a whole crapload of linear algebra into here, so I want to get you to use some of it:\n",
    "* Create a 3x3 matrix C = [[12,3,4],[1,-1,10],[2,5,-2]] and a 3 x 1 vector d = [[3,-2,10]]\n",
    "* Does the inverse of C exist? What is it?\n",
    "* Mutiply C x d\n",
    "* Get d x C to work using transpose"
   ]
  },
  {
   "cell_type": "code",
   "execution_count": 37,
   "metadata": {
    "collapsed": false
   },
   "outputs": [
    {
     "name": "stdout",
     "output_type": "stream",
     "text": [
      "[[12  3  4]\n",
      " [ 1 -1 10]\n",
      " [ 2  5 -2]] (3, 3)\n",
      "\n",
      "[[  3  -2 -10]] (1, 3)\n",
      "\n",
      "Yes, C has an inverse. The inverse of C is:\n",
      " [[ 0.09958506 -0.05394191 -0.07053942]\n",
      " [-0.04564315  0.06639004  0.2406639 ]\n",
      " [-0.01452282  0.1120332   0.03112033]]\n",
      "\n",
      "C':\n",
      " [[12  1  2]\n",
      " [ 3 -1  5]\n",
      " [ 4 10 -2]] (3, 3)\n",
      "\n",
      "d':\n",
      " [[  3]\n",
      " [ -2]\n",
      " [-10]] (3, 1)\n",
      "\n",
      "C' x d':\n",
      " [[ 14]\n",
      " [-39]\n",
      " [ 12]] (3, 1)\n"
     ]
    }
   ],
   "source": [
    "C = np.array([[12,3,4],[1,-1,10],[2,5,-2]])\n",
    "d = np.array([[3,-2,-10]])\n",
    "print(C, C.shape)\n",
    "print()\n",
    "print(d, d.shape)\n",
    "print()\n",
    "C_inverse = np.linalg.inv(C)\n",
    "print(\"Yes, C has an inverse. The inverse of C is:\\n\", C_inverse)\n",
    "# print (\"C x d:\", C.dot(d))  # This gives \"ValueError: shapes (3,3) and (1,3) not aligned: 3 (dim 1) != 1 (dim 0)\"\n",
    "print()\n",
    "print(\"C':\\n\", C.T, C.T.shape)\n",
    "print()\n",
    "print(\"d':\\n\", d.T, d.T.shape)\n",
    "print ()\n",
    "print(\"C' x d':\\n\", C.T.dot(d.T), C.T.dot(d.T).shape) \n",
    "\n",
    "# print(\"d' x C':\\n\", d.T.dot(C.T), d.T.dot(C.T).shape)  # This gives: \"ValueError: shapes (3,1) and (3,3) \n",
    "#                                                          not aligned: 1 (dim 1) != 3 (dim 0)\""
   ]
  },
  {
   "cell_type": "code",
   "execution_count": null,
   "metadata": {
    "collapsed": true
   },
   "outputs": [],
   "source": []
  }
 ],
 "metadata": {
  "anaconda-cloud": {},
  "kernelspec": {
   "display_name": "Python [Root]",
   "language": "python",
   "name": "Python [Root]"
  },
  "language_info": {
   "codemirror_mode": {
    "name": "ipython",
    "version": 2
   },
   "file_extension": ".py",
   "mimetype": "text/x-python",
   "name": "python",
   "nbconvert_exporter": "python",
   "pygments_lexer": "ipython2",
   "version": "2.7.12"
  }
 },
 "nbformat": 4,
 "nbformat_minor": 0
}
