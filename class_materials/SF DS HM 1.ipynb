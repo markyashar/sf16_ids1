{
 "cells": [
  {
   "cell_type": "markdown",
   "metadata": {},
   "source": [
    "## You will be using NYC taxi ride data. There are two files located in the `data/nycTaxiData/` folder: `trip_fare_500k.csv` and `trip_data_500k.csv`.\n",
    "\n",
    "The answers will be posted 9/27 after class.\n",
    "\n",
    "`trip_fare_500k.csv` file found in the `data/nycTaxiData/` folder. \n",
    "This dataset contains a fairly large number of distinct trips taken in cabs in the NYC area in 2013 (500 thousand of them, to be exact!).\n",
    "\n",
    "The dataset contains the following information at the top of the file (this is called the header):\n",
    "\n",
    "* `medallion`: The ID of the cab being operated\n",
    "* `hack_license`: The ID of the person operating the cab\n",
    "* `vendor_id`: The type of vendor operating the cab, can either be `CMT` or `VTS`, no clue what these two types mean\n",
    "* `pickup_datetime`: The time when the ride started\n",
    "* `payment_type`: How the trip was paid, `UNK` stands for unknown, I have no idea what `NOC` stands for, but lets assume its some known way to pay\n",
    "* `fare_amount`: Base fare cost of the trip\n",
    "* `surcharge`: Additional charges that are not tolls\n",
    "* `mta_tax`: The mta has to get its cut, right? :)\n",
    "* `tip_amount`: How generous the rider(s) decided to be\n",
    "* `tolls_amount`: How much money you had to pay in tolls\n",
    "* `total_amount`: How much the trip cost.\n",
    "\n",
    "Here are the columns of the trip dataset, found in `trip_data_500k.csv`:\n",
    "\n",
    "* `medallion`: The ID of the cab being operated\n",
    "* `hack_license`: The ID of the person operating the cab\n",
    "* `vendor_id`: The type of vendor operating the cab, can either be `CMT` or `VTS`, no clue what these two types mean\n",
    "* `rate_code`: Designates the kind of ride this is, must be `1` through `6`, any other number is incorrect\n",
    "* `store_and_fwd_flag`: Can be either `Y`,`N`, or Nan\n",
    "* `pickup_datetime`: The time when the ride started\n",
    "* `dropoff_datetime`: The time when the ride ended\n",
    "* `passenger_count`: The number of passengers during the ride\n",
    "* `trip_time_in_secs`: How long the trip took\n",
    "* `trip_distance`: Distance of the trip, to the nearest 1/10 mile\n",
    "* `pickup_longitude`: Longitude of pickup location\n",
    "* `pickup_latitude`: Latitude of pickup location\n",
    "* `dropoff_longitude`: Longitude of dropoff location\n",
    "* `dropoff_latitude`: Latitude of dropoff location"
   ]
  },
  {
   "cell_type": "markdown",
   "metadata": {},
   "source": [
    "First step - make your own copy of the notebook.\n",
    "\n",
    "Use the rest of this notebook to work through all these questions. \n",
    "\n",
    "If you can tackle all of these questions, then you've learned a lot already! \n",
    "\n",
    "For tips and commands, see the pandas class notebooks or https://github.com/guipsamora/pandas_exercises.\n",
    "\n",
    "If not, don't worry, this stuff is hard and T.J. and Ramesh will gladly help/guide you through all of this. Contact us through Slack with any questions.\n",
    "\n",
    "But take charge of your learning! This means:\n",
    "\n",
    "* Ask a classmate\n",
    "to help if you don't understand something. \n",
    "* If your neighbor can't help you, try using:\n",
    "  * [pandas documentation](http://pandas.pydata.org/pandas-docs/stable/index.html)\n",
    "  * [google](http://www.google.com)\n",
    "  * [stackoverflow](http://stackoverflow.com) to see if someone in the internet ether has had a similar problem before\n",
    "  * if none of this works, then I will gladly help you\n",
    "* This will accomplish at least two things:\n",
    "  * It will get you to use online resources and take charge of your learning\n",
    "  * Get you to learn alternative approaches"
   ]
  },
  {
   "cell_type": "markdown",
   "metadata": {},
   "source": [
    "I've started the bare-bones script for you by:\n",
    "\n",
    "* importing what you will need.\n",
    "* loading the two datasets into `DataFrame` objects (you might need to change the path to where the file is located on your system).\n",
    "* formatting the timestamp for you so that you don't have to figure out how to do it, because spending 30+ minutes  (or more) trying to figure it out is not the point of the assignment. This way, all of the functions in `fareData.pickup_datetime.dt` can immediately be used on the `pickup_datetime` column your dataset.\n",
    "\n",
    "The rest I leave to you. Happy hacking!"
   ]
  },
  {
   "cell_type": "code",
   "execution_count": 7,
   "metadata": {
    "collapsed": true
   },
   "outputs": [],
   "source": [
    "from __future__ import print_function, unicode_literals, division\n",
    "import pandas as pd\n",
    "import numpy as np"
   ]
  },
  {
   "cell_type": "markdown",
   "metadata": {},
   "source": [
    "## Let's start with the fare data:"
   ]
  },
  {
   "cell_type": "code",
   "execution_count": 2,
   "metadata": {
    "collapsed": false
   },
   "outputs": [
    {
     "data": {
      "text/plain": [
       "medallion                  object\n",
       "hack_license               object\n",
       "vendor_id                  object\n",
       "pickup_datetime    datetime64[ns]\n",
       "payment_type               object\n",
       "fare_amount               float64\n",
       "surcharge                 float64\n",
       "mta_tax                   float64\n",
       "tip_amount                float64\n",
       "tolls_amount              float64\n",
       "total_amount              float64\n",
       "dtype: object"
      ]
     },
     "execution_count": 2,
     "metadata": {},
     "output_type": "execute_result"
    }
   ],
   "source": [
    "fareData = pd.read_csv(\"../data/nycTaxiData/trip_fare_500k.csv\")\n",
    "fareData.pickup_datetime = pd.to_datetime(fareData.pickup_datetime,format=\"%Y-%m-%d %H:%M:%S\")\n",
    "fareData.dtypes #this is to confirm that the pickup_datetime column, as well as all of the other\n",
    "# columns, are in the appropriate formats (pickup_datetime should be in datetime64 format)\n",
    "# if it isn't something is wrong, and we need to figure what that is"
   ]
  },
  {
   "cell_type": "markdown",
   "metadata": {},
   "source": [
    "<b>Are there any missing data (null-values)?"
   ]
  },
  {
   "cell_type": "code",
   "execution_count": null,
   "metadata": {
    "collapsed": true
   },
   "outputs": [],
   "source": []
  },
  {
   "cell_type": "markdown",
   "metadata": {},
   "source": [
    "<b>What was the most expensive/least expensive trip taken?</b>"
   ]
  },
  {
   "cell_type": "code",
   "execution_count": null,
   "metadata": {
    "collapsed": true
   },
   "outputs": [],
   "source": []
  },
  {
   "cell_type": "markdown",
   "metadata": {},
   "source": [
    "<b>How does the overall `total_amount` paid per ride correlate with `tip_amount` per ride?</b>"
   ]
  },
  {
   "cell_type": "code",
   "execution_count": null,
   "metadata": {
    "collapsed": true
   },
   "outputs": [],
   "source": []
  },
  {
   "cell_type": "markdown",
   "metadata": {},
   "source": [
    "<b>How do they correlate for only rides with cash `payment_type`?<b>"
   ]
  },
  {
   "cell_type": "code",
   "execution_count": null,
   "metadata": {
    "collapsed": true
   },
   "outputs": [],
   "source": []
  },
  {
   "cell_type": "markdown",
   "metadata": {},
   "source": [
    "<b>Calculate the average cost of a trip in this dataset given the following conditions:</b>\n",
    "  1. Across the whole dataset\n",
    "  2. Across the whole dataset when the `payment_type` is known (not `UNK`)\n",
    "  3. For each `payment_type`. You can totally do this 1 by 1, but try to do this in a for loop.\n",
    "  4. Which `payment_type` had the highest average cost?\n",
    "  5. Which `payment_type` had the largest spread in how much people paid (largest standard deviation)?\n",
    "  6. Which `payment_type` had the most generous people (had the highest average tip), including unknown payment types?\n",
    "  7. What hour in the day were people most generous, on average, when they got into a cab?\n",
    "  8. What hour of the day did people fluctuate the most in terms of tips? That is, do some hours lead to unpredictable tip amounts? "
   ]
  },
  {
   "cell_type": "code",
   "execution_count": null,
   "metadata": {
    "collapsed": true
   },
   "outputs": [],
   "source": []
  },
  {
   "cell_type": "markdown",
   "metadata": {},
   "source": [
    "<b>Which person (`hack_license`) made the most money:</b>\n",
    "  1. In total\n",
    "  2. On a per-trip basis, given that they took at least 20 trips"
   ]
  },
  {
   "cell_type": "code",
   "execution_count": null,
   "metadata": {
    "collapsed": true
   },
   "outputs": [],
   "source": []
  },
  {
   "cell_type": "markdown",
   "metadata": {},
   "source": [
    "<b>Does the number of trips a given cabbie takes (her/his experience) correlate with how well she/he is tipped? If so, in what direction</b>"
   ]
  },
  {
   "cell_type": "code",
   "execution_count": null,
   "metadata": {
    "collapsed": false
   },
   "outputs": [],
   "source": []
  },
  {
   "cell_type": "markdown",
   "metadata": {},
   "source": [
    "<b>Does the number of times a given cab is used correlate with how well the person driving the cab is tipped? That is, are there \"lucky\" cabs?</b>"
   ]
  },
  {
   "cell_type": "code",
   "execution_count": null,
   "metadata": {
    "collapsed": true
   },
   "outputs": [],
   "source": []
  },
  {
   "cell_type": "markdown",
   "metadata": {},
   "source": [
    "<b>Which `vendor_id` had the higher average `surcharge` on a per-hour basis?</b>\n"
   ]
  },
  {
   "cell_type": "code",
   "execution_count": null,
   "metadata": {
    "collapsed": true
   },
   "outputs": [],
   "source": []
  },
  {
   "cell_type": "markdown",
   "metadata": {},
   "source": [
    "<b>Which hour in the day: </b>\n",
    "  1. Did people most frequently take rides?\n",
    "  2. Did people least frequently take rides?\n",
    "  3. Had the largest number of unique cabs on the street?\n",
    "  4. Had the least number of cabs in the street?\n",
    "  5. What is the average number of cabs on the streets in NYC in each quarter of the day (at least in this dataset?)?"
   ]
  },
  {
   "cell_type": "code",
   "execution_count": null,
   "metadata": {
    "collapsed": true
   },
   "outputs": [],
   "source": []
  },
  {
   "cell_type": "markdown",
   "metadata": {},
   "source": [
    "<b>Read in the trip data file - `trip_data_500k.csv`. Join the trip data and fare data datasets together. You will need to join the datasets on more than one column, but you will have to figure out what those columns are!</b>"
   ]
  },
  {
   "cell_type": "code",
   "execution_count": null,
   "metadata": {
    "collapsed": true
   },
   "outputs": [],
   "source": []
  },
  {
   "cell_type": "markdown",
   "metadata": {},
   "source": [
    "<b>Which driver (`hack_license`) carried the most passengers, on average?</b>"
   ]
  },
  {
   "cell_type": "code",
   "execution_count": null,
   "metadata": {
    "collapsed": true
   },
   "outputs": [],
   "source": []
  },
  {
   "cell_type": "markdown",
   "metadata": {},
   "source": [
    "<b>How does the number of passengers correlate with the tip amount?</b>"
   ]
  },
  {
   "cell_type": "code",
   "execution_count": null,
   "metadata": {
    "collapsed": true
   },
   "outputs": [],
   "source": []
  }
 ],
 "metadata": {
  "kernelspec": {
   "display_name": "Python [Root]",
   "language": "python",
   "name": "Python [Root]"
  },
  "language_info": {
   "codemirror_mode": {
    "name": "ipython",
    "version": 2
   },
   "file_extension": ".py",
   "mimetype": "text/x-python",
   "name": "python",
   "nbconvert_exporter": "python",
   "pygments_lexer": "ipython2",
   "version": "2.7.12"
  }
 },
 "nbformat": 4,
 "nbformat_minor": 0
}
