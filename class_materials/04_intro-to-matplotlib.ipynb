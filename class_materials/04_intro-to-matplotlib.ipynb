{
 "cells": [
  {
   "cell_type": "code",
   "execution_count": null,
   "metadata": {
    "collapsed": true,
    "scrolled": true
   },
   "outputs": [],
   "source": [
    "# For compatibility between Python 2 and Python 3\n",
    "from __future__ import print_function"
   ]
  },
  {
   "cell_type": "code",
   "execution_count": null,
   "metadata": {
    "collapsed": false,
    "scrolled": true
   },
   "outputs": [],
   "source": [
    "import numpy as np\n",
    "import matplotlib.pyplot as plt\n",
    "\n",
    "\n",
    "# To Plot matplotlib figures inline on the notebook\n",
    "%matplotlib inline"
   ]
  },
  {
   "cell_type": "code",
   "execution_count": null,
   "metadata": {
    "collapsed": false
   },
   "outputs": [],
   "source": [
    "# Verify our versions\n",
    "import matplotlib\n",
    "import sys\n",
    "\n",
    "print(\"Python Version:\", sys.version)\n",
    "print(\"Numpy Version:\", np.__version__)\n",
    "print(\"MatPlotLib Version:\", matplotlib.__version__)"
   ]
  },
  {
   "cell_type": "markdown",
   "metadata": {},
   "source": [
    "# Line plots\n",
    "\n",
    "**Usage**: Showing trends in data -- usually time series data with many time points.\n",
    "\n",
    "**Documentaton**: [plot(x, y)](http://matplotlib.org/api/pyplot_api.html#matplotlib.pyplot.plot)\n",
    "\n",
    "* `x`, `y`: The values for the two variables."
   ]
  },
  {
   "cell_type": "code",
   "execution_count": null,
   "metadata": {
    "collapsed": true,
    "scrolled": true
   },
   "outputs": [],
   "source": [
    "x = range(10)\n",
    "y = range(10)"
   ]
  },
  {
   "cell_type": "code",
   "execution_count": null,
   "metadata": {
    "collapsed": false,
    "scrolled": true
   },
   "outputs": [],
   "source": [
    "plt.plot(x, y)"
   ]
  },
  {
   "cell_type": "code",
   "execution_count": null,
   "metadata": {
    "collapsed": false,
    "scrolled": true
   },
   "outputs": [],
   "source": [
    "plt.plot(x, np.power(x, 2))"
   ]
  },
  {
   "cell_type": "code",
   "execution_count": null,
   "metadata": {
    "collapsed": false,
    "scrolled": true
   },
   "outputs": [],
   "source": [
    "x"
   ]
  },
  {
   "cell_type": "code",
   "execution_count": null,
   "metadata": {
    "collapsed": false,
    "scrolled": true
   },
   "outputs": [],
   "source": [
    "# Numpy Broadcasting\n",
    "np.power(x, 2)"
   ]
  },
  {
   "cell_type": "code",
   "execution_count": null,
   "metadata": {
    "collapsed": false,
    "scrolled": true
   },
   "outputs": [],
   "source": [
    "# You can plot any math function through the functions in Numpy Module\n",
    "\n",
    "x = range(20)\n",
    "y = np.sin(x)\n",
    "\n",
    "plt.plot(x, y);"
   ]
  },
  {
   "cell_type": "code",
   "execution_count": null,
   "metadata": {
    "collapsed": false,
    "scrolled": true
   },
   "outputs": [],
   "source": [
    "x = np.linspace(0, 20)\n",
    "y = np.sin(x)\n",
    "\n",
    "plt.plot(x, y);"
   ]
  },
  {
   "cell_type": "markdown",
   "metadata": {},
   "source": [
    "# Scatter plots\n",
    "\n",
    "**Usage**: Displaying relationships between variables.\n",
    "\n",
    "**Documentation**: [`scatter(x, y)`](http://matplotlib.org/api/pyplot_api.html#matplotlib.pyplot.scatter)\n",
    "\n",
    "* `x`, `y`: The values for the two variables."
   ]
  },
  {
   "cell_type": "code",
   "execution_count": null,
   "metadata": {
    "collapsed": false,
    "scrolled": true
   },
   "outputs": [],
   "source": [
    "# A more realistic Example?\n",
    "\n",
    "x = range(20)\n",
    "y = range(20)\n",
    "\n",
    "plt.scatter(x, y);"
   ]
  },
  {
   "cell_type": "code",
   "execution_count": null,
   "metadata": {
    "collapsed": false,
    "scrolled": true
   },
   "outputs": [],
   "source": [
    "# A more realistic Example?\n",
    "\n",
    "x = range(20)\n",
    "y = np.arange(20) + (np.random.randn(20) * 2)  # Add Jitter (Noise)\n",
    "\n",
    "plt.scatter(x, y);"
   ]
  },
  {
   "cell_type": "code",
   "execution_count": null,
   "metadata": {
    "collapsed": false
   },
   "outputs": [],
   "source": [
    "# We can plot both Scatter plot and Line on the same figure\n",
    "\n",
    "# A more realistic Example?\n",
    "\n",
    "x = range(20)\n",
    "y = np.arange(20) + (np.random.randn(20) * 2)  # Add Jitter (Noise)\n",
    "\n",
    "plt.scatter(x, y);\n",
    "plt.plot(x, x, 'r--');"
   ]
  },
  {
   "cell_type": "code",
   "execution_count": null,
   "metadata": {
    "collapsed": true
   },
   "outputs": [],
   "source": [
    "plt.figure?"
   ]
  },
  {
   "cell_type": "code",
   "execution_count": null,
   "metadata": {
    "collapsed": false,
    "scrolled": true
   },
   "outputs": [],
   "source": [
    "# Random Points - Scatter\n",
    "\n",
    "x = np.random.randn(100)\n",
    "y = np.random.randn(100)\n",
    "\n",
    "plt.scatter(x, y)"
   ]
  },
  {
   "cell_type": "code",
   "execution_count": null,
   "metadata": {
    "collapsed": false,
    "scrolled": true
   },
   "outputs": [],
   "source": [
    "# Random Points - Scatter - with Color Red\n",
    "\n",
    "x = np.random.randn(100)\n",
    "y = np.random.randn(100)\n",
    "\n",
    "plt.scatter(x, y, c=\"r\")"
   ]
  },
  {
   "cell_type": "code",
   "execution_count": null,
   "metadata": {
    "collapsed": true,
    "scrolled": true
   },
   "outputs": [],
   "source": [
    "# Look up Documentation\n",
    "\n",
    "# plt.scatter?"
   ]
  },
  {
   "cell_type": "markdown",
   "metadata": {},
   "source": [
    "# Histogram\n",
    "\n",
    "**Usage**: Displaying distribution of values\n",
    "\n",
    "**Documentation**: [`hist(x)`](http://matplotlib.org/api/pyplot_api.html#matplotlib.pyplot.hist)\n",
    "\n",
    "* `x`: Numerical data array."
   ]
  },
  {
   "cell_type": "code",
   "execution_count": null,
   "metadata": {
    "collapsed": false,
    "scrolled": true
   },
   "outputs": [],
   "source": [
    "np.random.seed(42)  # So that we all see the same plot\n",
    "\n",
    "x = np.random.randn(100)\n",
    "\n",
    "plt.hist(x)"
   ]
  },
  {
   "cell_type": "code",
   "execution_count": null,
   "metadata": {
    "collapsed": true,
    "scrolled": true
   },
   "outputs": [],
   "source": [
    "# Does it look like Normal Distribution to you?\n",
    "\n",
    "# How would you fix it?  Discuss with your Neighbor and fix it?\n",
    "# your <code> Here\n",
    "\n"
   ]
  },
  {
   "cell_type": "code",
   "execution_count": null,
   "metadata": {
    "collapsed": false,
    "scrolled": true
   },
   "outputs": [],
   "source": [
    "# Add a semi-colan if you don't want to see the returned BIN Values in the result\n",
    "plt.hist(x, bins=20);"
   ]
  },
  {
   "cell_type": "markdown",
   "metadata": {},
   "source": [
    "# Vertical bar charts\n",
    "\n",
    "**Usage**: Comparing categories using a metric.\n",
    "\n",
    "**Documentation**: [`bar(left, height)`](http://matplotlib.org/api/pyplot_api.html#matplotlib.pyplot.bar)\n",
    "\n",
    "* `left`: The x coordinate(s) of the left sides of the bars.\n",
    "\n",
    "* `height`: The height(s) of the bars."
   ]
  },
  {
   "cell_type": "code",
   "execution_count": null,
   "metadata": {
    "collapsed": false,
    "scrolled": true
   },
   "outputs": [],
   "source": [
    "years = np.arange(2012, 2015)\n",
    "values = [2, 5, 9]\n",
    "\n",
    "plt.bar(years, values);"
   ]
  },
  {
   "cell_type": "code",
   "execution_count": null,
   "metadata": {
    "collapsed": true,
    "scrolled": true
   },
   "outputs": [],
   "source": [
    "# Do you see any problem - Discuss?"
   ]
  },
  {
   "cell_type": "markdown",
   "metadata": {},
   "source": [
    "**Commonly used parameters**:\n",
    "\n",
    "* `color`: Set the color of the bars.\n",
    "\n",
    "* `edgecolor`: Set the color of the lines on the edges of the bars.\n",
    "\n",
    "* `width`: Set the width of the bars.\n",
    "\n",
    "* `align`: Set the alignment of the bars, e.g., center them on the x coordinate(s).\n",
    "\n",
    "* `label`: Set the label for the bar that will show up in the legend."
   ]
  },
  {
   "cell_type": "code",
   "execution_count": null,
   "metadata": {
    "collapsed": false
   },
   "outputs": [],
   "source": [
    "years = np.arange(2010, 2015)\n",
    "values = [2, 5, 9, 5, 7]\n",
    "\n",
    "plt.bar(years,\n",
    "        values,\n",
    "        color='blue',\n",
    "        edgecolor='none',\n",
    "        width=0.5,\n",
    "        align='center',\n",
    "        label='y1')\n",
    "plt.xticks(years, [str(year) for year in years]);"
   ]
  },
  {
   "cell_type": "markdown",
   "metadata": {},
   "source": [
    "# Horizontal bar charts\n",
    "\n",
    "**Usage**: Comparing categories.\n",
    "\n",
    "**Documentation**: [`barh(bottom, width)`](http://matplotlib.org/api/pyplot_api.html#matplotlib.pyplot.barh)\n",
    "\n",
    "* `bottom`: The y coordinate(s) of the bars.\n",
    "\n",
    "* `width`: The width(s) of the bars."
   ]
  },
  {
   "cell_type": "code",
   "execution_count": null,
   "metadata": {
    "collapsed": false,
    "scrolled": true
   },
   "outputs": [],
   "source": [
    "years = np.arange(2010, 2015)\n",
    "values = [2, 5, 9, 5, 7]\n",
    "\n",
    "plt.figure()\n",
    "\n",
    "plt.barh(np.arange(len(years)), values)\n",
    "\n",
    "plt.yticks(np.arange(len(years)),\n",
    "           [yr for yr in years]);"
   ]
  },
  {
   "cell_type": "markdown",
   "metadata": {},
   "source": [
    "**Commonly used parameters**:\n",
    "\n",
    "* `color`: Set the color of the bars.\n",
    "\n",
    "* `edgecolor`: Set the color of the lines on the edges of the bars.\n",
    "\n",
    "* `height`: Set the height of the bars.\n",
    "\n",
    "* `align`: Set the alignment of the bars, e.g., center them on the y coordinate(s)."
   ]
  },
  {
   "cell_type": "code",
   "execution_count": null,
   "metadata": {
    "collapsed": false,
    "scrolled": true
   },
   "outputs": [],
   "source": [
    "years = np.arange(2010, 2015)\n",
    "values = [2, 5, 9, 5, 7]\n",
    "\n",
    "num_years = len(years)\n",
    "\n",
    "plt.barh(range(num_years),\n",
    "         values,\n",
    "         color='blue',\n",
    "         edgecolor='none',\n",
    "         height=0.6,\n",
    "         align='center')\n",
    "\n",
    "plt.yticks(range(num_years),\n",
    "           [yr for yr in years]);"
   ]
  },
  {
   "cell_type": "markdown",
   "metadata": {},
   "source": [
    "# Subplots\n",
    "\n",
    "**Usage:** Allows you to place multiple charts in a figure.\n",
    "\n",
    "**Documentation:** [``subplot(nrows, ncols, plot_number)``](http://matplotlib.org/api/pyplot_api.html#matplotlib.pyplot.subplot)\n",
    "\n",
    "* `nrows`: The number of rows in the figure.\n",
    "\n",
    "* `ncols`: The number of columns in the figure.\n",
    "\n",
    "* `plot_number`: The placement of the chart (starts at 1)."
   ]
  },
  {
   "cell_type": "code",
   "execution_count": null,
   "metadata": {
    "collapsed": false,
    "scrolled": true
   },
   "outputs": [],
   "source": [
    "dist1 = np.random.normal(42, 7, 1000)\n",
    "dist2 = np.random.normal(59, 3, 1000)\n",
    "\n",
    "plt.figure(figsize=(10, 4))\n",
    "\n",
    "plt.subplot(1, 2, 1)\n",
    "plt.hist(dist1)\n",
    "plt.title('dist1')\n",
    "\n",
    "plt.subplot(1, 2, 2)\n",
    "plt.scatter(dist2, dist1)\n",
    "plt.xlabel('dist2')\n",
    "plt.ylabel('dist1')\n",
    "plt.title('Scatter Plot');"
   ]
  },
  {
   "cell_type": "markdown",
   "metadata": {},
   "source": [
    "# Subplots - Take 2 (Using Axis Object)\n",
    "\n",
    "**Usage:** Allows you to place multiple charts in a figure.\n",
    "\n",
    "**Documentation:** [``subplots(nrows, ncols)``](http://matplotlib.org/api/pyplot_api.html#matplotlib.pyplot.subplots)\n",
    "\n",
    "* `nrows`: The number of rows in the figure.\n",
    "\n",
    "* `ncols`: The number of columns in the figure."
   ]
  },
  {
   "cell_type": "code",
   "execution_count": null,
   "metadata": {
    "collapsed": false,
    "scrolled": true
   },
   "outputs": [],
   "source": [
    "dist1 = np.random.normal(42, 7, 1000)\n",
    "dist2 = np.random.normal(59, 3, 1000)\n",
    "\n",
    "fig, ax = plt.subplots(1, 2, figsize=(10, 4))\n",
    "\n",
    "ax[0].hist(dist1)\n",
    "ax[0].set_title('dist1')\n",
    "\n",
    "ax[1].scatter(dist2, dist1)\n",
    "ax[1].set_xlabel('dist2')\n",
    "ax[1].set_ylabel('dist1')\n",
    "ax[1].set_title('Scatter Plot');"
   ]
  },
  {
   "cell_type": "code",
   "execution_count": null,
   "metadata": {
    "collapsed": false
   },
   "outputs": [],
   "source": [
    "# You can stack them vertically\n",
    "dist1 = np.random.normal(42, 7, 1000)\n",
    "dist2 = np.random.normal(59, 3, 1000)\n",
    "\n",
    "fig, ax = plt.subplots(2, 1, figsize=(10, 8))  # 2 Rows, 1 Col\n",
    "\n",
    "ax[0].hist(dist1)\n",
    "ax[0].set_title('dist1')\n",
    "\n",
    "ax[1].scatter(dist2, dist1)\n",
    "ax[1].set_xlabel('dist2')\n",
    "ax[1].set_ylabel('dist1')\n",
    "ax[1].set_title('Scatter Plot');"
   ]
  },
  {
   "cell_type": "markdown",
   "metadata": {
    "collapsed": true
   },
   "source": [
    "# Interactive Mode\n",
    "\n",
    "**Usage:** Zoom and Pan inside the plot\n",
    "\n",
    "**Con:** It's a bit resource intensive, so I don't use it unless I need the zoon / pan."
   ]
  },
  {
   "cell_type": "code",
   "execution_count": null,
   "metadata": {
    "collapsed": false
   },
   "outputs": [],
   "source": [
    "%matplotlib notebook"
   ]
  },
  {
   "cell_type": "code",
   "execution_count": null,
   "metadata": {
    "collapsed": false
   },
   "outputs": [],
   "source": [
    "dist1 = np.random.normal(42, 7, 1000)\n",
    "dist2 = np.random.normal(59, 3, 1000)\n",
    "\n",
    "fig, ax = plt.subplots(1, 2, figsize=(10, 4))\n",
    "\n",
    "ax[0].hist(dist1)\n",
    "ax[0].set_title('dist1')\n",
    "\n",
    "ax[1].scatter(dist2, dist1)\n",
    "ax[1].set_xlabel('dist2')\n",
    "ax[1].set_ylabel('dist1')\n",
    "ax[1].set_title('Scatter Plot');"
   ]
  },
  {
   "cell_type": "markdown",
   "metadata": {
    "collapsed": true
   },
   "source": [
    "# MatPlotLib Documentation\n",
    "\n",
    "- [Matplotlib](http://matplotlib.org)\n",
    "- [Matplotlib Gallery](http://matplotlib.org/gallery.html)\n",
    "- [Matplotlib Examples](http://matplotlib.org/examples)"
   ]
  }
 ],
 "metadata": {
  "anaconda-cloud": {},
  "kernelspec": {
   "display_name": "Python [Root]",
   "language": "python",
   "name": "Python [Root]"
  },
  "language_info": {
   "codemirror_mode": {
    "name": "ipython",
    "version": 3
   },
   "file_extension": ".py",
   "mimetype": "text/x-python",
   "name": "python",
   "nbconvert_exporter": "python",
   "pygments_lexer": "ipython3",
   "version": "3.5.2"
  }
 },
 "nbformat": 4,
 "nbformat_minor": 0
}
