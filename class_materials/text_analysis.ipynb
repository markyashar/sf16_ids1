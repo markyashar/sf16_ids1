{
 "cells": [
  {
   "cell_type": "code",
   "execution_count": 1,
   "metadata": {
    "collapsed": true
   },
   "outputs": [],
   "source": [
    "import pandas as pd\n",
    "import numpy as np\n",
    "from sklearn.feature_extraction.text import CountVectorizer  # ways to transform text into features"
   ]
  },
  {
   "cell_type": "code",
   "execution_count": 2,
   "metadata": {
    "collapsed": true
   },
   "outputs": [],
   "source": [
    "tweets = [\"These debates are boring\", \"We want more debates\", \"debates are useful\"]\n",
    "target = [0, 1, 1]"
   ]
  },
  {
   "cell_type": "code",
   "execution_count": 9,
   "metadata": {
    "collapsed": true
   },
   "outputs": [],
   "source": [
    "vect = CountVectorizer(stop_words='english')\n",
    "# vect = CountVectorizer(stop_words='english')\n",
    "tweet_X = vect.fit_transform(tweets)"
   ]
  },
  {
   "cell_type": "code",
   "execution_count": 10,
   "metadata": {
    "collapsed": false
   },
   "outputs": [
    {
     "data": {
      "text/plain": [
       "array([[1, 1, 0, 0],\n",
       "       [0, 1, 0, 1],\n",
       "       [0, 1, 1, 0]])"
      ]
     },
     "execution_count": 10,
     "metadata": {},
     "output_type": "execute_result"
    }
   ],
   "source": [
    "tweet_X.toarray()"
   ]
  },
  {
   "cell_type": "code",
   "execution_count": 11,
   "metadata": {
    "collapsed": false
   },
   "outputs": [
    {
     "data": {
      "text/plain": [
       "[u'boring', u'debates', u'useful', u'want']"
      ]
     },
     "execution_count": 11,
     "metadata": {},
     "output_type": "execute_result"
    }
   ],
   "source": [
    "vect.get_feature_names()"
   ]
  },
  {
   "cell_type": "code",
   "execution_count": 12,
   "metadata": {
    "collapsed": false
   },
   "outputs": [
    {
     "data": {
      "text/html": [
       "<div>\n",
       "<table border=\"1\" class=\"dataframe\">\n",
       "  <thead>\n",
       "    <tr style=\"text-align: right;\">\n",
       "      <th></th>\n",
       "      <th>boring</th>\n",
       "      <th>debates</th>\n",
       "      <th>useful</th>\n",
       "      <th>want</th>\n",
       "    </tr>\n",
       "  </thead>\n",
       "  <tbody>\n",
       "    <tr>\n",
       "      <th>0</th>\n",
       "      <td>1</td>\n",
       "      <td>1</td>\n",
       "      <td>0</td>\n",
       "      <td>0</td>\n",
       "    </tr>\n",
       "    <tr>\n",
       "      <th>1</th>\n",
       "      <td>0</td>\n",
       "      <td>1</td>\n",
       "      <td>0</td>\n",
       "      <td>1</td>\n",
       "    </tr>\n",
       "    <tr>\n",
       "      <th>2</th>\n",
       "      <td>0</td>\n",
       "      <td>1</td>\n",
       "      <td>1</td>\n",
       "      <td>0</td>\n",
       "    </tr>\n",
       "  </tbody>\n",
       "</table>\n",
       "</div>"
      ],
      "text/plain": [
       "   boring  debates  useful  want\n",
       "0       1        1       0     0\n",
       "1       0        1       0     1\n",
       "2       0        1       1     0"
      ]
     },
     "execution_count": 12,
     "metadata": {},
     "output_type": "execute_result"
    }
   ],
   "source": [
    "pd.DataFrame(tweet_X.toarray(),columns=vect.get_feature_names())"
   ]
  },
  {
   "cell_type": "code",
   "execution_count": 13,
   "metadata": {
    "collapsed": true
   },
   "outputs": [],
   "source": [
    "# We can do logistic regression on this, e.g., Stanford movie review dataset\n",
    "# Very large movie review will lead to a very large/wide table "
   ]
  },
  {
   "cell_type": "code",
   "execution_count": null,
   "metadata": {
    "collapsed": true
   },
   "outputs": [],
   "source": [
    "# Some Miscellaneous stuff from slack:\n",
    "'''\n",
    "jljones [4:27 PM]  \n",
    "Hi @sampathweb  When there are a lot of columns, and I want to make a correlation matrix and then a heatmap, I have a question. I want to reduce the noise visually and get a subset of the correlations to plot where the values of the correlations are > .4 and < 1.0, and to drop any rows containing only NaN's. This is what I have so far: fig, ax = plt.subplots(figsize=(16,10)) \n",
    "sns.heatmap(training_correlations[training_correlations > 0.4], ax=ax). Do you know how I would also filter out the 1.0's and drop the NaN rows?\n",
    "\n",
    "sampathweb [4:40 PM]  \n",
    "@jljones You can try something like this -\n",
    "```training_correlations = housing_data.corr().unstack()\n",
    "training_correlations[(np.abs(training_correlations) > 0.4) & \n",
    "                      (np.abs(training_correlations) < 1)]\n",
    "```\n",
    "\n",
    "[4:41]  \n",
    "Since this doesn’t lend itself to a square dataframe, sns.heatmap may not be that useful to visualize it, but you can filter the noise and only look at positively and negatively correlated items.\n",
    "\n",
    "sampathweb [4:51 PM]  \n",
    "Ok..I see what you are asking.  May be this will work -\n",
    "```training_correlations = housing_data.corr()\n",
    "training_correlations = training_correlations[(training_correlations > 0.4) & (training_correlations < 1)].fillna(0)\n",
    "\n",
    "fig, ax = plt.subplots(figsize=(16,10)) \n",
    "sns.heatmap(training_correlations, ax=ax)\n",
    "'''"
   ]
  }
 ],
 "metadata": {
  "kernelspec": {
   "display_name": "Python [Root]",
   "language": "python",
   "name": "Python [Root]"
  },
  "language_info": {
   "codemirror_mode": {
    "name": "ipython",
    "version": 2
   },
   "file_extension": ".py",
   "mimetype": "text/x-python",
   "name": "python",
   "nbconvert_exporter": "python",
   "pygments_lexer": "ipython2",
   "version": "2.7.12"
  }
 },
 "nbformat": 4,
 "nbformat_minor": 0
}
