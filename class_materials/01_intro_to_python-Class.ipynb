{
 "cells": [
  {
   "cell_type": "code",
   "execution_count": 1,
   "metadata": {
    "collapsed": true
   },
   "outputs": [],
   "source": [
    "from __future__ import print_function, unicode_literals"
   ]
  },
  {
   "cell_type": "markdown",
   "metadata": {},
   "source": [
    "## Lesson Outline\n",
    "* **types: integers (ints), floats, booleans (bools), strings (strs)**\n",
    "* **Python is dynamically typed**\n",
    "* **types and type conversion**\n",
    "* **using comments**\n",
    "* **lists**\n",
    "* **lists and strings are very similar but they're not the same type**\n",
    "* **dictionaries**\n",
    "* **functions**\n",
    "* **for loops**\n",
    "* **list comprehensions and for loops and how to convert one into the other**\n",
    "* **loading things in from a file or the internet**"
   ]
  },
  {
   "cell_type": "markdown",
   "metadata": {},
   "source": [
    "#### Outcomes\n",
    "\n",
    "After this lesson you will be able to:\n",
    "\n",
    "* use and understand the differences between the basic types in Python\n",
    "* use lists and dictionaries to store collections of primitive Python objects\n",
    "* implement simple mathematical functions and apply them to collections\n",
    "* use for loops and comprehensions to traverse collections\n",
    "* load data in from a file and off the internet (as long as the data is formatted)"
   ]
  },
  {
   "cell_type": "markdown",
   "metadata": {},
   "source": [
    "### primitive types, objects, and variables"
   ]
  },
  {
   "cell_type": "markdown",
   "metadata": {},
   "source": [
    "Python has a variety of basic (called **primitive**) data types:"
   ]
  },
  {
   "cell_type": "code",
   "execution_count": 2,
   "metadata": {
    "collapsed": false
   },
   "outputs": [],
   "source": [
    "x = 5"
   ]
  },
  {
   "cell_type": "markdown",
   "metadata": {},
   "source": [
    "The command\n",
    "\n",
    "`x = 5`\n",
    "\n",
    "creates an object, an int (short for integer) with the name `x`. Let's check the `type` (what kind of an object `x` is), as it's not declared explicitly in `Python`:"
   ]
  },
  {
   "cell_type": "code",
   "execution_count": 3,
   "metadata": {
    "collapsed": false
   },
   "outputs": [
    {
     "data": {
      "text/plain": [
       "int"
      ]
     },
     "execution_count": 3,
     "metadata": {},
     "output_type": "execute_result"
    }
   ],
   "source": [
    "type(x)"
   ]
  },
  {
   "cell_type": "markdown",
   "metadata": {},
   "source": [
    "Assigning the value of an object like `5` to a variable name **is not required**, so you can check the `type` of anything that is syntactially allowed in `Python`:"
   ]
  },
  {
   "cell_type": "code",
   "execution_count": 4,
   "metadata": {
    "collapsed": false
   },
   "outputs": [
    {
     "data": {
      "text/plain": [
       "int"
      ]
     },
     "execution_count": 4,
     "metadata": {},
     "output_type": "execute_result"
    }
   ],
   "source": [
    "type(5)"
   ]
  },
  {
   "cell_type": "markdown",
   "metadata": {},
   "source": [
    "Here's another numeric type in `Python`, a `float`:"
   ]
  },
  {
   "cell_type": "code",
   "execution_count": 5,
   "metadata": {
    "collapsed": false
   },
   "outputs": [
    {
     "name": "stdout",
     "output_type": "stream",
     "text": [
      "<type 'float'>\n"
     ]
    }
   ],
   "source": [
    "print(type(5.0)) #the object 5.0 doesn't have an explicit name, but its still an object!"
   ]
  },
  {
   "cell_type": "code",
   "execution_count": 6,
   "metadata": {
    "collapsed": false
   },
   "outputs": [
    {
     "data": {
      "text/plain": [
       "float"
      ]
     },
     "execution_count": 6,
     "metadata": {},
     "output_type": "execute_result"
    }
   ],
   "source": [
    "type(5.0)"
   ]
  },
  {
   "cell_type": "markdown",
   "metadata": {},
   "source": [
    " In general, if you add a period after a number (without trailing digits), `Python` interprets it as a `float`:"
   ]
  },
  {
   "cell_type": "code",
   "execution_count": 7,
   "metadata": {
    "collapsed": false
   },
   "outputs": [
    {
     "name": "stdout",
     "output_type": "stream",
     "text": [
      "<type 'float'>\n"
     ]
    }
   ],
   "source": [
    "print(type(5.))       #see??"
   ]
  },
  {
   "cell_type": "markdown",
   "metadata": {},
   "source": [
    "Here's a `string` (called `str` in `Python`):"
   ]
  },
  {
   "cell_type": "code",
   "execution_count": 8,
   "metadata": {
    "collapsed": false
   },
   "outputs": [
    {
     "data": {
      "text/plain": [
       "unicode"
      ]
     },
     "execution_count": 8,
     "metadata": {},
     "output_type": "execute_result"
    }
   ],
   "source": [
    "type('five')"
   ]
  },
  {
   "cell_type": "markdown",
   "metadata": {},
   "source": [
    "`Python` also has a `Boolean` type, called a `bool`, [named after this really smart dude](https://en.wikipedia.org/wiki/George_Boole).\n",
    "\n",
    "A `bool` can take only one of two values, either `True` or `False`:"
   ]
  },
  {
   "cell_type": "code",
   "execution_count": 9,
   "metadata": {
    "collapsed": false
   },
   "outputs": [
    {
     "data": {
      "text/plain": [
       "bool"
      ]
     },
     "execution_count": 9,
     "metadata": {},
     "output_type": "execute_result"
    }
   ],
   "source": [
    "type(True) # bool is short for Boolean"
   ]
  },
  {
   "cell_type": "code",
   "execution_count": 11,
   "metadata": {
    "collapsed": true
   },
   "outputs": [],
   "source": [
    "is_valid = True"
   ]
  },
  {
   "cell_type": "code",
   "execution_count": 12,
   "metadata": {
    "collapsed": false
   },
   "outputs": [
    {
     "data": {
      "text/plain": [
       "True"
      ]
     },
     "execution_count": 12,
     "metadata": {},
     "output_type": "execute_result"
    }
   ],
   "source": [
    "is_valid"
   ]
  },
  {
   "cell_type": "markdown",
   "metadata": {},
   "source": [
    "### Python is a dynamically typed language"
   ]
  },
  {
   "cell_type": "markdown",
   "metadata": {},
   "source": [
    "`Python` is a dynamically typed language. What this means is that you can change the type to which a variable refers for any object you create, again and again, and nothing will break (cause an `Exception`):"
   ]
  },
  {
   "cell_type": "code",
   "execution_count": 13,
   "metadata": {
    "collapsed": false
   },
   "outputs": [
    {
     "name": "stdout",
     "output_type": "stream",
     "text": [
      "x is: 5\n",
      "<type 'int'>\n",
      "x is now: dude\n",
      "<type 'unicode'>\n"
     ]
    }
   ],
   "source": [
    "print(\"x is:\",x)       # x is the name of an int object\n",
    "print(type(x)) #check to make sure im not lying\n",
    "x = 'dude'      #we can make x be a string now!\n",
    "print(\"x is now:\", x)\n",
    "print(type(x))"
   ]
  },
  {
   "cell_type": "markdown",
   "metadata": {},
   "source": [
    "### types and type conversion"
   ]
  },
  {
   "cell_type": "markdown",
   "metadata": {},
   "source": [
    "Objects in Python can also be converted (we call this converting **casting**) between different types (in certain cases):"
   ]
  },
  {
   "cell_type": "code",
   "execution_count": 14,
   "metadata": {
    "collapsed": false
   },
   "outputs": [
    {
     "name": "stdout",
     "output_type": "stream",
     "text": [
      "y is: 5.0 <type 'unicode'>\n",
      "y now is: 5.0 <type 'float'>\n"
     ]
    }
   ],
   "source": [
    "y = \"5.0\"                    #y is a str\n",
    "print(\"y is:\", y,type(y))     #check\n",
    "y = float(y)                 #newy is a float\n",
    "print(\"y now is:\", y,type(y)) #check"
   ]
  },
  {
   "cell_type": "markdown",
   "metadata": {},
   "source": [
    "Here we converted `y` from a `string` to a `float`.\n",
    "\n",
    "Now let's try another conversion:"
   ]
  },
  {
   "cell_type": "code",
   "execution_count": 15,
   "metadata": {
    "collapsed": false
   },
   "outputs": [
    {
     "name": "stdout",
     "output_type": "stream",
     "text": [
      "dude is: True <type 'unicode'>\n",
      "now dude is: True <type 'bool'>\n",
      "now dude is: 1 <type 'int'>\n"
     ]
    }
   ],
   "source": [
    "dude = \"True\"                        #dude is a str\n",
    "print(\"dude is:\",dude,type(dude))     #check\n",
    "dude = bool(dude)                    #now dude is a Boolean\n",
    "print(\"now dude is:\",dude,type(dude)) #check again\n",
    "dude = int(dude)                 #now dude is an int!\n",
    "print(\"now dude is:\",dude,type(dude)) #check again"
   ]
  },
  {
   "cell_type": "markdown",
   "metadata": {},
   "source": [
    "However, type conversions don't always work.\n",
    "\n",
    "You can't convert a `string` whose contents are not numbers into a number (`Python` will `return`, or \"throw\", an `Exception`):"
   ]
  },
  {
   "cell_type": "code",
   "execution_count": 16,
   "metadata": {
    "collapsed": false
   },
   "outputs": [
    {
     "ename": "ValueError",
     "evalue": "invalid literal for int() with base 10: 'hello'",
     "output_type": "error",
     "traceback": [
      "\u001b[0;31m---------------------------------------------------------------------------\u001b[0m",
      "\u001b[0;31mValueError\u001b[0m                                Traceback (most recent call last)",
      "\u001b[0;32m<ipython-input-16-0f1a875a9d8f>\u001b[0m in \u001b[0;36m<module>\u001b[0;34m()\u001b[0m\n\u001b[1;32m      1\u001b[0m \u001b[0mbad_dude\u001b[0m \u001b[0;34m=\u001b[0m \u001b[0;34m\"hello\"\u001b[0m       \u001b[0;31m#bad_dude is a string\u001b[0m\u001b[0;34m\u001b[0m\u001b[0m\n\u001b[0;32m----> 2\u001b[0;31m \u001b[0mbad_dude\u001b[0m \u001b[0;34m=\u001b[0m \u001b[0mint\u001b[0m\u001b[0;34m(\u001b[0m\u001b[0mbad_dude\u001b[0m\u001b[0;34m)\u001b[0m \u001b[0;31m#bad_dude can't be cast into a number, because there is no numeric representation for \"hello\"\u001b[0m\u001b[0;34m\u001b[0m\u001b[0m\n\u001b[0m",
      "\u001b[0;31mValueError\u001b[0m: invalid literal for int() with base 10: 'hello'"
     ]
    }
   ],
   "source": [
    "bad_dude = \"hello\"       #bad_dude is a string\n",
    "bad_dude = int(bad_dude) #bad_dude can't be cast into a number, because there is no numeric representation for \"hello\""
   ]
  },
  {
   "cell_type": "markdown",
   "metadata": {},
   "source": [
    "You also can't convert a `string` directly into an `int` if it should be converted into a `float` first:"
   ]
  },
  {
   "cell_type": "code",
   "execution_count": 17,
   "metadata": {
    "collapsed": false
   },
   "outputs": [
    {
     "ename": "ValueError",
     "evalue": "invalid literal for int() with base 10: '47.486'",
     "output_type": "error",
     "traceback": [
      "\u001b[0;31m---------------------------------------------------------------------------\u001b[0m",
      "\u001b[0;31mValueError\u001b[0m                                Traceback (most recent call last)",
      "\u001b[0;32m<ipython-input-17-ef0ba07183cc>\u001b[0m in \u001b[0;36m<module>\u001b[0;34m()\u001b[0m\n\u001b[1;32m      1\u001b[0m \u001b[0mfloat_string\u001b[0m \u001b[0;34m=\u001b[0m \u001b[0;34m\"47.486\"\u001b[0m\u001b[0;34m\u001b[0m\u001b[0m\n\u001b[0;32m----> 2\u001b[0;31m \u001b[0mfloat_string\u001b[0m \u001b[0;34m=\u001b[0m \u001b[0mint\u001b[0m\u001b[0;34m(\u001b[0m\u001b[0mfloat_string\u001b[0m\u001b[0;34m)\u001b[0m\u001b[0;34m\u001b[0m\u001b[0m\n\u001b[0m",
      "\u001b[0;31mValueError\u001b[0m: invalid literal for int() with base 10: '47.486'"
     ]
    }
   ],
   "source": [
    "float_string = \"47.486\"\n",
    "float_string = int(float_string)"
   ]
  },
  {
   "cell_type": "markdown",
   "metadata": {},
   "source": [
    "So you have to cast it to a `float` and then an `int`:"
   ]
  },
  {
   "cell_type": "code",
   "execution_count": 18,
   "metadata": {
    "collapsed": false
   },
   "outputs": [
    {
     "name": "stdout",
     "output_type": "stream",
     "text": [
      "float_string is: 47.486 <type 'float'>\n",
      "float_string is: 47 <type 'int'>\n"
     ]
    }
   ],
   "source": [
    "float_string = float(float_string)\n",
    "print(\"float_string is:\",float_string,type(float_string))\n",
    "float_string = int(float_string)\n",
    "print(\"float_string is:\",float_string,type(float_string)) # No ValueError thrown! (This is an inline comment)"
   ]
  },
  {
   "cell_type": "markdown",
   "metadata": {},
   "source": [
    "Why do you think `Python` would behave in this way?"
   ]
  },
  {
   "cell_type": "markdown",
   "metadata": {},
   "source": [
    "### Comments and why you should be using them"
   ]
  },
  {
   "cell_type": "markdown",
   "metadata": {},
   "source": [
    "I've been using comments a lot so far (the words after the `#` in the code), without explaining what they are.\n",
    "\n",
    "**Comments simply describe code and are not executed.** \n",
    "\n",
    "There are two types of comments, multi-line and one-line. Neither type of comment is ever executed by the interpreter. They only exist to clarify or explain code. Use them wisely:"
   ]
  },
  {
   "cell_type": "code",
   "execution_count": null,
   "metadata": {
    "collapsed": false
   },
   "outputs": [],
   "source": [
    "'''\n",
    "Multi-line comments go between 3 quotation marks.\n",
    "You can use single or double quotes.\n",
    "'''\n",
    "\n",
    "\"\"\"\n",
    "This is a multiline\n",
    "comment with triple quote\n",
    "\"\"\"\n",
    "\n",
    "# One-line comments are preceded by the pound symbol"
   ]
  },
  {
   "cell_type": "markdown",
   "metadata": {},
   "source": [
    "### Lists"
   ]
  },
  {
   "cell_type": "markdown",
   "metadata": {},
   "source": [
    "`Lists` are another very useful data type.\n",
    "\n",
    "You can think of them as containers for the objects we looked at above.\n",
    "\n",
    "Here's an example list. **Notice that it can contain objects of varying type**:"
   ]
  },
  {
   "cell_type": "code",
   "execution_count": 19,
   "metadata": {
    "collapsed": true
   },
   "outputs": [],
   "source": [
    "nums = [5, 5.0, 'five']     # an int, a float, and a string"
   ]
  },
  {
   "cell_type": "markdown",
   "metadata": {},
   "source": [
    "Lists can be printed, just like the other objects we've looked at:"
   ]
  },
  {
   "cell_type": "code",
   "execution_count": 20,
   "metadata": {
    "collapsed": false
   },
   "outputs": [
    {
     "name": "stdout",
     "output_type": "stream",
     "text": [
      "[5, 5.0, u'five']\n"
     ]
    },
    {
     "data": {
      "text/plain": [
       "list"
      ]
     },
     "execution_count": 20,
     "metadata": {},
     "output_type": "execute_result"
    }
   ],
   "source": [
    "print(nums)                  # print the list\n",
    "type(nums)                  # check the type: list"
   ]
  },
  {
   "cell_type": "markdown",
   "metadata": {},
   "source": [
    "Lists have lots of useful properties, like length (the number of elements in the list), and the ability to modify its contents:"
   ]
  },
  {
   "cell_type": "code",
   "execution_count": 21,
   "metadata": {
    "collapsed": false
   },
   "outputs": [
    {
     "name": "stdout",
     "output_type": "stream",
     "text": [
      "3\n",
      "5\n",
      "[6, 5.0, u'five']\n"
     ]
    }
   ],
   "source": [
    "print(len(nums))             # check the length: 3\n",
    "print(nums[0])               # print first element\n",
    "nums[0] = 6                 # replace a list element, we will get back to this briefly\n",
    "print(nums)                  # it's changed!"
   ]
  },
  {
   "cell_type": "markdown",
   "metadata": {},
   "source": [
    "You can add to the back of a list using the `append` method and remove a specific element from a list using the `remove` method (method is another word for function):"
   ]
  },
  {
   "cell_type": "code",
   "execution_count": 22,
   "metadata": {
    "collapsed": false
   },
   "outputs": [
    {
     "name": "stdout",
     "output_type": "stream",
     "text": [
      "[6, 5.0, u'five', 7]\n",
      "[6, 5.0, 7]\n"
     ]
    }
   ],
   "source": [
    "nums.append(7)\n",
    "print(nums)\n",
    "nums.remove('five')\n",
    "print(nums)"
   ]
  },
  {
   "cell_type": "code",
   "execution_count": 23,
   "metadata": {
    "collapsed": false
   },
   "outputs": [
    {
     "name": "stdout",
     "output_type": "stream",
     "text": [
      "['__add__', '__class__', '__contains__', '__delattr__', '__delitem__', '__delslice__', '__doc__', '__eq__', '__format__', '__ge__', '__getattribute__', '__getitem__', '__getslice__', '__gt__', '__hash__', '__iadd__', '__imul__', '__init__', '__iter__', '__le__', '__len__', '__lt__', '__mul__', '__ne__', '__new__', '__reduce__', '__reduce_ex__', '__repr__', '__reversed__', '__rmul__', '__setattr__', '__setitem__', '__setslice__', '__sizeof__', '__str__', '__subclasshook__', 'append', 'count', 'extend', 'index', 'insert', 'pop', 'remove', 'reverse', 'sort']\n"
     ]
    }
   ],
   "source": [
    "print(dir(list))"
   ]
  },
  {
   "cell_type": "markdown",
   "metadata": {},
   "source": [
    "Lists can also be `sorted`:"
   ]
  },
  {
   "cell_type": "code",
   "execution_count": 1,
   "metadata": {
    "collapsed": false
   },
   "outputs": [
    {
     "name": "stdout",
     "output_type": "stream",
     "text": [
      "Object `nums.append` not found.\n"
     ]
    }
   ],
   "source": [
    "nums.append?"
   ]
  },
  {
   "cell_type": "code",
   "execution_count": 24,
   "metadata": {
    "collapsed": false
   },
   "outputs": [
    {
     "name": "stdout",
     "output_type": "stream",
     "text": [
      "[5.0, 6, 7]\n",
      "[6, 5.0, 7]\n"
     ]
    }
   ],
   "source": [
    "print(sorted(nums))          # 'function' that does not modify the list\n",
    "print(nums)                  # the original list remains the same!"
   ]
  },
  {
   "cell_type": "markdown",
   "metadata": {},
   "source": [
    "However, you need to understand that if you're going to sort a list, all of the types need to be either numeric (`float` or `int`) or all `string`s. Otherwise, you'll get (what seems to be) weird behavior:"
   ]
  },
  {
   "cell_type": "code",
   "execution_count": 27,
   "metadata": {
    "collapsed": false
   },
   "outputs": [
    {
     "data": {
      "text/plain": [
       "[3, 5, u'ten', u'two']"
      ]
     },
     "execution_count": 27,
     "metadata": {},
     "output_type": "execute_result"
    }
   ],
   "source": [
    "sorted([5,'two','ten',3])"
   ]
  },
  {
   "cell_type": "markdown",
   "metadata": {},
   "source": [
    "Because the `sorted` method doesn't modify the original list, you need to overwrite (or assign) the `sorted` result to another variable (or to the same variable, in the case of an overwrite):"
   ]
  },
  {
   "cell_type": "code",
   "execution_count": 28,
   "metadata": {
    "collapsed": false
   },
   "outputs": [
    {
     "name": "stdout",
     "output_type": "stream",
     "text": [
      "[5.0, 6, 7]\n"
     ]
    }
   ],
   "source": [
    "nums = sorted(nums)         # overwrite the original list\n",
    "print(nums)"
   ]
  },
  {
   "cell_type": "markdown",
   "metadata": {},
   "source": [
    "You can also sort the list in reverse order by passing an **optional** argument to the `sorted` function:"
   ]
  },
  {
   "cell_type": "code",
   "execution_count": 29,
   "metadata": {
    "collapsed": false
   },
   "outputs": [
    {
     "data": {
      "text/plain": [
       "[7, 6, 5.0]"
      ]
     },
     "execution_count": 29,
     "metadata": {},
     "output_type": "execute_result"
    }
   ],
   "source": [
    "sorted(nums, reverse=True)  # optional argument"
   ]
  },
  {
   "cell_type": "markdown",
   "metadata": {},
   "source": [
    "Lists have other interesting properties that allow you to select only **parts** of them.\n",
    "\n",
    "Let's create the list `a`: "
   ]
  },
  {
   "cell_type": "code",
   "execution_count": 30,
   "metadata": {
    "collapsed": true
   },
   "outputs": [],
   "source": [
    "a = [10, \"hello\", 304,3.631,True]     # create lists using brackets"
   ]
  },
  {
   "cell_type": "markdown",
   "metadata": {},
   "source": [
    "You can select individual elements in the list. This is called **slicing**:"
   ]
  },
  {
   "cell_type": "code",
   "execution_count": 31,
   "metadata": {
    "collapsed": false
   },
   "outputs": [
    {
     "name": "stdout",
     "output_type": "stream",
     "text": [
      "10 <type 'int'>\n",
      "[u'hello', 304] <type 'list'>\n",
      "True <type 'bool'>\n"
     ]
    }
   ],
   "source": [
    "# slicing\n",
    "print(a[0], type(a[0]))        # returns the element 10 (Python is zero indexed)\n",
    "print(a[1:3], type(a[1:3]))    # returns the sublist [\"hello\", 304] (inclusive of first index but exclusive of second)\n",
    "print(a[-1], type(a[-1]))      # returns True (last element)"
   ]
  },
  {
   "cell_type": "code",
   "execution_count": 36,
   "metadata": {
    "collapsed": false
   },
   "outputs": [
    {
     "data": {
      "text/plain": [
       "u'cience'"
      ]
     },
     "execution_count": 36,
     "metadata": {},
     "output_type": "execute_result"
    }
   ],
   "source": [
    "val=\"datascience\"\n",
    "val[5:len(val)]"
   ]
  },
  {
   "cell_type": "code",
   "execution_count": 37,
   "metadata": {
    "collapsed": false
   },
   "outputs": [
    {
     "data": {
      "text/plain": [
       "u'nce'"
      ]
     },
     "execution_count": 37,
     "metadata": {},
     "output_type": "execute_result"
    }
   ],
   "source": [
    "val[-3:]"
   ]
  },
  {
   "cell_type": "code",
   "execution_count": 38,
   "metadata": {
    "collapsed": false
   },
   "outputs": [
    {
     "data": {
      "text/plain": [
       "u'datascie'"
      ]
     },
     "execution_count": 38,
     "metadata": {},
     "output_type": "execute_result"
    }
   ],
   "source": [
    "val[:-3]"
   ]
  },
  {
   "cell_type": "code",
   "execution_count": 39,
   "metadata": {
    "collapsed": false
   },
   "outputs": [
    {
     "ename": "IndexError",
     "evalue": "string index out of range",
     "output_type": "error",
     "traceback": [
      "\u001b[0;31m---------------------------------------------------------------------------\u001b[0m",
      "\u001b[0;31mIndexError\u001b[0m                                Traceback (most recent call last)",
      "\u001b[0;32m<ipython-input-39-c3d3faa44826>\u001b[0m in \u001b[0;36m<module>\u001b[0;34m()\u001b[0m\n\u001b[0;32m----> 1\u001b[0;31m \u001b[0mval\u001b[0m\u001b[0;34m[\u001b[0m\u001b[0;36m100\u001b[0m\u001b[0;34m]\u001b[0m\u001b[0;34m\u001b[0m\u001b[0m\n\u001b[0m",
      "\u001b[0;31mIndexError\u001b[0m: string index out of range"
     ]
    }
   ],
   "source": [
    "val[100]"
   ]
  },
  {
   "cell_type": "code",
   "execution_count": 34,
   "metadata": {
    "collapsed": false
   },
   "outputs": [
    {
     "name": "stdout",
     "output_type": "stream",
     "text": [
      "The Zen of Python, by Tim Peters\n",
      "\n",
      "Beautiful is better than ugly.\n",
      "Explicit is better than implicit.\n",
      "Simple is better than complex.\n",
      "Complex is better than complicated.\n",
      "Flat is better than nested.\n",
      "Sparse is better than dense.\n",
      "Readability counts.\n",
      "Special cases aren't special enough to break the rules.\n",
      "Although practicality beats purity.\n",
      "Errors should never pass silently.\n",
      "Unless explicitly silenced.\n",
      "In the face of ambiguity, refuse the temptation to guess.\n",
      "There should be one-- and preferably only one --obvious way to do it.\n",
      "Although that way may not be obvious at first unless you're Dutch.\n",
      "Now is better than never.\n",
      "Although never is often better than *right* now.\n",
      "If the implementation is hard to explain, it's a bad idea.\n",
      "If the implementation is easy to explain, it may be a good idea.\n",
      "Namespaces are one honking great idea -- let's do more of those!\n"
     ]
    }
   ],
   "source": [
    "import this"
   ]
  },
  {
   "cell_type": "code",
   "execution_count": 41,
   "metadata": {
    "collapsed": true
   },
   "outputs": [],
   "source": [
    "items =[10, 20, 30, 40]"
   ]
  },
  {
   "cell_type": "code",
   "execution_count": 42,
   "metadata": {
    "collapsed": false
   },
   "outputs": [
    {
     "data": {
      "text/plain": [
       "[10, 20, 30]"
      ]
     },
     "execution_count": 42,
     "metadata": {},
     "output_type": "execute_result"
    }
   ],
   "source": [
    "items[:3]"
   ]
  },
  {
   "cell_type": "markdown",
   "metadata": {},
   "source": [
    "It is very important to always remember when you're writing code in `Python` that its indexes are always **zero-based**. \n",
    "\n",
    "This means that **any object that you can index (select individual components of) always has an index that starts at zero**"
   ]
  },
  {
   "cell_type": "markdown",
   "metadata": {},
   "source": [
    "You can also add to the back or (`append`) to the front of (`prepend`) lists:"
   ]
  },
  {
   "cell_type": "code",
   "execution_count": 43,
   "metadata": {
    "collapsed": false
   },
   "outputs": [
    {
     "name": "stdout",
     "output_type": "stream",
     "text": [
      "a before appending: [10, u'hello', 304, 3.631, True]\n",
      "a after appending: [10, u'hello', 304, 3.631, True, 6]\n",
      "a after appending [7]: [10, u'hello', 304, 3.631, True, 6, 7]\n",
      "a after prepending [dude]: [u'dude', 10, u'hello', 304, 3.631, True, 6, 7]\n"
     ]
    }
   ],
   "source": [
    "print(\"a before appending:\", a)\n",
    "a.append(6)                   # list method that appends 6 to the end\n",
    "print(\"a after appending:\", a)\n",
    "a = a + [7]                   # use plus sign to combine lists\n",
    "print(\"a after appending [7]:\", a)\n",
    "a = [\"dude\"]+ a\n",
    "print(\"a after prepending [dude]:\", a)"
   ]
  },
  {
   "cell_type": "markdown",
   "metadata": {},
   "source": [
    "Keep in mind, you can't assign outside the existing range of the list (`Python` will throw an `IndexError` `Exception`):"
   ]
  },
  {
   "cell_type": "code",
   "execution_count": 44,
   "metadata": {
    "collapsed": false
   },
   "outputs": [
    {
     "name": "stdout",
     "output_type": "stream",
     "text": [
      "8\n"
     ]
    },
    {
     "ename": "IndexError",
     "evalue": "list assignment index out of range",
     "output_type": "error",
     "traceback": [
      "\u001b[0;31m---------------------------------------------------------------------------\u001b[0m",
      "\u001b[0;31mIndexError\u001b[0m                                Traceback (most recent call last)",
      "\u001b[0;32m<ipython-input-44-c98f6af19c03>\u001b[0m in \u001b[0;36m<module>\u001b[0;34m()\u001b[0m\n\u001b[1;32m      1\u001b[0m \u001b[0;32mprint\u001b[0m\u001b[0;34m(\u001b[0m\u001b[0mlen\u001b[0m\u001b[0;34m(\u001b[0m\u001b[0ma\u001b[0m\u001b[0;34m)\u001b[0m\u001b[0;34m)\u001b[0m\u001b[0;34m\u001b[0m\u001b[0m\n\u001b[0;32m----> 2\u001b[0;31m \u001b[0ma\u001b[0m\u001b[0;34m[\u001b[0m\u001b[0mlen\u001b[0m\u001b[0;34m(\u001b[0m\u001b[0ma\u001b[0m\u001b[0;34m)\u001b[0m\u001b[0;34m]\u001b[0m \u001b[0;34m=\u001b[0m \u001b[0;34m\"this wont be added\"\u001b[0m\u001b[0;34m\u001b[0m\u001b[0m\n\u001b[0m",
      "\u001b[0;31mIndexError\u001b[0m: list assignment index out of range"
     ]
    }
   ],
   "source": [
    "print(len(a))\n",
    "a[len(a)] = \"this wont be added\""
   ]
  },
  {
   "cell_type": "markdown",
   "metadata": {},
   "source": [
    "### Lists and strings and how theyre very similar and very different"
   ]
  },
  {
   "cell_type": "markdown",
   "metadata": {},
   "source": [
    "There are actually a lot of similarities between `strings` and `lists` in `Python`.\n",
    "\n",
    "`Strings` can be indexed (and sliced) just like lists:"
   ]
  },
  {
   "cell_type": "code",
   "execution_count": 45,
   "metadata": {
    "collapsed": false
   },
   "outputs": [
    {
     "name": "stdout",
     "output_type": "stream",
     "text": [
      "awesome\n",
      "wes\n",
      "a\n",
      "e\n"
     ]
    }
   ],
   "source": [
    "my_string = 'awesome'\n",
    "print(my_string)\n",
    "print(my_string[1:4])\n",
    "print(my_string[0])\n",
    "print(my_string[-1])"
   ]
  },
  {
   "cell_type": "markdown",
   "metadata": {},
   "source": [
    "And combined like `lists`:"
   ]
  },
  {
   "cell_type": "code",
   "execution_count": 46,
   "metadata": {
    "collapsed": false
   },
   "outputs": [
    {
     "name": "stdout",
     "output_type": "stream",
     "text": [
      "awesome\n",
      "dudeawesome\n"
     ]
    }
   ],
   "source": [
    "print(my_string)\n",
    "my_string = \"dude\" + my_string\n",
    "print(my_string)"
   ]
  },
  {
   "cell_type": "markdown",
   "metadata": {},
   "source": [
    "You can even check their `length`, just like `lists`:"
   ]
  },
  {
   "cell_type": "code",
   "execution_count": 47,
   "metadata": {
    "collapsed": false
   },
   "outputs": [
    {
     "name": "stdout",
     "output_type": "stream",
     "text": [
      "11\n"
     ]
    }
   ],
   "source": [
    "print(len(my_string))"
   ]
  },
  {
   "cell_type": "code",
   "execution_count": 49,
   "metadata": {
    "collapsed": false
   },
   "outputs": [
    {
     "data": {
      "text/plain": [
       "[u'welcom to DS. This is our first class']"
      ]
     },
     "execution_count": 49,
     "metadata": {},
     "output_type": "execute_result"
    }
   ],
   "source": [
    "\"welcom to DS. This is our first class\".split(\",\")"
   ]
  },
  {
   "cell_type": "markdown",
   "metadata": {},
   "source": [
    "But, strings can also be `split`:"
   ]
  },
  {
   "cell_type": "code",
   "execution_count": 48,
   "metadata": {
    "collapsed": false
   },
   "outputs": [
    {
     "data": {
      "text/plain": [
       "[u'Hello', u'my', u'name', u'is', u'Sergey!']"
      ]
     },
     "execution_count": 48,
     "metadata": {},
     "output_type": "execute_result"
    }
   ],
   "source": [
    "my_string = \"Hello my name is Sergey!\"\n",
    "my_string.split(\" \") #split on spaces"
   ]
  },
  {
   "cell_type": "markdown",
   "metadata": {},
   "source": [
    "And, remember that you always have to think about types when trying to combine `strings` with other objects:"
   ]
  },
  {
   "cell_type": "code",
   "execution_count": 50,
   "metadata": {
    "collapsed": false
   },
   "outputs": [
    {
     "name": "stdout",
     "output_type": "stream",
     "text": [
      "Hello my name is Sergey! there\n"
     ]
    }
   ],
   "source": [
    "print(my_string + ' there') # you can totally do this because both objects are strings"
   ]
  },
  {
   "cell_type": "markdown",
   "metadata": {},
   "source": [
    "So the following won't work (`Python` will throw a `TypeError` `Exception`):"
   ]
  },
  {
   "cell_type": "code",
   "execution_count": 51,
   "metadata": {
    "collapsed": false
   },
   "outputs": [
    {
     "ename": "TypeError",
     "evalue": "coercing to Unicode: need string or buffer, int found",
     "output_type": "error",
     "traceback": [
      "\u001b[0;31m---------------------------------------------------------------------------\u001b[0m",
      "\u001b[0;31mTypeError\u001b[0m                                 Traceback (most recent call last)",
      "\u001b[0;32m<ipython-input-51-844bcb970442>\u001b[0m in \u001b[0;36m<module>\u001b[0;34m()\u001b[0m\n\u001b[0;32m----> 1\u001b[0;31m \u001b[0mmy_string\u001b[0m \u001b[0;34m+\u001b[0m \u001b[0;36m5\u001b[0m \u001b[0;31m# error because 5 is an int type and my_string is a string type\u001b[0m\u001b[0;34m\u001b[0m\u001b[0m\n\u001b[0m",
      "\u001b[0;31mTypeError\u001b[0m: coercing to Unicode: need string or buffer, int found"
     ]
    }
   ],
   "source": [
    "my_string + 5 # error because 5 is an int type and my_string is a string type"
   ]
  },
  {
   "cell_type": "code",
   "execution_count": 53,
   "metadata": {
    "collapsed": false
   },
   "outputs": [
    {
     "data": {
      "text/plain": [
       "u'Hello my name is Sergey!5'"
      ]
     },
     "execution_count": 53,
     "metadata": {},
     "output_type": "execute_result"
    }
   ],
   "source": [
    "my_string + str(5)"
   ]
  },
  {
   "cell_type": "markdown",
   "metadata": {},
   "source": [
    "However, although `lists` and `strings` appear very similar, **there is a critical difference between them**.\n",
    "\n",
    "You can replace subcomponents of `lists`, but you can't do the same for `strings`, you have to create new ones:"
   ]
  },
  {
   "cell_type": "code",
   "execution_count": 55,
   "metadata": {
    "collapsed": false
   },
   "outputs": [
    {
     "data": {
      "text/plain": [
       "True"
      ]
     },
     "execution_count": 55,
     "metadata": {},
     "output_type": "execute_result"
    }
   ],
   "source": [
    "a_string = 'bros'\n",
    "a_string = 'rose'\n",
    "b_string = a_string\n",
    "a_string == b_string"
   ]
  },
  {
   "cell_type": "code",
   "execution_count": 54,
   "metadata": {
    "collapsed": false
   },
   "outputs": [
    {
     "name": "stdout",
     "output_type": "stream",
     "text": [
      "[1, 45, u'other_bros']\n",
      "[20, 45, u'other_bros']\n"
     ]
    },
    {
     "ename": "TypeError",
     "evalue": "'unicode' object does not support item assignment",
     "output_type": "error",
     "traceback": [
      "\u001b[0;31m---------------------------------------------------------------------------\u001b[0m",
      "\u001b[0;31mTypeError\u001b[0m                                 Traceback (most recent call last)",
      "\u001b[0;32m<ipython-input-54-3f3c6afe9e1a>\u001b[0m in \u001b[0;36m<module>\u001b[0;34m()\u001b[0m\n\u001b[1;32m      5\u001b[0m \u001b[0ma_list\u001b[0m\u001b[0;34m[\u001b[0m\u001b[0;36m0\u001b[0m\u001b[0;34m]\u001b[0m \u001b[0;34m=\u001b[0m \u001b[0;36m20\u001b[0m               \u001b[0;31m#you can do this\u001b[0m\u001b[0;34m\u001b[0m\u001b[0m\n\u001b[1;32m      6\u001b[0m \u001b[0;32mprint\u001b[0m\u001b[0;34m(\u001b[0m\u001b[0ma_list\u001b[0m\u001b[0;34m)\u001b[0m\u001b[0;34m\u001b[0m\u001b[0m\n\u001b[0;32m----> 7\u001b[0;31m \u001b[0ma_string\u001b[0m\u001b[0;34m[\u001b[0m\u001b[0;36m0\u001b[0m\u001b[0;34m]\u001b[0m \u001b[0;34m=\u001b[0m \u001b[0;34m'c'\u001b[0m            \u001b[0;31m#this will throw a TypeError Exception\u001b[0m\u001b[0;34m\u001b[0m\u001b[0m\n\u001b[0m",
      "\u001b[0;31mTypeError\u001b[0m: 'unicode' object does not support item assignment"
     ]
    }
   ],
   "source": [
    "a_list = [1,45,\"other_bros\"]\n",
    "a_string = \"bros\"\n",
    "\n",
    "print(a_list)\n",
    "a_list[0] = 20               #you can do this\n",
    "print(a_list)\n",
    "a_string[0] = 'c'            #this will throw a TypeError Exception"
   ]
  },
  {
   "cell_type": "markdown",
   "metadata": {},
   "source": [
    "The reason this happens is because of the kinds of objects `lists` and `strings` are in `Python`. \n",
    "\n",
    "`Lists` are **mutable** objects in `Python`. This means you can change the same `list` object over and over again (this is called **mutating** it). \n",
    "\n",
    "You can't do that with `strings`. They're called **immutable** objects. So, when you \"change\" a string, you actually have to create a new version of it (with the changed part):"
   ]
  },
  {
   "cell_type": "code",
   "execution_count": 56,
   "metadata": {
    "collapsed": false
   },
   "outputs": [
    {
     "name": "stdout",
     "output_type": "stream",
     "text": [
      "rose\n",
      "cose\n"
     ]
    }
   ],
   "source": [
    "print(a_string)\n",
    "a_string = \"c\" + a_string[1:] #this is how you would do what we tried to do above with \"bros\"\n",
    "print(a_string)"
   ]
  },
  {
   "cell_type": "markdown",
   "metadata": {},
   "source": [
    "You can do other stuff with `strings` that you can't do with `lists`:"
   ]
  },
  {
   "cell_type": "code",
   "execution_count": 57,
   "metadata": {
    "collapsed": false
   },
   "outputs": [
    {
     "name": "stdout",
     "output_type": "stream",
     "text": [
      "['__add__', '__class__', '__contains__', '__delattr__', '__doc__', '__eq__', '__format__', '__ge__', '__getattribute__', '__getitem__', '__getnewargs__', '__getslice__', '__gt__', '__hash__', '__init__', '__le__', '__len__', '__lt__', '__mod__', '__mul__', '__ne__', '__new__', '__reduce__', '__reduce_ex__', '__repr__', '__rmod__', '__rmul__', '__setattr__', '__sizeof__', '__str__', '__subclasshook__', '_formatter_field_name_split', '_formatter_parser', 'capitalize', 'center', 'count', 'decode', 'encode', 'endswith', 'expandtabs', 'find', 'format', 'index', 'isalnum', 'isalpha', 'isdecimal', 'isdigit', 'islower', 'isnumeric', 'isspace', 'istitle', 'isupper', 'join', 'ljust', 'lower', 'lstrip', 'partition', 'replace', 'rfind', 'rindex', 'rjust', 'rpartition', 'rsplit', 'rstrip', 'split', 'splitlines', 'startswith', 'strip', 'swapcase', 'title', 'translate', 'upper', 'zfill']\n"
     ]
    }
   ],
   "source": [
    "print(dir(a_string))"
   ]
  },
  {
   "cell_type": "code",
   "execution_count": 58,
   "metadata": {
    "collapsed": false
   },
   "outputs": [
    {
     "name": "stdout",
     "output_type": "stream",
     "text": [
      "COSE\n",
      "cose\n",
      "Cose\n"
     ]
    }
   ],
   "source": [
    "print(a_string.upper())\n",
    "print(a_string.lower())\n",
    "print(a_string.capitalize())"
   ]
  },
  {
   "cell_type": "markdown",
   "metadata": {},
   "source": [
    "Before we start talking about functions (which we are about to) and what they are, you should use a simple one that generates `lists` of sequential `ints` called `range`:"
   ]
  },
  {
   "cell_type": "code",
   "execution_count": 59,
   "metadata": {
    "collapsed": false
   },
   "outputs": [
    {
     "name": "stdout",
     "output_type": "stream",
     "text": [
      "[2, 3, 4, 5, 6, 7, 8, 9]\n",
      "[0, 1, 2]\n",
      "[2, 4, 6, 8]\n"
     ]
    }
   ],
   "source": [
    "a = range(2, 10)  # creates a list of integers that includes first value but excludes second value and is ordered\n",
    "b = range(3)      # when you only pass a single number, it generates a list starting at zero\n",
    "c = range(2,10,2) # when you pass in 3 numbers, it generates a list where the \"step\" is the 3rd parameter\n",
    "print(a)\n",
    "print(b)\n",
    "print(c)"
   ]
  },
  {
   "cell_type": "markdown",
   "metadata": {},
   "source": [
    "#### Exercise Time!\n",
    "\n",
    "* create a variable `my_new_list` and set it to contain \"dude\" and the string \"55\"\n",
    "* create a new variable `dude55` that is the concatenation of \"dude\" and \"55\"\n",
    "* create a variable `my_int` that is the int representation of \"55\"\n",
    "* create a new string called `my_substring` that is the 3rd through 5th characters of `dude55`\n",
    "* create a list called `my_range` that is all the multiples of 3 from 3-26 "
   ]
  },
  {
   "cell_type": "code",
   "execution_count": 4,
   "metadata": {
    "collapsed": false
   },
   "outputs": [
    {
     "name": "stdout",
     "output_type": "stream",
     "text": [
      "['dude', '55']\n",
      "dude55\n",
      "55\n",
      "de5\n",
      "[2, 5, 8, 11, 14, 17, 20, 23]\n"
     ]
    }
   ],
   "source": [
    "my_new_list = [\"dude\",\"55\"]\n",
    "dude55 = \"dude\"+\"55\"\n",
    "my_int = int(\"55\")\n",
    "my_substring = dude55[2:5]\n",
    "my_range=range(2,25,3)\n",
    "print(my_new_list)\n",
    "print(dude55)\n",
    "print(my_int)\n",
    "print(my_substring)\n",
    "print(my_range)"
   ]
  },
  {
   "cell_type": "markdown",
   "metadata": {},
   "source": [
    "### Dictionaries"
   ]
  },
  {
   "cell_type": "markdown",
   "metadata": {},
   "source": [
    "The last data type we are going to talk about in this whirlwind tour of `Python` are called dictionaries, or `dicts`. \n",
    "\n",
    "Dictionaries are `Python` objects that behave like real dictionaries in meatspace:\n",
    "* dictionaries are made of key-value pairs (word and definition)\n",
    "* dictionary keys must be unique (each word is only defined once)\n",
    "* you can use the key to look up the value, but not the other way around (you can't ask a dictionary give me the word whose definition is \"furry domesticated animal that's sometimes an asshole\" and get \"cat\")\n",
    "\n",
    "Dictionaries are similar to lists in that:\n",
    "* they can contain multiple data types\n",
    "* you can move through (iterate) them\n",
    "* they are mutable (meaning you can change, or mutate, them).\n",
    "\n",
    "However, dictionaries are different from lists in that they:\n",
    "* are unordered (lists are ordered on their index)\n",
    "\n",
    "Ok, enough of that, here's an actual `Python` dict:"
   ]
  },
  {
   "cell_type": "code",
   "execution_count": 11,
   "metadata": {
    "collapsed": false
   },
   "outputs": [
    {
     "name": "stdout",
     "output_type": "stream",
     "text": [
      "<type 'dict'>\n",
      "play\n",
      "3\n",
      "['brooklyn', 'manhattan', 'best borough']\n",
      "['play', 'work', 'brooklyn']\n",
      "[('brooklyn', 'play'), ('manhattan', 'work'), ('best borough', 'brooklyn')]\n",
      "play\n"
     ]
    }
   ],
   "source": [
    "nyc = {'manhattan':'work', 'brooklyn':'play', 'best borough':'brooklyn'}\n",
    "\n",
    "# examine the dictionary\n",
    "print(type(nyc))\n",
    "print(nyc['brooklyn'])\n",
    "print(len(nyc))\n",
    "print(nyc.keys())\n",
    "print(nyc.values())\n",
    "print(nyc.items())\n",
    "print(nyc[nyc[\"best borough\"]]) #what happened here?"
   ]
  },
  {
   "cell_type": "markdown",
   "metadata": {},
   "source": [
    "Remember, `dicts` are unordered. So, working with a dict like you do with a list FAILS:"
   ]
  },
  {
   "cell_type": "code",
   "execution_count": 5,
   "metadata": {
    "collapsed": false
   },
   "outputs": [
    {
     "ename": "KeyError",
     "evalue": "0",
     "output_type": "error",
     "traceback": [
      "\u001b[0;31m---------------------------------------------------------------------------\u001b[0m",
      "\u001b[0;31mKeyError\u001b[0m                                  Traceback (most recent call last)",
      "\u001b[0;32m<ipython-input-5-5975a6f8346b>\u001b[0m in \u001b[0;36m<module>\u001b[0;34m()\u001b[0m\n\u001b[0;32m----> 1\u001b[0;31m \u001b[0;32mprint\u001b[0m\u001b[0;34m(\u001b[0m\u001b[0mnyc\u001b[0m\u001b[0;34m[\u001b[0m\u001b[0;36m0\u001b[0m\u001b[0;34m]\u001b[0m\u001b[0;34m)\u001b[0m\u001b[0;34m\u001b[0m\u001b[0m\n\u001b[0m",
      "\u001b[0;31mKeyError\u001b[0m: 0"
     ]
    }
   ],
   "source": [
    "print(nyc[0])"
   ]
  },
  {
   "cell_type": "markdown",
   "metadata": {},
   "source": [
    "However, you can modify dictionaries in a similar way to how you can modify lists:"
   ]
  },
  {
   "cell_type": "code",
   "execution_count": 12,
   "metadata": {
    "collapsed": false
   },
   "outputs": [
    {
     "name": "stdout",
     "output_type": "stream",
     "text": [
      "{'brooklyn': 'play', 'other boroughs': ['bronx', 'staten island'], 'best borough': 'queens', 'queens': 'baller status'}\n"
     ]
    }
   ],
   "source": [
    "nyc['queens'] = 'baller status'                    # add a new entry\n",
    "nyc['best borough'] = 'queens'                     # edit an existing entry\n",
    "del nyc['manhattan']                               # delete an entry using its key\n",
    "nyc['other boroughs'] = ['bronx', 'staten island'] # value can be a list\n",
    "\n",
    "# accessing a list element within a dictionary\n",
    "# print(nyc['other boroughs'][1])\n",
    "print(nyc)"
   ]
  },
  {
   "cell_type": "markdown",
   "metadata": {},
   "source": [
    "#### Exercise Time!\n",
    "* print the name of the best borough (in the dictionary).\n",
    "* create a new key-value pair for `SF` (give it any value you like)"
   ]
  },
  {
   "cell_type": "code",
   "execution_count": 13,
   "metadata": {
    "collapsed": false
   },
   "outputs": [
    {
     "name": "stdout",
     "output_type": "stream",
     "text": [
      "queens\n"
     ]
    }
   ],
   "source": [
    "print(nyc['best borough'])"
   ]
  },
  {
   "cell_type": "code",
   "execution_count": 69,
   "metadata": {
    "collapsed": false
   },
   "outputs": [],
   "source": [
    "sf = {\n",
    "     \"temperature\":70,\n",
    "      \"transit_options\":['muni','bart', 'caltrain'],\n",
    "      \"fav_city\": True,\n",
    "      \"sports_team\": {\"baseball\": \"Giants\", \"basketball\":\"Warriors\"\n",
    "    }\n",
    "}"
   ]
  },
  {
   "cell_type": "code",
   "execution_count": 70,
   "metadata": {
    "collapsed": false
   },
   "outputs": [
    {
     "name": "stdout",
     "output_type": "stream",
     "text": [
      "{u'basketball': u'Warriors', u'baseball': u'Giants'}\n"
     ]
    }
   ],
   "source": [
    "print(sf['sports_team'])"
   ]
  },
  {
   "cell_type": "markdown",
   "metadata": {},
   "source": [
    "### Functions"
   ]
  },
  {
   "cell_type": "markdown",
   "metadata": {},
   "source": [
    "Ok, so we've just been using functions (like `print`, `len`, `append`, `upper`, `capitalize`) without really explaining what they are or how they work. \n",
    "\n",
    "If you did the pre-work (you did it, right?), you should be pretty familiar with functions in Python. Nonetheless, here are some examples:"
   ]
  },
  {
   "cell_type": "code",
   "execution_count": 71,
   "metadata": {
    "collapsed": true
   },
   "outputs": [],
   "source": [
    "def give_me_one(): # function definition begins with the keyword def, ends with colon\n",
    "    return 1       # indentation required for function body to create proper function scope"
   ]
  },
  {
   "cell_type": "markdown",
   "metadata": {},
   "source": [
    "This is a really dumb function. It simply returns the `int` 1. Lets look at how it would work:"
   ]
  },
  {
   "cell_type": "code",
   "execution_count": 72,
   "metadata": {
    "collapsed": false
   },
   "outputs": [
    {
     "name": "stdout",
     "output_type": "stream",
     "text": [
      "1\n"
     ]
    }
   ],
   "source": [
    "print(give_me_one())"
   ]
  },
  {
   "cell_type": "markdown",
   "metadata": {},
   "source": [
    "To make a function \"do its work\", you need to **instantiate** it. That's what we did when we called `give_me_one` with `()` at the end. \n",
    "\n",
    "However, you can all a function without instantiating it too:"
   ]
  },
  {
   "cell_type": "code",
   "execution_count": 73,
   "metadata": {
    "collapsed": false
   },
   "outputs": [
    {
     "name": "stdout",
     "output_type": "stream",
     "text": [
      "The type of give_me_one is: <type 'function'>\n"
     ]
    },
    {
     "data": {
      "text/plain": [
       "<function __main__.give_me_one>"
      ]
     },
     "execution_count": 73,
     "metadata": {},
     "output_type": "execute_result"
    }
   ],
   "source": [
    "print(\"The type of give_me_one is:\",type(give_me_one))\n",
    "give_me_one"
   ]
  },
  {
   "cell_type": "markdown",
   "metadata": {},
   "source": [
    "And of course you can assign the result of a function to a new variable:"
   ]
  },
  {
   "cell_type": "code",
   "execution_count": 74,
   "metadata": {
    "collapsed": false
   },
   "outputs": [
    {
     "name": "stdout",
     "output_type": "stream",
     "text": [
      "1\n"
     ]
    }
   ],
   "source": [
    "dude = give_me_one()\n",
    "print(dude)"
   ]
  },
  {
   "cell_type": "markdown",
   "metadata": {},
   "source": [
    "You can also assign an uninstantiated function to a variable, and then instantiate that:"
   ]
  },
  {
   "cell_type": "code",
   "execution_count": 75,
   "metadata": {
    "collapsed": false
   },
   "outputs": [
    {
     "name": "stdout",
     "output_type": "stream",
     "text": [
      "<function give_me_one at 0x10462e398>\n",
      "Now we are going to instantiate another dude:\n"
     ]
    },
    {
     "data": {
      "text/plain": [
       "1"
      ]
     },
     "execution_count": 75,
     "metadata": {},
     "output_type": "execute_result"
    }
   ],
   "source": [
    "another_dude = give_me_one\n",
    "print(another_dude)\n",
    "print( \"Now we are going to instantiate another dude:\")\n",
    "another_dude()"
   ]
  },
  {
   "cell_type": "markdown",
   "metadata": {},
   "source": [
    "Pay attention to the syntax of `give_me_one`. \n",
    "\n",
    "Every function definition starts with the keyword `def` and ends with a colon (:). The actual function body **must be indented** to work properly. Furthermore, a function can have an optional `return` keyword, which tells you what the function returns (in this case the `int` 1).\n",
    "\n",
    "Functions dont have to return anything. Here's a dumb function that just prints \"Python is awesome\" without a `return` statement and doesnt return anything that you can then store in a variable:"
   ]
  },
  {
   "cell_type": "code",
   "execution_count": 81,
   "metadata": {
    "collapsed": true
   },
   "outputs": [],
   "source": [
    "def print_values(values):\n",
    "    return values + \".  Functions are great\""
   ]
  },
  {
   "cell_type": "code",
   "execution_count": 86,
   "metadata": {
    "collapsed": false
   },
   "outputs": [
    {
     "data": {
      "text/plain": [
       "u'Hello World.  Functions are great'"
      ]
     },
     "execution_count": 86,
     "metadata": {},
     "output_type": "execute_result"
    }
   ],
   "source": [
    "values = print_values(\"Hello World\")\n",
    "values"
   ]
  },
  {
   "cell_type": "code",
   "execution_count": 87,
   "metadata": {
    "collapsed": true
   },
   "outputs": [],
   "source": [
    "def print_python():\n",
    "    print(\"Python is awesome!\")"
   ]
  },
  {
   "cell_type": "code",
   "execution_count": 88,
   "metadata": {
    "collapsed": false
   },
   "outputs": [
    {
     "name": "stdout",
     "output_type": "stream",
     "text": [
      "Python is awesome!\n",
      "<type 'NoneType'>\n",
      "<type 'function'>\n",
      "Python is awesome!\n",
      "Python is awesome!\n",
      "None\n"
     ]
    }
   ],
   "source": [
    "print(type(print_python())) #The type of the instantiated function is NoneType because the function didnt return anything\n",
    "print(type(print_python))\n",
    "print_python()\n",
    "a_var = print_python()\n",
    "print(a_var)"
   ]
  },
  {
   "cell_type": "markdown",
   "metadata": {},
   "source": [
    "Here's another function. It's a bit more complicated, and has parameters that you pass into it:"
   ]
  },
  {
   "cell_type": "code",
   "execution_count": 89,
   "metadata": {
    "collapsed": true
   },
   "outputs": [],
   "source": [
    "def calc(x, y, op):         # three parameters (without any defaults)\n",
    "    if op == 'add':         # conditional statement\n",
    "        return x + y\n",
    "    elif op == 'subtract':\n",
    "        return x - y\n",
    "    else:\n",
    "        print('Valid operations: add, subtract')"
   ]
  },
  {
   "cell_type": "markdown",
   "metadata": {},
   "source": [
    "Let's test it on some input:"
   ]
  },
  {
   "cell_type": "code",
   "execution_count": 90,
   "metadata": {
    "collapsed": false
   },
   "outputs": [
    {
     "name": "stdout",
     "output_type": "stream",
     "text": [
      "8\n",
      "2\n",
      "Valid operations: add, subtract\n",
      "None\n"
     ]
    },
    {
     "ename": "TypeError",
     "evalue": "calc() takes exactly 3 arguments (2 given)",
     "output_type": "error",
     "traceback": [
      "\u001b[0;31m---------------------------------------------------------------------------\u001b[0m",
      "\u001b[0;31mTypeError\u001b[0m                                 Traceback (most recent call last)",
      "\u001b[0;32m<ipython-input-90-77cf02ded51e>\u001b[0m in \u001b[0;36m<module>\u001b[0;34m()\u001b[0m\n\u001b[1;32m      2\u001b[0m \u001b[0;32mprint\u001b[0m\u001b[0;34m(\u001b[0m\u001b[0mcalc\u001b[0m\u001b[0;34m(\u001b[0m\u001b[0;36m5\u001b[0m\u001b[0;34m,\u001b[0m \u001b[0;36m3\u001b[0m\u001b[0;34m,\u001b[0m \u001b[0;34m'subtract'\u001b[0m\u001b[0;34m)\u001b[0m\u001b[0;34m)\u001b[0m\u001b[0;34m\u001b[0m\u001b[0m\n\u001b[1;32m      3\u001b[0m \u001b[0;32mprint\u001b[0m\u001b[0;34m(\u001b[0m\u001b[0mcalc\u001b[0m\u001b[0;34m(\u001b[0m\u001b[0;36m5\u001b[0m\u001b[0;34m,\u001b[0m \u001b[0;36m3\u001b[0m\u001b[0;34m,\u001b[0m \u001b[0;34m'multiply'\u001b[0m\u001b[0;34m)\u001b[0m\u001b[0;34m)\u001b[0m\u001b[0;34m\u001b[0m\u001b[0m\n\u001b[0;32m----> 4\u001b[0;31m \u001b[0mcalc\u001b[0m\u001b[0;34m(\u001b[0m\u001b[0;36m5\u001b[0m\u001b[0;34m,\u001b[0m \u001b[0;36m3\u001b[0m\u001b[0;34m)\u001b[0m\u001b[0;34m\u001b[0m\u001b[0m\n\u001b[0m",
      "\u001b[0;31mTypeError\u001b[0m: calc() takes exactly 3 arguments (2 given)"
     ]
    }
   ],
   "source": [
    "print(calc(5, 3, 'add'))\n",
    "print(calc(5, 3, 'subtract'))\n",
    "print(calc(5, 3, 'multiply'))\n",
    "calc(5, 3)"
   ]
  },
  {
   "cell_type": "markdown",
   "metadata": {},
   "source": [
    "Why did we get a `TypeError Exception` for the last call here?\n",
    "\n",
    "This is because we had to pass 3 arguments to the `calc` function, as all of them were required (none of the parameters had default values). Let's make one of the parameters optional (by adding a default value) to fix this problem:"
   ]
  },
  {
   "cell_type": "code",
   "execution_count": 91,
   "metadata": {
    "collapsed": true
   },
   "outputs": [],
   "source": [
    "def calc_default_add(x, y, op=\"add\"): # three parameters (with addition being the default value for the 3rd parameter)\n",
    "    if op == 'add':         # conditional statement\n",
    "        return x + y\n",
    "    elif op == 'subtract':\n",
    "        return x - y\n",
    "    else:\n",
    "        print('Valid operations: add, subtract')"
   ]
  },
  {
   "cell_type": "code",
   "execution_count": 14,
   "metadata": {
    "collapsed": false
   },
   "outputs": [
    {
     "ename": "TypeError",
     "evalue": "Required argument 'iterable' (pos 1) not found",
     "output_type": "error",
     "traceback": [
      "\u001b[0;31m---------------------------------------------------------------------------\u001b[0m",
      "\u001b[0;31mTypeError\u001b[0m                                 Traceback (most recent call last)",
      "\u001b[0;32m<ipython-input-14-390005c92e1f>\u001b[0m in \u001b[0;36m<module>\u001b[0;34m()\u001b[0m\n\u001b[0;32m----> 1\u001b[0;31m \u001b[0msorted\u001b[0m\u001b[0;34m(\u001b[0m\u001b[0;34m)\u001b[0m\u001b[0;34m\u001b[0m\u001b[0m\n\u001b[0m",
      "\u001b[0;31mTypeError\u001b[0m: Required argument 'iterable' (pos 1) not found"
     ]
    }
   ],
   "source": [
    "sorted()"
   ]
  },
  {
   "cell_type": "code",
   "execution_count": 92,
   "metadata": {
    "collapsed": false
   },
   "outputs": [
    {
     "data": {
      "text/plain": [
       "8"
      ]
     },
     "execution_count": 92,
     "metadata": {},
     "output_type": "execute_result"
    }
   ],
   "source": [
    "calc_default_add(5, 3)"
   ]
  },
  {
   "cell_type": "markdown",
   "metadata": {},
   "source": [
    "Voila! It works as intended!\n",
    "\n",
    "Also, some more explanation. \n",
    "\n",
    "This function includes some **conditional** statements (`if`, `elif`, `else`) and tests for equality (the double equals sign `==`). Again, **pay attention to the indentation**. The indentation lets `Python` know about the scope of variables (where they can be used), and is required for your programs to work. If you don't indent properly, your code will throw errors."
   ]
  },
  {
   "cell_type": "markdown",
   "metadata": {},
   "source": [
    "#### Exercise Time!\n",
    "\n",
    "Write a couple functions:\n",
    "* One called `compute_pay` that takes two parameters (`hours` and `rate`), and returns the total pay.\n",
    "* One called `get_hours_worked` that takes two parameters (`total_pay` and `rate`) and returns the total hours worked."
   ]
  },
  {
   "cell_type": "code",
   "execution_count": 93,
   "metadata": {
    "collapsed": false
   },
   "outputs": [
    {
     "name": "stdout",
     "output_type": "stream",
     "text": [
      "420.0\n"
     ]
    }
   ],
   "source": [
    "def compute_pay(hours, rate):\n",
    "    return hours*rate\n",
    "\n",
    "print(compute_pay(40, 10.50))"
   ]
  },
  {
   "cell_type": "code",
   "execution_count": 15,
   "metadata": {
    "collapsed": false
   },
   "outputs": [
    {
     "name": "stdout",
     "output_type": "stream",
     "text": [
      "38.0952380952\n",
      "50\n"
     ]
    }
   ],
   "source": [
    "def get_hours_worked(total_pay,rate):\n",
    "    return total_pay / rate\n",
    "\n",
    "print(get_hours_worked(400,10.5))\n",
    "print(get_hours_worked(500,10))"
   ]
  },
  {
   "cell_type": "markdown",
   "metadata": {},
   "source": [
    "### For loops"
   ]
  },
  {
   "cell_type": "markdown",
   "metadata": {},
   "source": [
    "Ok, now we are going to talk about loops, which allow you to iterate (move across) objects like lists and strings.\n",
    "\n",
    "The basic loop in `Python` is what is called the `for` loop. It starts with the reserved keyword `for`:"
   ]
  },
  {
   "cell_type": "code",
   "execution_count": 98,
   "metadata": {
    "collapsed": false
   },
   "outputs": [
    {
     "name": "stdout",
     "output_type": "stream",
     "text": [
      "fav_city\n",
      "sports_team\n",
      "temperature\n",
      "transit_options\n"
     ]
    }
   ],
   "source": [
    "for item in sf.keys():\n",
    "    print(item)"
   ]
  },
  {
   "cell_type": "code",
   "execution_count": 100,
   "metadata": {
    "collapsed": false
   },
   "outputs": [
    {
     "name": "stdout",
     "output_type": "stream",
     "text": [
      "True\n",
      "{u'basketball': u'Warriors', u'baseball': u'Giants'}\n",
      "70\n",
      "[u'muni', u'bart', u'caltrain']\n"
     ]
    }
   ],
   "source": [
    "for item in sf.values():\n",
    "    print(item)"
   ]
  },
  {
   "cell_type": "code",
   "execution_count": 101,
   "metadata": {
    "collapsed": true
   },
   "outputs": [],
   "source": [
    "x = 5\n",
    "y = 10"
   ]
  },
  {
   "cell_type": "code",
   "execution_count": 102,
   "metadata": {
    "collapsed": true
   },
   "outputs": [],
   "source": [
    "x, y=y, x"
   ]
  },
  {
   "cell_type": "code",
   "execution_count": 103,
   "metadata": {
    "collapsed": true
   },
   "outputs": [],
   "source": [
    "sports={\"baseball\": \"Giants\", \"basketball\": \"Warriors\"}"
   ]
  },
  {
   "cell_type": "code",
   "execution_count": 104,
   "metadata": {
    "collapsed": false
   },
   "outputs": [
    {
     "data": {
      "text/plain": [
       "[(u'basketball', u'Warriors'), (u'baseball', u'Giants')]"
      ]
     },
     "execution_count": 104,
     "metadata": {},
     "output_type": "execute_result"
    }
   ],
   "source": [
    "sports.items()"
   ]
  },
  {
   "cell_type": "code",
   "execution_count": 105,
   "metadata": {
    "collapsed": false
   },
   "outputs": [
    {
     "name": "stdout",
     "output_type": "stream",
     "text": [
      "Sports basketball Team Warriors\n",
      "Sports baseball Team Giants\n"
     ]
    }
   ],
   "source": [
    "for key , val in sports.items():\n",
    "    print(\"Sports\", key, \"Team\", val)"
   ]
  },
  {
   "cell_type": "code",
   "execution_count": 96,
   "metadata": {
    "collapsed": false
   },
   "outputs": [
    {
     "name": "stdout",
     "output_type": "stream",
     "text": [
      "apples\n",
      "bananas\n",
      "oranges\n"
     ]
    }
   ],
   "source": [
    "for item in ['apples','bananas','oranges']:\n",
    "    print(item)"
   ]
  },
  {
   "cell_type": "code",
   "execution_count": 97,
   "metadata": {
    "collapsed": false
   },
   "outputs": [
    {
     "name": "stdout",
     "output_type": "stream",
     "text": [
      "0\n",
      "1\n",
      "2\n",
      "3\n",
      "4\n"
     ]
    }
   ],
   "source": [
    "for i in range(5):\n",
    "    print(i)"
   ]
  },
  {
   "cell_type": "markdown",
   "metadata": {},
   "source": [
    "Here we are simply printing the numbers 0-4 inclusive to the screen, one per line. \n",
    "\n",
    "Here's another example. This time, we are doing something to each `string` object we get from a `list` of `strings`:"
   ]
  },
  {
   "cell_type": "code",
   "execution_count": 106,
   "metadata": {
    "collapsed": false
   },
   "outputs": [
    {
     "name": "stdout",
     "output_type": "stream",
     "text": [
      "TJ\n",
      "RAMESH\n",
      "SERGEY\n",
      "TJ\n",
      "RAMESH\n",
      "SERGEY\n",
      "1\n",
      "2\n",
      "3\n",
      "4\n",
      "5\n",
      "1\n",
      "3\n",
      "5\n"
     ]
    }
   ],
   "source": [
    "# print each list element in uppercase\n",
    "people = ['TJ', 'Ramesh', 'Sergey']\n",
    "for i in range(len(people)):\n",
    "    print(people[i].upper())\n",
    "\n",
    "# does the same thing, BUT WAY WAY BETTER\n",
    "for i in people:\n",
    "    print(i.upper())\n",
    "\n",
    "# for loop to print 1 through 5\n",
    "nums = range(1, 6)      # create a list of 1 through 5\n",
    "for num in nums:        # num 'becomes' each list element for one loop\n",
    "    print(num)\n",
    "\n",
    "# for loop to print 1, 3, 5\n",
    "other = [1, 3, 5]       # create a different list\n",
    "for x in other:         # name 'x' does not matter\n",
    "    print(x)             # this loop only executes 3 times (not 5)"
   ]
  },
  {
   "cell_type": "markdown",
   "metadata": {},
   "source": [
    "#### Exercise Time!\n",
    "\n",
    "* write a for loop that adds 7 to each of the numbers 1-10 inclusive and prints the result to the screen"
   ]
  },
  {
   "cell_type": "code",
   "execution_count": 18,
   "metadata": {
    "collapsed": false
   },
   "outputs": [
    {
     "name": "stdout",
     "output_type": "stream",
     "text": [
      "8\n",
      "9\n",
      "10\n",
      "11\n",
      "12\n",
      "13\n",
      "14\n",
      "15\n",
      "16\n",
      "17\n"
     ]
    }
   ],
   "source": [
    "nums = range(1,11)\n",
    "for num in nums:\n",
    "    num7=num+7\n",
    "    print(num7)\n",
    "    "
   ]
  },
  {
   "cell_type": "markdown",
   "metadata": {},
   "source": [
    "### List comprehensions"
   ]
  },
  {
   "cell_type": "markdown",
   "metadata": {},
   "source": [
    "Many `for` loops can actually be converted into what are called list comprehensions, especially when you're trying to store the result of the `for` loop in a list.\n",
    "\n",
    "Imagine you wanted to collect all of the squares of the numbers 1-10 in a `list`. You could accomplish this in several ways.\n",
    "\n",
    "Here's a way to do it with `for` loops:"
   ]
  },
  {
   "cell_type": "code",
   "execution_count": 20,
   "metadata": {
    "collapsed": false
   },
   "outputs": [
    {
     "name": "stdout",
     "output_type": "stream",
     "text": [
      "[0, 1, 4, 9, 16, 25, 36, 49, 64, 81]\n"
     ]
    }
   ],
   "source": [
    "# range(10)\n",
    "squares = []\n",
    "for value in range(10):\n",
    "    squares.append( value ** 2)\n",
    "print(squares)"
   ]
  },
  {
   "cell_type": "code",
   "execution_count": 107,
   "metadata": {
    "collapsed": false
   },
   "outputs": [
    {
     "name": "stdout",
     "output_type": "stream",
     "text": [
      "For loop result: [1, 4, 9, 16, 25, 36, 49, 64, 81, 100]\n"
     ]
    }
   ],
   "source": [
    "squares = []                # create empty list to store results\n",
    "for num in range(1,11):     # loop through nums (will execute 10 times)\n",
    "    squares.append(num*num) # append the square of the current value of num\n",
    "print(\"For loop result:\",squares)"
   ]
  },
  {
   "cell_type": "markdown",
   "metadata": {},
   "source": [
    "And here's the equivalent list comprehension:"
   ]
  },
  {
   "cell_type": "code",
   "execution_count": 19,
   "metadata": {
    "collapsed": false
   },
   "outputs": [
    {
     "name": "stdout",
     "output_type": "stream",
     "text": [
      "('List comprehension result:', [1, 4, 9, 16, 25, 36, 49, 64, 81, 100])\n"
     ]
    }
   ],
   "source": [
    "better_squares = [num*num for num in range(1,11)] #exact same computation as above\n",
    "print(\"List comprehension result:\", better_squares)"
   ]
  },
  {
   "cell_type": "markdown",
   "metadata": {},
   "source": [
    "#### Exercise Time!\n",
    "\n",
    "* Given `words = ['yo','hello','awesome']` write a list comprehension that returns `[\"YO\",\"HELLO\",\"AWESOME\"]`\n",
    "* Given `word = \"fancy\"` write a list comprehension that returns `['F','A','N','C','Y']`\n",
    "* Write a function called `awesome_sauce` that prints the numbers from 1 to 100. However, for multiples of 2 it should print 'awesome' instead of the number, and for multiples of 7 it should print 'sauce' instead of the number, and dor numbers which are multiples of both 2 and 7 it must print 'awesome sauce!'."
   ]
  },
  {
   "cell_type": "code",
   "execution_count": 21,
   "metadata": {
    "collapsed": false
   },
   "outputs": [
    {
     "name": "stdout",
     "output_type": "stream",
     "text": [
      "['YO', 'HELLO', 'AWESOME']\n"
     ]
    }
   ],
   "source": [
    "words = ['yo', 'hello', 'awesome']\n",
    "capital_words = [word.upper() for word in words]\n",
    "print (capital_words)"
   ]
  },
  {
   "cell_type": "code",
   "execution_count": 35,
   "metadata": {
    "collapsed": false
   },
   "outputs": [
    {
     "data": {
      "text/plain": [
       "['F', 'A', 'N', 'C', 'Y']"
      ]
     },
     "execution_count": 35,
     "metadata": {},
     "output_type": "execute_result"
    }
   ],
   "source": [
    "# Here's one way of doing this, but it's apparently without using a list comprehension approach\n",
    "word = \"fancy\"\n",
    "list(word.upper())"
   ]
  },
  {
   "cell_type": "code",
   "execution_count": 36,
   "metadata": {
    "collapsed": false
   },
   "outputs": [
    {
     "data": {
      "text/plain": [
       "['F', 'A', 'N', 'C', 'Y']"
      ]
     },
     "execution_count": 36,
     "metadata": {},
     "output_type": "execute_result"
    }
   ],
   "source": [
    "# Another way of doing this that does seem to involve a list comprehension\n",
    "word =\"fancy\"\n",
    "[w for w in word.upper()]\n"
   ]
  },
  {
   "cell_type": "code",
   "execution_count": 68,
   "metadata": {
    "collapsed": false
   },
   "outputs": [
    {
     "name": "stdout",
     "output_type": "stream",
     "text": [
      "1\n",
      "awesome\n",
      "3\n",
      "awesome\n",
      "5\n",
      "awesome\n",
      "sauce\n",
      "awesome\n",
      "9\n",
      "awesome\n",
      "11\n",
      "awesome\n",
      "13\n",
      "awesome\n",
      "15\n",
      "awesome\n",
      "17\n",
      "awesome\n",
      "19\n",
      "awesome\n",
      "sauce\n",
      "awesome\n",
      "23\n",
      "awesome\n",
      "25\n",
      "awesome\n",
      "27\n",
      "awesome\n",
      "29\n",
      "awesome\n",
      "31\n",
      "awesome\n",
      "33\n",
      "awesome\n",
      "sauce\n",
      "awesome\n",
      "37\n",
      "awesome\n",
      "39\n",
      "awesome\n",
      "41\n",
      "awesome\n",
      "43\n",
      "awesome\n",
      "45\n",
      "awesome\n",
      "47\n",
      "awesome\n",
      "sauce\n",
      "awesome\n",
      "51\n",
      "awesome\n",
      "53\n",
      "awesome\n",
      "55\n",
      "awesome\n",
      "57\n",
      "awesome\n",
      "59\n",
      "awesome\n",
      "61\n",
      "awesome\n",
      "sauce\n",
      "awesome\n",
      "65\n",
      "awesome\n",
      "67\n",
      "awesome\n",
      "69\n",
      "awesome\n",
      "71\n",
      "awesome\n",
      "73\n",
      "awesome\n",
      "75\n",
      "awesome\n",
      "sauce\n",
      "awesome\n",
      "79\n",
      "awesome\n",
      "81\n",
      "awesome\n",
      "83\n",
      "awesome\n",
      "85\n",
      "awesome\n",
      "87\n",
      "awesome\n",
      "89\n",
      "awesome\n",
      "sauce\n",
      "awesome\n",
      "93\n",
      "awesome\n",
      "95\n",
      "awesome\n",
      "97\n",
      "awesome\n",
      "99\n",
      "awesome\n"
     ]
    }
   ],
   "source": [
    "def awesome_sauce():\n",
    "    for i in xrange(1, 101):\n",
    "        if i % 2 == 0:\n",
    "            print \"awesome\"\n",
    "        elif i % 7 == 0:\n",
    "            print \"sauce\"\n",
    "        #elif i % 14 == 0:\n",
    "        elif i % 2 == 0 and i % 7 == 0:\n",
    "            print \"awesome sauce!\"\n",
    "        else:\n",
    "            print i\n",
    "    \n",
    "awesome_sauce()\n",
    "# There is no number between 1 and 100 that is a multiple of both 2 and 7 (14, 28, etc ??) ?? There still seems\n",
    "# to be an error here that needs to be corrected"
   ]
  },
  {
   "cell_type": "code",
   "execution_count": 69,
   "metadata": {
    "collapsed": false
   },
   "outputs": [
    {
     "name": "stdout",
     "output_type": "stream",
     "text": [
      "1\n",
      "awesome\n",
      "3\n",
      "awesome\n",
      "5\n",
      "awesome\n",
      "sauce\n",
      "awesome\n",
      "9\n",
      "awesome\n",
      "11\n",
      "awesome\n",
      "13\n",
      "awesome sauce!\n",
      "15\n",
      "awesome\n",
      "17\n",
      "awesome\n",
      "19\n",
      "awesome\n",
      "sauce\n",
      "awesome\n",
      "23\n",
      "awesome\n",
      "25\n",
      "awesome\n",
      "27\n",
      "awesome sauce!\n",
      "29\n",
      "awesome\n",
      "31\n",
      "awesome\n",
      "33\n",
      "awesome\n",
      "sauce\n",
      "awesome\n",
      "37\n",
      "awesome\n",
      "39\n",
      "awesome\n",
      "41\n",
      "awesome sauce!\n",
      "43\n",
      "awesome\n",
      "45\n",
      "awesome\n",
      "47\n",
      "awesome\n",
      "sauce\n",
      "awesome\n",
      "51\n",
      "awesome\n",
      "53\n",
      "awesome\n",
      "55\n",
      "awesome sauce!\n",
      "57\n",
      "awesome\n",
      "59\n",
      "awesome\n",
      "61\n",
      "awesome\n",
      "sauce\n",
      "awesome\n",
      "65\n",
      "awesome\n",
      "67\n",
      "awesome\n",
      "69\n",
      "awesome sauce!\n",
      "71\n",
      "awesome\n",
      "73\n",
      "awesome\n",
      "75\n",
      "awesome\n",
      "sauce\n",
      "awesome\n",
      "79\n",
      "awesome\n",
      "81\n",
      "awesome\n",
      "83\n",
      "awesome sauce!\n",
      "85\n",
      "awesome\n",
      "87\n",
      "awesome\n",
      "89\n",
      "awesome\n",
      "sauce\n",
      "awesome\n",
      "93\n",
      "awesome\n",
      "95\n",
      "awesome\n",
      "97\n",
      "awesome sauce!\n",
      "99\n",
      "awesome\n"
     ]
    }
   ],
   "source": [
    "def awesome_sauce():\n",
    "    for i in xrange(1, 101):\n",
    "        if i % 14 == 0:\n",
    "            print \"awesome sauce!\"\n",
    "        elif i % 7 == 0:\n",
    "            print \"sauce\"\n",
    "        elif i % 2 == 0:\n",
    "            print \"awesome\"\n",
    "        else:\n",
    "            print i\n",
    "    \n",
    "awesome_sauce()\n",
    "# This attempt seems to work unlike the one above for some reason.\n",
    "# See https://www.rosettacode.org/wiki/FizzBuzz#Python for further possibilities"
   ]
  },
  {
   "cell_type": "markdown",
   "metadata": {},
   "source": [
    "### Loading things in from a file or the internet"
   ]
  },
  {
   "cell_type": "markdown",
   "metadata": {},
   "source": [
    "The data you work with as a data scientist needs to come from somewhere.\n",
    "\n",
    "Here's a simple way to get some data from a file:"
   ]
  },
  {
   "cell_type": "code",
   "execution_count": 2,
   "metadata": {
    "collapsed": false
   },
   "outputs": [
    {
     "name": "stdout",
     "output_type": "stream",
     "text": [
      "['63.03 22.55 39.61 40.48 98.67 -0.25 AB']\n",
      "['39.06 10.06 25.02 29 114.41 4.56 AB']\n",
      "['68.83 22.22 50.09 46.61 105.99 -3.53 AB']\n",
      "['69.3 24.65 44.31 44.64 101.87 11.21 AB']\n",
      "['49.71 9.65 28.32 40.06 108.17 7.92 AB']\n",
      "['40.25 13.92 25.12 26.33 130.33 2.23 AB']\n",
      "['53.43 15.86 37.17 37.57 120.57 5.99 AB']\n",
      "['45.37 10.76 29.04 34.61 117.27 -10.68 AB']\n",
      "['43.79 13.53 42.69 30.26 125 13.29 AB']\n",
      "['36.69 5.01 41.95 31.68 84.24 0.66 AB']\n",
      "['49.71 13.04 31.33 36.67 108.65 -7.83 AB']\n",
      "['31.23 17.72 15.5 13.52 120.06 0.5 AB']\n",
      "['48.92 19.96 40.26 28.95 119.32 8.03 AB']\n",
      "['53.57 20.46 33.1 33.11 110.97 7.04 AB']\n",
      "['57.3 24.19 47 33.11 116.81 5.77 AB']\n",
      "['44.32 12.54 36.1 31.78 124.12 5.42 AB']\n",
      "['63.83 20.36 54.55 43.47 112.31 -0.62 AB']\n",
      "['31.28 3.14 32.56 28.13 129.01 3.62 AB']\n",
      "['38.7 13.44 31 25.25 123.16 1.43 AB']\n",
      "['41.73 12.25 30.12 29.48 116.59 -1.24 AB']\n",
      "['43.92 14.18 37.83 29.74 134.46 6.45 AB']\n",
      "['54.92 21.06 42.2 33.86 125.21 2.43 AB']\n",
      "['63.07 24.41 54 38.66 106.42 15.78 AB']\n",
      "['45.54 13.07 30.3 32.47 117.98 -4.99 AB']\n",
      "['36.13 22.76 29 13.37 115.58 -3.24 AB']\n",
      "['54.12 26.65 35.33 27.47 121.45 1.57 AB']\n",
      "['26.15 10.76 14 15.39 125.2 -10.09 AB']\n",
      "['43.58 16.51 47 27.07 109.27 8.99 AB']\n",
      "['44.55 21.93 26.79 22.62 111.07 2.65 AB']\n",
      "['66.88 24.89 49.28 41.99 113.48 -2.01 AB']\n",
      "['50.82 15.4 42.53 35.42 112.19 10.87 AB']\n",
      "['46.39 11.08 32.14 35.31 98.77 6.39 AB']\n",
      "['44.94 17.44 27.78 27.49 117.98 5.57 AB']\n",
      "['38.66 12.99 40 25.68 124.91 2.7 AB']\n",
      "['59.6 32 46.56 27.6 119.33 1.47 AB']\n",
      "['31.48 7.83 24.28 23.66 113.83 4.39 AB']\n",
      "['32.09 6.99 36 25.1 132.26 6.41 AB']\n",
      "['35.7 19.44 20.7 16.26 137.54 -0.26 AB']\n",
      "['55.84 28.85 47.69 27 123.31 2.81 AB']\n",
      "['52.42 19.01 35.87 33.41 116.56 1.69 AB']\n",
      "['35.49 11.7 15.59 23.79 106.94 -3.46 AB']\n",
      "['46.44 8.4 29.04 38.05 115.48 2.05 AB']\n",
      "['53.85 19.23 32.78 34.62 121.67 5.33 AB']\n",
      "['66.29 26.33 47.5 39.96 121.22 -0.8 AB']\n",
      "['56.03 16.3 62.28 39.73 114.02 -2.33 AB']\n",
      "['50.91 23.02 47 27.9 117.42 -2.53 AB']\n",
      "['48.33 22.23 36.18 26.1 117.38 6.48 AB']\n",
      "['41.35 16.58 30.71 24.78 113.27 -4.5 AB']\n",
      "['40.56 17.98 34 22.58 121.05 -1.54 AB']\n",
      "['41.77 17.9 20.03 23.87 118.36 2.06 AB']\n",
      "['55.29 20.44 34 34.85 115.88 3.56 AB']\n",
      "['74.43 41.56 27.7 32.88 107.95 5 AB']\n",
      "['50.21 29.76 36.1 20.45 128.29 5.74 AB']\n",
      "['30.15 11.92 34 18.23 112.68 11.46 AB']\n",
      "['41.17 17.32 33.47 23.85 116.38 -9.57 AB']\n",
      "['47.66 13.28 36.68 34.38 98.25 6.27 AB']\n",
      "['43.35 7.47 28.07 35.88 112.78 5.75 AB']\n",
      "['46.86 15.35 38 31.5 116.25 1.66 AB']\n",
      "['43.2 19.66 35 23.54 124.85 -2.92 AB']\n",
      "['48.11 14.93 35.56 33.18 124.06 7.95 AB']\n",
      "['74.38 32.05 78.77 42.32 143.56 56.13 AB']\n",
      "['89.68 32.7 83.13 56.98 129.96 92.03 AB']\n",
      "['44.53 9.43 52 35.1 134.71 29.11 AB']\n",
      "['77.69 21.38 64.43 56.31 114.82 26.93 AB']\n",
      "['76.15 21.94 82.96 54.21 123.93 10.43 AB']\n",
      "['83.93 41.29 62 42.65 115.01 26.59 AB']\n",
      "['78.49 22.18 60 56.31 118.53 27.38 AB']\n",
      "['75.65 19.34 64.15 56.31 95.9 69.55 AB']\n",
      "['72.08 18.95 51 53.13 114.21 1.01 AB']\n",
      "['58.6 -0.26 51.5 58.86 102.04 28.06 AB']\n",
      "['72.56 17.39 52 55.18 119.19 32.11 AB']\n",
      "['86.9 32.93 47.79 53.97 135.08 101.72 AB']\n",
      "['84.97 33.02 60.86 51.95 125.66 74.33 AB']\n",
      "['55.51 20.1 44 35.42 122.65 34.55 AB']\n",
      "['72.22 23.08 91 49.14 137.74 56.8 AB']\n",
      "['70.22 39.82 68.12 30.4 148.53 145.38 AB']\n",
      "['86.75 36.04 69.22 50.71 139.41 110.86 AB']\n",
      "['58.78 7.67 53.34 51.12 98.5 51.58 AB']\n",
      "['67.41 17.44 60.14 49.97 111.12 33.16 AB']\n",
      "['47.74 12.09 39 35.66 117.51 21.68 AB']\n",
      "['77.11 30.47 69.48 46.64 112.15 70.76 AB']\n",
      "['74.01 21.12 57.38 52.88 120.21 74.56 AB']\n",
      "['88.62 29.09 47.56 59.53 121.76 51.81 AB']\n",
      "['81.1 24.79 77.89 56.31 151.84 65.21 AB']\n",
      "['76.33 42.4 57.2 33.93 124.27 50.13 AB']\n",
      "['45.44 9.91 45 35.54 163.07 20.32 AB']\n",
      "['59.79 17.88 59.21 41.91 119.32 22.12 AB']\n",
      "['44.91 10.22 44.63 34.7 130.08 37.36 AB']\n",
      "['56.61 16.8 42 39.81 127.29 24.02 AB']\n",
      "['71.19 23.9 43.7 47.29 119.86 27.28 AB']\n",
      "['81.66 28.75 58.23 52.91 114.77 30.61 AB']\n",
      "['70.95 20.16 62.86 50.79 116.18 32.52 AB']\n",
      "['85.35 15.84 71.67 69.51 124.42 76.02 AB']\n",
      "['58.1 14.84 79.65 43.26 113.59 50.24 AB']\n",
      "['94.17 15.38 67.71 78.79 114.89 53.26 AB']\n",
      "['57.52 33.65 50.91 23.88 140.98 148.75 AB']\n",
      "['96.66 19.46 90.21 77.2 120.67 64.08 AB']\n",
      "['74.72 19.76 82.74 54.96 109.36 33.31 AB']\n",
      "['77.66 22.43 93.89 55.22 123.06 61.21 AB']\n",
      "['58.52 13.92 41.47 44.6 115.51 30.39 AB']\n",
      "['84.59 30.36 65.48 54.22 108.01 25.12 AB']\n",
      "['79.94 18.77 63.31 61.16 114.79 38.54 AB']\n",
      "['70.4 13.47 61.2 56.93 102.34 25.54 AB']\n",
      "['49.78 6.47 53 43.32 110.86 25.34 AB']\n",
      "['77.41 29.4 63.23 48.01 118.45 93.56 AB']\n",
      "['65.01 27.6 50.95 37.41 116.58 7.02 AB']\n",
      "['65.01 9.84 57.74 55.18 94.74 49.7 AB']\n",
      "['78.43 33.43 76.28 45 138.55 77.16 AB']\n",
      "['63.17 6.33 63 56.84 110.64 42.61 AB']\n",
      "['68.61 15.08 63.01 53.53 123.43 39.5 AB']\n",
      "['63.9 13.71 62.12 50.19 114.13 41.42 AB']\n",
      "['85 29.61 83.35 55.39 126.91 71.32 AB']\n",
      "['42.02 -6.55 67.9 48.58 111.59 27.34 AB']\n",
      "['69.76 19.28 48.5 50.48 96.49 51.17 AB']\n",
      "['80.99 36.84 86.96 44.14 141.09 85.87 AB']\n",
      "['129.83 8.4 48.38 121.43 107.69 418.54 AB']\n",
      "['70.48 12.49 62.42 57.99 114.19 56.9 AB']\n",
      "['86.04 38.75 47.87 47.29 122.09 61.99 AB']\n",
      "['65.54 24.16 45.78 41.38 136.44 16.38 AB']\n",
      "['60.75 15.75 43.2 45 113.05 31.69 AB']\n",
      "['54.74 12.1 41 42.65 117.64 40.38 AB']\n",
      "['83.88 23.08 87.14 60.8 124.65 80.56 AB']\n",
      "['80.07 48.07 52.4 32.01 110.71 67.73 AB']\n",
      "['65.67 10.54 56.49 55.12 109.16 53.93 AB']\n",
      "['74.72 14.32 32.5 60.4 107.18 37.02 AB']\n",
      "['48.06 5.69 57.06 42.37 95.44 32.84 AB']\n",
      "['70.68 21.7 59.18 48.97 103.01 27.81 AB']\n",
      "['80.43 17 66.54 63.43 116.44 57.78 AB']\n",
      "['90.51 28.27 69.81 62.24 100.89 58.82 AB']\n",
      "['77.24 16.74 49.78 60.5 110.69 39.79 AB']\n",
      "['50.07 9.12 32.17 40.95 99.71 26.77 AB']\n",
      "['69.78 13.78 58 56 118.93 17.91 AB']\n",
      "['69.63 21.12 52.77 48.5 116.8 54.82 AB']\n",
      "['81.75 20.12 70.56 61.63 119.43 55.51 AB']\n",
      "['52.2 17.21 78.09 34.99 136.97 54.94 AB']\n",
      "['77.12 30.35 77.48 46.77 110.61 82.09 AB']\n",
      "['88.02 39.84 81.77 48.18 116.6 56.77 AB']\n",
      "['83.4 34.31 78.42 49.09 110.47 49.67 AB']\n",
      "['72.05 24.7 79.87 47.35 107.17 56.43 AB']\n",
      "['85.1 21.07 91.73 64.03 109.06 38.03 AB']\n",
      "['69.56 15.4 74.44 54.16 105.07 29.7 AB']\n",
      "['89.5 48.9 72 40.6 134.63 118.35 AB']\n",
      "['85.29 18.28 100.74 67.01 110.66 58.88 AB']\n",
      "['60.63 20.6 64.54 40.03 117.23 104.86 AB']\n",
      "['60.04 14.31 58.04 45.73 105.13 30.41 AB']\n",
      "['85.64 42.69 78.75 42.95 105.14 42.89 AB']\n",
      "['85.58 30.46 78.23 55.12 114.87 68.38 AB']\n",
      "['55.08 -3.76 56 58.84 109.92 31.77 AB']\n",
      "['65.76 9.83 50.82 55.92 104.39 39.31 AB']\n",
      "['79.25 23.94 40.8 55.3 98.62 36.71 AB']\n",
      "['81.11 20.69 60.69 60.42 94.02 40.51 AB']\n",
      "['48.03 3.97 58.34 44.06 125.35 35 AB']\n",
      "['63.4 14.12 48.14 49.29 111.92 31.78 AB']\n",
      "['57.29 15.15 64 42.14 116.74 30.34 AB']\n",
      "['41.19 5.79 42.87 35.39 103.35 27.66 AB']\n",
      "['66.8 14.55 72.08 52.25 82.46 41.69 AB']\n",
      "['79.48 26.73 70.65 52.74 118.59 61.7 AB']\n",
      "['44.22 1.51 46.11 42.71 108.63 42.81 AB']\n",
      "['57.04 0.35 49.2 56.69 103.05 52.17 AB']\n",
      "['64.27 12.51 68.7 51.77 95.25 39.41 AB']\n",
      "['92.03 35.39 77.42 56.63 115.72 58.06 AB']\n",
      "['67.26 7.19 51.7 60.07 97.8 42.14 AB']\n",
      "['118.14 38.45 50.84 79.7 81.02 74.04 AB']\n",
      "['115.92 37.52 76.8 78.41 104.7 81.2 AB']\n",
      "['53.94 9.31 43.1 44.64 124.4 25.08 AB']\n",
      "['83.7 20.27 77.11 63.43 125.48 69.28 AB']\n",
      "['56.99 6.87 57.01 50.12 109.98 36.81 AB']\n",
      "['72.34 16.42 59.87 55.92 70.08 12.07 AB']\n",
      "['95.38 24.82 95.16 70.56 89.31 57.66 AB']\n",
      "['44.25 1.1 38 43.15 98.27 23.91 AB']\n",
      "['64.81 15.17 58.84 49.64 111.68 21.41 AB']\n",
      "['78.4 14.04 79.69 64.36 104.73 12.39 AB']\n",
      "['56.67 13.46 43.77 43.21 93.69 21.11 AB']\n",
      "['50.83 9.06 56.3 41.76 79 23.04 AB']\n",
      "['61.41 25.38 39.1 36.03 103.4 21.84 AB']\n",
      "['56.56 8.96 52.58 47.6 98.78 50.7 AB']\n",
      "['67.03 13.28 66.15 53.75 100.72 33.99 AB']\n",
      "['80.82 19.24 61.64 61.58 89.47 44.17 AB']\n",
      "['80.65 26.34 60.9 54.31 120.1 52.47 AB']\n",
      "['68.72 49.43 68.06 19.29 125.02 54.69 AB']\n",
      "['37.9 4.48 24.71 33.42 157.85 33.61 AB']\n",
      "['64.62 15.23 67.63 49.4 90.3 31.33 AB']\n",
      "['75.44 31.54 89.6 43.9 106.83 54.97 AB']\n",
      "['71 37.52 84.54 33.49 125.16 67.77 AB']\n",
      "['81.06 20.8 91.78 60.26 125.43 38.18 AB']\n",
      "['91.47 24.51 84.62 66.96 117.31 52.62 AB']\n",
      "['81.08 21.26 78.77 59.83 90.07 49.16 AB']\n",
      "['60.42 5.27 59.81 55.15 109.03 30.27 AB']\n",
      "['85.68 38.65 82.68 47.03 120.84 61.96 AB']\n",
      "['82.41 29.28 77.05 53.13 117.04 62.77 AB']\n",
      "['43.72 9.81 52 33.91 88.43 40.88 AB']\n",
      "['86.47 40.3 61.14 46.17 97.4 55.75 AB']\n",
      "['74.47 33.28 66.94 41.19 146.47 124.98 AB']\n",
      "['70.25 10.34 76.37 59.91 119.24 32.67 AB']\n",
      "['72.64 18.93 68 53.71 116.96 25.38 AB']\n",
      "['71.24 5.27 86 65.97 110.7 38.26 AB']\n",
      "['63.77 12.76 65.36 51.01 89.82 56 AB']\n",
      "['58.83 37.58 125.74 21.25 135.63 117.31 AB']\n",
      "['74.85 13.91 62.69 60.95 115.21 33.17 AB']\n",
      "['75.3 16.67 61.3 58.63 118.88 31.58 AB']\n",
      "['63.36 20.02 67.5 43.34 131 37.56 AB']\n",
      "['67.51 33.28 96.28 34.24 145.6 88.3 AB']\n",
      "['76.31 41.93 93.28 34.38 132.27 101.22 AB']\n",
      "['73.64 9.71 63 63.92 98.73 26.98 AB']\n",
      "['56.54 14.38 44.99 42.16 101.72 25.77 AB']\n",
      "['80.11 33.94 85.1 46.17 125.59 100.29 AB']\n",
      "['95.48 46.55 59 48.93 96.68 77.28 AB']\n",
      "['74.09 18.82 76.03 55.27 128.41 73.39 AB']\n",
      "['87.68 20.37 93.82 67.31 120.94 76.73 AB']\n",
      "['48.26 16.42 36.33 31.84 94.88 28.34 AB']\n",
      "['38.51 16.96 35.11 21.54 127.63 7.99 NO']\n",
      "['54.92 18.97 51.6 35.95 125.85 2 NO']\n",
      "['44.36 8.95 46.9 35.42 129.22 4.99 NO']\n",
      "['48.32 17.45 48 30.87 128.98 -0.91 NO']\n",
      "['45.7 10.66 42.58 35.04 130.18 -3.39 NO']\n",
      "['30.74 13.35 35.9 17.39 142.41 -2.01 NO']\n",
      "['50.91 6.68 30.9 44.24 118.15 -1.06 NO']\n",
      "['38.13 6.56 50.45 31.57 132.11 6.34 NO']\n",
      "['51.62 15.97 35 35.66 129.39 1.01 NO']\n",
      "['64.31 26.33 50.96 37.98 106.18 3.12 NO']\n",
      "['44.49 21.79 31.47 22.7 113.78 -0.28 NO']\n",
      "['54.95 5.87 53 49.09 126.97 -0.63 NO']\n",
      "['56.1 13.11 62.64 43 116.23 31.17 NO']\n",
      "['69.4 18.9 75.97 50.5 103.58 -0.44 NO']\n",
      "['89.83 22.64 90.56 67.2 100.5 3.04 NO']\n",
      "['59.73 7.72 55.34 52 125.17 3.24 NO']\n",
      "['63.96 16.06 63.12 47.9 142.36 6.3 NO']\n",
      "['61.54 19.68 52.89 41.86 118.69 4.82 NO']\n",
      "['38.05 8.3 26.24 29.74 123.8 3.89 NO']\n",
      "['43.44 10.1 36.03 33.34 137.44 -3.11 NO']\n",
      "['65.61 23.14 62.58 42.47 124.13 -4.08 NO']\n",
      "['53.91 12.94 39 40.97 118.19 5.07 NO']\n",
      "['43.12 13.82 40.35 29.3 128.52 0.97 NO']\n",
      "['40.68 9.15 31.02 31.53 139.12 -2.51 NO']\n",
      "['37.73 9.39 42 28.35 135.74 13.68 NO']\n",
      "['63.93 19.97 40.18 43.96 113.07 -11.06 NO']\n",
      "['61.82 13.6 64 48.22 121.78 1.3 NO']\n",
      "['62.14 13.96 58 48.18 133.28 4.96 NO']\n",
      "['69 13.29 55.57 55.71 126.61 10.83 NO']\n",
      "['56.45 19.44 43.58 37 139.19 -1.86 NO']\n",
      "['41.65 8.84 36.03 32.81 116.56 -6.05 NO']\n",
      "['51.53 13.52 35 38.01 126.72 13.93 NO']\n",
      "['39.09 5.54 26.93 33.55 131.58 -0.76 NO']\n",
      "['34.65 7.51 43 27.14 123.99 -4.08 NO']\n",
      "['63.03 27.34 51.61 35.69 114.51 7.44 NO']\n",
      "['47.81 10.69 54 37.12 125.39 -0.4 NO']\n",
      "['46.64 15.85 40 30.78 119.38 9.06 NO']\n",
      "['49.83 16.74 28 33.09 121.44 1.91 NO']\n",
      "['47.32 8.57 35.56 38.75 120.58 1.63 NO']\n",
      "['50.75 20.24 37 30.52 122.34 2.29 NO']\n",
      "['36.16 -0.81 33.63 36.97 135.94 -2.09 NO']\n",
      "['40.75 1.84 50 38.91 139.25 0.67 NO']\n",
      "['42.92 -5.85 58 48.76 121.61 -3.36 NO']\n",
      "['63.79 21.35 66 42.45 119.55 12.38 NO']\n",
      "['72.96 19.58 61.01 53.38 111.23 0.81 NO']\n",
      "['67.54 14.66 58 52.88 123.63 25.97 NO']\n",
      "['54.75 9.75 48 45 123.04 8.24 NO']\n",
      "['50.16 -2.97 42 53.13 131.8 -8.29 NO']\n",
      "['40.35 10.19 37.97 30.15 128.01 0.46 NO']\n",
      "['63.62 16.93 49.35 46.68 117.09 -0.36 NO']\n",
      "['54.14 11.94 43 42.21 122.21 0.15 NO']\n",
      "['74.98 14.92 53.73 60.05 105.65 1.59 NO']\n",
      "['42.52 14.38 25.32 28.14 128.91 0.76 NO']\n",
      "['33.79 3.68 25.5 30.11 128.33 -1.78 NO']\n",
      "['54.5 6.82 47 47.68 111.79 -4.41 NO']\n",
      "['48.17 9.59 39.71 38.58 135.62 5.36 NO']\n",
      "['46.37 10.22 42.7 36.16 121.25 -0.54 NO']\n",
      "['52.86 9.41 46.99 43.45 123.09 1.86 NO']\n",
      "['57.15 16.49 42.84 40.66 113.81 5.02 NO']\n",
      "['37.14 16.48 24 20.66 125.01 7.37 NO']\n",
      "['51.31 8.88 57 42.44 126.47 -2.14 NO']\n",
      "['42.52 16.54 42 25.97 120.63 7.88 NO']\n",
      "['39.36 7.01 37 32.35 117.82 1.9 NO']\n",
      "['35.88 1.11 43.46 34.77 126.92 -1.63 NO']\n",
      "['43.19 9.98 28.94 33.22 123.47 1.74 NO']\n",
      "['67.29 16.72 51 50.57 137.59 4.96 NO']\n",
      "['51.33 13.63 33.26 37.69 131.31 1.79 NO']\n",
      "['65.76 13.21 44 52.55 129.39 -1.98 NO']\n",
      "['40.41 -1.33 30.98 41.74 119.34 -6.17 NO']\n",
      "['48.8 18.02 52 30.78 139.15 10.44 NO']\n",
      "['50.09 13.43 34.46 36.66 119.13 3.09 NO']\n",
      "['64.26 14.5 43.9 49.76 115.39 5.95 NO']\n",
      "['53.68 13.45 41.58 40.24 113.91 2.74 NO']\n",
      "['49 13.11 51.87 35.88 126.4 0.54 NO']\n",
      "['59.17 14.56 43.2 44.6 121.04 2.83 NO']\n",
      "['67.8 16.55 43.26 51.25 119.69 4.87 NO']\n",
      "['61.73 17.11 46.9 44.62 120.92 3.09 NO']\n",
      "['33.04 -0.32 19.07 33.37 120.39 9.35 NO']\n",
      "['74.57 15.72 58.62 58.84 105.42 0.6 NO']\n",
      "['44.43 14.17 32.24 30.26 131.72 -3.6 NO']\n",
      "['36.42 13.88 20.24 22.54 126.08 0.18 NO']\n",
      "['51.08 14.21 35.95 36.87 115.8 6.91 NO']\n",
      "['34.76 2.63 29.5 32.12 127.14 -0.46 NO']\n",
      "['48.9 5.59 55.5 43.32 137.11 19.85 NO']\n",
      "['46.24 10.06 37 36.17 128.06 -5.1 NO']\n",
      "['46.43 6.62 48.1 39.81 130.35 2.45 NO']\n",
      "['39.66 16.21 36.67 23.45 131.92 -4.97 NO']\n",
      "['45.58 18.76 33.77 26.82 116.8 3.13 NO']\n",
      "['66.51 20.9 31.73 45.61 128.9 1.52 NO']\n",
      "['82.91 29.89 58.25 53.01 110.71 6.08 NO']\n",
      "['50.68 6.46 35 44.22 116.59 -0.21 NO']\n",
      "['89.01 26.08 69.02 62.94 111.48 6.06 NO']\n",
      "['54.6 21.49 29.36 33.11 118.34 -1.47 NO']\n",
      "['34.38 2.06 32.39 32.32 128.3 -3.37 NO']\n",
      "['45.08 12.31 44.58 32.77 147.89 -8.94 NO']\n",
      "['47.9 13.62 36 34.29 117.45 -4.25 NO']\n",
      "['53.94 20.72 29.22 33.22 114.37 -0.42 NO']\n",
      "['61.45 22.69 46.17 38.75 125.67 -2.71 NO']\n",
      "['45.25 8.69 41.58 36.56 118.55 0.21 NO']\n",
      "['33.84 5.07 36.64 28.77 123.95 -0.2 NO']\n"
     ]
    }
   ],
   "source": [
    "#imports to make things work properly\n",
    "import csv\n",
    "import requests\n",
    "\n",
    "with open('../data/vertebral_column_2_categories.dat', 'r') as f:\n",
    "    vertebral_data = [row for row in csv.reader(f)]\n",
    "\n",
    "for line in vertebral_data:\n",
    "    print(line)"
   ]
  },
  {
   "cell_type": "markdown",
   "metadata": {},
   "source": [
    "And heres a way to get data from the internet:"
   ]
  },
  {
   "cell_type": "code",
   "execution_count": 3,
   "metadata": {
    "collapsed": false
   },
   "outputs": [
    {
     "name": "stdout",
     "output_type": "stream",
     "text": [
      "5.1,3.5,1.4,0.2,Iris-setosa\n",
      "4.9,3.0,1.4,0.2,Iris-setosa\n",
      "4.7,3.2,1.3,0.2,Iris-setosa\n",
      "4.6,3.1,1.5,0.2,Iris-setosa\n",
      "5.0,3.6,1.4,0.2,Iris-setosa\n",
      "5.4,3.9,1.7,0.4,Iris-setosa\n",
      "4.6,3.4,1.4,0.3,Iris-setosa\n",
      "5.0,3.4,1.5,0.2,Iris-setosa\n",
      "4.4,2.9,1.4,0.2,Iris-setosa\n",
      "4.9,3.1,1.5,0.1,Iris-setosa\n",
      "5.4,3.7,1.5,0.2,Iris-setosa\n",
      "4.8,3.4,1.6,0.2,Iris-setosa\n",
      "4.8,3.0,1.4,0.1,Iris-setosa\n",
      "4.3,3.0,1.1,0.1,Iris-setosa\n",
      "5.8,4.0,1.2,0.2,Iris-setosa\n",
      "5.7,4.4,1.5,0.4,Iris-setosa\n",
      "5.4,3.9,1.3,0.4,Iris-setosa\n",
      "5.1,3.5,1.4,0.3,Iris-setosa\n",
      "5.7,3.8,1.7,0.3,Iris-setosa\n",
      "5.1,3.8,1.5,0.3,Iris-setosa\n",
      "5.4,3.4,1.7,0.2,Iris-setosa\n",
      "5.1,3.7,1.5,0.4,Iris-setosa\n",
      "4.6,3.6,1.0,0.2,Iris-setosa\n",
      "5.1,3.3,1.7,0.5,Iris-setosa\n",
      "4.8,3.4,1.9,0.2,Iris-setosa\n",
      "5.0,3.0,1.6,0.2,Iris-setosa\n",
      "5.0,3.4,1.6,0.4,Iris-setosa\n",
      "5.2,3.5,1.5,0.2,Iris-setosa\n",
      "5.2,3.4,1.4,0.2,Iris-setosa\n",
      "4.7,3.2,1.6,0.2,Iris-setosa\n",
      "4.8,3.1,1.6,0.2,Iris-setosa\n",
      "5.4,3.4,1.5,0.4,Iris-setosa\n",
      "5.2,4.1,1.5,0.1,Iris-setosa\n",
      "5.5,4.2,1.4,0.2,Iris-setosa\n",
      "4.9,3.1,1.5,0.1,Iris-setosa\n",
      "5.0,3.2,1.2,0.2,Iris-setosa\n",
      "5.5,3.5,1.3,0.2,Iris-setosa\n",
      "4.9,3.1,1.5,0.1,Iris-setosa\n",
      "4.4,3.0,1.3,0.2,Iris-setosa\n",
      "5.1,3.4,1.5,0.2,Iris-setosa\n",
      "5.0,3.5,1.3,0.3,Iris-setosa\n",
      "4.5,2.3,1.3,0.3,Iris-setosa\n",
      "4.4,3.2,1.3,0.2,Iris-setosa\n",
      "5.0,3.5,1.6,0.6,Iris-setosa\n",
      "5.1,3.8,1.9,0.4,Iris-setosa\n",
      "4.8,3.0,1.4,0.3,Iris-setosa\n",
      "5.1,3.8,1.6,0.2,Iris-setosa\n",
      "4.6,3.2,1.4,0.2,Iris-setosa\n",
      "5.3,3.7,1.5,0.2,Iris-setosa\n",
      "5.0,3.3,1.4,0.2,Iris-setosa\n",
      "7.0,3.2,4.7,1.4,Iris-versicolor\n",
      "6.4,3.2,4.5,1.5,Iris-versicolor\n",
      "6.9,3.1,4.9,1.5,Iris-versicolor\n",
      "5.5,2.3,4.0,1.3,Iris-versicolor\n",
      "6.5,2.8,4.6,1.5,Iris-versicolor\n",
      "5.7,2.8,4.5,1.3,Iris-versicolor\n",
      "6.3,3.3,4.7,1.6,Iris-versicolor\n",
      "4.9,2.4,3.3,1.0,Iris-versicolor\n",
      "6.6,2.9,4.6,1.3,Iris-versicolor\n",
      "5.2,2.7,3.9,1.4,Iris-versicolor\n",
      "5.0,2.0,3.5,1.0,Iris-versicolor\n",
      "5.9,3.0,4.2,1.5,Iris-versicolor\n",
      "6.0,2.2,4.0,1.0,Iris-versicolor\n",
      "6.1,2.9,4.7,1.4,Iris-versicolor\n",
      "5.6,2.9,3.6,1.3,Iris-versicolor\n",
      "6.7,3.1,4.4,1.4,Iris-versicolor\n",
      "5.6,3.0,4.5,1.5,Iris-versicolor\n",
      "5.8,2.7,4.1,1.0,Iris-versicolor\n",
      "6.2,2.2,4.5,1.5,Iris-versicolor\n",
      "5.6,2.5,3.9,1.1,Iris-versicolor\n",
      "5.9,3.2,4.8,1.8,Iris-versicolor\n",
      "6.1,2.8,4.0,1.3,Iris-versicolor\n",
      "6.3,2.5,4.9,1.5,Iris-versicolor\n",
      "6.1,2.8,4.7,1.2,Iris-versicolor\n",
      "6.4,2.9,4.3,1.3,Iris-versicolor\n",
      "6.6,3.0,4.4,1.4,Iris-versicolor\n",
      "6.8,2.8,4.8,1.4,Iris-versicolor\n",
      "6.7,3.0,5.0,1.7,Iris-versicolor\n",
      "6.0,2.9,4.5,1.5,Iris-versicolor\n",
      "5.7,2.6,3.5,1.0,Iris-versicolor\n",
      "5.5,2.4,3.8,1.1,Iris-versicolor\n",
      "5.5,2.4,3.7,1.0,Iris-versicolor\n",
      "5.8,2.7,3.9,1.2,Iris-versicolor\n",
      "6.0,2.7,5.1,1.6,Iris-versicolor\n",
      "5.4,3.0,4.5,1.5,Iris-versicolor\n",
      "6.0,3.4,4.5,1.6,Iris-versicolor\n",
      "6.7,3.1,4.7,1.5,Iris-versicolor\n",
      "6.3,2.3,4.4,1.3,Iris-versicolor\n",
      "5.6,3.0,4.1,1.3,Iris-versicolor\n",
      "5.5,2.5,4.0,1.3,Iris-versicolor\n",
      "5.5,2.6,4.4,1.2,Iris-versicolor\n",
      "6.1,3.0,4.6,1.4,Iris-versicolor\n",
      "5.8,2.6,4.0,1.2,Iris-versicolor\n",
      "5.0,2.3,3.3,1.0,Iris-versicolor\n",
      "5.6,2.7,4.2,1.3,Iris-versicolor\n",
      "5.7,3.0,4.2,1.2,Iris-versicolor\n",
      "5.7,2.9,4.2,1.3,Iris-versicolor\n",
      "6.2,2.9,4.3,1.3,Iris-versicolor\n",
      "5.1,2.5,3.0,1.1,Iris-versicolor\n",
      "5.7,2.8,4.1,1.3,Iris-versicolor\n",
      "6.3,3.3,6.0,2.5,Iris-virginica\n",
      "5.8,2.7,5.1,1.9,Iris-virginica\n",
      "7.1,3.0,5.9,2.1,Iris-virginica\n",
      "6.3,2.9,5.6,1.8,Iris-virginica\n",
      "6.5,3.0,5.8,2.2,Iris-virginica\n",
      "7.6,3.0,6.6,2.1,Iris-virginica\n",
      "4.9,2.5,4.5,1.7,Iris-virginica\n",
      "7.3,2.9,6.3,1.8,Iris-virginica\n",
      "6.7,2.5,5.8,1.8,Iris-virginica\n",
      "7.2,3.6,6.1,2.5,Iris-virginica\n",
      "6.5,3.2,5.1,2.0,Iris-virginica\n",
      "6.4,2.7,5.3,1.9,Iris-virginica\n",
      "6.8,3.0,5.5,2.1,Iris-virginica\n",
      "5.7,2.5,5.0,2.0,Iris-virginica\n",
      "5.8,2.8,5.1,2.4,Iris-virginica\n",
      "6.4,3.2,5.3,2.3,Iris-virginica\n",
      "6.5,3.0,5.5,1.8,Iris-virginica\n",
      "7.7,3.8,6.7,2.2,Iris-virginica\n",
      "7.7,2.6,6.9,2.3,Iris-virginica\n",
      "6.0,2.2,5.0,1.5,Iris-virginica\n",
      "6.9,3.2,5.7,2.3,Iris-virginica\n",
      "5.6,2.8,4.9,2.0,Iris-virginica\n",
      "7.7,2.8,6.7,2.0,Iris-virginica\n",
      "6.3,2.7,4.9,1.8,Iris-virginica\n",
      "6.7,3.3,5.7,2.1,Iris-virginica\n",
      "7.2,3.2,6.0,1.8,Iris-virginica\n",
      "6.2,2.8,4.8,1.8,Iris-virginica\n",
      "6.1,3.0,4.9,1.8,Iris-virginica\n",
      "6.4,2.8,5.6,2.1,Iris-virginica\n",
      "7.2,3.0,5.8,1.6,Iris-virginica\n",
      "7.4,2.8,6.1,1.9,Iris-virginica\n",
      "7.9,3.8,6.4,2.0,Iris-virginica\n",
      "6.4,2.8,5.6,2.2,Iris-virginica\n",
      "6.3,2.8,5.1,1.5,Iris-virginica\n",
      "6.1,2.6,5.6,1.4,Iris-virginica\n",
      "7.7,3.0,6.1,2.3,Iris-virginica\n",
      "6.3,3.4,5.6,2.4,Iris-virginica\n",
      "6.4,3.1,5.5,1.8,Iris-virginica\n",
      "6.0,3.0,4.8,1.8,Iris-virginica\n",
      "6.9,3.1,5.4,2.1,Iris-virginica\n",
      "6.7,3.1,5.6,2.4,Iris-virginica\n",
      "6.9,3.1,5.1,2.3,Iris-virginica\n",
      "5.8,2.7,5.1,1.9,Iris-virginica\n",
      "6.8,3.2,5.9,2.3,Iris-virginica\n",
      "6.7,3.3,5.7,2.5,Iris-virginica\n",
      "6.7,3.0,5.2,2.3,Iris-virginica\n",
      "6.3,2.5,5.0,1.9,Iris-virginica\n",
      "6.5,3.0,5.2,2.0,Iris-virginica\n",
      "6.2,3.4,5.4,2.3,Iris-virginica\n",
      "5.9,3.0,5.1,1.8,Iris-virginica\n",
      "\n"
     ]
    }
   ],
   "source": [
    "r = requests.get('https://archive.ics.uci.edu/ml/machine-learning-databases/iris/iris.data') #iris dataset on the internet\n",
    "iris_data = [row.decode() for row in r.iter_lines()]\n",
    "\n",
    "for line in iris_data:\n",
    "    print(line)"
   ]
  },
  {
   "cell_type": "markdown",
   "metadata": {},
   "source": [
    "[**Requests**](http://docs.python-requests.org/en/master/) is an incredibly useful library for getting data from the internet (or just handling http requests generally). We will use it a lot when getting example data to play with off the internet."
   ]
  },
  {
   "cell_type": "code",
   "execution_count": 10,
   "metadata": {
    "collapsed": false
   },
   "outputs": [
    {
     "data": {
      "text/plain": [
       "401"
      ]
     },
     "execution_count": 10,
     "metadata": {},
     "output_type": "execute_result"
    }
   ],
   "source": [
    "# Here's an example\n",
    "r = requests.get('https://api.github.com/markyashar', auth=('user', 'pass'))\n",
    "r.status_code"
   ]
  },
  {
   "cell_type": "code",
   "execution_count": 11,
   "metadata": {
    "collapsed": false
   },
   "outputs": [
    {
     "data": {
      "text/plain": [
       "'application/json; charset=utf-8'"
      ]
     },
     "execution_count": 11,
     "metadata": {},
     "output_type": "execute_result"
    }
   ],
   "source": [
    "r.headers['content-type']"
   ]
  },
  {
   "cell_type": "code",
   "execution_count": 12,
   "metadata": {
    "collapsed": false
   },
   "outputs": [
    {
     "data": {
      "text/plain": [
       "'utf-8'"
      ]
     },
     "execution_count": 12,
     "metadata": {},
     "output_type": "execute_result"
    }
   ],
   "source": [
    "r.encoding"
   ]
  },
  {
   "cell_type": "code",
   "execution_count": 13,
   "metadata": {
    "collapsed": false
   },
   "outputs": [
    {
     "data": {
      "text/plain": [
       "u'{\"message\":\"Bad credentials\",\"documentation_url\":\"https://developer.github.com/v3\"}'"
      ]
     },
     "execution_count": 13,
     "metadata": {},
     "output_type": "execute_result"
    }
   ],
   "source": [
    "r.text"
   ]
  },
  {
   "cell_type": "code",
   "execution_count": 14,
   "metadata": {
    "collapsed": false
   },
   "outputs": [
    {
     "data": {
      "text/plain": [
       "{u'documentation_url': u'https://developer.github.com/v3',\n",
       " u'message': u'Bad credentials'}"
      ]
     },
     "execution_count": 14,
     "metadata": {},
     "output_type": "execute_result"
    }
   ],
   "source": [
    "r.json()"
   ]
  },
  {
   "cell_type": "markdown",
   "metadata": {},
   "source": [
    "#### Exercise Time!\n",
    "* Split every item in `iris_data` on the commas\n",
    "* Split every item in `vertebral_data` on the spaces\n",
    "* Get only the numeric entries in each item in `iris_data`"
   ]
  },
  {
   "cell_type": "code",
   "execution_count": 54,
   "metadata": {
    "collapsed": false
   },
   "outputs": [
    {
     "name": "stdout",
     "output_type": "stream",
     "text": [
      "[u'5.1', u'3.5', u'1.4', u'0.2', u'Iris-setosa']\n",
      "[u'4.9', u'3.0', u'1.4', u'0.2', u'Iris-setosa']\n",
      "[u'4.7', u'3.2', u'1.3', u'0.2', u'Iris-setosa']\n",
      "[u'4.6', u'3.1', u'1.5', u'0.2', u'Iris-setosa']\n",
      "[u'5.0', u'3.6', u'1.4', u'0.2', u'Iris-setosa']\n",
      "[u'5.4', u'3.9', u'1.7', u'0.4', u'Iris-setosa']\n",
      "[u'4.6', u'3.4', u'1.4', u'0.3', u'Iris-setosa']\n",
      "[u'5.0', u'3.4', u'1.5', u'0.2', u'Iris-setosa']\n",
      "[u'4.4', u'2.9', u'1.4', u'0.2', u'Iris-setosa']\n",
      "[u'4.9', u'3.1', u'1.5', u'0.1', u'Iris-setosa']\n",
      "[u'5.4', u'3.7', u'1.5', u'0.2', u'Iris-setosa']\n",
      "[u'4.8', u'3.4', u'1.6', u'0.2', u'Iris-setosa']\n",
      "[u'4.8', u'3.0', u'1.4', u'0.1', u'Iris-setosa']\n",
      "[u'4.3', u'3.0', u'1.1', u'0.1', u'Iris-setosa']\n",
      "[u'5.8', u'4.0', u'1.2', u'0.2', u'Iris-setosa']\n",
      "[u'5.7', u'4.4', u'1.5', u'0.4', u'Iris-setosa']\n",
      "[u'5.4', u'3.9', u'1.3', u'0.4', u'Iris-setosa']\n",
      "[u'5.1', u'3.5', u'1.4', u'0.3', u'Iris-setosa']\n",
      "[u'5.7', u'3.8', u'1.7', u'0.3', u'Iris-setosa']\n",
      "[u'5.1', u'3.8', u'1.5', u'0.3', u'Iris-setosa']\n",
      "[u'5.4', u'3.4', u'1.7', u'0.2', u'Iris-setosa']\n",
      "[u'5.1', u'3.7', u'1.5', u'0.4', u'Iris-setosa']\n",
      "[u'4.6', u'3.6', u'1.0', u'0.2', u'Iris-setosa']\n",
      "[u'5.1', u'3.3', u'1.7', u'0.5', u'Iris-setosa']\n",
      "[u'4.8', u'3.4', u'1.9', u'0.2', u'Iris-setosa']\n",
      "[u'5.0', u'3.0', u'1.6', u'0.2', u'Iris-setosa']\n",
      "[u'5.0', u'3.4', u'1.6', u'0.4', u'Iris-setosa']\n",
      "[u'5.2', u'3.5', u'1.5', u'0.2', u'Iris-setosa']\n",
      "[u'5.2', u'3.4', u'1.4', u'0.2', u'Iris-setosa']\n",
      "[u'4.7', u'3.2', u'1.6', u'0.2', u'Iris-setosa']\n",
      "[u'4.8', u'3.1', u'1.6', u'0.2', u'Iris-setosa']\n",
      "[u'5.4', u'3.4', u'1.5', u'0.4', u'Iris-setosa']\n",
      "[u'5.2', u'4.1', u'1.5', u'0.1', u'Iris-setosa']\n",
      "[u'5.5', u'4.2', u'1.4', u'0.2', u'Iris-setosa']\n",
      "[u'4.9', u'3.1', u'1.5', u'0.1', u'Iris-setosa']\n",
      "[u'5.0', u'3.2', u'1.2', u'0.2', u'Iris-setosa']\n",
      "[u'5.5', u'3.5', u'1.3', u'0.2', u'Iris-setosa']\n",
      "[u'4.9', u'3.1', u'1.5', u'0.1', u'Iris-setosa']\n",
      "[u'4.4', u'3.0', u'1.3', u'0.2', u'Iris-setosa']\n",
      "[u'5.1', u'3.4', u'1.5', u'0.2', u'Iris-setosa']\n",
      "[u'5.0', u'3.5', u'1.3', u'0.3', u'Iris-setosa']\n",
      "[u'4.5', u'2.3', u'1.3', u'0.3', u'Iris-setosa']\n",
      "[u'4.4', u'3.2', u'1.3', u'0.2', u'Iris-setosa']\n",
      "[u'5.0', u'3.5', u'1.6', u'0.6', u'Iris-setosa']\n",
      "[u'5.1', u'3.8', u'1.9', u'0.4', u'Iris-setosa']\n",
      "[u'4.8', u'3.0', u'1.4', u'0.3', u'Iris-setosa']\n",
      "[u'5.1', u'3.8', u'1.6', u'0.2', u'Iris-setosa']\n",
      "[u'4.6', u'3.2', u'1.4', u'0.2', u'Iris-setosa']\n",
      "[u'5.3', u'3.7', u'1.5', u'0.2', u'Iris-setosa']\n",
      "[u'5.0', u'3.3', u'1.4', u'0.2', u'Iris-setosa']\n",
      "[u'7.0', u'3.2', u'4.7', u'1.4', u'Iris-versicolor']\n",
      "[u'6.4', u'3.2', u'4.5', u'1.5', u'Iris-versicolor']\n",
      "[u'6.9', u'3.1', u'4.9', u'1.5', u'Iris-versicolor']\n",
      "[u'5.5', u'2.3', u'4.0', u'1.3', u'Iris-versicolor']\n",
      "[u'6.5', u'2.8', u'4.6', u'1.5', u'Iris-versicolor']\n",
      "[u'5.7', u'2.8', u'4.5', u'1.3', u'Iris-versicolor']\n",
      "[u'6.3', u'3.3', u'4.7', u'1.6', u'Iris-versicolor']\n",
      "[u'4.9', u'2.4', u'3.3', u'1.0', u'Iris-versicolor']\n",
      "[u'6.6', u'2.9', u'4.6', u'1.3', u'Iris-versicolor']\n",
      "[u'5.2', u'2.7', u'3.9', u'1.4', u'Iris-versicolor']\n",
      "[u'5.0', u'2.0', u'3.5', u'1.0', u'Iris-versicolor']\n",
      "[u'5.9', u'3.0', u'4.2', u'1.5', u'Iris-versicolor']\n",
      "[u'6.0', u'2.2', u'4.0', u'1.0', u'Iris-versicolor']\n",
      "[u'6.1', u'2.9', u'4.7', u'1.4', u'Iris-versicolor']\n",
      "[u'5.6', u'2.9', u'3.6', u'1.3', u'Iris-versicolor']\n",
      "[u'6.7', u'3.1', u'4.4', u'1.4', u'Iris-versicolor']\n",
      "[u'5.6', u'3.0', u'4.5', u'1.5', u'Iris-versicolor']\n",
      "[u'5.8', u'2.7', u'4.1', u'1.0', u'Iris-versicolor']\n",
      "[u'6.2', u'2.2', u'4.5', u'1.5', u'Iris-versicolor']\n",
      "[u'5.6', u'2.5', u'3.9', u'1.1', u'Iris-versicolor']\n",
      "[u'5.9', u'3.2', u'4.8', u'1.8', u'Iris-versicolor']\n",
      "[u'6.1', u'2.8', u'4.0', u'1.3', u'Iris-versicolor']\n",
      "[u'6.3', u'2.5', u'4.9', u'1.5', u'Iris-versicolor']\n",
      "[u'6.1', u'2.8', u'4.7', u'1.2', u'Iris-versicolor']\n",
      "[u'6.4', u'2.9', u'4.3', u'1.3', u'Iris-versicolor']\n",
      "[u'6.6', u'3.0', u'4.4', u'1.4', u'Iris-versicolor']\n",
      "[u'6.8', u'2.8', u'4.8', u'1.4', u'Iris-versicolor']\n",
      "[u'6.7', u'3.0', u'5.0', u'1.7', u'Iris-versicolor']\n",
      "[u'6.0', u'2.9', u'4.5', u'1.5', u'Iris-versicolor']\n",
      "[u'5.7', u'2.6', u'3.5', u'1.0', u'Iris-versicolor']\n",
      "[u'5.5', u'2.4', u'3.8', u'1.1', u'Iris-versicolor']\n",
      "[u'5.5', u'2.4', u'3.7', u'1.0', u'Iris-versicolor']\n",
      "[u'5.8', u'2.7', u'3.9', u'1.2', u'Iris-versicolor']\n",
      "[u'6.0', u'2.7', u'5.1', u'1.6', u'Iris-versicolor']\n",
      "[u'5.4', u'3.0', u'4.5', u'1.5', u'Iris-versicolor']\n",
      "[u'6.0', u'3.4', u'4.5', u'1.6', u'Iris-versicolor']\n",
      "[u'6.7', u'3.1', u'4.7', u'1.5', u'Iris-versicolor']\n",
      "[u'6.3', u'2.3', u'4.4', u'1.3', u'Iris-versicolor']\n",
      "[u'5.6', u'3.0', u'4.1', u'1.3', u'Iris-versicolor']\n",
      "[u'5.5', u'2.5', u'4.0', u'1.3', u'Iris-versicolor']\n",
      "[u'5.5', u'2.6', u'4.4', u'1.2', u'Iris-versicolor']\n",
      "[u'6.1', u'3.0', u'4.6', u'1.4', u'Iris-versicolor']\n",
      "[u'5.8', u'2.6', u'4.0', u'1.2', u'Iris-versicolor']\n",
      "[u'5.0', u'2.3', u'3.3', u'1.0', u'Iris-versicolor']\n",
      "[u'5.6', u'2.7', u'4.2', u'1.3', u'Iris-versicolor']\n",
      "[u'5.7', u'3.0', u'4.2', u'1.2', u'Iris-versicolor']\n",
      "[u'5.7', u'2.9', u'4.2', u'1.3', u'Iris-versicolor']\n",
      "[u'6.2', u'2.9', u'4.3', u'1.3', u'Iris-versicolor']\n",
      "[u'5.1', u'2.5', u'3.0', u'1.1', u'Iris-versicolor']\n",
      "[u'5.7', u'2.8', u'4.1', u'1.3', u'Iris-versicolor']\n",
      "[u'6.3', u'3.3', u'6.0', u'2.5', u'Iris-virginica']\n",
      "[u'5.8', u'2.7', u'5.1', u'1.9', u'Iris-virginica']\n",
      "[u'7.1', u'3.0', u'5.9', u'2.1', u'Iris-virginica']\n",
      "[u'6.3', u'2.9', u'5.6', u'1.8', u'Iris-virginica']\n",
      "[u'6.5', u'3.0', u'5.8', u'2.2', u'Iris-virginica']\n",
      "[u'7.6', u'3.0', u'6.6', u'2.1', u'Iris-virginica']\n",
      "[u'4.9', u'2.5', u'4.5', u'1.7', u'Iris-virginica']\n",
      "[u'7.3', u'2.9', u'6.3', u'1.8', u'Iris-virginica']\n",
      "[u'6.7', u'2.5', u'5.8', u'1.8', u'Iris-virginica']\n",
      "[u'7.2', u'3.6', u'6.1', u'2.5', u'Iris-virginica']\n",
      "[u'6.5', u'3.2', u'5.1', u'2.0', u'Iris-virginica']\n",
      "[u'6.4', u'2.7', u'5.3', u'1.9', u'Iris-virginica']\n",
      "[u'6.8', u'3.0', u'5.5', u'2.1', u'Iris-virginica']\n",
      "[u'5.7', u'2.5', u'5.0', u'2.0', u'Iris-virginica']\n",
      "[u'5.8', u'2.8', u'5.1', u'2.4', u'Iris-virginica']\n",
      "[u'6.4', u'3.2', u'5.3', u'2.3', u'Iris-virginica']\n",
      "[u'6.5', u'3.0', u'5.5', u'1.8', u'Iris-virginica']\n",
      "[u'7.7', u'3.8', u'6.7', u'2.2', u'Iris-virginica']\n",
      "[u'7.7', u'2.6', u'6.9', u'2.3', u'Iris-virginica']\n",
      "[u'6.0', u'2.2', u'5.0', u'1.5', u'Iris-virginica']\n",
      "[u'6.9', u'3.2', u'5.7', u'2.3', u'Iris-virginica']\n",
      "[u'5.6', u'2.8', u'4.9', u'2.0', u'Iris-virginica']\n",
      "[u'7.7', u'2.8', u'6.7', u'2.0', u'Iris-virginica']\n",
      "[u'6.3', u'2.7', u'4.9', u'1.8', u'Iris-virginica']\n",
      "[u'6.7', u'3.3', u'5.7', u'2.1', u'Iris-virginica']\n",
      "[u'7.2', u'3.2', u'6.0', u'1.8', u'Iris-virginica']\n",
      "[u'6.2', u'2.8', u'4.8', u'1.8', u'Iris-virginica']\n",
      "[u'6.1', u'3.0', u'4.9', u'1.8', u'Iris-virginica']\n",
      "[u'6.4', u'2.8', u'5.6', u'2.1', u'Iris-virginica']\n",
      "[u'7.2', u'3.0', u'5.8', u'1.6', u'Iris-virginica']\n",
      "[u'7.4', u'2.8', u'6.1', u'1.9', u'Iris-virginica']\n",
      "[u'7.9', u'3.8', u'6.4', u'2.0', u'Iris-virginica']\n",
      "[u'6.4', u'2.8', u'5.6', u'2.2', u'Iris-virginica']\n",
      "[u'6.3', u'2.8', u'5.1', u'1.5', u'Iris-virginica']\n",
      "[u'6.1', u'2.6', u'5.6', u'1.4', u'Iris-virginica']\n",
      "[u'7.7', u'3.0', u'6.1', u'2.3', u'Iris-virginica']\n",
      "[u'6.3', u'3.4', u'5.6', u'2.4', u'Iris-virginica']\n",
      "[u'6.4', u'3.1', u'5.5', u'1.8', u'Iris-virginica']\n",
      "[u'6.0', u'3.0', u'4.8', u'1.8', u'Iris-virginica']\n",
      "[u'6.9', u'3.1', u'5.4', u'2.1', u'Iris-virginica']\n",
      "[u'6.7', u'3.1', u'5.6', u'2.4', u'Iris-virginica']\n",
      "[u'6.9', u'3.1', u'5.1', u'2.3', u'Iris-virginica']\n",
      "[u'5.8', u'2.7', u'5.1', u'1.9', u'Iris-virginica']\n",
      "[u'6.8', u'3.2', u'5.9', u'2.3', u'Iris-virginica']\n",
      "[u'6.7', u'3.3', u'5.7', u'2.5', u'Iris-virginica']\n",
      "[u'6.7', u'3.0', u'5.2', u'2.3', u'Iris-virginica']\n",
      "[u'6.3', u'2.5', u'5.0', u'1.9', u'Iris-virginica']\n",
      "[u'6.5', u'3.0', u'5.2', u'2.0', u'Iris-virginica']\n",
      "[u'6.2', u'3.4', u'5.4', u'2.3', u'Iris-virginica']\n",
      "[u'5.9', u'3.0', u'5.1', u'1.8', u'Iris-virginica']\n",
      "[u'']\n"
     ]
    }
   ],
   "source": [
    "# pass #your code here\n",
    "r = requests.get('https://archive.ics.uci.edu/ml/machine-learning-databases/iris/iris.data') #iris dataset on the internet\n",
    "iris_data = [row.decode() for row in r.iter_lines()]\n",
    "\n",
    "for line in iris_data:\n",
    "    print(line.split(\",\"))\n"
   ]
  },
  {
   "cell_type": "code",
   "execution_count": 57,
   "metadata": {
    "collapsed": false
   },
   "outputs": [
    {
     "name": "stdout",
     "output_type": "stream",
     "text": [
      "['63.03 22.55 39.61 40.48 98.67 -0.25 AB']\n",
      "['39.06 10.06 25.02 29 114.41 4.56 AB']\n",
      "['68.83 22.22 50.09 46.61 105.99 -3.53 AB']\n",
      "['69.3 24.65 44.31 44.64 101.87 11.21 AB']\n",
      "['49.71 9.65 28.32 40.06 108.17 7.92 AB']\n",
      "['40.25 13.92 25.12 26.33 130.33 2.23 AB']\n",
      "['53.43 15.86 37.17 37.57 120.57 5.99 AB']\n",
      "['45.37 10.76 29.04 34.61 117.27 -10.68 AB']\n",
      "['43.79 13.53 42.69 30.26 125 13.29 AB']\n",
      "['36.69 5.01 41.95 31.68 84.24 0.66 AB']\n",
      "['49.71 13.04 31.33 36.67 108.65 -7.83 AB']\n",
      "['31.23 17.72 15.5 13.52 120.06 0.5 AB']\n",
      "['48.92 19.96 40.26 28.95 119.32 8.03 AB']\n",
      "['53.57 20.46 33.1 33.11 110.97 7.04 AB']\n",
      "['57.3 24.19 47 33.11 116.81 5.77 AB']\n",
      "['44.32 12.54 36.1 31.78 124.12 5.42 AB']\n",
      "['63.83 20.36 54.55 43.47 112.31 -0.62 AB']\n",
      "['31.28 3.14 32.56 28.13 129.01 3.62 AB']\n",
      "['38.7 13.44 31 25.25 123.16 1.43 AB']\n",
      "['41.73 12.25 30.12 29.48 116.59 -1.24 AB']\n",
      "['43.92 14.18 37.83 29.74 134.46 6.45 AB']\n",
      "['54.92 21.06 42.2 33.86 125.21 2.43 AB']\n",
      "['63.07 24.41 54 38.66 106.42 15.78 AB']\n",
      "['45.54 13.07 30.3 32.47 117.98 -4.99 AB']\n",
      "['36.13 22.76 29 13.37 115.58 -3.24 AB']\n",
      "['54.12 26.65 35.33 27.47 121.45 1.57 AB']\n",
      "['26.15 10.76 14 15.39 125.2 -10.09 AB']\n",
      "['43.58 16.51 47 27.07 109.27 8.99 AB']\n",
      "['44.55 21.93 26.79 22.62 111.07 2.65 AB']\n",
      "['66.88 24.89 49.28 41.99 113.48 -2.01 AB']\n",
      "['50.82 15.4 42.53 35.42 112.19 10.87 AB']\n",
      "['46.39 11.08 32.14 35.31 98.77 6.39 AB']\n",
      "['44.94 17.44 27.78 27.49 117.98 5.57 AB']\n",
      "['38.66 12.99 40 25.68 124.91 2.7 AB']\n",
      "['59.6 32 46.56 27.6 119.33 1.47 AB']\n",
      "['31.48 7.83 24.28 23.66 113.83 4.39 AB']\n",
      "['32.09 6.99 36 25.1 132.26 6.41 AB']\n",
      "['35.7 19.44 20.7 16.26 137.54 -0.26 AB']\n",
      "['55.84 28.85 47.69 27 123.31 2.81 AB']\n",
      "['52.42 19.01 35.87 33.41 116.56 1.69 AB']\n",
      "['35.49 11.7 15.59 23.79 106.94 -3.46 AB']\n",
      "['46.44 8.4 29.04 38.05 115.48 2.05 AB']\n",
      "['53.85 19.23 32.78 34.62 121.67 5.33 AB']\n",
      "['66.29 26.33 47.5 39.96 121.22 -0.8 AB']\n",
      "['56.03 16.3 62.28 39.73 114.02 -2.33 AB']\n",
      "['50.91 23.02 47 27.9 117.42 -2.53 AB']\n",
      "['48.33 22.23 36.18 26.1 117.38 6.48 AB']\n",
      "['41.35 16.58 30.71 24.78 113.27 -4.5 AB']\n",
      "['40.56 17.98 34 22.58 121.05 -1.54 AB']\n",
      "['41.77 17.9 20.03 23.87 118.36 2.06 AB']\n",
      "['55.29 20.44 34 34.85 115.88 3.56 AB']\n",
      "['74.43 41.56 27.7 32.88 107.95 5 AB']\n",
      "['50.21 29.76 36.1 20.45 128.29 5.74 AB']\n",
      "['30.15 11.92 34 18.23 112.68 11.46 AB']\n",
      "['41.17 17.32 33.47 23.85 116.38 -9.57 AB']\n",
      "['47.66 13.28 36.68 34.38 98.25 6.27 AB']\n",
      "['43.35 7.47 28.07 35.88 112.78 5.75 AB']\n",
      "['46.86 15.35 38 31.5 116.25 1.66 AB']\n",
      "['43.2 19.66 35 23.54 124.85 -2.92 AB']\n",
      "['48.11 14.93 35.56 33.18 124.06 7.95 AB']\n",
      "['74.38 32.05 78.77 42.32 143.56 56.13 AB']\n",
      "['89.68 32.7 83.13 56.98 129.96 92.03 AB']\n",
      "['44.53 9.43 52 35.1 134.71 29.11 AB']\n",
      "['77.69 21.38 64.43 56.31 114.82 26.93 AB']\n",
      "['76.15 21.94 82.96 54.21 123.93 10.43 AB']\n",
      "['83.93 41.29 62 42.65 115.01 26.59 AB']\n",
      "['78.49 22.18 60 56.31 118.53 27.38 AB']\n",
      "['75.65 19.34 64.15 56.31 95.9 69.55 AB']\n",
      "['72.08 18.95 51 53.13 114.21 1.01 AB']\n",
      "['58.6 -0.26 51.5 58.86 102.04 28.06 AB']\n",
      "['72.56 17.39 52 55.18 119.19 32.11 AB']\n",
      "['86.9 32.93 47.79 53.97 135.08 101.72 AB']\n",
      "['84.97 33.02 60.86 51.95 125.66 74.33 AB']\n",
      "['55.51 20.1 44 35.42 122.65 34.55 AB']\n",
      "['72.22 23.08 91 49.14 137.74 56.8 AB']\n",
      "['70.22 39.82 68.12 30.4 148.53 145.38 AB']\n",
      "['86.75 36.04 69.22 50.71 139.41 110.86 AB']\n",
      "['58.78 7.67 53.34 51.12 98.5 51.58 AB']\n",
      "['67.41 17.44 60.14 49.97 111.12 33.16 AB']\n",
      "['47.74 12.09 39 35.66 117.51 21.68 AB']\n",
      "['77.11 30.47 69.48 46.64 112.15 70.76 AB']\n",
      "['74.01 21.12 57.38 52.88 120.21 74.56 AB']\n",
      "['88.62 29.09 47.56 59.53 121.76 51.81 AB']\n",
      "['81.1 24.79 77.89 56.31 151.84 65.21 AB']\n",
      "['76.33 42.4 57.2 33.93 124.27 50.13 AB']\n",
      "['45.44 9.91 45 35.54 163.07 20.32 AB']\n",
      "['59.79 17.88 59.21 41.91 119.32 22.12 AB']\n",
      "['44.91 10.22 44.63 34.7 130.08 37.36 AB']\n",
      "['56.61 16.8 42 39.81 127.29 24.02 AB']\n",
      "['71.19 23.9 43.7 47.29 119.86 27.28 AB']\n",
      "['81.66 28.75 58.23 52.91 114.77 30.61 AB']\n",
      "['70.95 20.16 62.86 50.79 116.18 32.52 AB']\n",
      "['85.35 15.84 71.67 69.51 124.42 76.02 AB']\n",
      "['58.1 14.84 79.65 43.26 113.59 50.24 AB']\n",
      "['94.17 15.38 67.71 78.79 114.89 53.26 AB']\n",
      "['57.52 33.65 50.91 23.88 140.98 148.75 AB']\n",
      "['96.66 19.46 90.21 77.2 120.67 64.08 AB']\n",
      "['74.72 19.76 82.74 54.96 109.36 33.31 AB']\n",
      "['77.66 22.43 93.89 55.22 123.06 61.21 AB']\n",
      "['58.52 13.92 41.47 44.6 115.51 30.39 AB']\n",
      "['84.59 30.36 65.48 54.22 108.01 25.12 AB']\n",
      "['79.94 18.77 63.31 61.16 114.79 38.54 AB']\n",
      "['70.4 13.47 61.2 56.93 102.34 25.54 AB']\n",
      "['49.78 6.47 53 43.32 110.86 25.34 AB']\n",
      "['77.41 29.4 63.23 48.01 118.45 93.56 AB']\n",
      "['65.01 27.6 50.95 37.41 116.58 7.02 AB']\n",
      "['65.01 9.84 57.74 55.18 94.74 49.7 AB']\n",
      "['78.43 33.43 76.28 45 138.55 77.16 AB']\n",
      "['63.17 6.33 63 56.84 110.64 42.61 AB']\n",
      "['68.61 15.08 63.01 53.53 123.43 39.5 AB']\n",
      "['63.9 13.71 62.12 50.19 114.13 41.42 AB']\n",
      "['85 29.61 83.35 55.39 126.91 71.32 AB']\n",
      "['42.02 -6.55 67.9 48.58 111.59 27.34 AB']\n",
      "['69.76 19.28 48.5 50.48 96.49 51.17 AB']\n",
      "['80.99 36.84 86.96 44.14 141.09 85.87 AB']\n",
      "['129.83 8.4 48.38 121.43 107.69 418.54 AB']\n",
      "['70.48 12.49 62.42 57.99 114.19 56.9 AB']\n",
      "['86.04 38.75 47.87 47.29 122.09 61.99 AB']\n",
      "['65.54 24.16 45.78 41.38 136.44 16.38 AB']\n",
      "['60.75 15.75 43.2 45 113.05 31.69 AB']\n",
      "['54.74 12.1 41 42.65 117.64 40.38 AB']\n",
      "['83.88 23.08 87.14 60.8 124.65 80.56 AB']\n",
      "['80.07 48.07 52.4 32.01 110.71 67.73 AB']\n",
      "['65.67 10.54 56.49 55.12 109.16 53.93 AB']\n",
      "['74.72 14.32 32.5 60.4 107.18 37.02 AB']\n",
      "['48.06 5.69 57.06 42.37 95.44 32.84 AB']\n",
      "['70.68 21.7 59.18 48.97 103.01 27.81 AB']\n",
      "['80.43 17 66.54 63.43 116.44 57.78 AB']\n",
      "['90.51 28.27 69.81 62.24 100.89 58.82 AB']\n",
      "['77.24 16.74 49.78 60.5 110.69 39.79 AB']\n",
      "['50.07 9.12 32.17 40.95 99.71 26.77 AB']\n",
      "['69.78 13.78 58 56 118.93 17.91 AB']\n",
      "['69.63 21.12 52.77 48.5 116.8 54.82 AB']\n",
      "['81.75 20.12 70.56 61.63 119.43 55.51 AB']\n",
      "['52.2 17.21 78.09 34.99 136.97 54.94 AB']\n",
      "['77.12 30.35 77.48 46.77 110.61 82.09 AB']\n",
      "['88.02 39.84 81.77 48.18 116.6 56.77 AB']\n",
      "['83.4 34.31 78.42 49.09 110.47 49.67 AB']\n",
      "['72.05 24.7 79.87 47.35 107.17 56.43 AB']\n",
      "['85.1 21.07 91.73 64.03 109.06 38.03 AB']\n",
      "['69.56 15.4 74.44 54.16 105.07 29.7 AB']\n",
      "['89.5 48.9 72 40.6 134.63 118.35 AB']\n",
      "['85.29 18.28 100.74 67.01 110.66 58.88 AB']\n",
      "['60.63 20.6 64.54 40.03 117.23 104.86 AB']\n",
      "['60.04 14.31 58.04 45.73 105.13 30.41 AB']\n",
      "['85.64 42.69 78.75 42.95 105.14 42.89 AB']\n",
      "['85.58 30.46 78.23 55.12 114.87 68.38 AB']\n",
      "['55.08 -3.76 56 58.84 109.92 31.77 AB']\n",
      "['65.76 9.83 50.82 55.92 104.39 39.31 AB']\n",
      "['79.25 23.94 40.8 55.3 98.62 36.71 AB']\n",
      "['81.11 20.69 60.69 60.42 94.02 40.51 AB']\n",
      "['48.03 3.97 58.34 44.06 125.35 35 AB']\n",
      "['63.4 14.12 48.14 49.29 111.92 31.78 AB']\n",
      "['57.29 15.15 64 42.14 116.74 30.34 AB']\n",
      "['41.19 5.79 42.87 35.39 103.35 27.66 AB']\n",
      "['66.8 14.55 72.08 52.25 82.46 41.69 AB']\n",
      "['79.48 26.73 70.65 52.74 118.59 61.7 AB']\n",
      "['44.22 1.51 46.11 42.71 108.63 42.81 AB']\n",
      "['57.04 0.35 49.2 56.69 103.05 52.17 AB']\n",
      "['64.27 12.51 68.7 51.77 95.25 39.41 AB']\n",
      "['92.03 35.39 77.42 56.63 115.72 58.06 AB']\n",
      "['67.26 7.19 51.7 60.07 97.8 42.14 AB']\n",
      "['118.14 38.45 50.84 79.7 81.02 74.04 AB']\n",
      "['115.92 37.52 76.8 78.41 104.7 81.2 AB']\n",
      "['53.94 9.31 43.1 44.64 124.4 25.08 AB']\n",
      "['83.7 20.27 77.11 63.43 125.48 69.28 AB']\n",
      "['56.99 6.87 57.01 50.12 109.98 36.81 AB']\n",
      "['72.34 16.42 59.87 55.92 70.08 12.07 AB']\n",
      "['95.38 24.82 95.16 70.56 89.31 57.66 AB']\n",
      "['44.25 1.1 38 43.15 98.27 23.91 AB']\n",
      "['64.81 15.17 58.84 49.64 111.68 21.41 AB']\n",
      "['78.4 14.04 79.69 64.36 104.73 12.39 AB']\n",
      "['56.67 13.46 43.77 43.21 93.69 21.11 AB']\n",
      "['50.83 9.06 56.3 41.76 79 23.04 AB']\n",
      "['61.41 25.38 39.1 36.03 103.4 21.84 AB']\n",
      "['56.56 8.96 52.58 47.6 98.78 50.7 AB']\n",
      "['67.03 13.28 66.15 53.75 100.72 33.99 AB']\n",
      "['80.82 19.24 61.64 61.58 89.47 44.17 AB']\n",
      "['80.65 26.34 60.9 54.31 120.1 52.47 AB']\n",
      "['68.72 49.43 68.06 19.29 125.02 54.69 AB']\n",
      "['37.9 4.48 24.71 33.42 157.85 33.61 AB']\n",
      "['64.62 15.23 67.63 49.4 90.3 31.33 AB']\n",
      "['75.44 31.54 89.6 43.9 106.83 54.97 AB']\n",
      "['71 37.52 84.54 33.49 125.16 67.77 AB']\n",
      "['81.06 20.8 91.78 60.26 125.43 38.18 AB']\n",
      "['91.47 24.51 84.62 66.96 117.31 52.62 AB']\n",
      "['81.08 21.26 78.77 59.83 90.07 49.16 AB']\n",
      "['60.42 5.27 59.81 55.15 109.03 30.27 AB']\n",
      "['85.68 38.65 82.68 47.03 120.84 61.96 AB']\n",
      "['82.41 29.28 77.05 53.13 117.04 62.77 AB']\n",
      "['43.72 9.81 52 33.91 88.43 40.88 AB']\n",
      "['86.47 40.3 61.14 46.17 97.4 55.75 AB']\n",
      "['74.47 33.28 66.94 41.19 146.47 124.98 AB']\n",
      "['70.25 10.34 76.37 59.91 119.24 32.67 AB']\n",
      "['72.64 18.93 68 53.71 116.96 25.38 AB']\n",
      "['71.24 5.27 86 65.97 110.7 38.26 AB']\n",
      "['63.77 12.76 65.36 51.01 89.82 56 AB']\n",
      "['58.83 37.58 125.74 21.25 135.63 117.31 AB']\n",
      "['74.85 13.91 62.69 60.95 115.21 33.17 AB']\n",
      "['75.3 16.67 61.3 58.63 118.88 31.58 AB']\n",
      "['63.36 20.02 67.5 43.34 131 37.56 AB']\n",
      "['67.51 33.28 96.28 34.24 145.6 88.3 AB']\n",
      "['76.31 41.93 93.28 34.38 132.27 101.22 AB']\n",
      "['73.64 9.71 63 63.92 98.73 26.98 AB']\n",
      "['56.54 14.38 44.99 42.16 101.72 25.77 AB']\n",
      "['80.11 33.94 85.1 46.17 125.59 100.29 AB']\n",
      "['95.48 46.55 59 48.93 96.68 77.28 AB']\n",
      "['74.09 18.82 76.03 55.27 128.41 73.39 AB']\n",
      "['87.68 20.37 93.82 67.31 120.94 76.73 AB']\n",
      "['48.26 16.42 36.33 31.84 94.88 28.34 AB']\n",
      "['38.51 16.96 35.11 21.54 127.63 7.99 NO']\n",
      "['54.92 18.97 51.6 35.95 125.85 2 NO']\n",
      "['44.36 8.95 46.9 35.42 129.22 4.99 NO']\n",
      "['48.32 17.45 48 30.87 128.98 -0.91 NO']\n",
      "['45.7 10.66 42.58 35.04 130.18 -3.39 NO']\n",
      "['30.74 13.35 35.9 17.39 142.41 -2.01 NO']\n",
      "['50.91 6.68 30.9 44.24 118.15 -1.06 NO']\n",
      "['38.13 6.56 50.45 31.57 132.11 6.34 NO']\n",
      "['51.62 15.97 35 35.66 129.39 1.01 NO']\n",
      "['64.31 26.33 50.96 37.98 106.18 3.12 NO']\n",
      "['44.49 21.79 31.47 22.7 113.78 -0.28 NO']\n",
      "['54.95 5.87 53 49.09 126.97 -0.63 NO']\n",
      "['56.1 13.11 62.64 43 116.23 31.17 NO']\n",
      "['69.4 18.9 75.97 50.5 103.58 -0.44 NO']\n",
      "['89.83 22.64 90.56 67.2 100.5 3.04 NO']\n",
      "['59.73 7.72 55.34 52 125.17 3.24 NO']\n",
      "['63.96 16.06 63.12 47.9 142.36 6.3 NO']\n",
      "['61.54 19.68 52.89 41.86 118.69 4.82 NO']\n",
      "['38.05 8.3 26.24 29.74 123.8 3.89 NO']\n",
      "['43.44 10.1 36.03 33.34 137.44 -3.11 NO']\n",
      "['65.61 23.14 62.58 42.47 124.13 -4.08 NO']\n",
      "['53.91 12.94 39 40.97 118.19 5.07 NO']\n",
      "['43.12 13.82 40.35 29.3 128.52 0.97 NO']\n",
      "['40.68 9.15 31.02 31.53 139.12 -2.51 NO']\n",
      "['37.73 9.39 42 28.35 135.74 13.68 NO']\n",
      "['63.93 19.97 40.18 43.96 113.07 -11.06 NO']\n",
      "['61.82 13.6 64 48.22 121.78 1.3 NO']\n",
      "['62.14 13.96 58 48.18 133.28 4.96 NO']\n",
      "['69 13.29 55.57 55.71 126.61 10.83 NO']\n",
      "['56.45 19.44 43.58 37 139.19 -1.86 NO']\n",
      "['41.65 8.84 36.03 32.81 116.56 -6.05 NO']\n",
      "['51.53 13.52 35 38.01 126.72 13.93 NO']\n",
      "['39.09 5.54 26.93 33.55 131.58 -0.76 NO']\n",
      "['34.65 7.51 43 27.14 123.99 -4.08 NO']\n",
      "['63.03 27.34 51.61 35.69 114.51 7.44 NO']\n",
      "['47.81 10.69 54 37.12 125.39 -0.4 NO']\n",
      "['46.64 15.85 40 30.78 119.38 9.06 NO']\n",
      "['49.83 16.74 28 33.09 121.44 1.91 NO']\n",
      "['47.32 8.57 35.56 38.75 120.58 1.63 NO']\n",
      "['50.75 20.24 37 30.52 122.34 2.29 NO']\n",
      "['36.16 -0.81 33.63 36.97 135.94 -2.09 NO']\n",
      "['40.75 1.84 50 38.91 139.25 0.67 NO']\n",
      "['42.92 -5.85 58 48.76 121.61 -3.36 NO']\n",
      "['63.79 21.35 66 42.45 119.55 12.38 NO']\n",
      "['72.96 19.58 61.01 53.38 111.23 0.81 NO']\n",
      "['67.54 14.66 58 52.88 123.63 25.97 NO']\n",
      "['54.75 9.75 48 45 123.04 8.24 NO']\n",
      "['50.16 -2.97 42 53.13 131.8 -8.29 NO']\n",
      "['40.35 10.19 37.97 30.15 128.01 0.46 NO']\n",
      "['63.62 16.93 49.35 46.68 117.09 -0.36 NO']\n",
      "['54.14 11.94 43 42.21 122.21 0.15 NO']\n",
      "['74.98 14.92 53.73 60.05 105.65 1.59 NO']\n",
      "['42.52 14.38 25.32 28.14 128.91 0.76 NO']\n",
      "['33.79 3.68 25.5 30.11 128.33 -1.78 NO']\n",
      "['54.5 6.82 47 47.68 111.79 -4.41 NO']\n",
      "['48.17 9.59 39.71 38.58 135.62 5.36 NO']\n",
      "['46.37 10.22 42.7 36.16 121.25 -0.54 NO']\n",
      "['52.86 9.41 46.99 43.45 123.09 1.86 NO']\n",
      "['57.15 16.49 42.84 40.66 113.81 5.02 NO']\n",
      "['37.14 16.48 24 20.66 125.01 7.37 NO']\n",
      "['51.31 8.88 57 42.44 126.47 -2.14 NO']\n",
      "['42.52 16.54 42 25.97 120.63 7.88 NO']\n",
      "['39.36 7.01 37 32.35 117.82 1.9 NO']\n",
      "['35.88 1.11 43.46 34.77 126.92 -1.63 NO']\n",
      "['43.19 9.98 28.94 33.22 123.47 1.74 NO']\n",
      "['67.29 16.72 51 50.57 137.59 4.96 NO']\n",
      "['51.33 13.63 33.26 37.69 131.31 1.79 NO']\n",
      "['65.76 13.21 44 52.55 129.39 -1.98 NO']\n",
      "['40.41 -1.33 30.98 41.74 119.34 -6.17 NO']\n",
      "['48.8 18.02 52 30.78 139.15 10.44 NO']\n",
      "['50.09 13.43 34.46 36.66 119.13 3.09 NO']\n",
      "['64.26 14.5 43.9 49.76 115.39 5.95 NO']\n",
      "['53.68 13.45 41.58 40.24 113.91 2.74 NO']\n",
      "['49 13.11 51.87 35.88 126.4 0.54 NO']\n",
      "['59.17 14.56 43.2 44.6 121.04 2.83 NO']\n",
      "['67.8 16.55 43.26 51.25 119.69 4.87 NO']\n",
      "['61.73 17.11 46.9 44.62 120.92 3.09 NO']\n",
      "['33.04 -0.32 19.07 33.37 120.39 9.35 NO']\n",
      "['74.57 15.72 58.62 58.84 105.42 0.6 NO']\n",
      "['44.43 14.17 32.24 30.26 131.72 -3.6 NO']\n",
      "['36.42 13.88 20.24 22.54 126.08 0.18 NO']\n",
      "['51.08 14.21 35.95 36.87 115.8 6.91 NO']\n",
      "['34.76 2.63 29.5 32.12 127.14 -0.46 NO']\n",
      "['48.9 5.59 55.5 43.32 137.11 19.85 NO']\n",
      "['46.24 10.06 37 36.17 128.06 -5.1 NO']\n",
      "['46.43 6.62 48.1 39.81 130.35 2.45 NO']\n",
      "['39.66 16.21 36.67 23.45 131.92 -4.97 NO']\n",
      "['45.58 18.76 33.77 26.82 116.8 3.13 NO']\n",
      "['66.51 20.9 31.73 45.61 128.9 1.52 NO']\n",
      "['82.91 29.89 58.25 53.01 110.71 6.08 NO']\n",
      "['50.68 6.46 35 44.22 116.59 -0.21 NO']\n",
      "['89.01 26.08 69.02 62.94 111.48 6.06 NO']\n",
      "['54.6 21.49 29.36 33.11 118.34 -1.47 NO']\n",
      "['34.38 2.06 32.39 32.32 128.3 -3.37 NO']\n",
      "['45.08 12.31 44.58 32.77 147.89 -8.94 NO']\n",
      "['47.9 13.62 36 34.29 117.45 -4.25 NO']\n",
      "['53.94 20.72 29.22 33.22 114.37 -0.42 NO']\n",
      "['61.45 22.69 46.17 38.75 125.67 -2.71 NO']\n",
      "['45.25 8.69 41.58 36.56 118.55 0.21 NO']\n",
      "['33.84 5.07 36.64 28.77 123.95 -0.2 NO']\n"
     ]
    }
   ],
   "source": [
    "with open('../data/vertebral_column_2_categories.dat', 'r') as f:\n",
    "    vertebral_data = [row for row in csv.reader(f)]\n",
    "for line in vertebral_data:\n",
    "    print(line)\n",
    "    \n",
    "# Couldn't figure this out. When I use print(line.split()) I get:\n",
    "\n",
    "# \" AttributeError: 'list' object has no attribute 'split' \"\n"
   ]
  },
  {
   "cell_type": "code",
   "execution_count": 83,
   "metadata": {
    "collapsed": false
   },
   "outputs": [
    {
     "name": "stdout",
     "output_type": "stream",
     "text": [
      "5.1,3.5,1.4,0.2\n",
      "4.9,3.0,1.4,0.2\n",
      "4.7,3.2,1.3,0.2\n",
      "4.6,3.1,1.5,0.2\n",
      "5.0,3.6,1.4,0.2\n",
      "5.4,3.9,1.7,0.4\n",
      "4.6,3.4,1.4,0.3\n",
      "5.0,3.4,1.5,0.2\n",
      "4.4,2.9,1.4,0.2\n",
      "4.9,3.1,1.5,0.1\n",
      "5.4,3.7,1.5,0.2\n",
      "4.8,3.4,1.6,0.2\n",
      "4.8,3.0,1.4,0.1\n",
      "4.3,3.0,1.1,0.1\n",
      "5.8,4.0,1.2,0.2\n",
      "5.7,4.4,1.5,0.4\n",
      "5.4,3.9,1.3,0.4\n",
      "5.1,3.5,1.4,0.3\n",
      "5.7,3.8,1.7,0.3\n",
      "5.1,3.8,1.5,0.3\n",
      "5.4,3.4,1.7,0.2\n",
      "5.1,3.7,1.5,0.4\n",
      "4.6,3.6,1.0,0.2\n",
      "5.1,3.3,1.7,0.5\n",
      "4.8,3.4,1.9,0.2\n",
      "5.0,3.0,1.6,0.2\n",
      "5.0,3.4,1.6,0.4\n",
      "5.2,3.5,1.5,0.2\n",
      "5.2,3.4,1.4,0.2\n",
      "4.7,3.2,1.6,0.2\n",
      "4.8,3.1,1.6,0.2\n",
      "5.4,3.4,1.5,0.4\n",
      "5.2,4.1,1.5,0.1\n",
      "5.5,4.2,1.4,0.2\n",
      "4.9,3.1,1.5,0.1\n",
      "5.0,3.2,1.2,0.2\n",
      "5.5,3.5,1.3,0.2\n",
      "4.9,3.1,1.5,0.1\n",
      "4.4,3.0,1.3,0.2\n",
      "5.1,3.4,1.5,0.2\n",
      "5.0,3.5,1.3,0.3\n",
      "4.5,2.3,1.3,0.3\n",
      "4.4,3.2,1.3,0.2\n",
      "5.0,3.5,1.6,0.6\n",
      "5.1,3.8,1.9,0.4\n",
      "4.8,3.0,1.4,0.3\n",
      "5.1,3.8,1.6,0.2\n",
      "4.6,3.2,1.4,0.2\n",
      "5.3,3.7,1.5,0.2\n",
      "5.0,3.3,1.4,0.2\n",
      "7.0,3.2,4.7,1.4\n",
      "6.4,3.2,4.5,1.5\n",
      "6.9,3.1,4.9,1.5\n",
      "5.5,2.3,4.0,1.3\n",
      "6.5,2.8,4.6,1.5\n",
      "5.7,2.8,4.5,1.3\n",
      "6.3,3.3,4.7,1.6\n",
      "4.9,2.4,3.3,1.0\n",
      "6.6,2.9,4.6,1.3\n",
      "5.2,2.7,3.9,1.4\n",
      "5.0,2.0,3.5,1.0\n",
      "5.9,3.0,4.2,1.5\n",
      "6.0,2.2,4.0,1.0\n",
      "6.1,2.9,4.7,1.4\n",
      "5.6,2.9,3.6,1.3\n",
      "6.7,3.1,4.4,1.4\n",
      "5.6,3.0,4.5,1.5\n",
      "5.8,2.7,4.1,1.0\n",
      "6.2,2.2,4.5,1.5\n",
      "5.6,2.5,3.9,1.1\n",
      "5.9,3.2,4.8,1.8\n",
      "6.1,2.8,4.0,1.3\n",
      "6.3,2.5,4.9,1.5\n",
      "6.1,2.8,4.7,1.2\n",
      "6.4,2.9,4.3,1.3\n",
      "6.6,3.0,4.4,1.4\n",
      "6.8,2.8,4.8,1.4\n",
      "6.7,3.0,5.0,1.7\n",
      "6.0,2.9,4.5,1.5\n",
      "5.7,2.6,3.5,1.0\n",
      "5.5,2.4,3.8,1.1\n",
      "5.5,2.4,3.7,1.0\n",
      "5.8,2.7,3.9,1.2\n",
      "6.0,2.7,5.1,1.6\n",
      "5.4,3.0,4.5,1.5\n",
      "6.0,3.4,4.5,1.6\n",
      "6.7,3.1,4.7,1.5\n",
      "6.3,2.3,4.4,1.3\n",
      "5.6,3.0,4.1,1.3\n",
      "5.5,2.5,4.0,1.3\n",
      "5.5,2.6,4.4,1.2\n",
      "6.1,3.0,4.6,1.4\n",
      "5.8,2.6,4.0,1.2\n",
      "5.0,2.3,3.3,1.0\n",
      "5.6,2.7,4.2,1.3\n",
      "5.7,3.0,4.2,1.2\n",
      "5.7,2.9,4.2,1.3\n",
      "6.2,2.9,4.3,1.3\n",
      "5.1,2.5,3.0,1.1\n",
      "5.7,2.8,4.1,1.3\n",
      "6.3,3.3,6.0,2.5\n",
      "5.8,2.7,5.1,1.9\n",
      "7.1,3.0,5.9,2.1\n",
      "6.3,2.9,5.6,1.8\n",
      "6.5,3.0,5.8,2.2\n",
      "7.6,3.0,6.6,2.1\n",
      "4.9,2.5,4.5,1.7\n",
      "7.3,2.9,6.3,1.8\n",
      "6.7,2.5,5.8,1.8\n",
      "7.2,3.6,6.1,2.5\n",
      "6.5,3.2,5.1,2.0\n",
      "6.4,2.7,5.3,1.9\n",
      "6.8,3.0,5.5,2.1\n",
      "5.7,2.5,5.0,2.0\n",
      "5.8,2.8,5.1,2.4\n",
      "6.4,3.2,5.3,2.3\n",
      "6.5,3.0,5.5,1.8\n",
      "7.7,3.8,6.7,2.2\n",
      "7.7,2.6,6.9,2.3\n",
      "6.0,2.2,5.0,1.5\n",
      "6.9,3.2,5.7,2.3\n",
      "5.6,2.8,4.9,2.0\n",
      "7.7,2.8,6.7,2.0\n",
      "6.3,2.7,4.9,1.8\n",
      "6.7,3.3,5.7,2.1\n",
      "7.2,3.2,6.0,1.8\n",
      "6.2,2.8,4.8,1.8\n",
      "6.1,3.0,4.9,1.8\n",
      "6.4,2.8,5.6,2.1\n",
      "7.2,3.0,5.8,1.6\n",
      "7.4,2.8,6.1,1.9\n",
      "7.9,3.8,6.4,2.0\n",
      "6.4,2.8,5.6,2.2\n",
      "6.3,2.8,5.1,1.5\n",
      "6.1,2.6,5.6,1.4\n",
      "7.7,3.0,6.1,2.3\n",
      "6.3,3.4,5.6,2.4\n",
      "6.4,3.1,5.5,1.8\n",
      "6.0,3.0,4.8,1.8\n",
      "6.9,3.1,5.4,2.1\n",
      "6.7,3.1,5.6,2.4\n",
      "6.9,3.1,5.1,2.3\n",
      "5.8,2.7,5.1,1.9\n",
      "6.8,3.2,5.9,2.3\n",
      "6.7,3.3,5.7,2.5\n",
      "6.7,3.0,5.2,2.3\n",
      "6.3,2.5,5.0,1.9\n",
      "6.5,3.0,5.2,2.0\n",
      "6.2,3.4,5.4,2.3\n",
      "5.9,3.0,5.1,1.8\n",
      "\n"
     ]
    }
   ],
   "source": [
    "# Get only the numeric entries in each item in iris_data\n",
    "r = requests.get('https://archive.ics.uci.edu/ml/machine-learning-databases/iris/iris.data') #iris dataset on the internet\n",
    "iris_data = [row.decode() for row in r.iter_lines()]\n",
    "for line in iris_data:\n",
    "    print(line[0:15])\n",
    "# This is a bit of a \"cheat\". I couldn't figure this one out either. Need to think about / research this more and \n",
    "# get back to it later."
   ]
  },
  {
   "cell_type": "markdown",
   "metadata": {},
   "source": [
    "Awesome, that's all we have for today. Except...did you finish the **Python** prework?\n",
    "\n",
    "If not:\n",
    "\n",
    "* Go to [learn python the hard way](http://learnpythonthehardway.org/book/) and do all of the exercises you havent done.\n",
    "* [Codecademy's Python course](http://www.codecademy.com/en/tracks/python): Good beginner material, including tons of in-browser exercises."
   ]
  }
 ],
 "metadata": {
  "anaconda-cloud": {},
  "kernelspec": {
   "display_name": "Python [Root]",
   "language": "python",
   "name": "Python [Root]"
  },
  "language_info": {
   "codemirror_mode": {
    "name": "ipython",
    "version": 2
   },
   "file_extension": ".py",
   "mimetype": "text/x-python",
   "name": "python",
   "nbconvert_exporter": "python",
   "pygments_lexer": "ipython2",
   "version": "2.7.12"
  }
 },
 "nbformat": 4,
 "nbformat_minor": 0
}
